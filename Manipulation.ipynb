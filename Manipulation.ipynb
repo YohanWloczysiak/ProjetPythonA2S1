{
  "nbformat": 4,
  "nbformat_minor": 0,
  "metadata": {
    "colab": {
      "name": "Manipulation.ipynb",
      "provenance": [],
      "collapsed_sections": [],
      "authorship_tag": "ABX9TyP5T411wANKfIM7nA7eY3fy",
      "include_colab_link": true
    },
    "kernelspec": {
      "name": "python3",
      "display_name": "Python 3"
    }
  },
  "cells": [
    {
      "cell_type": "markdown",
      "metadata": {
        "id": "view-in-github",
        "colab_type": "text"
      },
      "source": [
        "<a href=\"https://colab.research.google.com/github/YohanWloczysiak/Projet_Python_A2_S1/blob/main/Manipulation.ipynb\" target=\"_parent\"><img src=\"https://colab.research.google.com/assets/colab-badge.svg\" alt=\"Open In Colab\"/></a>"
      ]
    },
    {
      "cell_type": "markdown",
      "metadata": {
        "id": "MlEkVctY2hEG"
      },
      "source": [
        "Ce notebook permet de récupérer et de traiter les données que nous utiliserons\n",
        "dans le projet.\n"
      ]
    },
    {
      "cell_type": "markdown",
      "metadata": {
        "id": "41e0hPxG3vw7"
      },
      "source": [
        "# **Préliminaires**\n"
      ]
    },
    {
      "cell_type": "code",
      "metadata": {
        "id": "JWDYWyAq6vQj"
      },
      "source": [
        "import urllib\n",
        "import bs4\n",
        "import pandas\n",
        "import re\n",
        "import numpy"
      ],
      "execution_count": null,
      "outputs": []
    },
    {
      "cell_type": "markdown",
      "metadata": {
        "id": "wLXn4xt23B-v"
      },
      "source": [
        "# **Données sur le trafic aérien en France**\n"
      ]
    },
    {
      "cell_type": "markdown",
      "metadata": {
        "id": "FpJRK3gw64jv"
      },
      "source": [
        "Les données sur le trafic aérien en France sont issues du site https://www.ou-et-quand.net/vols/. Afin de les récupérer, nous allons de voir faire du webscraping."
      ]
    },
    {
      "cell_type": "markdown",
      "metadata": {
        "id": "5P1BUQwk7SzI"
      },
      "source": [
        "Nous commençons par récupérer l'adresse url de chaque page qui nous intéresse, c'est-à-dire chaque page concernant un aéroport français."
      ]
    },
    {
      "cell_type": "code",
      "metadata": {
        "id": "LZyPPvHU2PM7"
      },
      "source": [
        "# (A modifier : voir si on peut récupérer les noms de villes avec du webscraping)\n",
        "\n",
        "url_radical = \"https://www.ou-et-quand.net/vols/\"\n",
        "ordre_villes = ['Strasbourg', 'Bordeaux', 'Clermont-Ferrand', 'Rennes', 'Brest', 'Ajaccio', 'Bastia', 'Calvi', 'Figari', 'Montpellier', 'Limoges', 'Metz', 'Toulouse', 'Lille', 'Caen', 'Nantes', 'Poitiers', 'Marseille', 'Nice', 'Lyon', 'Paris']\n",
        "url_terminaison = [\"alsace/strasbourg/\", \"aquitaine/bordeaux/\", \"auvergne/clermont-ferrand/\", \"bretagne/rennes/\", \"bretagne/brest/\", \"corse/ajaccio/\", \"corse/bastia/\", \"corse/calvi/\", \"corse/figari/\", \"languedoc-roussillon/montpellier/\", \"limousin/limoges/\", \"lorraine/metz/\", \"midi-pyrenees/toulouse/\", \"nord-pas-de-calais/lille/\", \"normandie/caen/\", \"pays-de-la-loire/nantes/\", \"poitou-charentes/poitiers/\", \"provence-alpes-c-te-d-azur/marseille/\", \"provence-alpes-c-te-d-azur/nice/\", \"rh-ne-alpes/lyon/\", \"ile-de-france/paris/\"]"
      ],
      "execution_count": null,
      "outputs": []
    },
    {
      "cell_type": "markdown",
      "metadata": {
        "id": "0P2axJDK7hyj"
      },
      "source": [
        "Pour chaque aéroport, nous devons récupérer plusieurs données : le prix moyen du billet aller-retour en fonction des aéroports de départ, le prix moyen du billet aller-retour en fonction du mois de départ et de l'aéroport de départ ainsi que le prix moyen du billet aller-retour en fonction du délai entre la réservation et le départ et de l'aéroport de départ."
      ]
    },
    {
      "cell_type": "markdown",
      "metadata": {
        "id": "ko88giYixwSw"
      },
      "source": [
        "### **Construction des expressions régulières**"
      ]
    },
    {
      "cell_type": "markdown",
      "metadata": {
        "id": "6qF196PWxkIx"
      },
      "source": [
        "On commence par construire les expressions régulières qui vont nous permettre de sélectionner les parties de la page html qui nous intéressent.\n",
        "\n",
        "Pour récupérer les données, il faudra utiliser plusieurs expressions régulières à chaque fois.\n",
        "\n",
        "\n",
        "\n",
        "\n"
      ]
    },
    {
      "cell_type": "markdown",
      "metadata": {
        "id": "jeEcz79QzEkC"
      },
      "source": [
        "Les expressions commençant par \"expression_villes\" permettent de récupérer les noms des villes de départ."
      ]
    },
    {
      "cell_type": "code",
      "metadata": {
        "id": "aiKsclQRzi50"
      },
      "source": [
        "expression_villes = re.compile(\"categories:.+],\")\n",
        "expression_villes_bis = re.compile(\":.+],\")\n",
        "expression_villes_ter = re.compile(\"[\\w]+\")"
      ],
      "execution_count": null,
      "outputs": []
    },
    {
      "cell_type": "markdown",
      "metadata": {
        "id": "dkBlGzs2zODV"
      },
      "source": [
        "Les expressions commençant par \"expression_prix\" permettent de récupérer les prix moyens en fonction de l'aéroport de départ."
      ]
    },
    {
      "cell_type": "code",
      "metadata": {
        "id": "-qX962KQzlVU"
      },
      "source": [
        "expression_prix = re.compile(\"\"\"'aéroport de départ',\n",
        "            data: .+,\"\"\")\n",
        "expression_prix_bis = re.compile(\":.+],\")\n",
        "expression_prix_ter = re.compile(\"[\\d]+\")"
      ],
      "execution_count": null,
      "outputs": []
    },
    {
      "cell_type": "markdown",
      "metadata": {
        "id": "1d6YrZ3AzWqd"
      },
      "source": [
        "Les expressions commençant par \"expression_mois\" permettent de récupérer la liste des mois pour lesquels on a des données de prix."
      ]
    },
    {
      "cell_type": "code",
      "metadata": {
        "id": "DSvY6aDZzpsi"
      },
      "source": [
        "expression_mois = re.compile(\"\"\"xAxis: {\n",
        "            categories: .+,\n",
        "            title: {\n",
        "                text: null\"\"\")\n",
        "expression_mois_select = re.compile(\"'jan.'|'fév.'|'mar.'|'avr.'|'mai'|'juin'|'juil'|'août'|'sep.'|'oct.'|'nov.'|'déc.'\")\n",
        "expression_mois_bis = re.compile(\"[\\w]+\")"
      ],
      "execution_count": null,
      "outputs": []
    },
    {
      "cell_type": "markdown",
      "metadata": {
        "id": "f-WC8IXSzVfn"
      },
      "source": [
        "Les expressions commençant par \"expression_prix_mois\" permettent de récupérer les prix moyens en fonction du mois de départ et de l'aéroport de départ."
      ]
    },
    {
      "cell_type": "code",
      "metadata": {
        "id": "uNkvdzD3znU_"
      },
      "source": [
        "expression_prix_mois = re.compile(\"\"\"en euros selon le mois de départ',\n",
        "            data: .+,\"\"\")\n",
        "expression_prix_mois_bis = re.compile(\":.+],\")\n",
        "expression_prix_mois_ter = re.compile(\"[\\d]+\")"
      ],
      "execution_count": null,
      "outputs": []
    },
    {
      "cell_type": "markdown",
      "metadata": {
        "id": "uhTMM46szfDJ"
      },
      "source": [
        "Les expressions commençant par \"expression_avance\" permettent de récupérer les délais entre la réservation et le départ pour lesquels on a des données de prix."
      ]
    },
    {
      "cell_type": "code",
      "metadata": {
        "id": "iPNnnYJ4ztan"
      },
      "source": [
        "expression_avance = re.compile(\"\"\"xAxis: {\n",
        "            categories: .+,\n",
        "            title: {\n",
        "                text: null\"\"\")\n",
        "expression_avance_select = re.compile(\"'0 à 1 mois'|'1 à 2 mois'|'2 à 3 mois'|'3 à 4 mois'|'4 à 5 mois'|'5 à 6 mois'|'6 à 7 mois'|'7 à 8 mois'|'8 à 9 mois'|'9 à 10 mois'|'10 à 11 mois'|'11 à 12 mois'\")\n",
        "expression_avance_bis = re.compile(\"[\\w]+\")"
      ],
      "execution_count": null,
      "outputs": []
    },
    {
      "cell_type": "markdown",
      "metadata": {
        "id": "2RSw7ZA0zV9J"
      },
      "source": [
        "Les expressions commençant par \"expression_prix_avance\" permettent de récupérer les prix moyens en fonction du délai entre le mois de départ et la réservation."
      ]
    },
    {
      "cell_type": "code",
      "metadata": {
        "id": "WrNMSQpJzr0B"
      },
      "source": [
        "expression_prix_avance = re.compile(\"\"\"selon le nombre de mois entre la réservation et le vol',\n",
        "            data: .+,\"\"\")\n",
        "expression_prix_avance_bis = re.compile(\":.+],\")\n",
        "expression_prix_avance_ter = re.compile(\"[\\d]+\")"
      ],
      "execution_count": null,
      "outputs": []
    },
    {
      "cell_type": "markdown",
      "metadata": {
        "id": "1MzAVkSr1UZT"
      },
      "source": [
        "### **Récupération des données par webscraping**"
      ]
    },
    {
      "cell_type": "markdown",
      "metadata": {
        "id": "VjD21MBs1gvF"
      },
      "source": [
        "Maintenant qu'on a nos expressions régulières, on peut rechercher l'ensemble des données qui nous intéressent sur les pages du site."
      ]
    },
    {
      "cell_type": "code",
      "metadata": {
        "id": "t6oVYDTV2gof"
      },
      "source": [
        "prix_moyen_destination = []\n",
        "villesbis = []\n",
        "villes = []\n",
        "prix = []\n",
        "liste_prix = []\n",
        "prix_mois = []\n",
        "liste_prix_mois = []\n",
        "prix_avance = []\n",
        "liste_prix_avance = []\n",
        "avance_mois = []\n",
        "mois = []\n",
        "liste_mois = []\n",
        "\n",
        "\n",
        "for i in range(len(ordre_villes)):\n",
        "    url_totale = url_radical+url_terminaison[i]\n",
        "    \n",
        "    from urllib.request import Request, urlopen\n",
        "    req = Request(url_totale, headers={'User-Agent': 'Mozilla/5.0'})\n",
        "    web_byte = urlopen(req).read()\n",
        "    page = bs4.BeautifulSoup(web_byte, 'lxml')\n",
        "    \n",
        "    prix_moyen_destination.append(page.findAll(\"script\")[23])\n",
        "    s = prix_moyen_destination[i].text.strip()\n",
        "    \n",
        "    # seconde étape : recherche\n",
        "    # Récupération des villes de départ\n",
        "    city = expression_villes.findall(s)[0]\n",
        "    city_bis = expression_villes_bis.findall(city)\n",
        "    liste_villes = expression_villes_ter.findall(city_bis[0])\n",
        "    villesbis.append(liste_villes)\n",
        "    \n",
        "    \n",
        "    \"\"\"Récupération des prix moyens en fonction de la ville de départ\"\"\"\n",
        "    price_moyen_bis = expression_prix.findall(s)\n",
        "    price_moyen = expression_prix_bis.findall(price_moyen_bis[0])\n",
        "    prix_moyen = expression_prix_ter.findall(price_moyen[0])\n",
        "    \n",
        "    liste_prixbis = []\n",
        "\n",
        "    for elem in prix_moyen:\n",
        "        elem_bis = int(elem)\n",
        "        liste_prixbis.append(elem_bis)\n",
        "        \n",
        "    liste_prix.append(liste_prixbis)\n",
        "    \n",
        "    \n",
        "    \"\"\"Récupération des prix moyens en fonction du mois de départ\"\"\"\n",
        "    price_mois_bis = expression_prix_mois.findall(s)\n",
        "    month = expression_mois.findall(s)\n",
        "    for elem in month:\n",
        "        if expression_mois_select.findall(elem) != []:\n",
        "            month_select = expression_mois_select.findall(elem)\n",
        "            \n",
        "            for elem_bis in month_select:\n",
        "                month_bis = expression_mois_bis.findall(elem_bis)\n",
        "                mois.append(month_bis[0])\n",
        "        \n",
        "        \n",
        "    for j in range(len(price_mois_bis)):\n",
        "        price_mois = expression_prix_mois_bis.findall(price_mois_bis[j])\n",
        "        prix_mois = expression_prix_mois_ter.findall(price_mois[0])\n",
        "        liste_prixbis_mois = []\n",
        "\n",
        "        for elem in prix_mois:\n",
        "            elem_bis = int(elem)\n",
        "            liste_prixbis_mois.append(elem_bis)\n",
        "\n",
        "        liste_prix_mois.append(liste_prixbis_mois) \n",
        "    \n",
        "\n",
        "    \n",
        "    \"\"\"Récupération des prix moyens en fonction du mois de réservation\"\"\"\n",
        "    price_avance_bis = expression_prix_avance.findall(s)\n",
        "    avance = expression_avance.findall(s)\n",
        "    for elem in avance:\n",
        "        if expression_avance_select.findall(elem) != []:\n",
        "            avance_select = expression_avance_select.findall(elem)\n",
        "            \n",
        "            for elem_bis in avance_select:\n",
        "                avance_bis = expression_avance_bis.findall(elem_bis)\n",
        "                avance_mois.append(avance_bis[0] + ' ' + avance_bis[1] + ' ' +  avance_bis[2] + ' ' +  avance_bis[3])\n",
        "        \n",
        "        \n",
        "    for j in range(len(price_avance_bis)):\n",
        "        price_avance = expression_prix_avance_bis.findall(price_avance_bis[j])\n",
        "        prix_avance = expression_prix_avance_ter.findall(price_avance[0])\n",
        "        liste_prixbis_avance = []\n",
        "\n",
        "        for elem in prix_avance:\n",
        "            elem_bis = int(elem)\n",
        "            liste_prixbis_avance.append(elem_bis)\n",
        "\n",
        "        liste_prix_avance.append(liste_prixbis_avance)"
      ],
      "execution_count": null,
      "outputs": []
    },
    {
      "cell_type": "markdown",
      "metadata": {
        "id": "0S4yzt6f11f3"
      },
      "source": [
        "### **Création des bases de données finales**"
      ]
    },
    {
      "cell_type": "markdown",
      "metadata": {
        "id": "9mjAG3iv2Vpn"
      },
      "source": [
        "La première base de données contiendra les prix moyens du billet aller-retour en fonction uniquement de l'aéroport de départ."
      ]
    },
    {
      "cell_type": "code",
      "metadata": {
        "id": "ZwS6ymnL161U"
      },
      "source": [
        "col_1_1 = []\n",
        "col_1_2 = []\n",
        "col_1_3 = []\n",
        "col_1_4 = []\n",
        "\n",
        "for l in range(len(villesbis)):\n",
        "    col_1_1 = col_1_1 + villesbis[l]\n",
        "    col_1_2 = col_1_2 + [ordre_villes[l]]*len(villesbis[l])\n",
        "    col_1_3 = col_1_3 + liste_prix[l]"
      ],
      "execution_count": null,
      "outputs": []
    },
    {
      "cell_type": "code",
      "metadata": {
        "id": "8QTbfMGk2FqL",
        "outputId": "1b9e657b-e6ca-41ac-952f-026de615cc9a",
        "colab": {
          "base_uri": "https://localhost:8080/",
          "height": 402
        }
      },
      "source": [
        "table_prix_trajet = pandas.DataFrame({'Départ' : col_1_1 , 'Arrivée': col_1_2 , 'Prix': col_1_3})\n",
        "table_prix_trajet"
      ],
      "execution_count": null,
      "outputs": [
        {
          "output_type": "execute_result",
          "data": {
            "text/html": [
              "<div>\n",
              "<style scoped>\n",
              "    .dataframe tbody tr th:only-of-type {\n",
              "        vertical-align: middle;\n",
              "    }\n",
              "\n",
              "    .dataframe tbody tr th {\n",
              "        vertical-align: top;\n",
              "    }\n",
              "\n",
              "    .dataframe thead th {\n",
              "        text-align: right;\n",
              "    }\n",
              "</style>\n",
              "<table border=\"1\" class=\"dataframe\">\n",
              "  <thead>\n",
              "    <tr style=\"text-align: right;\">\n",
              "      <th></th>\n",
              "      <th>Départ</th>\n",
              "      <th>Arrivée</th>\n",
              "      <th>Prix</th>\n",
              "    </tr>\n",
              "  </thead>\n",
              "  <tbody>\n",
              "    <tr>\n",
              "      <th>0</th>\n",
              "      <td>Paris</td>\n",
              "      <td>Strasbourg</td>\n",
              "      <td>248</td>\n",
              "    </tr>\n",
              "    <tr>\n",
              "      <th>1</th>\n",
              "      <td>Nantes</td>\n",
              "      <td>Strasbourg</td>\n",
              "      <td>177</td>\n",
              "    </tr>\n",
              "    <tr>\n",
              "      <th>2</th>\n",
              "      <td>Marseille</td>\n",
              "      <td>Strasbourg</td>\n",
              "      <td>215</td>\n",
              "    </tr>\n",
              "    <tr>\n",
              "      <th>3</th>\n",
              "      <td>Bordeaux</td>\n",
              "      <td>Strasbourg</td>\n",
              "      <td>227</td>\n",
              "    </tr>\n",
              "    <tr>\n",
              "      <th>4</th>\n",
              "      <td>Bruxelles</td>\n",
              "      <td>Strasbourg</td>\n",
              "      <td>205</td>\n",
              "    </tr>\n",
              "    <tr>\n",
              "      <th>...</th>\n",
              "      <td>...</td>\n",
              "      <td>...</td>\n",
              "      <td>...</td>\n",
              "    </tr>\n",
              "    <tr>\n",
              "      <th>162</th>\n",
              "      <td>Bruxelles</td>\n",
              "      <td>Paris</td>\n",
              "      <td>254</td>\n",
              "    </tr>\n",
              "    <tr>\n",
              "      <th>163</th>\n",
              "      <td>Genève</td>\n",
              "      <td>Paris</td>\n",
              "      <td>184</td>\n",
              "    </tr>\n",
              "    <tr>\n",
              "      <th>164</th>\n",
              "      <td>Lyon</td>\n",
              "      <td>Paris</td>\n",
              "      <td>170</td>\n",
              "    </tr>\n",
              "    <tr>\n",
              "      <th>165</th>\n",
              "      <td>Toulouse</td>\n",
              "      <td>Paris</td>\n",
              "      <td>122</td>\n",
              "    </tr>\n",
              "    <tr>\n",
              "      <th>166</th>\n",
              "      <td>Nice</td>\n",
              "      <td>Paris</td>\n",
              "      <td>134</td>\n",
              "    </tr>\n",
              "  </tbody>\n",
              "</table>\n",
              "<p>167 rows × 3 columns</p>\n",
              "</div>"
            ],
            "text/plain": [
              "        Départ     Arrivée  Prix\n",
              "0        Paris  Strasbourg   248\n",
              "1       Nantes  Strasbourg   177\n",
              "2    Marseille  Strasbourg   215\n",
              "3     Bordeaux  Strasbourg   227\n",
              "4    Bruxelles  Strasbourg   205\n",
              "..         ...         ...   ...\n",
              "162  Bruxelles       Paris   254\n",
              "163     Genève       Paris   184\n",
              "164       Lyon       Paris   170\n",
              "165   Toulouse       Paris   122\n",
              "166       Nice       Paris   134\n",
              "\n",
              "[167 rows x 3 columns]"
            ]
          },
          "metadata": {
            "tags": []
          },
          "execution_count": 11
        }
      ]
    },
    {
      "cell_type": "markdown",
      "metadata": {
        "id": "fmWzkIwn2iAI"
      },
      "source": [
        "La deuxième base de données contiendra les prix moyens du billet aller-retour en fonction du mois de départ et de l'aéroport de départ."
      ]
    },
    {
      "cell_type": "code",
      "metadata": {
        "id": "ul7QRhga2IE0"
      },
      "source": [
        "col_2_1 = []\n",
        "col_2_2 = []\n",
        "col_2_3 = []\n",
        "col_2_4 = mois\n",
        "num_list = 0\n",
        "\n",
        "for k in range(len(ordre_villes)):\n",
        "    for l in range(len(villesbis[k])):\n",
        "        col_2_1 = col_2_1 + [villesbis[k][l]]*len(liste_prix_mois[num_list])\n",
        "        col_2_2 = col_2_2 + [ordre_villes[k]]*len(liste_prix_mois[num_list])\n",
        "        col_2_3 = col_2_3 + liste_prix_mois[num_list]\n",
        "        num_list = num_list + 1"
      ],
      "execution_count": null,
      "outputs": []
    },
    {
      "cell_type": "code",
      "metadata": {
        "id": "zceKP6kF2KRP",
        "outputId": "c8fd6255-8139-4e6a-eda4-46f7d7989d4c",
        "colab": {
          "base_uri": "https://localhost:8080/",
          "height": 402
        }
      },
      "source": [
        "table_prix_mois = pandas.DataFrame({'Départ' : col_2_1 , 'Arrivée': col_2_2 , 'Prix': col_2_3, 'Mois': col_2_4})\n",
        "table_prix_mois[:100]"
      ],
      "execution_count": null,
      "outputs": [
        {
          "output_type": "execute_result",
          "data": {
            "text/html": [
              "<div>\n",
              "<style scoped>\n",
              "    .dataframe tbody tr th:only-of-type {\n",
              "        vertical-align: middle;\n",
              "    }\n",
              "\n",
              "    .dataframe tbody tr th {\n",
              "        vertical-align: top;\n",
              "    }\n",
              "\n",
              "    .dataframe thead th {\n",
              "        text-align: right;\n",
              "    }\n",
              "</style>\n",
              "<table border=\"1\" class=\"dataframe\">\n",
              "  <thead>\n",
              "    <tr style=\"text-align: right;\">\n",
              "      <th></th>\n",
              "      <th>Départ</th>\n",
              "      <th>Arrivée</th>\n",
              "      <th>Prix</th>\n",
              "      <th>Mois</th>\n",
              "    </tr>\n",
              "  </thead>\n",
              "  <tbody>\n",
              "    <tr>\n",
              "      <th>0</th>\n",
              "      <td>Paris</td>\n",
              "      <td>Strasbourg</td>\n",
              "      <td>310</td>\n",
              "      <td>jan</td>\n",
              "    </tr>\n",
              "    <tr>\n",
              "      <th>1</th>\n",
              "      <td>Paris</td>\n",
              "      <td>Strasbourg</td>\n",
              "      <td>189</td>\n",
              "      <td>fév</td>\n",
              "    </tr>\n",
              "    <tr>\n",
              "      <th>2</th>\n",
              "      <td>Paris</td>\n",
              "      <td>Strasbourg</td>\n",
              "      <td>225</td>\n",
              "      <td>mar</td>\n",
              "    </tr>\n",
              "    <tr>\n",
              "      <th>3</th>\n",
              "      <td>Paris</td>\n",
              "      <td>Strasbourg</td>\n",
              "      <td>234</td>\n",
              "      <td>avr</td>\n",
              "    </tr>\n",
              "    <tr>\n",
              "      <th>4</th>\n",
              "      <td>Paris</td>\n",
              "      <td>Strasbourg</td>\n",
              "      <td>256</td>\n",
              "      <td>mai</td>\n",
              "    </tr>\n",
              "    <tr>\n",
              "      <th>...</th>\n",
              "      <td>...</td>\n",
              "      <td>...</td>\n",
              "      <td>...</td>\n",
              "      <td>...</td>\n",
              "    </tr>\n",
              "    <tr>\n",
              "      <th>95</th>\n",
              "      <td>Nice</td>\n",
              "      <td>Strasbourg</td>\n",
              "      <td>130</td>\n",
              "      <td>fév</td>\n",
              "    </tr>\n",
              "    <tr>\n",
              "      <th>96</th>\n",
              "      <td>Nice</td>\n",
              "      <td>Strasbourg</td>\n",
              "      <td>186</td>\n",
              "      <td>mar</td>\n",
              "    </tr>\n",
              "    <tr>\n",
              "      <th>97</th>\n",
              "      <td>Nice</td>\n",
              "      <td>Strasbourg</td>\n",
              "      <td>154</td>\n",
              "      <td>avr</td>\n",
              "    </tr>\n",
              "    <tr>\n",
              "      <th>98</th>\n",
              "      <td>Nice</td>\n",
              "      <td>Strasbourg</td>\n",
              "      <td>164</td>\n",
              "      <td>mai</td>\n",
              "    </tr>\n",
              "    <tr>\n",
              "      <th>99</th>\n",
              "      <td>Nice</td>\n",
              "      <td>Strasbourg</td>\n",
              "      <td>188</td>\n",
              "      <td>juin</td>\n",
              "    </tr>\n",
              "  </tbody>\n",
              "</table>\n",
              "<p>100 rows × 4 columns</p>\n",
              "</div>"
            ],
            "text/plain": [
              "   Départ     Arrivée  Prix  Mois\n",
              "0   Paris  Strasbourg   310   jan\n",
              "1   Paris  Strasbourg   189   fév\n",
              "2   Paris  Strasbourg   225   mar\n",
              "3   Paris  Strasbourg   234   avr\n",
              "4   Paris  Strasbourg   256   mai\n",
              "..    ...         ...   ...   ...\n",
              "95   Nice  Strasbourg   130   fév\n",
              "96   Nice  Strasbourg   186   mar\n",
              "97   Nice  Strasbourg   154   avr\n",
              "98   Nice  Strasbourg   164   mai\n",
              "99   Nice  Strasbourg   188  juin\n",
              "\n",
              "[100 rows x 4 columns]"
            ]
          },
          "metadata": {
            "tags": []
          },
          "execution_count": 13
        }
      ]
    },
    {
      "cell_type": "markdown",
      "metadata": {
        "id": "iBqEgBKD2ooZ"
      },
      "source": [
        "La troisième base de données contiendra les prix moyens du billet aller-retour en fonction du délai entre la réservation et le départ et de l'aéroport de départ."
      ]
    },
    {
      "cell_type": "code",
      "metadata": {
        "id": "dersByMO2Lwl"
      },
      "source": [
        "col_3_1 = []\n",
        "col_3_2 = []\n",
        "col_3_3 = []\n",
        "col_3_4 = avance_mois\n",
        "num_list = 0\n",
        "\n",
        "for k in range(len(ordre_villes)):\n",
        "    for l in range(len(villesbis[k])):\n",
        "        col_3_1 = col_3_1 + [villesbis[k][l]]*len(liste_prix_avance[num_list])\n",
        "        col_3_2 = col_3_2 + [ordre_villes[k]]*len(liste_prix_avance[num_list])\n",
        "        col_3_3 = col_3_3 + liste_prix_avance[num_list]\n",
        "        num_list = num_list + 1"
      ],
      "execution_count": null,
      "outputs": []
    },
    {
      "cell_type": "code",
      "metadata": {
        "id": "YfBqcr0w2N_i",
        "outputId": "6892985c-03c6-4e47-ee94-90c1397cf714",
        "colab": {
          "base_uri": "https://localhost:8080/",
          "height": 402
        }
      },
      "source": [
        "table_prix_avance = pandas.DataFrame({'Départ' : col_3_1 , 'Arrivée': col_3_2 , 'Prix': col_3_3, 'Temps entre la réservation et le vol': col_3_4})\n",
        "table_prix_avance[:100]"
      ],
      "execution_count": null,
      "outputs": [
        {
          "output_type": "execute_result",
          "data": {
            "text/html": [
              "<div>\n",
              "<style scoped>\n",
              "    .dataframe tbody tr th:only-of-type {\n",
              "        vertical-align: middle;\n",
              "    }\n",
              "\n",
              "    .dataframe tbody tr th {\n",
              "        vertical-align: top;\n",
              "    }\n",
              "\n",
              "    .dataframe thead th {\n",
              "        text-align: right;\n",
              "    }\n",
              "</style>\n",
              "<table border=\"1\" class=\"dataframe\">\n",
              "  <thead>\n",
              "    <tr style=\"text-align: right;\">\n",
              "      <th></th>\n",
              "      <th>Départ</th>\n",
              "      <th>Arrivée</th>\n",
              "      <th>Prix</th>\n",
              "      <th>Temps entre la réservation et le vol</th>\n",
              "    </tr>\n",
              "  </thead>\n",
              "  <tbody>\n",
              "    <tr>\n",
              "      <th>0</th>\n",
              "      <td>Paris</td>\n",
              "      <td>Strasbourg</td>\n",
              "      <td>315</td>\n",
              "      <td>0 à 1 mois</td>\n",
              "    </tr>\n",
              "    <tr>\n",
              "      <th>1</th>\n",
              "      <td>Paris</td>\n",
              "      <td>Strasbourg</td>\n",
              "      <td>237</td>\n",
              "      <td>1 à 2 mois</td>\n",
              "    </tr>\n",
              "    <tr>\n",
              "      <th>2</th>\n",
              "      <td>Paris</td>\n",
              "      <td>Strasbourg</td>\n",
              "      <td>198</td>\n",
              "      <td>2 à 3 mois</td>\n",
              "    </tr>\n",
              "    <tr>\n",
              "      <th>3</th>\n",
              "      <td>Paris</td>\n",
              "      <td>Strasbourg</td>\n",
              "      <td>201</td>\n",
              "      <td>3 à 4 mois</td>\n",
              "    </tr>\n",
              "    <tr>\n",
              "      <th>4</th>\n",
              "      <td>Paris</td>\n",
              "      <td>Strasbourg</td>\n",
              "      <td>208</td>\n",
              "      <td>4 à 5 mois</td>\n",
              "    </tr>\n",
              "    <tr>\n",
              "      <th>...</th>\n",
              "      <td>...</td>\n",
              "      <td>...</td>\n",
              "      <td>...</td>\n",
              "      <td>...</td>\n",
              "    </tr>\n",
              "    <tr>\n",
              "      <th>95</th>\n",
              "      <td>Paris</td>\n",
              "      <td>Bordeaux</td>\n",
              "      <td>134</td>\n",
              "      <td>2 à 3 mois</td>\n",
              "    </tr>\n",
              "    <tr>\n",
              "      <th>96</th>\n",
              "      <td>Paris</td>\n",
              "      <td>Bordeaux</td>\n",
              "      <td>155</td>\n",
              "      <td>3 à 4 mois</td>\n",
              "    </tr>\n",
              "    <tr>\n",
              "      <th>97</th>\n",
              "      <td>Paris</td>\n",
              "      <td>Bordeaux</td>\n",
              "      <td>181</td>\n",
              "      <td>4 à 5 mois</td>\n",
              "    </tr>\n",
              "    <tr>\n",
              "      <th>98</th>\n",
              "      <td>Paris</td>\n",
              "      <td>Bordeaux</td>\n",
              "      <td>163</td>\n",
              "      <td>5 à 6 mois</td>\n",
              "    </tr>\n",
              "    <tr>\n",
              "      <th>99</th>\n",
              "      <td>Paris</td>\n",
              "      <td>Bordeaux</td>\n",
              "      <td>271</td>\n",
              "      <td>6 à 7 mois</td>\n",
              "    </tr>\n",
              "  </tbody>\n",
              "</table>\n",
              "<p>100 rows × 4 columns</p>\n",
              "</div>"
            ],
            "text/plain": [
              "   Départ     Arrivée  Prix Temps entre la réservation et le vol\n",
              "0   Paris  Strasbourg   315                           0 à 1 mois\n",
              "1   Paris  Strasbourg   237                           1 à 2 mois\n",
              "2   Paris  Strasbourg   198                           2 à 3 mois\n",
              "3   Paris  Strasbourg   201                           3 à 4 mois\n",
              "4   Paris  Strasbourg   208                           4 à 5 mois\n",
              "..    ...         ...   ...                                  ...\n",
              "95  Paris    Bordeaux   134                           2 à 3 mois\n",
              "96  Paris    Bordeaux   155                           3 à 4 mois\n",
              "97  Paris    Bordeaux   181                           4 à 5 mois\n",
              "98  Paris    Bordeaux   163                           5 à 6 mois\n",
              "99  Paris    Bordeaux   271                           6 à 7 mois\n",
              "\n",
              "[100 rows x 4 columns]"
            ]
          },
          "metadata": {
            "tags": []
          },
          "execution_count": 15
        }
      ]
    },
    {
      "cell_type": "markdown",
      "metadata": {
        "id": "u8jn_sHoRB55"
      },
      "source": [
        "On termine en créant des fichiers csv contenant les données récupérées."
      ]
    },
    {
      "cell_type": "code",
      "metadata": {
        "id": "HQMt3X3LQ_Gq"
      },
      "source": [
        "table_prix_trajet.to_csv('bdd1.csv')\n",
        "table_prix_mois.to_csv('bdd2.csv')\n",
        "table_prix_avance.to_csv('bdd3.csv')"
      ],
      "execution_count": null,
      "outputs": []
    },
    {
      "cell_type": "markdown",
      "metadata": {
        "id": "CptfBMHu3J8N"
      },
      "source": [
        "# **Données sur le trafic ferroviaire en France**\n"
      ]
    },
    {
      "cell_type": "markdown",
      "metadata": {
        "id": "No64jUKjARyG"
      },
      "source": [
        "Les données sur le trafic ferroviaire en France proviennent du bases de données fournies par la SNCF. On commence donc par ouvrir cette base de données."
      ]
    },
    {
      "cell_type": "code",
      "metadata": {
        "id": "MCciNIoK3RV1",
        "outputId": "6bd7ffa2-520b-492e-8c76-d5b456096d3b",
        "colab": {
          "base_uri": "https://localhost:8080/",
          "height": 404
        }
      },
      "source": [
        "df = pandas.read_csv('tarifs-tgv-par-od.csv')\n",
        "df.columns =['Colonne']\n",
        "df"
      ],
      "execution_count": null,
      "outputs": [
        {
          "output_type": "error",
          "ename": "FileNotFoundError",
          "evalue": "ignored",
          "traceback": [
            "\u001b[0;31m---------------------------------------------------------------------------\u001b[0m",
            "\u001b[0;31mFileNotFoundError\u001b[0m                         Traceback (most recent call last)",
            "\u001b[0;32m<ipython-input-16-7062e2b7eb74>\u001b[0m in \u001b[0;36m<module>\u001b[0;34m()\u001b[0m\n\u001b[0;32m----> 1\u001b[0;31m \u001b[0mdf\u001b[0m \u001b[0;34m=\u001b[0m \u001b[0mpandas\u001b[0m\u001b[0;34m.\u001b[0m\u001b[0mread_csv\u001b[0m\u001b[0;34m(\u001b[0m\u001b[0;34m'tarifs-tgv-par-od.csv'\u001b[0m\u001b[0;34m)\u001b[0m\u001b[0;34m\u001b[0m\u001b[0;34m\u001b[0m\u001b[0m\n\u001b[0m\u001b[1;32m      2\u001b[0m \u001b[0mdf\u001b[0m\u001b[0;34m.\u001b[0m\u001b[0mcolumns\u001b[0m \u001b[0;34m=\u001b[0m\u001b[0;34m[\u001b[0m\u001b[0;34m'Colonne'\u001b[0m\u001b[0;34m]\u001b[0m\u001b[0;34m\u001b[0m\u001b[0;34m\u001b[0m\u001b[0m\n\u001b[1;32m      3\u001b[0m \u001b[0mdf\u001b[0m\u001b[0;34m\u001b[0m\u001b[0;34m\u001b[0m\u001b[0m\n",
            "\u001b[0;32m/usr/local/lib/python3.6/dist-packages/pandas/io/parsers.py\u001b[0m in \u001b[0;36mread_csv\u001b[0;34m(filepath_or_buffer, sep, delimiter, header, names, index_col, usecols, squeeze, prefix, mangle_dupe_cols, dtype, engine, converters, true_values, false_values, skipinitialspace, skiprows, skipfooter, nrows, na_values, keep_default_na, na_filter, verbose, skip_blank_lines, parse_dates, infer_datetime_format, keep_date_col, date_parser, dayfirst, cache_dates, iterator, chunksize, compression, thousands, decimal, lineterminator, quotechar, quoting, doublequote, escapechar, comment, encoding, dialect, error_bad_lines, warn_bad_lines, delim_whitespace, low_memory, memory_map, float_precision)\u001b[0m\n\u001b[1;32m    686\u001b[0m     )\n\u001b[1;32m    687\u001b[0m \u001b[0;34m\u001b[0m\u001b[0m\n\u001b[0;32m--> 688\u001b[0;31m     \u001b[0;32mreturn\u001b[0m \u001b[0m_read\u001b[0m\u001b[0;34m(\u001b[0m\u001b[0mfilepath_or_buffer\u001b[0m\u001b[0;34m,\u001b[0m \u001b[0mkwds\u001b[0m\u001b[0;34m)\u001b[0m\u001b[0;34m\u001b[0m\u001b[0;34m\u001b[0m\u001b[0m\n\u001b[0m\u001b[1;32m    689\u001b[0m \u001b[0;34m\u001b[0m\u001b[0m\n\u001b[1;32m    690\u001b[0m \u001b[0;34m\u001b[0m\u001b[0m\n",
            "\u001b[0;32m/usr/local/lib/python3.6/dist-packages/pandas/io/parsers.py\u001b[0m in \u001b[0;36m_read\u001b[0;34m(filepath_or_buffer, kwds)\u001b[0m\n\u001b[1;32m    452\u001b[0m \u001b[0;34m\u001b[0m\u001b[0m\n\u001b[1;32m    453\u001b[0m     \u001b[0;31m# Create the parser.\u001b[0m\u001b[0;34m\u001b[0m\u001b[0;34m\u001b[0m\u001b[0;34m\u001b[0m\u001b[0m\n\u001b[0;32m--> 454\u001b[0;31m     \u001b[0mparser\u001b[0m \u001b[0;34m=\u001b[0m \u001b[0mTextFileReader\u001b[0m\u001b[0;34m(\u001b[0m\u001b[0mfp_or_buf\u001b[0m\u001b[0;34m,\u001b[0m \u001b[0;34m**\u001b[0m\u001b[0mkwds\u001b[0m\u001b[0;34m)\u001b[0m\u001b[0;34m\u001b[0m\u001b[0;34m\u001b[0m\u001b[0m\n\u001b[0m\u001b[1;32m    455\u001b[0m \u001b[0;34m\u001b[0m\u001b[0m\n\u001b[1;32m    456\u001b[0m     \u001b[0;32mif\u001b[0m \u001b[0mchunksize\u001b[0m \u001b[0;32mor\u001b[0m \u001b[0miterator\u001b[0m\u001b[0;34m:\u001b[0m\u001b[0;34m\u001b[0m\u001b[0;34m\u001b[0m\u001b[0m\n",
            "\u001b[0;32m/usr/local/lib/python3.6/dist-packages/pandas/io/parsers.py\u001b[0m in \u001b[0;36m__init__\u001b[0;34m(self, f, engine, **kwds)\u001b[0m\n\u001b[1;32m    946\u001b[0m             \u001b[0mself\u001b[0m\u001b[0;34m.\u001b[0m\u001b[0moptions\u001b[0m\u001b[0;34m[\u001b[0m\u001b[0;34m\"has_index_names\"\u001b[0m\u001b[0;34m]\u001b[0m \u001b[0;34m=\u001b[0m \u001b[0mkwds\u001b[0m\u001b[0;34m[\u001b[0m\u001b[0;34m\"has_index_names\"\u001b[0m\u001b[0;34m]\u001b[0m\u001b[0;34m\u001b[0m\u001b[0;34m\u001b[0m\u001b[0m\n\u001b[1;32m    947\u001b[0m \u001b[0;34m\u001b[0m\u001b[0m\n\u001b[0;32m--> 948\u001b[0;31m         \u001b[0mself\u001b[0m\u001b[0;34m.\u001b[0m\u001b[0m_make_engine\u001b[0m\u001b[0;34m(\u001b[0m\u001b[0mself\u001b[0m\u001b[0;34m.\u001b[0m\u001b[0mengine\u001b[0m\u001b[0;34m)\u001b[0m\u001b[0;34m\u001b[0m\u001b[0;34m\u001b[0m\u001b[0m\n\u001b[0m\u001b[1;32m    949\u001b[0m \u001b[0;34m\u001b[0m\u001b[0m\n\u001b[1;32m    950\u001b[0m     \u001b[0;32mdef\u001b[0m \u001b[0mclose\u001b[0m\u001b[0;34m(\u001b[0m\u001b[0mself\u001b[0m\u001b[0;34m)\u001b[0m\u001b[0;34m:\u001b[0m\u001b[0;34m\u001b[0m\u001b[0;34m\u001b[0m\u001b[0m\n",
            "\u001b[0;32m/usr/local/lib/python3.6/dist-packages/pandas/io/parsers.py\u001b[0m in \u001b[0;36m_make_engine\u001b[0;34m(self, engine)\u001b[0m\n\u001b[1;32m   1178\u001b[0m     \u001b[0;32mdef\u001b[0m \u001b[0m_make_engine\u001b[0m\u001b[0;34m(\u001b[0m\u001b[0mself\u001b[0m\u001b[0;34m,\u001b[0m \u001b[0mengine\u001b[0m\u001b[0;34m=\u001b[0m\u001b[0;34m\"c\"\u001b[0m\u001b[0;34m)\u001b[0m\u001b[0;34m:\u001b[0m\u001b[0;34m\u001b[0m\u001b[0;34m\u001b[0m\u001b[0m\n\u001b[1;32m   1179\u001b[0m         \u001b[0;32mif\u001b[0m \u001b[0mengine\u001b[0m \u001b[0;34m==\u001b[0m \u001b[0;34m\"c\"\u001b[0m\u001b[0;34m:\u001b[0m\u001b[0;34m\u001b[0m\u001b[0;34m\u001b[0m\u001b[0m\n\u001b[0;32m-> 1180\u001b[0;31m             \u001b[0mself\u001b[0m\u001b[0;34m.\u001b[0m\u001b[0m_engine\u001b[0m \u001b[0;34m=\u001b[0m \u001b[0mCParserWrapper\u001b[0m\u001b[0;34m(\u001b[0m\u001b[0mself\u001b[0m\u001b[0;34m.\u001b[0m\u001b[0mf\u001b[0m\u001b[0;34m,\u001b[0m \u001b[0;34m**\u001b[0m\u001b[0mself\u001b[0m\u001b[0;34m.\u001b[0m\u001b[0moptions\u001b[0m\u001b[0;34m)\u001b[0m\u001b[0;34m\u001b[0m\u001b[0;34m\u001b[0m\u001b[0m\n\u001b[0m\u001b[1;32m   1181\u001b[0m         \u001b[0;32melse\u001b[0m\u001b[0;34m:\u001b[0m\u001b[0;34m\u001b[0m\u001b[0;34m\u001b[0m\u001b[0m\n\u001b[1;32m   1182\u001b[0m             \u001b[0;32mif\u001b[0m \u001b[0mengine\u001b[0m \u001b[0;34m==\u001b[0m \u001b[0;34m\"python\"\u001b[0m\u001b[0;34m:\u001b[0m\u001b[0;34m\u001b[0m\u001b[0;34m\u001b[0m\u001b[0m\n",
            "\u001b[0;32m/usr/local/lib/python3.6/dist-packages/pandas/io/parsers.py\u001b[0m in \u001b[0;36m__init__\u001b[0;34m(self, src, **kwds)\u001b[0m\n\u001b[1;32m   2008\u001b[0m         \u001b[0mkwds\u001b[0m\u001b[0;34m[\u001b[0m\u001b[0;34m\"usecols\"\u001b[0m\u001b[0;34m]\u001b[0m \u001b[0;34m=\u001b[0m \u001b[0mself\u001b[0m\u001b[0;34m.\u001b[0m\u001b[0musecols\u001b[0m\u001b[0;34m\u001b[0m\u001b[0;34m\u001b[0m\u001b[0m\n\u001b[1;32m   2009\u001b[0m \u001b[0;34m\u001b[0m\u001b[0m\n\u001b[0;32m-> 2010\u001b[0;31m         \u001b[0mself\u001b[0m\u001b[0;34m.\u001b[0m\u001b[0m_reader\u001b[0m \u001b[0;34m=\u001b[0m \u001b[0mparsers\u001b[0m\u001b[0;34m.\u001b[0m\u001b[0mTextReader\u001b[0m\u001b[0;34m(\u001b[0m\u001b[0msrc\u001b[0m\u001b[0;34m,\u001b[0m \u001b[0;34m**\u001b[0m\u001b[0mkwds\u001b[0m\u001b[0;34m)\u001b[0m\u001b[0;34m\u001b[0m\u001b[0;34m\u001b[0m\u001b[0m\n\u001b[0m\u001b[1;32m   2011\u001b[0m         \u001b[0mself\u001b[0m\u001b[0;34m.\u001b[0m\u001b[0munnamed_cols\u001b[0m \u001b[0;34m=\u001b[0m \u001b[0mself\u001b[0m\u001b[0;34m.\u001b[0m\u001b[0m_reader\u001b[0m\u001b[0;34m.\u001b[0m\u001b[0munnamed_cols\u001b[0m\u001b[0;34m\u001b[0m\u001b[0;34m\u001b[0m\u001b[0m\n\u001b[1;32m   2012\u001b[0m \u001b[0;34m\u001b[0m\u001b[0m\n",
            "\u001b[0;32mpandas/_libs/parsers.pyx\u001b[0m in \u001b[0;36mpandas._libs.parsers.TextReader.__cinit__\u001b[0;34m()\u001b[0m\n",
            "\u001b[0;32mpandas/_libs/parsers.pyx\u001b[0m in \u001b[0;36mpandas._libs.parsers.TextReader._setup_parser_source\u001b[0;34m()\u001b[0m\n",
            "\u001b[0;31mFileNotFoundError\u001b[0m: [Errno 2] No such file or directory: 'tarifs-tgv-par-od.csv'"
          ]
        }
      ]
    },
    {
      "cell_type": "markdown",
      "metadata": {
        "id": "NBkgRataAqHL"
      },
      "source": [
        "On observe que la base de données récupérée possède une seule colonne et 4162 lignes. Chaque ligne correspond à un trajet (gare de départ-gare d'arrivée), tarif d'appel en seconde classe, plein tarif de loisir en seconde classe et tarif de première classe. Il faut donc créer un DataFrame contenant ces informations séparées en 5 colonnes."
      ]
    },
    {
      "cell_type": "markdown",
      "metadata": {
        "id": "XuxOapY5Btem"
      },
      "source": [
        "### **Création de deux colonnes : gare de départ et gare d'arrivée**"
      ]
    },
    {
      "cell_type": "code",
      "metadata": {
        "id": "wEDIw65v3Ri4"
      },
      "source": [
        "liste_gare_0= []\n",
        "for k in range(len(df['Colonne'])):\n",
        "    liste_gare_0.append(re.split(';', df['Colonne'][k])[0])\n",
        "liste_gare_0"
      ],
      "execution_count": null,
      "outputs": []
    },
    {
      "cell_type": "markdown",
      "metadata": {
        "id": "lxjiijstCBAo"
      },
      "source": [
        "liste_gare_0 contient tous les noms de trajets, que nous allons séparer en deux listes disjointes : celle contenant les fares de départ, et celle contenant les gares d'arrivée. "
      ]
    },
    {
      "cell_type": "code",
      "metadata": {
        "id": "kgFVRYJVCCwu"
      },
      "source": [
        "liste_gare_départ=[]\n",
        "liste_gare_arrivée=[]\n",
        "\n",
        "for k in range(len(liste_gare_0)):\n",
        "    liste_gare_départ.append(re.split('-', liste_gare_0[k])[0])\n",
        "    liste_gare_arrivée.append(re.split('-', liste_gare_0[k])[1])"
      ],
      "execution_count": null,
      "outputs": []
    },
    {
      "cell_type": "markdown",
      "metadata": {
        "id": "-Z1c7BAMCFiC"
      },
      "source": [
        "### **Création des colonnes tarifs**"
      ]
    },
    {
      "cell_type": "code",
      "metadata": {
        "id": "Ol49J9UVCL5d"
      },
      "source": [
        "tarifs = []\n",
        "for k in range(len(df['Colonne'])) :\n",
        "    tarifs += re.split(';', df['Colonne'][k])\n",
        "tarifs\n",
        "\n",
        "prix_dappel_2nde = tarifs[1::5]\n",
        "plein_tarif_loisir_2nde = tarifs[2::5]\n",
        "premiere_classe = tarifs[3::5]\n",
        "\n",
        "#print(len(prix_dappel_2nde), len(plein_tarif_loisir_2nde), len(premiere_classe))"
      ],
      "execution_count": null,
      "outputs": []
    },
    {
      "cell_type": "code",
      "metadata": {
        "id": "UmKWHU2ICOV5"
      },
      "source": [
        "bdd_sncf = pd.DataFrame({'Gare de départ' :liste_gare_départ, 'Gare d arrivée': liste_gare_arrivée, 'Prix d appel seconde':prix_dappel_2nde, 'Plein tarif loisir seconde':plein_tarif_loisir_2nde,'Tarif premiere classe' :premiere_classe})\n",
        "bdd_sncf"
      ],
      "execution_count": null,
      "outputs": []
    },
    {
      "cell_type": "markdown",
      "metadata": {
        "id": "ktfEWRpxCt3S"
      },
      "source": [
        ""
      ]
    },
    {
      "cell_type": "markdown",
      "metadata": {
        "id": "mZlzpSMbOnu7"
      },
      "source": [
        "### **Ajout des distances entre deux gares** "
      ]
    },
    {
      "cell_type": "markdown",
      "metadata": {
        "id": "0Gw7_bV8Onu7"
      },
      "source": [
        "On récupère une nouvelle base de données contenant pour chaque gare ses coordonnées GPS (latitude et longitude). A partir de ces données, on va déterminer la distance pour l'ensemble des trajets contenus dans bdd_sncf. "
      ]
    },
    {
      "cell_type": "code",
      "metadata": {
        "id": "RZwPdtAoOnu8"
      },
      "source": [
        "coordonnees = pd.read_csv('gares-tgv.csv', encoding = 'latin-1')\n",
        "coordonnees = coordonnees.drop(['Unnamed: 0', 'INSEE_REG', 'NOM_REG','INSEE_DEP',\n",
        "       'NOM_DEP'], axis=1)\n",
        "coordonnees"
      ],
      "execution_count": null,
      "outputs": []
    },
    {
      "cell_type": "markdown",
      "metadata": {
        "id": "V4N0v5fqOnu-"
      },
      "source": [
        "On représente l'ensemble des gares sur une carte de la France. "
      ]
    },
    {
      "cell_type": "code",
      "metadata": {
        "id": "oKxIRGvpOnu-"
      },
      "source": [
        "import geopandas as gpd\n",
        "from shapely.geometry import Point\n",
        "import matplotlib.pyplot as plt\n",
        "\n",
        "points = [Point(lon, lat) for ind, lat, lon in coordonnees[['Latitude', 'Longitude']].itertuples()]\n",
        "enedis = gpd.GeoDataFrame(data=dict(geometry=points))\n",
        "enedis['Nom'] = coordonnees['Nom_Gare']\n",
        "enedis.head()\n",
        "\n",
        "world = gpd.read_file(gpd.datasets.get_path('naturalearth_lowres'))\n",
        "world.head()\n",
        "\n",
        "from shapely.geometry import Polygon\n",
        "europe = world[world.continent == \"Europe\"].copy()\n",
        "europe['geometry'] = europe.geometry.intersection(Polygon([(-10,35), (50,35), (50,70), (-10, 70)]))\n",
        "europe.head()\n",
        "\n",
        "fig, ax = plt.subplots(1, 1, figsize=(5, 4))\n",
        "minx, miny, maxx, maxy = enedis.total_bounds\n",
        "\n",
        "europe.plot(ax=ax, color='white', edgecolor='black')\n",
        "enedis.plot(ax=ax, marker='o', color='red', markersize=2)\n",
        "ax.set_xlim(minx, maxx)\n",
        "ax.set_ylim(miny, maxy)\n",
        "ax.set_title(\"Localisation des gares d'après la base de données récupérée\");"
      ],
      "execution_count": null,
      "outputs": []
    },
    {
      "cell_type": "markdown",
      "metadata": {
        "id": "wJDo9v5cOnvA"
      },
      "source": [
        "On utilise le module Geod de pyproj pour déterminer les distances en kms. "
      ]
    },
    {
      "cell_type": "code",
      "metadata": {
        "id": "0SfOfE-tOnvA"
      },
      "source": [
        "from pyproj import Geod"
      ],
      "execution_count": null,
      "outputs": []
    },
    {
      "cell_type": "code",
      "metadata": {
        "id": "ngH_ONDYOnvC"
      },
      "source": [
        "wgs84_geod = Geod(ellps ='WGS84')\n",
        "\n",
        "\n",
        "def Distance(lat1,lon1,lat2,lon2):\n",
        "     az12,az21,dist = wgs84_geod.inv(lon1,lat1,lon2,lat2) \n",
        "     return dist"
      ],
      "execution_count": null,
      "outputs": []
    },
    {
      "cell_type": "code",
      "metadata": {
        "id": "Ra0YtluqOnvE"
      },
      "source": [
        "nom_gare = coordonnees['Nom_Gare'].tolist()\n",
        "latitude = coordonnees['Latitude'].tolist()\n",
        "longitude = coordonnees['Longitude'].tolist()\n",
        "\n",
        "liste = [[] for i in range(len(nom_gare))]\n",
        "\n",
        "for i in range(len(liste)) : \n",
        "    liste[i] = nom_gare[i], latitude[i], longitude[i]\n",
        "    \n",
        "#liste"
      ],
      "execution_count": null,
      "outputs": []
    },
    {
      "cell_type": "markdown",
      "metadata": {
        "id": "8CAnSw-GOnvG"
      },
      "source": [
        "liste contient les triplets (nom de gare, latitude, longitude) pour chaque gare. Pour chaque couple de gares contenues dans cette liste, on calcule la distance entre ces deux gares que l'on stocke dans le dictionnaire distance. "
      ]
    },
    {
      "cell_type": "code",
      "metadata": {
        "id": "ahgtwne7OnvH"
      },
      "source": [
        "distance = {}\n",
        "for k in range(len(liste)) : \n",
        "    for j in range(len(liste)) : \n",
        "        distance[liste[j][0], liste[k][0]] = Distance(liste[j][1],liste[j][2], liste[k][1], liste[k][2])\n",
        "        \n",
        "        \n",
        "gares = list(distance.keys())\n",
        "gare_depart = [gares[k][0] for k in range(len(gares))]\n",
        "gare_arrivee = [gares[k][1] for k in range(len(gares))]"
      ],
      "execution_count": null,
      "outputs": []
    },
    {
      "cell_type": "markdown",
      "metadata": {
        "id": "hGgRRqKeOnvJ"
      },
      "source": [
        "On crée le DataFrame distance_villes qui pour une gare de départ et une gare d'arrivée donne la distance en kms entre ces deux gares. "
      ]
    },
    {
      "cell_type": "code",
      "metadata": {
        "id": "Rz0mj3LrOnvJ"
      },
      "source": [
        "distance_villes = pd.DataFrame({'Gare de départ' : gare_depart, 'Gare d arrivée' : gare_arrivee, 'Distance entre les villes' : list(distance.values())})\n",
        "distance_villes['Distance entre les villes'] = distance_villes['Distance entre les villes']/1000"
      ],
      "execution_count": null,
      "outputs": []
    },
    {
      "cell_type": "markdown",
      "metadata": {
        "id": "Yqm7MnsyOnvM"
      },
      "source": [
        "  On veut désormais combiner les deux DataFrame : bdd_sncf et distance_villes, afin d'obtenir un DataFrame final contenant : \n",
        "- le nom de la gare de départ, \n",
        "- le nom de la gare d'arrivée, \n",
        "- les tarifs correspondants,\n",
        "- la distance correspondante à ce trajet. \n",
        "\n",
        "    Cependant, ces deux bases de données étant issues de jeux de données différents, **la syntaxe des noms de gares est différente**. Par exemple, les noms de gares dans bdd_sncf sont affichés en majuscule et sans caractères spéciaux (en particulier les tirets). On doit donc modifier la syntaxe des noms de gares contenues dans distance_villes. "
      ]
    },
    {
      "cell_type": "code",
      "metadata": {
        "id": "UJ0olHXpOnvM"
      },
      "source": [
        "distance_villes['Gare de départ'] = distance_villes['Gare de départ'].str.upper()\n",
        "distance_villes['Gare d arrivée'] = distance_villes['Gare d arrivée'].str.upper()\n",
        "distance_villes = distance_villes.replace('\\-', ' ', regex = True)\n",
        "distance_villes.iloc[2502]"
      ],
      "execution_count": null,
      "outputs": []
    },
    {
      "cell_type": "markdown",
      "metadata": {
        "id": "-efCQF-AOnvO"
      },
      "source": [
        "Il reste néanmoins des différences entre les noms qui pointent vers des gares identiques. Pour résoudre ce problème on utilise le module Levenshtein qui permet de définir un **ratio de ressemblance entre deux chaînes de caractères**. \n",
        "On crée la fonction *ratio* qui pour une gare de départ $x$ et une gare d'arrivée $y$ de bdd_sncf, retourne l'indice de la ligne de distance_villes du trajet de $x$ à $y$ correspondant. "
      ]
    },
    {
      "cell_type": "code",
      "metadata": {
        "id": "KXJFc37OOnvO"
      },
      "source": [
        "import Levenshtein as lev\n",
        "\n",
        "garedepartmaj = distance_villes['Gare de départ'].tolist() \n",
        "garearrmaj = distance_villes['Gare d arrivée'].tolist()\n",
        "\n",
        "def ratio(x,y):\n",
        "    garedep = []\n",
        "    ratiosd = []\n",
        "    ratiosa =[]\n",
        "    garrearr =[]\n",
        "    for gare in garedepartmaj :\n",
        "        Ratio_dep = lev.ratio(gare, x) # on calcule pour chaque gare de départ de distance_villes le ratio de similitude avec x\n",
        "        ratiosd.append(Ratio_dep) # la liste ratiosd stocke l'ensemble des ratios\n",
        "    ratiomaxd = max(ratiosd) #on prend le max de ces ratios\n",
        "    \n",
        "    for i in range (len(ratiosd)):\n",
        "        if ratiosd[i] == ratiomaxd:\n",
        "            garedep.append(i) # on stocke dans garedep les indices des gares de départ pour lesquelles le ratio est maximal\n",
        "    \n",
        "    for index in garedep : \n",
        "        Ratio_arr = lev.ratio(garearrmaj[index], y) #on regarde les ratios de similitude avec la gare d'arrivée pour les gares dans garedep \n",
        "        ratiosa.append(Ratio_arr)\n",
        "    \n",
        "    ratiomaxa=max(ratiosa)\n",
        "    for i in range (len(ratiosa)):\n",
        "        if ratiosa[i] == ratiomaxa:\n",
        "            return(garedep[i]) #on retourne l'indice de la ligne de distances_villes pour laquelle la gare de départ et la gare \n",
        "        #d'arrivée ont le plus grand ratio de similitude avec les gares x et y. \n"
      ],
      "execution_count": null,
      "outputs": []
    },
    {
      "cell_type": "code",
      "metadata": {
        "id": "zrKB6hVOOnvQ"
      },
      "source": [
        "distancegares=[]\n",
        "for i in range(len(liste_gare_départ)):\n",
        "    départ =liste_gare_départ[i]\n",
        "    arrivée = liste_gare_arrivée[i]\n",
        "    distancegares.append(distance_villes['Distance entre les villes'][ratio(départ,arrivée)])\n",
        "\n",
        "#print(distancegares) \n",
        "# distancegares contient l'ensemble des distances pour les trajets de bdd_sncf. \n"
      ],
      "execution_count": null,
      "outputs": []
    },
    {
      "cell_type": "markdown",
      "metadata": {
        "id": "pN8m-5TWOnvS"
      },
      "source": [
        "On ajoute finalement la colonne distance à la DataFrame bdd_sncf. "
      ]
    },
    {
      "cell_type": "code",
      "metadata": {
        "id": "vxqnrGg9OnvT"
      },
      "source": [
        "bdd_sncf['Distance du trajet'] = distancegares\n",
        "bdd_sncf\n",
        "#len(distancegareskm)"
      ],
      "execution_count": null,
      "outputs": []
    },
    {
      "cell_type": "code",
      "metadata": {
        "id": "lrnnVpX1OnvV"
      },
      "source": [
        "bdd_sncf.to_csv('bdd_sncf.csv', header = True, index = False)"
      ],
      "execution_count": null,
      "outputs": []
    }
  ]
}