{
 "cells": [
  {
   "cell_type": "markdown",
   "metadata": {},
   "source": [
    "## Différents imports et ouverture des datasets"
   ]
  },
  {
   "cell_type": "code",
   "execution_count": 1,
   "metadata": {},
   "outputs": [],
   "source": [
    "import pandas as pd\n",
    "import seaborn as sns\n",
    "import os\n",
    "import numpy as np"
   ]
  },
  {
   "cell_type": "code",
   "execution_count": 2,
   "metadata": {},
   "outputs": [],
   "source": [
    "os.chdir('C:/Users/zitou/OneDrive/Bureau/projet_info')"
   ]
  },
  {
   "cell_type": "code",
   "execution_count": 3,
   "metadata": {},
   "outputs": [],
   "source": [
    "df1 = pd.read_excel('bdd_avion_1.xlsx')"
   ]
  },
  {
   "cell_type": "code",
   "execution_count": 4,
   "metadata": {},
   "outputs": [],
   "source": [
    "bdd_sncf = pd.read_csv('bdd_sncf.csv')"
   ]
  },
  {
   "cell_type": "code",
   "execution_count": 5,
   "metadata": {},
   "outputs": [],
   "source": [
    "df2 = pd.read_excel('bdd_avion_2.xlsx')"
   ]
  },
  {
   "cell_type": "code",
   "execution_count": 6,
   "metadata": {},
   "outputs": [
    {
     "data": {
      "text/html": [
       "<div>\n",
       "<style scoped>\n",
       "    .dataframe tbody tr th:only-of-type {\n",
       "        vertical-align: middle;\n",
       "    }\n",
       "\n",
       "    .dataframe tbody tr th {\n",
       "        vertical-align: top;\n",
       "    }\n",
       "\n",
       "    .dataframe thead th {\n",
       "        text-align: right;\n",
       "    }\n",
       "</style>\n",
       "<table border=\"1\" class=\"dataframe\">\n",
       "  <thead>\n",
       "    <tr style=\"text-align: right;\">\n",
       "      <th></th>\n",
       "      <th>Column1</th>\n",
       "      <th>Dépar</th>\n",
       "      <th>Arrivé</th>\n",
       "      <th>Prix</th>\n",
       "      <th>Temps entre la réservation et le vol</th>\n",
       "    </tr>\n",
       "  </thead>\n",
       "  <tbody>\n",
       "    <tr>\n",
       "      <th>0</th>\n",
       "      <td>0</td>\n",
       "      <td>Paris</td>\n",
       "      <td>Strasbourg</td>\n",
       "      <td>323</td>\n",
       "      <td>0 à 1 mois</td>\n",
       "    </tr>\n",
       "    <tr>\n",
       "      <th>1</th>\n",
       "      <td>1</td>\n",
       "      <td>Paris</td>\n",
       "      <td>Strasbourg</td>\n",
       "      <td>240</td>\n",
       "      <td>1 à 2 mois</td>\n",
       "    </tr>\n",
       "    <tr>\n",
       "      <th>2</th>\n",
       "      <td>2</td>\n",
       "      <td>Paris</td>\n",
       "      <td>Strasbourg</td>\n",
       "      <td>199</td>\n",
       "      <td>2 à 3 mois</td>\n",
       "    </tr>\n",
       "    <tr>\n",
       "      <th>3</th>\n",
       "      <td>3</td>\n",
       "      <td>Paris</td>\n",
       "      <td>Strasbourg</td>\n",
       "      <td>201</td>\n",
       "      <td>3 à 4 mois</td>\n",
       "    </tr>\n",
       "    <tr>\n",
       "      <th>4</th>\n",
       "      <td>4</td>\n",
       "      <td>Paris</td>\n",
       "      <td>Strasbourg</td>\n",
       "      <td>209</td>\n",
       "      <td>4 à 5 mois</td>\n",
       "    </tr>\n",
       "    <tr>\n",
       "      <th>...</th>\n",
       "      <td>...</td>\n",
       "      <td>...</td>\n",
       "      <td>...</td>\n",
       "      <td>...</td>\n",
       "      <td>...</td>\n",
       "    </tr>\n",
       "    <tr>\n",
       "      <th>1618</th>\n",
       "      <td>1618</td>\n",
       "      <td>Nice</td>\n",
       "      <td>Paris</td>\n",
       "      <td>119</td>\n",
       "      <td>7 à 8 mois</td>\n",
       "    </tr>\n",
       "    <tr>\n",
       "      <th>1619</th>\n",
       "      <td>1619</td>\n",
       "      <td>Nice</td>\n",
       "      <td>Paris</td>\n",
       "      <td>124</td>\n",
       "      <td>8 à 9 mois</td>\n",
       "    </tr>\n",
       "    <tr>\n",
       "      <th>1620</th>\n",
       "      <td>1620</td>\n",
       "      <td>Nice</td>\n",
       "      <td>Paris</td>\n",
       "      <td>149</td>\n",
       "      <td>9 à 10 mois</td>\n",
       "    </tr>\n",
       "    <tr>\n",
       "      <th>1621</th>\n",
       "      <td>1621</td>\n",
       "      <td>Nice</td>\n",
       "      <td>Paris</td>\n",
       "      <td>127</td>\n",
       "      <td>10 à 11 mois</td>\n",
       "    </tr>\n",
       "    <tr>\n",
       "      <th>1622</th>\n",
       "      <td>1622</td>\n",
       "      <td>Nice</td>\n",
       "      <td>Paris</td>\n",
       "      <td>166</td>\n",
       "      <td>11 à 12 mois</td>\n",
       "    </tr>\n",
       "  </tbody>\n",
       "</table>\n",
       "<p>1623 rows × 5 columns</p>\n",
       "</div>"
      ],
      "text/plain": [
       "      Column1  Dépar      Arrivé  Prix Temps entre la réservation et le vol\n",
       "0           0  Paris  Strasbourg   323                           0 à 1 mois\n",
       "1           1  Paris  Strasbourg   240                           1 à 2 mois\n",
       "2           2  Paris  Strasbourg   199                           2 à 3 mois\n",
       "3           3  Paris  Strasbourg   201                           3 à 4 mois\n",
       "4           4  Paris  Strasbourg   209                           4 à 5 mois\n",
       "...       ...    ...         ...   ...                                  ...\n",
       "1618     1618   Nice       Paris   119                           7 à 8 mois\n",
       "1619     1619   Nice       Paris   124                           8 à 9 mois\n",
       "1620     1620   Nice       Paris   149                          9 à 10 mois\n",
       "1621     1621   Nice       Paris   127                         10 à 11 mois\n",
       "1622     1622   Nice       Paris   166                         11 à 12 mois\n",
       "\n",
       "[1623 rows x 5 columns]"
      ]
     },
     "execution_count": 6,
     "metadata": {},
     "output_type": "execute_result"
    }
   ],
   "source": [
    "df1"
   ]
  },
  {
   "cell_type": "code",
   "execution_count": 7,
   "metadata": {},
   "outputs": [
    {
     "data": {
      "text/html": [
       "<div>\n",
       "<style scoped>\n",
       "    .dataframe tbody tr th:only-of-type {\n",
       "        vertical-align: middle;\n",
       "    }\n",
       "\n",
       "    .dataframe tbody tr th {\n",
       "        vertical-align: top;\n",
       "    }\n",
       "\n",
       "    .dataframe thead th {\n",
       "        text-align: right;\n",
       "    }\n",
       "</style>\n",
       "<table border=\"1\" class=\"dataframe\">\n",
       "  <thead>\n",
       "    <tr style=\"text-align: right;\">\n",
       "      <th></th>\n",
       "      <th>Column1</th>\n",
       "      <th>Départ</th>\n",
       "      <th>Arrivée</th>\n",
       "      <th>Prix</th>\n",
       "      <th>Mois</th>\n",
       "    </tr>\n",
       "  </thead>\n",
       "  <tbody>\n",
       "    <tr>\n",
       "      <th>0</th>\n",
       "      <td>0</td>\n",
       "      <td>Paris</td>\n",
       "      <td>Strasbourg</td>\n",
       "      <td>319</td>\n",
       "      <td>jan</td>\n",
       "    </tr>\n",
       "    <tr>\n",
       "      <th>1</th>\n",
       "      <td>1</td>\n",
       "      <td>Paris</td>\n",
       "      <td>Strasbourg</td>\n",
       "      <td>189</td>\n",
       "      <td>fév</td>\n",
       "    </tr>\n",
       "    <tr>\n",
       "      <th>2</th>\n",
       "      <td>2</td>\n",
       "      <td>Paris</td>\n",
       "      <td>Strasbourg</td>\n",
       "      <td>225</td>\n",
       "      <td>mar</td>\n",
       "    </tr>\n",
       "    <tr>\n",
       "      <th>3</th>\n",
       "      <td>3</td>\n",
       "      <td>Paris</td>\n",
       "      <td>Strasbourg</td>\n",
       "      <td>238</td>\n",
       "      <td>avr</td>\n",
       "    </tr>\n",
       "    <tr>\n",
       "      <th>4</th>\n",
       "      <td>4</td>\n",
       "      <td>Paris</td>\n",
       "      <td>Strasbourg</td>\n",
       "      <td>256</td>\n",
       "      <td>mai</td>\n",
       "    </tr>\n",
       "    <tr>\n",
       "      <th>...</th>\n",
       "      <td>...</td>\n",
       "      <td>...</td>\n",
       "      <td>...</td>\n",
       "      <td>...</td>\n",
       "      <td>...</td>\n",
       "    </tr>\n",
       "    <tr>\n",
       "      <th>1943</th>\n",
       "      <td>1943</td>\n",
       "      <td>Nice</td>\n",
       "      <td>Paris</td>\n",
       "      <td>150</td>\n",
       "      <td>août</td>\n",
       "    </tr>\n",
       "    <tr>\n",
       "      <th>1944</th>\n",
       "      <td>1944</td>\n",
       "      <td>Nice</td>\n",
       "      <td>Paris</td>\n",
       "      <td>124</td>\n",
       "      <td>sep</td>\n",
       "    </tr>\n",
       "    <tr>\n",
       "      <th>1945</th>\n",
       "      <td>1945</td>\n",
       "      <td>Nice</td>\n",
       "      <td>Paris</td>\n",
       "      <td>124</td>\n",
       "      <td>oct</td>\n",
       "    </tr>\n",
       "    <tr>\n",
       "      <th>1946</th>\n",
       "      <td>1946</td>\n",
       "      <td>Nice</td>\n",
       "      <td>Paris</td>\n",
       "      <td>119</td>\n",
       "      <td>nov</td>\n",
       "    </tr>\n",
       "    <tr>\n",
       "      <th>1947</th>\n",
       "      <td>1947</td>\n",
       "      <td>Nice</td>\n",
       "      <td>Paris</td>\n",
       "      <td>133</td>\n",
       "      <td>déc</td>\n",
       "    </tr>\n",
       "  </tbody>\n",
       "</table>\n",
       "<p>1948 rows × 5 columns</p>\n",
       "</div>"
      ],
      "text/plain": [
       "      Column1 Départ     Arrivée  Prix  Mois\n",
       "0           0  Paris  Strasbourg   319   jan\n",
       "1           1  Paris  Strasbourg   189   fév\n",
       "2           2  Paris  Strasbourg   225   mar\n",
       "3           3  Paris  Strasbourg   238   avr\n",
       "4           4  Paris  Strasbourg   256   mai\n",
       "...       ...    ...         ...   ...   ...\n",
       "1943     1943   Nice       Paris   150  août\n",
       "1944     1944   Nice       Paris   124   sep\n",
       "1945     1945   Nice       Paris   124   oct\n",
       "1946     1946   Nice       Paris   119   nov\n",
       "1947     1947   Nice       Paris   133   déc\n",
       "\n",
       "[1948 rows x 5 columns]"
      ]
     },
     "execution_count": 7,
     "metadata": {},
     "output_type": "execute_result"
    }
   ],
   "source": [
    "df2"
   ]
  },
  {
   "cell_type": "code",
   "execution_count": 8,
   "metadata": {},
   "outputs": [],
   "source": [
    "df1 = df1.drop(['Column1'], axis = 1)"
   ]
  },
  {
   "cell_type": "code",
   "execution_count": 9,
   "metadata": {},
   "outputs": [],
   "source": [
    "df1.columns = ['Départ', 'Arrivée', 'Prix', 'Temps']"
   ]
  },
  {
   "cell_type": "code",
   "execution_count": 10,
   "metadata": {},
   "outputs": [
    {
     "data": {
      "text/plain": [
       "(float64    4\n",
       " object     2\n",
       " dtype: int64,\n",
       " object    3\n",
       " int64     1\n",
       " dtype: int64)"
      ]
     },
     "execution_count": 10,
     "metadata": {},
     "output_type": "execute_result"
    }
   ],
   "source": [
    "bdd_sncf.dtypes.value_counts(), df1.dtypes.value_counts()"
   ]
  },
  {
   "cell_type": "code",
   "execution_count": 11,
   "metadata": {},
   "outputs": [],
   "source": [
    "df1.Temps = df1.Temps.apply(lambda x: [int(s) for s in x.split(' ') if s.isdigit()][1])"
   ]
  },
  {
   "cell_type": "markdown",
   "metadata": {},
   "source": [
    "$\\to$ On transforme le temps jusqu'à l'achat du billett en entier représentant le nombre de mois avant le départ. Celà permettra d'éviter un encodage catégoriel de cette variable qui peut être vue comme une variable discrète."
   ]
  },
  {
   "cell_type": "markdown",
   "metadata": {},
   "source": [
    "**Ensuite :** On reprend l'étape de fusion des bases de données. Dans notre modélisation, on va conserver plus de variables. On a en effet vu dans la partie statistiques descriptives que des variables comme le prix des billets d'avion et le prix moyen des billets de train, ou encore le temps avant le départ et le prix du billet d'avion. **On va donc conserver ces variables**"
   ]
  },
  {
   "cell_type": "code",
   "execution_count": 12,
   "metadata": {},
   "outputs": [
    {
     "name": "stderr",
     "output_type": "stream",
     "text": [
      "C:\\Users\\zitou\\anaconda3\\lib\\site-packages\\pandas\\core\\indexing.py:670: SettingWithCopyWarning: \n",
      "A value is trying to be set on a copy of a slice from a DataFrame\n",
      "\n",
      "See the caveats in the documentation: https://pandas.pydata.org/pandas-docs/stable/user_guide/indexing.html#returning-a-view-versus-a-copy\n",
      "  iloc._setitem_with_indexer(indexer, value)\n"
     ]
    },
    {
     "data": {
      "text/html": [
       "<div>\n",
       "<style scoped>\n",
       "    .dataframe tbody tr th:only-of-type {\n",
       "        vertical-align: middle;\n",
       "    }\n",
       "\n",
       "    .dataframe tbody tr th {\n",
       "        vertical-align: top;\n",
       "    }\n",
       "\n",
       "    .dataframe thead th {\n",
       "        text-align: right;\n",
       "    }\n",
       "</style>\n",
       "<table border=\"1\" class=\"dataframe\">\n",
       "  <thead>\n",
       "    <tr style=\"text-align: right;\">\n",
       "      <th></th>\n",
       "      <th>Gare de départ</th>\n",
       "      <th>Gare d arrivée</th>\n",
       "      <th>Prix d appel seconde</th>\n",
       "      <th>Plein tarif loisir seconde</th>\n",
       "      <th>Tarif premiere classe</th>\n",
       "      <th>Distance du trajet</th>\n",
       "    </tr>\n",
       "  </thead>\n",
       "  <tbody>\n",
       "    <tr>\n",
       "      <th>7</th>\n",
       "      <td>Limoges</td>\n",
       "      <td>Paris</td>\n",
       "      <td>25.0</td>\n",
       "      <td>88.0</td>\n",
       "      <td>111.0</td>\n",
       "      <td>418.951774</td>\n",
       "    </tr>\n",
       "    <tr>\n",
       "      <th>85</th>\n",
       "      <td>Paris</td>\n",
       "      <td>Lyon</td>\n",
       "      <td>25.0</td>\n",
       "      <td>97.0</td>\n",
       "      <td>133.0</td>\n",
       "      <td>382.703675</td>\n",
       "    </tr>\n",
       "    <tr>\n",
       "      <th>86</th>\n",
       "      <td>Metz</td>\n",
       "      <td>Lyon</td>\n",
       "      <td>20.0</td>\n",
       "      <td>88.0</td>\n",
       "      <td>112.0</td>\n",
       "      <td>384.902365</td>\n",
       "    </tr>\n",
       "    <tr>\n",
       "      <th>103</th>\n",
       "      <td>Brest</td>\n",
       "      <td>Paris</td>\n",
       "      <td>20.0</td>\n",
       "      <td>92.0</td>\n",
       "      <td>131.0</td>\n",
       "      <td>505.076392</td>\n",
       "    </tr>\n",
       "    <tr>\n",
       "      <th>207</th>\n",
       "      <td>Paris</td>\n",
       "      <td>Montpellier</td>\n",
       "      <td>25.0</td>\n",
       "      <td>114.0</td>\n",
       "      <td>160.0</td>\n",
       "      <td>503.523601</td>\n",
       "    </tr>\n",
       "    <tr>\n",
       "      <th>...</th>\n",
       "      <td>...</td>\n",
       "      <td>...</td>\n",
       "      <td>...</td>\n",
       "      <td>...</td>\n",
       "      <td>...</td>\n",
       "      <td>...</td>\n",
       "    </tr>\n",
       "    <tr>\n",
       "      <th>3454</th>\n",
       "      <td>Nantes</td>\n",
       "      <td>Paris</td>\n",
       "      <td>20.0</td>\n",
       "      <td>85.0</td>\n",
       "      <td>122.0</td>\n",
       "      <td>336.159718</td>\n",
       "    </tr>\n",
       "    <tr>\n",
       "      <th>3754</th>\n",
       "      <td>Marseille</td>\n",
       "      <td>Rennes</td>\n",
       "      <td>30.0</td>\n",
       "      <td>142.0</td>\n",
       "      <td>180.0</td>\n",
       "      <td>773.008188</td>\n",
       "    </tr>\n",
       "    <tr>\n",
       "      <th>3871</th>\n",
       "      <td>Strasbourg</td>\n",
       "      <td>Marseille</td>\n",
       "      <td>20.0</td>\n",
       "      <td>124.0</td>\n",
       "      <td>161.0</td>\n",
       "      <td>616.720319</td>\n",
       "    </tr>\n",
       "    <tr>\n",
       "      <th>4120</th>\n",
       "      <td>Strasbourg</td>\n",
       "      <td>Lille</td>\n",
       "      <td>25.0</td>\n",
       "      <td>132.0</td>\n",
       "      <td>152.0</td>\n",
       "      <td>410.073399</td>\n",
       "    </tr>\n",
       "    <tr>\n",
       "      <th>4124</th>\n",
       "      <td>Lille</td>\n",
       "      <td>Strasbourg</td>\n",
       "      <td>25.0</td>\n",
       "      <td>132.0</td>\n",
       "      <td>152.0</td>\n",
       "      <td>410.374072</td>\n",
       "    </tr>\n",
       "  </tbody>\n",
       "</table>\n",
       "<p>69 rows × 6 columns</p>\n",
       "</div>"
      ],
      "text/plain": [
       "     Gare de départ Gare d arrivée  Prix d appel seconde  \\\n",
       "7           Limoges          Paris                  25.0   \n",
       "85            Paris           Lyon                  25.0   \n",
       "86             Metz           Lyon                  20.0   \n",
       "103           Brest          Paris                  20.0   \n",
       "207           Paris    Montpellier                  25.0   \n",
       "...             ...            ...                   ...   \n",
       "3454         Nantes          Paris                  20.0   \n",
       "3754      Marseille         Rennes                  30.0   \n",
       "3871     Strasbourg      Marseille                  20.0   \n",
       "4120     Strasbourg          Lille                  25.0   \n",
       "4124          Lille     Strasbourg                  25.0   \n",
       "\n",
       "      Plein tarif loisir seconde  Tarif premiere classe  Distance du trajet  \n",
       "7                           88.0                  111.0          418.951774  \n",
       "85                          97.0                  133.0          382.703675  \n",
       "86                          88.0                  112.0          384.902365  \n",
       "103                         92.0                  131.0          505.076392  \n",
       "207                        114.0                  160.0          503.523601  \n",
       "...                          ...                    ...                 ...  \n",
       "3454                        85.0                  122.0          336.159718  \n",
       "3754                       142.0                  180.0          773.008188  \n",
       "3871                       124.0                  161.0          616.720319  \n",
       "4120                       132.0                  152.0          410.073399  \n",
       "4124                       132.0                  152.0          410.374072  \n",
       "\n",
       "[69 rows x 6 columns]"
      ]
     },
     "execution_count": 12,
     "metadata": {},
     "output_type": "execute_result"
    }
   ],
   "source": [
    "bdd_sncf['Gare de départ'].loc[(bdd_sncf['Gare de départ'] == 'PARIS MONTPARNASSE 1 ET 2') | (bdd_sncf['Gare de départ'] == 'PARIS AUSTERLITZ') | (bdd_sncf['Gare de départ'] == 'MASSY TGV') | (bdd_sncf['Gare de départ'] == 'MARNE LA VALLEE CHESSY') | (bdd_sncf['Gare de départ'] == 'PARIS NORD') | (bdd_sncf['Gare de départ'] == 'PARIS GARE DE LYON') |(bdd_sncf['Gare de départ'] == 'AEROPORT CDG 2 TGV ROISSY') | (bdd_sncf['Gare de départ'] =='MANTES LA J. TGV')] = 'Paris'\n",
    "bdd_sncf['Gare d arrivée'].loc[(bdd_sncf['Gare d arrivée'] == 'PARIS MONTPARNASSE 1 ET 2') | (bdd_sncf['Gare d arrivée'] == 'PARIS AUSTERLITZ') | (bdd_sncf['Gare d arrivée'] == 'MASSY TGV') | (bdd_sncf['Gare d arrivée'] == 'MARNE LA VALLEE CHESSY') | (bdd_sncf['Gare d arrivée'] == 'PARIS NORD') | (bdd_sncf['Gare d arrivée'] == 'PARIS GARE DE LYON') |(bdd_sncf['Gare d arrivée'] == 'AEROPORT CDG 2 TGV ROISSY') | (bdd_sncf['Gare d arrivée'] =='MANTES LA J. TGV') ] = 'Paris'\n",
    "\n",
    "bdd_sncf['Gare de départ'].loc[bdd_sncf['Gare de départ'] == 'NANTES'] = 'Nantes'\n",
    "bdd_sncf['Gare d arrivée'].loc[bdd_sncf['Gare d arrivée'] == 'NANTES'] = 'Nantes'\n",
    "\n",
    "\n",
    "bdd_sncf['Gare de départ'].loc[bdd_sncf['Gare de départ'] == 'MARSEILLE ST CHARLES'] = 'Marseille'\n",
    "bdd_sncf['Gare d arrivée'].loc[bdd_sncf['Gare d arrivée'] == 'MARSEILLE ST CHARLES'] = 'Marseille'\n",
    "\n",
    "bdd_sncf['Gare de départ'].loc[bdd_sncf['Gare de départ'] == 'BORDEAUX ST JEAN'] = 'Bordeaux'\n",
    "bdd_sncf['Gare d arrivée'].loc[bdd_sncf['Gare d arrivée'] == 'BORDEAUX ST JEAN'] = 'Bordeaux'\n",
    "\n",
    "\n",
    "bdd_sncf['Gare de départ'].loc[(bdd_sncf['Gare de départ'] == 'LYON PART DIEU') | (bdd_sncf['Gare de départ'] == 'LYON ST EXUPERY') | (bdd_sncf['Gare de départ'] == 'LYON PERRACHE')] = 'Lyon'\n",
    "bdd_sncf['Gare d arrivée'].loc[(bdd_sncf['Gare d arrivée'] == 'LYON PART DIEU') | (bdd_sncf['Gare d arrivée'] == 'LYON ST EXUPERY') | (bdd_sncf['Gare d arrivée'] == 'LYON PERRACHE')] = 'Lyon'\n",
    "\n",
    "bdd_sncf['Gare de départ'].loc[bdd_sncf['Gare de départ'] == 'TOULOUSE MATABIAU'] = 'Toulouse'\n",
    "bdd_sncf['Gare d arrivée'].loc[bdd_sncf['Gare d arrivée'] == 'TOULOUSE MATABIAU'] = 'Toulouse'\n",
    "\n",
    "bdd_sncf['Gare de départ'].loc[bdd_sncf['Gare de départ'] == 'NICE VILLE' ] = 'Nice'\n",
    "bdd_sncf['Gare d arrivée'].loc[bdd_sncf['Gare d arrivée'] == 'NICE VILLE' ] = 'Nice'\n",
    "\n",
    "bdd_sncf['Gare de départ'].loc[bdd_sncf['Gare de départ'] == 'STRASBOURG'] = 'Strasbourg'\n",
    "bdd_sncf['Gare d arrivée'].loc[bdd_sncf['Gare d arrivée'] == 'STRASBOURG'] = 'Strasbourg'\n",
    "\n",
    "bdd_sncf['Gare de départ'].loc[bdd_sncf['Gare de départ'] == 'BREST' ] = 'Brest'\n",
    "bdd_sncf['Gare d arrivée'].loc[bdd_sncf['Gare d arrivée'] == 'BREST' ] = 'Brest'\n",
    "\n",
    "bdd_sncf['Gare de départ'].loc[bdd_sncf['Gare de départ'] == 'MONTPELLIER' ] = 'Montpellier'\n",
    "bdd_sncf['Gare d arrivée'].loc[bdd_sncf['Gare d arrivée'] == 'MONTPELLIER' ] = 'Montpellier'\n",
    "\n",
    "bdd_sncf['Gare de départ'].loc[bdd_sncf['Gare de départ'] == 'LIMOGES BENEDICTINS'] = 'Limoges'\n",
    "bdd_sncf['Gare d arrivée'].loc[bdd_sncf['Gare d arrivée'] == 'LIMOGES BENEDICTINS'] = 'Limoges'\n",
    "\n",
    "bdd_sncf['Gare de départ'].loc[bdd_sncf['Gare de départ'] == 'METZ VILLE'] = 'Metz'\n",
    "bdd_sncf['Gare d arrivée'].loc[bdd_sncf['Gare d arrivée'] == 'METZ VILLE'] = 'Metz'\n",
    "\n",
    "bdd_sncf['Gare de départ'].loc[(bdd_sncf['Gare de départ'] == 'LILLE FLANDRES') | (bdd_sncf['Gare de départ'] == 'LILLE EUROPE') ] = 'Lille'\n",
    "bdd_sncf['Gare d arrivée'].loc[(bdd_sncf['Gare d arrivée'] == 'LILLE FLANDRES') | (bdd_sncf['Gare d arrivée'] == 'LILLE EUROPE') ] = 'Lille'\n",
    "\n",
    "bdd_sncf['Gare de départ'].loc[bdd_sncf['Gare de départ'] == 'CAEN' ] = 'Caen'\n",
    "bdd_sncf['Gare d arrivée'].loc[bdd_sncf['Gare d arrivée'] == 'CAEN' ] = 'Caen'\n",
    "\n",
    "bdd_sncf['Gare de départ'].loc[bdd_sncf['Gare de départ'] ==  ' POITIERS'] = 'Poitiers'\n",
    "bdd_sncf['Gare d arrivée'].loc[bdd_sncf['Gare d arrivée'] ==  ' POITIERS'] = 'Poitiers'\n",
    "\n",
    "bdd_sncf['Gare de départ'].loc[bdd_sncf['Gare de départ'] ==  'RENNES'] = 'Rennes'\n",
    "bdd_sncf['Gare d arrivée'].loc[bdd_sncf['Gare d arrivée'] ==  'RENNES'] = 'Rennes'\n",
    "\n",
    "liste_villes = ['Strasbourg', 'Bordeaux', 'Clermont-Ferrand', 'Rennes', 'Brest',\n",
    "       'Ajaccio', 'Bastia', 'Calvi', 'Figari', 'Montpellier', 'Limoges',\n",
    "       'Metz', 'Toulouse', 'Lille', 'Caen', 'Nantes', 'Poitiers',\n",
    "       'Marseille', 'Nice', 'Lyon', 'Paris','Bordeaux'] ##contient tous les destinations et villes de départ de bdd_1\n",
    "\n",
    "indexlist=[]\n",
    "for villedep in liste_villes:\n",
    "    for villearr in liste_villes:\n",
    "        inter = bdd_sncf[(bdd_sncf['Gare de départ'] == villedep)]\n",
    "        listelement = inter[inter['Gare d arrivée']==villearr].index.values.astype(int)\n",
    "        if listelement.size!=0:\n",
    "            indexlist.append(listelement[0])  ## listelement stocke tous les indices des lignes de bdd_sncf dont les départs \n",
    "            #et arrivées sont dans bdd_1. \n",
    "\n",
    "bdd_sncf = bdd_sncf[bdd_sncf.index.isin(indexlist)]\n",
    "bdd_sncf"
   ]
  },
  {
   "cell_type": "code",
   "execution_count": 13,
   "metadata": {
    "scrolled": true
   },
   "outputs": [
    {
     "data": {
      "text/html": [
       "<div>\n",
       "<style scoped>\n",
       "    .dataframe tbody tr th:only-of-type {\n",
       "        vertical-align: middle;\n",
       "    }\n",
       "\n",
       "    .dataframe tbody tr th {\n",
       "        vertical-align: top;\n",
       "    }\n",
       "\n",
       "    .dataframe thead th {\n",
       "        text-align: right;\n",
       "    }\n",
       "</style>\n",
       "<table border=\"1\" class=\"dataframe\">\n",
       "  <thead>\n",
       "    <tr style=\"text-align: right;\">\n",
       "      <th></th>\n",
       "      <th>Prix</th>\n",
       "      <th>Temps</th>\n",
       "      <th>Gare de départ</th>\n",
       "      <th>Gare d arrivée</th>\n",
       "      <th>Distance du trajet</th>\n",
       "      <th>Prix moyen</th>\n",
       "    </tr>\n",
       "  </thead>\n",
       "  <tbody>\n",
       "    <tr>\n",
       "      <th>0</th>\n",
       "      <td>163</td>\n",
       "      <td>1</td>\n",
       "      <td>Paris</td>\n",
       "      <td>Rennes</td>\n",
       "      <td>329.462708</td>\n",
       "      <td>193.0</td>\n",
       "    </tr>\n",
       "    <tr>\n",
       "      <th>1</th>\n",
       "      <td>133</td>\n",
       "      <td>2</td>\n",
       "      <td>Paris</td>\n",
       "      <td>Rennes</td>\n",
       "      <td>329.462708</td>\n",
       "      <td>193.0</td>\n",
       "    </tr>\n",
       "    <tr>\n",
       "      <th>2</th>\n",
       "      <td>144</td>\n",
       "      <td>3</td>\n",
       "      <td>Paris</td>\n",
       "      <td>Rennes</td>\n",
       "      <td>329.462708</td>\n",
       "      <td>193.0</td>\n",
       "    </tr>\n",
       "    <tr>\n",
       "      <th>3</th>\n",
       "      <td>139</td>\n",
       "      <td>4</td>\n",
       "      <td>Paris</td>\n",
       "      <td>Rennes</td>\n",
       "      <td>329.462708</td>\n",
       "      <td>193.0</td>\n",
       "    </tr>\n",
       "    <tr>\n",
       "      <th>4</th>\n",
       "      <td>151</td>\n",
       "      <td>5</td>\n",
       "      <td>Paris</td>\n",
       "      <td>Rennes</td>\n",
       "      <td>329.462708</td>\n",
       "      <td>193.0</td>\n",
       "    </tr>\n",
       "  </tbody>\n",
       "</table>\n",
       "</div>"
      ],
      "text/plain": [
       "   Prix  Temps Gare de départ Gare d arrivée  Distance du trajet  Prix moyen\n",
       "0   163      1          Paris         Rennes          329.462708       193.0\n",
       "1   133      2          Paris         Rennes          329.462708       193.0\n",
       "2   144      3          Paris         Rennes          329.462708       193.0\n",
       "3   139      4          Paris         Rennes          329.462708       193.0\n",
       "4   151      5          Paris         Rennes          329.462708       193.0"
      ]
     },
     "execution_count": 13,
     "metadata": {},
     "output_type": "execute_result"
    }
   ],
   "source": [
    "bdd_corr = pd.merge(df1, bdd_sncf, left_on = [df1['Départ'],df1['Arrivée']], right_on = [bdd_sncf['Gare de départ'], bdd_sncf['Gare d arrivée']], how = 'inner')\n",
    "bdd_corr = bdd_corr.drop(['Prix d appel seconde', 'key_0', 'key_1'], axis=1)\n",
    "bdd_corr['Prix moyen'] =(bdd_corr['Plein tarif loisir seconde'] + bdd_corr['Tarif premiere classe'])\n",
    "bdd_corr_1 =  bdd_corr.drop(['Plein tarif loisir seconde', 'Tarif premiere classe', 'Départ', 'Arrivée'], axis = 1)\n",
    "bdd_corr_1.head(5)"
   ]
  },
  {
   "cell_type": "code",
   "execution_count": 14,
   "metadata": {
    "scrolled": false
   },
   "outputs": [],
   "source": [
    "df2 = df2.drop('Column1', axis = 1)"
   ]
  },
  {
   "cell_type": "code",
   "execution_count": 15,
   "metadata": {},
   "outputs": [
    {
     "data": {
      "text/html": [
       "<div>\n",
       "<style scoped>\n",
       "    .dataframe tbody tr th:only-of-type {\n",
       "        vertical-align: middle;\n",
       "    }\n",
       "\n",
       "    .dataframe tbody tr th {\n",
       "        vertical-align: top;\n",
       "    }\n",
       "\n",
       "    .dataframe thead th {\n",
       "        text-align: right;\n",
       "    }\n",
       "</style>\n",
       "<table border=\"1\" class=\"dataframe\">\n",
       "  <thead>\n",
       "    <tr style=\"text-align: right;\">\n",
       "      <th></th>\n",
       "      <th>Prix</th>\n",
       "      <th>Mois</th>\n",
       "      <th>Gare de départ</th>\n",
       "      <th>Gare d arrivée</th>\n",
       "      <th>Distance du trajet</th>\n",
       "      <th>Prix moyen</th>\n",
       "    </tr>\n",
       "  </thead>\n",
       "  <tbody>\n",
       "    <tr>\n",
       "      <th>0</th>\n",
       "      <td>129</td>\n",
       "      <td>jan</td>\n",
       "      <td>Paris</td>\n",
       "      <td>Rennes</td>\n",
       "      <td>329.462708</td>\n",
       "      <td>193.0</td>\n",
       "    </tr>\n",
       "    <tr>\n",
       "      <th>1</th>\n",
       "      <td>141</td>\n",
       "      <td>fév</td>\n",
       "      <td>Paris</td>\n",
       "      <td>Rennes</td>\n",
       "      <td>329.462708</td>\n",
       "      <td>193.0</td>\n",
       "    </tr>\n",
       "    <tr>\n",
       "      <th>2</th>\n",
       "      <td>294</td>\n",
       "      <td>mar</td>\n",
       "      <td>Paris</td>\n",
       "      <td>Rennes</td>\n",
       "      <td>329.462708</td>\n",
       "      <td>193.0</td>\n",
       "    </tr>\n",
       "    <tr>\n",
       "      <th>3</th>\n",
       "      <td>134</td>\n",
       "      <td>avr</td>\n",
       "      <td>Paris</td>\n",
       "      <td>Rennes</td>\n",
       "      <td>329.462708</td>\n",
       "      <td>193.0</td>\n",
       "    </tr>\n",
       "    <tr>\n",
       "      <th>4</th>\n",
       "      <td>125</td>\n",
       "      <td>mai</td>\n",
       "      <td>Paris</td>\n",
       "      <td>Rennes</td>\n",
       "      <td>329.462708</td>\n",
       "      <td>193.0</td>\n",
       "    </tr>\n",
       "  </tbody>\n",
       "</table>\n",
       "</div>"
      ],
      "text/plain": [
       "   Prix Mois Gare de départ Gare d arrivée  Distance du trajet  Prix moyen\n",
       "0   129  jan          Paris         Rennes          329.462708       193.0\n",
       "1   141  fév          Paris         Rennes          329.462708       193.0\n",
       "2   294  mar          Paris         Rennes          329.462708       193.0\n",
       "3   134  avr          Paris         Rennes          329.462708       193.0\n",
       "4   125  mai          Paris         Rennes          329.462708       193.0"
      ]
     },
     "execution_count": 15,
     "metadata": {},
     "output_type": "execute_result"
    }
   ],
   "source": [
    "bdd_corr2 = pd.merge(df2, bdd_sncf, left_on = [df2['Départ'],df2['Arrivée']], right_on = [bdd_sncf['Gare de départ'], bdd_sncf['Gare d arrivée']], how = 'inner')\n",
    "bdd_corr2 = bdd_corr2.drop(['Prix d appel seconde', 'key_0', 'key_1'], axis=1)\n",
    "bdd_corr2['Prix moyen'] =(bdd_corr2['Plein tarif loisir seconde'] + bdd_corr2['Tarif premiere classe'])\n",
    "bdd_corr_21 =  bdd_corr2.drop(['Plein tarif loisir seconde', 'Tarif premiere classe', 'Départ', 'Arrivée'], axis = 1)\n",
    "bdd_corr_21.head(5)"
   ]
  },
  {
   "cell_type": "code",
   "execution_count": 16,
   "metadata": {},
   "outputs": [],
   "source": [
    "bdd_corr2 = bdd_corr2.drop(['Gare de départ'], axis = 1)"
   ]
  },
  {
   "cell_type": "code",
   "execution_count": 17,
   "metadata": {},
   "outputs": [
    {
     "data": {
      "text/plain": [
       "(355, 9)"
      ]
     },
     "execution_count": 17,
     "metadata": {},
     "output_type": "execute_result"
    }
   ],
   "source": [
    "bdd_corr2.shape"
   ]
  },
  {
   "cell_type": "code",
   "execution_count": 18,
   "metadata": {},
   "outputs": [
    {
     "data": {
      "text/plain": [
       "(329, 6)"
      ]
     },
     "execution_count": 18,
     "metadata": {},
     "output_type": "execute_result"
    }
   ],
   "source": [
    "bdd_corr_1.shape"
   ]
  },
  {
   "cell_type": "markdown",
   "metadata": {},
   "source": [
    "$\\to$ Les données avec lesquelles on va travailler sont beaucoup moins nombreuses"
   ]
  },
  {
   "cell_type": "markdown",
   "metadata": {},
   "source": [
    "**On affiche ci dessous les colonnes de chaque dataset, pour comprendre ce qu'il représente**"
   ]
  },
  {
   "cell_type": "code",
   "execution_count": 19,
   "metadata": {},
   "outputs": [
    {
     "data": {
      "text/plain": [
       "(Index(['Prix', 'Temps', 'Gare de départ', 'Gare d arrivée',\n",
       "        'Distance du trajet', 'Prix moyen'],\n",
       "       dtype='object'),\n",
       " Index(['Départ', 'Arrivée', 'Prix', 'Mois', 'Gare d arrivée',\n",
       "        'Plein tarif loisir seconde', 'Tarif premiere classe',\n",
       "        'Distance du trajet', 'Prix moyen'],\n",
       "       dtype='object'))"
      ]
     },
     "execution_count": 19,
     "metadata": {},
     "output_type": "execute_result"
    }
   ],
   "source": [
    "bdd_corr_1.columns, bdd_corr2.columns"
   ]
  },
  {
   "cell_type": "markdown",
   "metadata": {},
   "source": [
    "$\\to$ Gare de départ / départ et gare d'arrivée /arrivée sont les mêmes variables.\n",
    "\n",
    "$\\to$ La colonne qui change entre les deux datasets est la colonne 'Temps' qui représente le délais entre l'achat du billet et le départ, et la colonne 'Mois', qui représente le mois du vol. Si on voulait fusionner les deux datasets, on perdrait énormément d'information (de lignes). En effet, les données doivent être fusionnées sur le départ, l'arrivée, et une variable de prix, pour s\"assurer qu'il s'agit bien du même trajet. Ce problème vient du fait que le prix dépend de la variable Temps, et de la vraible Mois. On a des bases séparées, donc on a pas forcément des dépendances simultanées. On perdrait donc beaucoup de lignes, ce qui ne nous arrange pas pour le modèle."
   ]
  },
  {
   "cell_type": "code",
   "execution_count": 20,
   "metadata": {},
   "outputs": [],
   "source": [
    "df = bdd_corr_1.copy()\n",
    "df_bis = bdd_corr_21.copy()"
   ]
  },
  {
   "cell_type": "code",
   "execution_count": 21,
   "metadata": {},
   "outputs": [
    {
     "data": {
      "text/plain": [
       "object     2\n",
       "float64    2\n",
       "int64      2\n",
       "dtype: int64"
      ]
     },
     "execution_count": 21,
     "metadata": {},
     "output_type": "execute_result"
    }
   ],
   "source": [
    "df.dtypes.value_counts()"
   ]
  },
  {
   "cell_type": "markdown",
   "metadata": {},
   "source": [
    "## Analyse par variables\n",
    "\n",
    "On va beaucoup d'intéresser aux variables catégorielles, puisque nous allons devoir les encoder"
   ]
  },
  {
   "cell_type": "code",
   "execution_count": 22,
   "metadata": {},
   "outputs": [
    {
     "data": {
      "text/plain": [
       "<AxesSubplot:ylabel='Gare de départ'>"
      ]
     },
     "execution_count": 22,
     "metadata": {},
     "output_type": "execute_result"
    },
    {
     "data": {
      "image/png": "[encoded data removed]",
      "text/plain": [
       "<Figure size 432x288 with 1 Axes>"
      ]
     },
     "metadata": {},
     "output_type": "display_data"
    }
   ],
   "source": [
    "df['Gare de départ'].value_counts().plot.pie(autopct='%1.1f%%')"
   ]
  },
  {
   "cell_type": "markdown",
   "metadata": {},
   "source": [
    "On constate que le nombre de trajets qui partent de certaines gares est plus élevé que pour d'autres gares. A priori, on ne peut pas dire si celà a une incidence sur le prix du billet d'avion. Il est à noter ici que 'Gare de départ' représente plus la ville de départ qu'une gare. C'est donc le cas aussi pour les trajets d'avion. "
   ]
  },
  {
   "cell_type": "code",
   "execution_count": 23,
   "metadata": {},
   "outputs": [
    {
     "data": {
      "text/plain": [
       "<AxesSubplot:ylabel='Gare d arrivée'>"
      ]
     },
     "execution_count": 23,
     "metadata": {},
     "output_type": "execute_result"
    },
    {
     "data": {
      "image/png": "[encoded data removed]",
      "text/plain": [
       "<Figure size 432x288 with 1 Axes>"
      ]
     },
     "metadata": {},
     "output_type": "display_data"
    }
   ],
   "source": [
    "df['Gare d arrivée'].value_counts().plot.pie(autopct='%1.1f%%')"
   ]
  },
  {
   "cell_type": "markdown",
   "metadata": {},
   "source": [
    "Les gare d'arrivées recoivent elles plus ou moins le même nombre de trajets."
   ]
  },
  {
   "cell_type": "code",
   "execution_count": 24,
   "metadata": {},
   "outputs": [
    {
     "data": {
      "text/plain": [
       "<AxesSubplot:ylabel='Mois'>"
      ]
     },
     "execution_count": 24,
     "metadata": {},
     "output_type": "execute_result"
    },
    {
     "data": {
      "image/png": "[encoded data removed]",
      "text/plain": [
       "<Figure size 432x288 with 1 Axes>"
      ]
     },
     "metadata": {},
     "output_type": "display_data"
    }
   ],
   "source": [
    "df_bis['Mois'].value_counts().plot.pie(autopct = '%1.1f%%')"
   ]
  },
  {
   "cell_type": "markdown",
   "metadata": {},
   "source": [
    "$\\to$ Pour le deuxième dataset, on constate que le nombre de vol par mois semble être le même. On ne met donc pas en évidence ici des mois avec plus de demande, donc potentiellement un prix plus élevé. C'est simplement notre échantillon qui est équiréparti entre les mois. Il sera tout de même interessant de s'intéresser au prix par mois."
   ]
  },
  {
   "cell_type": "markdown",
   "metadata": {},
   "source": [
    "# Preprocessing"
   ]
  },
  {
   "cell_type": "markdown",
   "metadata": {},
   "source": [
    "\n",
    "On va utiliser un encodage OneHot pour les colonnes avec des types objets, et un RobustScaler pour faire face aux valeurs aberrantes que l'on a pu constater. On réfléchira ensuite à la pertinence de l'imputation de ces valeurs au datasets. On pourra également réfléchir à la métrique utilisée pour parvenir à nos fins.\n",
    "\n",
    "**Justification du OneHotEncoding**: ici, on fait face à un grand nombre de possibilité d'issue pour les variables que l'on encode, qui seront 'Gare de départ' et 'Gare d arrivée'. De plus, il n'existe pas de relation séquentielle entre celles-ci. De plus, si on encodait les noms des gares par [1,2,3,4,5] par exemple, on aurait le 1 et le 2 très proches dans l'encodage, mais pour autant pas proche du tout dans la réalité, si par exemple celà correspond à Paris et Strasbourg, par la géographie d'une part, mais aussi de prix, de nombre de départs, etc. Un encodage OneHot, qui attribue un vecteur comprenant une unité 1 à la coordonnée i pour coder l'issue i de la variable, donne une vraie distance entre les gares."
   ]
  },
  {
   "cell_type": "markdown",
   "metadata": {},
   "source": [
    "**Justification du RobustScaler :** Ici, on applique la formule $ \\dfrac{\\text{valeur} - \\text{médiane}}{\\text{inter-quartile}} $. La médiane est moins sensible que la moyenne aux outliers, là où dans certains normalisateurs, on a la moyenne. On a donc une première approche ici de prise en compte des valeurs aberrantes. On peut s'en convaincre sur le graphe suivant."
   ]
  },
  {
   "cell_type": "markdown",
   "metadata": {},
   "source": [
    "### Premier dataset :\n",
    "(Contient la variable $\\textit{Temps}$)"
   ]
  },
  {
   "cell_type": "code",
   "execution_count": 25,
   "metadata": {},
   "outputs": [],
   "source": [
    "dfm = df.copy()\n",
    "dfm.Prix = dfm.Prix.astype('float')\n",
    "dfm.Temps = dfm.Temps.astype('float')\n",
    "#On passe le prix et le temps en flottants pour pouvoir les passer dans le scaler."
   ]
  },
  {
   "cell_type": "code",
   "execution_count": 26,
   "metadata": {},
   "outputs": [],
   "source": [
    "from sklearn.preprocessing import OneHotEncoder, RobustScaler\n",
    "\n",
    "ohe = OneHotEncoder(sparse = False) #On demande un array et une sparse matrix pour ne pas avoir de problèmes avec les autres\n",
    "                                    #fonctions de scikit-learn.\n",
    "rob = RobustScaler()"
   ]
  },
  {
   "cell_type": "code",
   "execution_count": 27,
   "metadata": {},
   "outputs": [],
   "source": [
    "# Normalisation des variables flottantes\n",
    "\n",
    "for flo in dfm.select_dtypes('float'):\n",
    "    dfm[flo] = rob.fit_transform(np.array(dfm[flo]).reshape(-1,1))"
   ]
  },
  {
   "cell_type": "code",
   "execution_count": 28,
   "metadata": {},
   "outputs": [
    {
     "data": {
      "text/html": [
       "<div>\n",
       "<style scoped>\n",
       "    .dataframe tbody tr th:only-of-type {\n",
       "        vertical-align: middle;\n",
       "    }\n",
       "\n",
       "    .dataframe tbody tr th {\n",
       "        vertical-align: top;\n",
       "    }\n",
       "\n",
       "    .dataframe thead th {\n",
       "        text-align: right;\n",
       "    }\n",
       "</style>\n",
       "<table border=\"1\" class=\"dataframe\">\n",
       "  <thead>\n",
       "    <tr style=\"text-align: right;\">\n",
       "      <th></th>\n",
       "      <th>Prix</th>\n",
       "      <th>Temps</th>\n",
       "      <th>Gare de départ</th>\n",
       "      <th>Gare d arrivée</th>\n",
       "      <th>Distance du trajet</th>\n",
       "      <th>Prix moyen</th>\n",
       "    </tr>\n",
       "  </thead>\n",
       "  <tbody>\n",
       "    <tr>\n",
       "      <th>0</th>\n",
       "      <td>0.171875</td>\n",
       "      <td>-0.833333</td>\n",
       "      <td>Paris</td>\n",
       "      <td>Rennes</td>\n",
       "      <td>-0.407151</td>\n",
       "      <td>-0.456790</td>\n",
       "    </tr>\n",
       "    <tr>\n",
       "      <th>1</th>\n",
       "      <td>-0.296875</td>\n",
       "      <td>-0.666667</td>\n",
       "      <td>Paris</td>\n",
       "      <td>Rennes</td>\n",
       "      <td>-0.407151</td>\n",
       "      <td>-0.456790</td>\n",
       "    </tr>\n",
       "    <tr>\n",
       "      <th>2</th>\n",
       "      <td>-0.125000</td>\n",
       "      <td>-0.500000</td>\n",
       "      <td>Paris</td>\n",
       "      <td>Rennes</td>\n",
       "      <td>-0.407151</td>\n",
       "      <td>-0.456790</td>\n",
       "    </tr>\n",
       "    <tr>\n",
       "      <th>3</th>\n",
       "      <td>-0.203125</td>\n",
       "      <td>-0.333333</td>\n",
       "      <td>Paris</td>\n",
       "      <td>Rennes</td>\n",
       "      <td>-0.407151</td>\n",
       "      <td>-0.456790</td>\n",
       "    </tr>\n",
       "    <tr>\n",
       "      <th>4</th>\n",
       "      <td>-0.015625</td>\n",
       "      <td>-0.166667</td>\n",
       "      <td>Paris</td>\n",
       "      <td>Rennes</td>\n",
       "      <td>-0.407151</td>\n",
       "      <td>-0.456790</td>\n",
       "    </tr>\n",
       "    <tr>\n",
       "      <th>...</th>\n",
       "      <td>...</td>\n",
       "      <td>...</td>\n",
       "      <td>...</td>\n",
       "      <td>...</td>\n",
       "      <td>...</td>\n",
       "      <td>...</td>\n",
       "    </tr>\n",
       "    <tr>\n",
       "      <th>324</th>\n",
       "      <td>-0.515625</td>\n",
       "      <td>0.333333</td>\n",
       "      <td>Nice</td>\n",
       "      <td>Paris</td>\n",
       "      <td>0.974664</td>\n",
       "      <td>1.074074</td>\n",
       "    </tr>\n",
       "    <tr>\n",
       "      <th>325</th>\n",
       "      <td>-0.437500</td>\n",
       "      <td>0.500000</td>\n",
       "      <td>Nice</td>\n",
       "      <td>Paris</td>\n",
       "      <td>0.974664</td>\n",
       "      <td>1.074074</td>\n",
       "    </tr>\n",
       "    <tr>\n",
       "      <th>326</th>\n",
       "      <td>-0.046875</td>\n",
       "      <td>0.666667</td>\n",
       "      <td>Nice</td>\n",
       "      <td>Paris</td>\n",
       "      <td>0.974664</td>\n",
       "      <td>1.074074</td>\n",
       "    </tr>\n",
       "    <tr>\n",
       "      <th>327</th>\n",
       "      <td>-0.390625</td>\n",
       "      <td>0.833333</td>\n",
       "      <td>Nice</td>\n",
       "      <td>Paris</td>\n",
       "      <td>0.974664</td>\n",
       "      <td>1.074074</td>\n",
       "    </tr>\n",
       "    <tr>\n",
       "      <th>328</th>\n",
       "      <td>0.218750</td>\n",
       "      <td>1.000000</td>\n",
       "      <td>Nice</td>\n",
       "      <td>Paris</td>\n",
       "      <td>0.974664</td>\n",
       "      <td>1.074074</td>\n",
       "    </tr>\n",
       "  </tbody>\n",
       "</table>\n",
       "<p>329 rows × 6 columns</p>\n",
       "</div>"
      ],
      "text/plain": [
       "         Prix     Temps Gare de départ Gare d arrivée  Distance du trajet  \\\n",
       "0    0.171875 -0.833333          Paris         Rennes           -0.407151   \n",
       "1   -0.296875 -0.666667          Paris         Rennes           -0.407151   \n",
       "2   -0.125000 -0.500000          Paris         Rennes           -0.407151   \n",
       "3   -0.203125 -0.333333          Paris         Rennes           -0.407151   \n",
       "4   -0.015625 -0.166667          Paris         Rennes           -0.407151   \n",
       "..        ...       ...            ...            ...                 ...   \n",
       "324 -0.515625  0.333333           Nice          Paris            0.974664   \n",
       "325 -0.437500  0.500000           Nice          Paris            0.974664   \n",
       "326 -0.046875  0.666667           Nice          Paris            0.974664   \n",
       "327 -0.390625  0.833333           Nice          Paris            0.974664   \n",
       "328  0.218750  1.000000           Nice          Paris            0.974664   \n",
       "\n",
       "     Prix moyen  \n",
       "0     -0.456790  \n",
       "1     -0.456790  \n",
       "2     -0.456790  \n",
       "3     -0.456790  \n",
       "4     -0.456790  \n",
       "..          ...  \n",
       "324    1.074074  \n",
       "325    1.074074  \n",
       "326    1.074074  \n",
       "327    1.074074  \n",
       "328    1.074074  \n",
       "\n",
       "[329 rows x 6 columns]"
      ]
     },
     "execution_count": 28,
     "metadata": {},
     "output_type": "execute_result"
    }
   ],
   "source": [
    "dfm"
   ]
  },
  {
   "cell_type": "code",
   "execution_count": 29,
   "metadata": {},
   "outputs": [],
   "source": [
    "# Encodage des valeurs catégorielles\n",
    "\n",
    "\n",
    "arr = ohe.fit_transform(np.array(dfm['Gare de départ']).reshape(-1,1))\n",
    "names = ohe.categories_\n",
    "names = [x + '_d'for x in names[0]] #on identifie les variables des villes avec un _départ pour les départs\n",
    "arr2 = pd.DataFrame(arr, columns = names)\n",
    "temp = dfm.drop('Gare de départ', axis = 1)\n",
    "dfm = pd.concat([temp, arr2], axis = 1)\n",
    "\n",
    "\n",
    "arr = ohe.fit_transform(np.array(dfm['Gare d arrivée']).reshape(-1,1))\n",
    "names = ohe.categories_\n",
    "names = [x + '_a'for x in names[0]]  #on identifie les variables des villes avec un _arrivée pour les départs\n",
    "arr2 = pd.DataFrame(arr, columns = names)\n",
    "temp = dfm.drop('Gare d arrivée', axis = 1)\n",
    "dfm = pd.concat([temp, arr2], axis = 1)"
   ]
  },
  {
   "cell_type": "code",
   "execution_count": 30,
   "metadata": {
    "scrolled": true
   },
   "outputs": [
    {
     "data": {
      "text/plain": [
       "(Index(['Prix', 'Temps', 'Distance du trajet', 'Prix moyen', 'Bordeaux_d',\n",
       "        'Lyon_d', 'Marseille_d', 'Nantes_d', 'Nice_d', 'Paris_d', 'Lille_a',\n",
       "        'Lyon_a', 'Marseille_a', 'Montpellier_a', 'Nantes_a', 'Nice_a',\n",
       "        'Paris_a', 'Rennes_a', 'Toulouse_a'],\n",
       "       dtype='object'),\n",
       " array(['Paris', 'Nantes', 'Marseille', 'Lyon', 'Bordeaux', 'Nice'],\n",
       "       dtype=object),\n",
       " array(['Rennes', 'Montpellier', 'Toulouse', 'Lille', 'Nantes',\n",
       "        'Marseille', 'Nice', 'Lyon', 'Paris'], dtype=object))"
      ]
     },
     "execution_count": 30,
     "metadata": {},
     "output_type": "execute_result"
    }
   ],
   "source": [
    "dfm.columns, df['Gare de départ'].unique(), df['Gare d arrivée'].unique()\n",
    "#On peut vérifier que l'encodage s'est bien fait"
   ]
  },
  {
   "cell_type": "code",
   "execution_count": 31,
   "metadata": {},
   "outputs": [
    {
     "data": {
      "text/html": [
       "<div>\n",
       "<style scoped>\n",
       "    .dataframe tbody tr th:only-of-type {\n",
       "        vertical-align: middle;\n",
       "    }\n",
       "\n",
       "    .dataframe tbody tr th {\n",
       "        vertical-align: top;\n",
       "    }\n",
       "\n",
       "    .dataframe thead th {\n",
       "        text-align: right;\n",
       "    }\n",
       "</style>\n",
       "<table border=\"1\" class=\"dataframe\">\n",
       "  <thead>\n",
       "    <tr style=\"text-align: right;\">\n",
       "      <th></th>\n",
       "      <th>Prix</th>\n",
       "      <th>Temps</th>\n",
       "      <th>Distance du trajet</th>\n",
       "      <th>Prix moyen</th>\n",
       "      <th>Bordeaux_d</th>\n",
       "      <th>Lyon_d</th>\n",
       "      <th>Marseille_d</th>\n",
       "      <th>Nantes_d</th>\n",
       "      <th>Nice_d</th>\n",
       "      <th>Paris_d</th>\n",
       "      <th>Lille_a</th>\n",
       "      <th>Lyon_a</th>\n",
       "      <th>Marseille_a</th>\n",
       "      <th>Montpellier_a</th>\n",
       "      <th>Nantes_a</th>\n",
       "      <th>Nice_a</th>\n",
       "      <th>Paris_a</th>\n",
       "      <th>Rennes_a</th>\n",
       "      <th>Toulouse_a</th>\n",
       "    </tr>\n",
       "  </thead>\n",
       "  <tbody>\n",
       "    <tr>\n",
       "      <th>0</th>\n",
       "      <td>0.171875</td>\n",
       "      <td>-0.833333</td>\n",
       "      <td>-0.407151</td>\n",
       "      <td>-0.456790</td>\n",
       "      <td>0.0</td>\n",
       "      <td>0.0</td>\n",
       "      <td>0.0</td>\n",
       "      <td>0.0</td>\n",
       "      <td>0.0</td>\n",
       "      <td>1.0</td>\n",
       "      <td>0.0</td>\n",
       "      <td>0.0</td>\n",
       "      <td>0.0</td>\n",
       "      <td>0.0</td>\n",
       "      <td>0.0</td>\n",
       "      <td>0.0</td>\n",
       "      <td>0.0</td>\n",
       "      <td>1.0</td>\n",
       "      <td>0.0</td>\n",
       "    </tr>\n",
       "    <tr>\n",
       "      <th>1</th>\n",
       "      <td>-0.296875</td>\n",
       "      <td>-0.666667</td>\n",
       "      <td>-0.407151</td>\n",
       "      <td>-0.456790</td>\n",
       "      <td>0.0</td>\n",
       "      <td>0.0</td>\n",
       "      <td>0.0</td>\n",
       "      <td>0.0</td>\n",
       "      <td>0.0</td>\n",
       "      <td>1.0</td>\n",
       "      <td>0.0</td>\n",
       "      <td>0.0</td>\n",
       "      <td>0.0</td>\n",
       "      <td>0.0</td>\n",
       "      <td>0.0</td>\n",
       "      <td>0.0</td>\n",
       "      <td>0.0</td>\n",
       "      <td>1.0</td>\n",
       "      <td>0.0</td>\n",
       "    </tr>\n",
       "    <tr>\n",
       "      <th>2</th>\n",
       "      <td>-0.125000</td>\n",
       "      <td>-0.500000</td>\n",
       "      <td>-0.407151</td>\n",
       "      <td>-0.456790</td>\n",
       "      <td>0.0</td>\n",
       "      <td>0.0</td>\n",
       "      <td>0.0</td>\n",
       "      <td>0.0</td>\n",
       "      <td>0.0</td>\n",
       "      <td>1.0</td>\n",
       "      <td>0.0</td>\n",
       "      <td>0.0</td>\n",
       "      <td>0.0</td>\n",
       "      <td>0.0</td>\n",
       "      <td>0.0</td>\n",
       "      <td>0.0</td>\n",
       "      <td>0.0</td>\n",
       "      <td>1.0</td>\n",
       "      <td>0.0</td>\n",
       "    </tr>\n",
       "    <tr>\n",
       "      <th>3</th>\n",
       "      <td>-0.203125</td>\n",
       "      <td>-0.333333</td>\n",
       "      <td>-0.407151</td>\n",
       "      <td>-0.456790</td>\n",
       "      <td>0.0</td>\n",
       "      <td>0.0</td>\n",
       "      <td>0.0</td>\n",
       "      <td>0.0</td>\n",
       "      <td>0.0</td>\n",
       "      <td>1.0</td>\n",
       "      <td>0.0</td>\n",
       "      <td>0.0</td>\n",
       "      <td>0.0</td>\n",
       "      <td>0.0</td>\n",
       "      <td>0.0</td>\n",
       "      <td>0.0</td>\n",
       "      <td>0.0</td>\n",
       "      <td>1.0</td>\n",
       "      <td>0.0</td>\n",
       "    </tr>\n",
       "    <tr>\n",
       "      <th>4</th>\n",
       "      <td>-0.015625</td>\n",
       "      <td>-0.166667</td>\n",
       "      <td>-0.407151</td>\n",
       "      <td>-0.456790</td>\n",
       "      <td>0.0</td>\n",
       "      <td>0.0</td>\n",
       "      <td>0.0</td>\n",
       "      <td>0.0</td>\n",
       "      <td>0.0</td>\n",
       "      <td>1.0</td>\n",
       "      <td>0.0</td>\n",
       "      <td>0.0</td>\n",
       "      <td>0.0</td>\n",
       "      <td>0.0</td>\n",
       "      <td>0.0</td>\n",
       "      <td>0.0</td>\n",
       "      <td>0.0</td>\n",
       "      <td>1.0</td>\n",
       "      <td>0.0</td>\n",
       "    </tr>\n",
       "    <tr>\n",
       "      <th>...</th>\n",
       "      <td>...</td>\n",
       "      <td>...</td>\n",
       "      <td>...</td>\n",
       "      <td>...</td>\n",
       "      <td>...</td>\n",
       "      <td>...</td>\n",
       "      <td>...</td>\n",
       "      <td>...</td>\n",
       "      <td>...</td>\n",
       "      <td>...</td>\n",
       "      <td>...</td>\n",
       "      <td>...</td>\n",
       "      <td>...</td>\n",
       "      <td>...</td>\n",
       "      <td>...</td>\n",
       "      <td>...</td>\n",
       "      <td>...</td>\n",
       "      <td>...</td>\n",
       "      <td>...</td>\n",
       "    </tr>\n",
       "    <tr>\n",
       "      <th>324</th>\n",
       "      <td>-0.515625</td>\n",
       "      <td>0.333333</td>\n",
       "      <td>0.974664</td>\n",
       "      <td>1.074074</td>\n",
       "      <td>0.0</td>\n",
       "      <td>0.0</td>\n",
       "      <td>0.0</td>\n",
       "      <td>0.0</td>\n",
       "      <td>1.0</td>\n",
       "      <td>0.0</td>\n",
       "      <td>0.0</td>\n",
       "      <td>0.0</td>\n",
       "      <td>0.0</td>\n",
       "      <td>0.0</td>\n",
       "      <td>0.0</td>\n",
       "      <td>0.0</td>\n",
       "      <td>1.0</td>\n",
       "      <td>0.0</td>\n",
       "      <td>0.0</td>\n",
       "    </tr>\n",
       "    <tr>\n",
       "      <th>325</th>\n",
       "      <td>-0.437500</td>\n",
       "      <td>0.500000</td>\n",
       "      <td>0.974664</td>\n",
       "      <td>1.074074</td>\n",
       "      <td>0.0</td>\n",
       "      <td>0.0</td>\n",
       "      <td>0.0</td>\n",
       "      <td>0.0</td>\n",
       "      <td>1.0</td>\n",
       "      <td>0.0</td>\n",
       "      <td>0.0</td>\n",
       "      <td>0.0</td>\n",
       "      <td>0.0</td>\n",
       "      <td>0.0</td>\n",
       "      <td>0.0</td>\n",
       "      <td>0.0</td>\n",
       "      <td>1.0</td>\n",
       "      <td>0.0</td>\n",
       "      <td>0.0</td>\n",
       "    </tr>\n",
       "    <tr>\n",
       "      <th>326</th>\n",
       "      <td>-0.046875</td>\n",
       "      <td>0.666667</td>\n",
       "      <td>0.974664</td>\n",
       "      <td>1.074074</td>\n",
       "      <td>0.0</td>\n",
       "      <td>0.0</td>\n",
       "      <td>0.0</td>\n",
       "      <td>0.0</td>\n",
       "      <td>1.0</td>\n",
       "      <td>0.0</td>\n",
       "      <td>0.0</td>\n",
       "      <td>0.0</td>\n",
       "      <td>0.0</td>\n",
       "      <td>0.0</td>\n",
       "      <td>0.0</td>\n",
       "      <td>0.0</td>\n",
       "      <td>1.0</td>\n",
       "      <td>0.0</td>\n",
       "      <td>0.0</td>\n",
       "    </tr>\n",
       "    <tr>\n",
       "      <th>327</th>\n",
       "      <td>-0.390625</td>\n",
       "      <td>0.833333</td>\n",
       "      <td>0.974664</td>\n",
       "      <td>1.074074</td>\n",
       "      <td>0.0</td>\n",
       "      <td>0.0</td>\n",
       "      <td>0.0</td>\n",
       "      <td>0.0</td>\n",
       "      <td>1.0</td>\n",
       "      <td>0.0</td>\n",
       "      <td>0.0</td>\n",
       "      <td>0.0</td>\n",
       "      <td>0.0</td>\n",
       "      <td>0.0</td>\n",
       "      <td>0.0</td>\n",
       "      <td>0.0</td>\n",
       "      <td>1.0</td>\n",
       "      <td>0.0</td>\n",
       "      <td>0.0</td>\n",
       "    </tr>\n",
       "    <tr>\n",
       "      <th>328</th>\n",
       "      <td>0.218750</td>\n",
       "      <td>1.000000</td>\n",
       "      <td>0.974664</td>\n",
       "      <td>1.074074</td>\n",
       "      <td>0.0</td>\n",
       "      <td>0.0</td>\n",
       "      <td>0.0</td>\n",
       "      <td>0.0</td>\n",
       "      <td>1.0</td>\n",
       "      <td>0.0</td>\n",
       "      <td>0.0</td>\n",
       "      <td>0.0</td>\n",
       "      <td>0.0</td>\n",
       "      <td>0.0</td>\n",
       "      <td>0.0</td>\n",
       "      <td>0.0</td>\n",
       "      <td>1.0</td>\n",
       "      <td>0.0</td>\n",
       "      <td>0.0</td>\n",
       "    </tr>\n",
       "  </tbody>\n",
       "</table>\n",
       "<p>329 rows × 19 columns</p>\n",
       "</div>"
      ],
      "text/plain": [
       "         Prix     Temps  Distance du trajet  Prix moyen  Bordeaux_d  Lyon_d  \\\n",
       "0    0.171875 -0.833333           -0.407151   -0.456790         0.0     0.0   \n",
       "1   -0.296875 -0.666667           -0.407151   -0.456790         0.0     0.0   \n",
       "2   -0.125000 -0.500000           -0.407151   -0.456790         0.0     0.0   \n",
       "3   -0.203125 -0.333333           -0.407151   -0.456790         0.0     0.0   \n",
       "4   -0.015625 -0.166667           -0.407151   -0.456790         0.0     0.0   \n",
       "..        ...       ...                 ...         ...         ...     ...   \n",
       "324 -0.515625  0.333333            0.974664    1.074074         0.0     0.0   \n",
       "325 -0.437500  0.500000            0.974664    1.074074         0.0     0.0   \n",
       "326 -0.046875  0.666667            0.974664    1.074074         0.0     0.0   \n",
       "327 -0.390625  0.833333            0.974664    1.074074         0.0     0.0   \n",
       "328  0.218750  1.000000            0.974664    1.074074         0.0     0.0   \n",
       "\n",
       "     Marseille_d  Nantes_d  Nice_d  Paris_d  Lille_a  Lyon_a  Marseille_a  \\\n",
       "0            0.0       0.0     0.0      1.0      0.0     0.0          0.0   \n",
       "1            0.0       0.0     0.0      1.0      0.0     0.0          0.0   \n",
       "2            0.0       0.0     0.0      1.0      0.0     0.0          0.0   \n",
       "3            0.0       0.0     0.0      1.0      0.0     0.0          0.0   \n",
       "4            0.0       0.0     0.0      1.0      0.0     0.0          0.0   \n",
       "..           ...       ...     ...      ...      ...     ...          ...   \n",
       "324          0.0       0.0     1.0      0.0      0.0     0.0          0.0   \n",
       "325          0.0       0.0     1.0      0.0      0.0     0.0          0.0   \n",
       "326          0.0       0.0     1.0      0.0      0.0     0.0          0.0   \n",
       "327          0.0       0.0     1.0      0.0      0.0     0.0          0.0   \n",
       "328          0.0       0.0     1.0      0.0      0.0     0.0          0.0   \n",
       "\n",
       "     Montpellier_a  Nantes_a  Nice_a  Paris_a  Rennes_a  Toulouse_a  \n",
       "0              0.0       0.0     0.0      0.0       1.0         0.0  \n",
       "1              0.0       0.0     0.0      0.0       1.0         0.0  \n",
       "2              0.0       0.0     0.0      0.0       1.0         0.0  \n",
       "3              0.0       0.0     0.0      0.0       1.0         0.0  \n",
       "4              0.0       0.0     0.0      0.0       1.0         0.0  \n",
       "..             ...       ...     ...      ...       ...         ...  \n",
       "324            0.0       0.0     0.0      1.0       0.0         0.0  \n",
       "325            0.0       0.0     0.0      1.0       0.0         0.0  \n",
       "326            0.0       0.0     0.0      1.0       0.0         0.0  \n",
       "327            0.0       0.0     0.0      1.0       0.0         0.0  \n",
       "328            0.0       0.0     0.0      1.0       0.0         0.0  \n",
       "\n",
       "[329 rows x 19 columns]"
      ]
     },
     "execution_count": 31,
     "metadata": {},
     "output_type": "execute_result"
    }
   ],
   "source": [
    "dfm\n",
    "#On a désormais un dataset plus grand avec toutes nos valeurs encodées"
   ]
  },
  {
   "cell_type": "code",
   "execution_count": 32,
   "metadata": {},
   "outputs": [],
   "source": [
    "#Séparation jeu d'entrainement, jeu de test\n",
    "\n",
    "from sklearn.model_selection import train_test_split\n",
    "\n",
    "train_df, test_df = train_test_split(dfm, test_size = 0.2, random_state = 0)"
   ]
  },
  {
   "cell_type": "code",
   "execution_count": 33,
   "metadata": {},
   "outputs": [],
   "source": [
    "X_train = train_df.drop('Prix', axis = 1) #ce sur quoi le modèle apprend\n",
    "Y_train = train_df['Prix'] #L'objectif, la variable à prédire\n",
    "\n",
    "X_test = test_df.drop('Prix', axis = 1)\n",
    "Y_test = test_df['Prix']"
   ]
  },
  {
   "cell_type": "markdown",
   "metadata": {},
   "source": [
    "#### Méthode d'évaluation des modèles\n",
    "Dans cette petite partie, on vé définir une fonction d'évaluation de nos modèles. On pourra ensuite discuter des métriques utilisées, et de leur pertinence."
   ]
  },
  {
   "cell_type": "code",
   "execution_count": 39,
   "metadata": {},
   "outputs": [
    {
     "data": {
      "text/plain": [
       "'\\nIci, on trace l\\'erreur sur jeu d\\'entrainement et l\\'erreur sur le jeu de test en fonction de la \\ntaille du jeu d\\'entrainement. Celà permet d\\'observer le comportement du modèle face aux données.\\nOn ne souhaite pas qu\\'il s\\'adapte trop au jeu d\\'entrainement, et qu\\'il \"généralise\" à toutes les données.\\n'"
      ]
     },
     "execution_count": 39,
     "metadata": {},
     "output_type": "execute_result"
    }
   ],
   "source": [
    "import matplotlib.pyplot as plt\n",
    "from sklearn.metrics import explained_variance_score, r2_score\n",
    "from sklearn.model_selection import learning_curve\n",
    "\n",
    "def evaluation(model, scor):\n",
    "    model.fit(X_train, Y_train)\n",
    "    y_pred = model.predict(X_test)\n",
    "    \n",
    "    print('explained variance : ', explained_variance_score(Y_test, y_pred))\n",
    "    print('R2 :',r2_score(Y_test, y_pred))\n",
    "    \n",
    "    N, train_score, val_score = learning_curve(model, X_train, Y_train, cv = 4, scoring = scor, train_sizes = np.linspace(0.1,1,10))\n",
    "    plt.figure(figsize = (12,8))\n",
    "    plt.plot(N, train_score.mean(axis = 1), label = 'train score')\n",
    "    plt.plot(N, val_score.mean(axis = 1), label = 'validation score')\n",
    "    plt.legend()\n",
    "    plt.show()\n",
    "    \n",
    "'''\n",
    "Ici, on trace l'erreur sur jeu d'entrainement et l'erreur sur le jeu de test en fonction de la \n",
    "taille du jeu d'entrainement. Celà permet d'observer le comportement du modèle face aux données.\n",
    "On ne souhaite pas qu'il s'adapte trop au jeu d'entrainement, et qu'il \"généralise\" à toutes les données.\n",
    "'''"
   ]
  },
  {
   "cell_type": "markdown",
   "metadata": {},
   "source": [
    "#### Premier modèle, approche naïve : Comparaison de deux méthodes de régression\n",
    "On va dans un premier temps s'intéresser à l'implémentation d'un modèle de Regression linéaire, contre une SVR, de manière assez naïve. On s'intéresse en effet ici à la prévision d'un prix, c'est donc à une régression, approche simple, que l'on pense en premier lieu."
   ]
  },
  {
   "cell_type": "code",
   "execution_count": 40,
   "metadata": {},
   "outputs": [],
   "source": [
    "from sklearn.linear_model import LinearRegression\n",
    "from sklearn.svm import SVR"
   ]
  },
  {
   "cell_type": "code",
   "execution_count": 41,
   "metadata": {},
   "outputs": [],
   "source": [
    "#On instance les modèles\n",
    "svr = SVR()\n",
    "reglin = LinearRegression()"
   ]
  },
  {
   "cell_type": "code",
   "execution_count": 42,
   "metadata": {},
   "outputs": [],
   "source": [
    "# On place les modèles dans un dictionnaire pour pouvoir les comparer plus facilement.\n",
    "\n",
    "dict_regression = {'Regression linéaire:' : reglin,\n",
    "                   'SVM:' : svr}"
   ]
  },
  {
   "cell_type": "code",
   "execution_count": 43,
   "metadata": {},
   "outputs": [
    {
     "name": "stdout",
     "output_type": "stream",
     "text": [
      "Regression linéaire:\n",
      "explained variance :  0.10486571449145243\n",
      "R2 : 0.0848928068847492\n"
     ]
    },
    {
     "data": {
      "image/png": "[encoded data removed]",
      "text/plain": [
       "<Figure size 864x576 with 1 Axes>"
      ]
     },
     "metadata": {
      "needs_background": "light"
     },
     "output_type": "display_data"
    },
    {
     "name": "stdout",
     "output_type": "stream",
     "text": [
      "SVM:\n",
      "explained variance :  0.3947375116256817\n",
      "R2 : 0.36777781863996273\n"
     ]
    },
    {
     "data": {
      "image/png": "[encoded data removed]",
      "text/plain": [
       "<Figure size 864x576 with 1 Axes>"
      ]
     },
     "metadata": {
      "needs_background": "light"
     },
     "output_type": "display_data"
    }
   ],
   "source": [
    "for name, model in dict_regression.items():\n",
    "    print(name)\n",
    "    evaluation(model, 'neg_mean_absolute_error')\n",
    "    "
   ]
  },
  {
   "cell_type": "markdown",
   "metadata": {},
   "source": [
    "**Comparaison des deux modèles :** On constate que les valeurs du $R^2$ et de la part de la variance expliquée sont très faibles dans le modèle reglin, en comparaison avec le modèle svr. Ceci étant dit, les courbes des jeux d'entrainement et des jeux de test dans les deux cas convergent vers la même valeur à peu de choses près. Le score étant le même pour le train set et le validation set, on constate que les modèles ne sont pas en overfitting (on apprend pas 'trop bien' sur le jeu d'entrainement. On peut le voir car plus on augmente la taille du jeu d'entrainement, plus l'erreur augmente dans les négatifs)."
   ]
  },
  {
   "cell_type": "markdown",
   "metadata": {},
   "source": [
    "**Choix de la méthode de scoring** : On choisit ici une negative mean absolute error, donnée par $MAE = \\dfrac{1}{n}\\sum_{i=1}^n{\\left|y_{\\textit{pred}} - y_{\\textit{test}}\\right|}$. Sklearn cherche à toujours à maximiser, c'est pourquoi la métrique de scoring est négative ici, et **on cherche à se rapprocher de 0 par les négatifs pour minimiser l'erreur**. C'est une métrique pour laquelle l'importance d'une erreur est linéaire avec son amplitude. Dans notre cas, ce choix est judicieux : les prix des billets d'avions très chers correspondent très probablement à des trajets qui n'existent pas en direct en avion , car trop proches, et en conséquence, correspondent à des prix qvec correspondance. Le site sur lequel les données ont été scrappées propose des trajets et non des billets unique. Il est donc cohérent d'attribuer les erreurs aux valeurs aberrantes. Celà permet de ne pas inclure dans les valeurs aberrantes la partie chère des billets qui sont eux des trajets directs. Pour s'en convaincre, on va utiliser d'autres métriques."
   ]
  },
  {
   "cell_type": "markdown",
   "metadata": {},
   "source": [
    "***mean_squared_error :*** $MSE = \\dfrac{1}{n}\\sum_{i=1}^n{\\left(y_{\\textit{pred}} - y_{\\textit{test}}\\right)^2}$"
   ]
  },
  {
   "cell_type": "code",
   "execution_count": 44,
   "metadata": {},
   "outputs": [
    {
     "name": "stdout",
     "output_type": "stream",
     "text": [
      "Regression linéaire:\n",
      "explained variance :  0.10486571449145243\n",
      "R2 : 0.0848928068847492\n"
     ]
    },
    {
     "data": {
      "image/png": "[encoded data removed]",
      "text/plain": [
       "<Figure size 864x576 with 1 Axes>"
      ]
     },
     "metadata": {
      "needs_background": "light"
     },
     "output_type": "display_data"
    },
    {
     "name": "stdout",
     "output_type": "stream",
     "text": [
      "SVM:\n",
      "explained variance :  0.3947375116256817\n",
      "R2 : 0.36777781863996273\n"
     ]
    },
    {
     "data": {
      "image/png": "[encoded data removed]",
      "text/plain": [
       "<Figure size 864x576 with 1 Axes>"
      ]
     },
     "metadata": {
      "needs_background": "light"
     },
     "output_type": "display_data"
    }
   ],
   "source": [
    "for name, model in dict_regression.items():\n",
    "    print(name)\n",
    "    evaluation(model, 'neg_mean_squared_error')"
   ]
  },
  {
   "cell_type": "markdown",
   "metadata": {},
   "source": [
    "$\\to$ Toujours pas d'overfitting majeur constaté. Cependant, le scoring est bien moins élevé que pour la MAE."
   ]
  },
  {
   "cell_type": "markdown",
   "metadata": {},
   "source": [
    "***Median absolute error :*** $\\textit{mediane}\\left(\\left|y_{\\textit{pred}} - y_{\\textit{test}}\\right|\\right)$"
   ]
  },
  {
   "cell_type": "code",
   "execution_count": 45,
   "metadata": {},
   "outputs": [
    {
     "name": "stdout",
     "output_type": "stream",
     "text": [
      "Regression linéaire:\n",
      "explained variance :  0.10486571449145243\n",
      "R2 : 0.0848928068847492\n"
     ]
    },
    {
     "data": {
      "image/png": "[encoded data removed]",
      "text/plain": [
       "<Figure size 864x576 with 1 Axes>"
      ]
     },
     "metadata": {
      "needs_background": "light"
     },
     "output_type": "display_data"
    },
    {
     "name": "stdout",
     "output_type": "stream",
     "text": [
      "SVM:\n",
      "explained variance :  0.3947375116256817\n",
      "R2 : 0.36777781863996273\n"
     ]
    },
    {
     "data": {
      "image/png": "[encoded data removed]",
      "text/plain": [
       "<Figure size 864x576 with 1 Axes>"
      ]
     },
     "metadata": {
      "needs_background": "light"
     },
     "output_type": "display_data"
    }
   ],
   "source": [
    "for name, model in dict_regression.items():\n",
    "    print(name)\n",
    "    evaluation(model, 'neg_median_absolute_error')"
   ]
  },
  {
   "cell_type": "markdown",
   "metadata": {},
   "source": [
    "$\\to$ La median absolute error est elle aussi l'une des plus efficace. Comme la MAE, elle est très peu sensible aux grandes erreurs, puisque la médiane est très peu sensible aux grandes erreur."
   ]
  },
  {
   "cell_type": "markdown",
   "metadata": {},
   "source": [
    "On va maintenant tenter d'optimiser le modèle SVR, qui eest le plus fructueux au sens du $R^2$, c'est à dire celui qui explique un plus grande partie du dataset. On va conserver les métrique MAE et median_absolute_error."
   ]
  },
  {
   "cell_type": "markdown",
   "metadata": {},
   "source": [
    "Dans la suite, on va s'interesser aux hyperparamètres du modèle."
   ]
  },
  {
   "cell_type": "code",
   "execution_count": 46,
   "metadata": {},
   "outputs": [
    {
     "data": {
      "text/plain": [
       "{'C': 1.0,\n",
       " 'cache_size': 200,\n",
       " 'coef0': 0.0,\n",
       " 'degree': 3,\n",
       " 'epsilon': 0.1,\n",
       " 'gamma': 'scale',\n",
       " 'kernel': 'rbf',\n",
       " 'max_iter': -1,\n",
       " 'shrinking': True,\n",
       " 'tol': 0.001,\n",
       " 'verbose': False}"
      ]
     },
     "execution_count": 46,
     "metadata": {},
     "output_type": "execute_result"
    }
   ],
   "source": [
    "#On affiche la liste des hyperparamètres disponibles dans le modèle.\n",
    "svr.get_params()"
   ]
  },
  {
   "cell_type": "markdown",
   "metadata": {},
   "source": [
    "**MAE**"
   ]
  },
  {
   "cell_type": "code",
   "execution_count": 47,
   "metadata": {},
   "outputs": [
    {
     "data": {
      "text/plain": [
       "{'C': 2.0, 'gamma': 'auto', 'kernel': 'rbf'}"
      ]
     },
     "execution_count": 47,
     "metadata": {},
     "output_type": "execute_result"
    }
   ],
   "source": [
    "from sklearn.model_selection import GridSearchCV\n",
    "\n",
    "params = {'kernel': ['rbf', 'poly', 'sigmoid', 'linear'],\n",
    "          'gamma':['scale', 'auto'],\n",
    "          'C': np.linspace(0.1,2,20)}\n",
    "grid = GridSearchCV(svr, params, cv = 4, scoring = 'neg_mean_absolute_error')\n",
    "grid.fit(X_train, Y_train)\n",
    "grid.best_params_"
   ]
  },
  {
   "cell_type": "code",
   "execution_count": 48,
   "metadata": {},
   "outputs": [
    {
     "data": {
      "text/plain": [
       "-0.6829046872699307"
      ]
     },
     "execution_count": 48,
     "metadata": {},
     "output_type": "execute_result"
    }
   ],
   "source": [
    "grid.best_score_"
   ]
  },
  {
   "cell_type": "markdown",
   "metadata": {},
   "source": [
    "**Median absolute error**"
   ]
  },
  {
   "cell_type": "code",
   "execution_count": 49,
   "metadata": {},
   "outputs": [
    {
     "data": {
      "text/plain": [
       "{'C': 1.9, 'gamma': 'auto', 'kernel': 'rbf'}"
      ]
     },
     "execution_count": 49,
     "metadata": {},
     "output_type": "execute_result"
    }
   ],
   "source": [
    "grid = GridSearchCV(svr, params, cv = 4, scoring = 'neg_median_absolute_error')\n",
    "grid.fit(X_train, Y_train)\n",
    "grid.best_params_"
   ]
  },
  {
   "cell_type": "code",
   "execution_count": 50,
   "metadata": {},
   "outputs": [
    {
     "data": {
      "text/plain": [
       "-0.29396679250001184"
      ]
     },
     "execution_count": 50,
     "metadata": {},
     "output_type": "execute_result"
    }
   ],
   "source": [
    "grid.best_score_"
   ]
  },
  {
   "cell_type": "markdown",
   "metadata": {},
   "source": [
    "$\\to$ Si la recherche de paramètre a été presque la même dans les deux cas, on constate tout de même que l'erreur médiane est plus proche de 0, donc a de meilleures performances."
   ]
  },
  {
   "cell_type": "markdown",
   "metadata": {},
   "source": [
    "**Conclusion sur cette première approche de régression :** On a une erreur qui est minimisée à 0,3. Ce n'est pas une valeur très proche de 0. Cependant, compte tenu du peu de données qu'on avait à disposition, on peut considérer que cette performance est satisfaisante. Prédire une variable aussi précise qu'un prix induit forcément de plus grandes erreurs si la base de données est petite.\n",
    "\n",
    "\n",
    "Voyons maintenant le modèle de svr avec la base de donnée incluant les mois des départs et non le temps jusqu'au départ"
   ]
  },
  {
   "cell_type": "markdown",
   "metadata": {},
   "source": [
    "### Deuxième dataset : \n",
    "(Contient la variable $\\textit{Mois}$)"
   ]
  },
  {
   "cell_type": "code",
   "execution_count": 51,
   "metadata": {},
   "outputs": [],
   "source": [
    "dfm_bis = df_bis.copy()\n",
    "dfm_bis.Prix = dfm_bis.Prix.astype('float')\n",
    "#Même traitement que la première fois"
   ]
  },
  {
   "cell_type": "code",
   "execution_count": 52,
   "metadata": {
    "scrolled": false
   },
   "outputs": [
    {
     "data": {
      "text/html": [
       "<div>\n",
       "<style scoped>\n",
       "    .dataframe tbody tr th:only-of-type {\n",
       "        vertical-align: middle;\n",
       "    }\n",
       "\n",
       "    .dataframe tbody tr th {\n",
       "        vertical-align: top;\n",
       "    }\n",
       "\n",
       "    .dataframe thead th {\n",
       "        text-align: right;\n",
       "    }\n",
       "</style>\n",
       "<table border=\"1\" class=\"dataframe\">\n",
       "  <thead>\n",
       "    <tr style=\"text-align: right;\">\n",
       "      <th></th>\n",
       "      <th>Prix</th>\n",
       "      <th>Mois</th>\n",
       "      <th>Gare de départ</th>\n",
       "      <th>Gare d arrivée</th>\n",
       "      <th>Distance du trajet</th>\n",
       "      <th>Prix moyen</th>\n",
       "    </tr>\n",
       "  </thead>\n",
       "  <tbody>\n",
       "    <tr>\n",
       "      <th>0</th>\n",
       "      <td>129.0</td>\n",
       "      <td>jan</td>\n",
       "      <td>Paris</td>\n",
       "      <td>Rennes</td>\n",
       "      <td>329.462708</td>\n",
       "      <td>193.0</td>\n",
       "    </tr>\n",
       "    <tr>\n",
       "      <th>1</th>\n",
       "      <td>141.0</td>\n",
       "      <td>fév</td>\n",
       "      <td>Paris</td>\n",
       "      <td>Rennes</td>\n",
       "      <td>329.462708</td>\n",
       "      <td>193.0</td>\n",
       "    </tr>\n",
       "    <tr>\n",
       "      <th>2</th>\n",
       "      <td>294.0</td>\n",
       "      <td>mar</td>\n",
       "      <td>Paris</td>\n",
       "      <td>Rennes</td>\n",
       "      <td>329.462708</td>\n",
       "      <td>193.0</td>\n",
       "    </tr>\n",
       "    <tr>\n",
       "      <th>3</th>\n",
       "      <td>134.0</td>\n",
       "      <td>avr</td>\n",
       "      <td>Paris</td>\n",
       "      <td>Rennes</td>\n",
       "      <td>329.462708</td>\n",
       "      <td>193.0</td>\n",
       "    </tr>\n",
       "    <tr>\n",
       "      <th>4</th>\n",
       "      <td>125.0</td>\n",
       "      <td>mai</td>\n",
       "      <td>Paris</td>\n",
       "      <td>Rennes</td>\n",
       "      <td>329.462708</td>\n",
       "      <td>193.0</td>\n",
       "    </tr>\n",
       "    <tr>\n",
       "      <th>...</th>\n",
       "      <td>...</td>\n",
       "      <td>...</td>\n",
       "      <td>...</td>\n",
       "      <td>...</td>\n",
       "      <td>...</td>\n",
       "      <td>...</td>\n",
       "    </tr>\n",
       "    <tr>\n",
       "      <th>350</th>\n",
       "      <td>150.0</td>\n",
       "      <td>août</td>\n",
       "      <td>Nice</td>\n",
       "      <td>Paris</td>\n",
       "      <td>689.267534</td>\n",
       "      <td>317.0</td>\n",
       "    </tr>\n",
       "    <tr>\n",
       "      <th>351</th>\n",
       "      <td>124.0</td>\n",
       "      <td>sep</td>\n",
       "      <td>Nice</td>\n",
       "      <td>Paris</td>\n",
       "      <td>689.267534</td>\n",
       "      <td>317.0</td>\n",
       "    </tr>\n",
       "    <tr>\n",
       "      <th>352</th>\n",
       "      <td>124.0</td>\n",
       "      <td>oct</td>\n",
       "      <td>Nice</td>\n",
       "      <td>Paris</td>\n",
       "      <td>689.267534</td>\n",
       "      <td>317.0</td>\n",
       "    </tr>\n",
       "    <tr>\n",
       "      <th>353</th>\n",
       "      <td>119.0</td>\n",
       "      <td>nov</td>\n",
       "      <td>Nice</td>\n",
       "      <td>Paris</td>\n",
       "      <td>689.267534</td>\n",
       "      <td>317.0</td>\n",
       "    </tr>\n",
       "    <tr>\n",
       "      <th>354</th>\n",
       "      <td>133.0</td>\n",
       "      <td>déc</td>\n",
       "      <td>Nice</td>\n",
       "      <td>Paris</td>\n",
       "      <td>689.267534</td>\n",
       "      <td>317.0</td>\n",
       "    </tr>\n",
       "  </tbody>\n",
       "</table>\n",
       "<p>355 rows × 6 columns</p>\n",
       "</div>"
      ],
      "text/plain": [
       "      Prix  Mois Gare de départ Gare d arrivée  Distance du trajet  Prix moyen\n",
       "0    129.0   jan          Paris         Rennes          329.462708       193.0\n",
       "1    141.0   fév          Paris         Rennes          329.462708       193.0\n",
       "2    294.0   mar          Paris         Rennes          329.462708       193.0\n",
       "3    134.0   avr          Paris         Rennes          329.462708       193.0\n",
       "4    125.0   mai          Paris         Rennes          329.462708       193.0\n",
       "..     ...   ...            ...            ...                 ...         ...\n",
       "350  150.0  août           Nice          Paris          689.267534       317.0\n",
       "351  124.0   sep           Nice          Paris          689.267534       317.0\n",
       "352  124.0   oct           Nice          Paris          689.267534       317.0\n",
       "353  119.0   nov           Nice          Paris          689.267534       317.0\n",
       "354  133.0   déc           Nice          Paris          689.267534       317.0\n",
       "\n",
       "[355 rows x 6 columns]"
      ]
     },
     "execution_count": 52,
     "metadata": {},
     "output_type": "execute_result"
    }
   ],
   "source": [
    "dfm_bis"
   ]
  },
  {
   "cell_type": "markdown",
   "metadata": {},
   "source": [
    "Premier constat : une base un peu plus grande."
   ]
  },
  {
   "cell_type": "code",
   "execution_count": 53,
   "metadata": {},
   "outputs": [],
   "source": [
    "from sklearn.preprocessing import RobustScaler, OneHotEncoder\n",
    "\n",
    "ohe = OneHotEncoder(sparse = False)\n",
    "rob = RobustScaler()"
   ]
  },
  {
   "cell_type": "code",
   "execution_count": 54,
   "metadata": {},
   "outputs": [],
   "source": [
    "# Normalisation des variables flottantes\n",
    "for flo in dfm_bis.select_dtypes('float'):\n",
    "    dfm_bis[flo] = rob.fit_transform(np.array(dfm_bis[flo]).reshape(-1,1))"
   ]
  },
  {
   "cell_type": "code",
   "execution_count": 55,
   "metadata": {},
   "outputs": [
    {
     "data": {
      "text/html": [
       "<div>\n",
       "<style scoped>\n",
       "    .dataframe tbody tr th:only-of-type {\n",
       "        vertical-align: middle;\n",
       "    }\n",
       "\n",
       "    .dataframe tbody tr th {\n",
       "        vertical-align: top;\n",
       "    }\n",
       "\n",
       "    .dataframe thead th {\n",
       "        text-align: right;\n",
       "    }\n",
       "</style>\n",
       "<table border=\"1\" class=\"dataframe\">\n",
       "  <thead>\n",
       "    <tr style=\"text-align: right;\">\n",
       "      <th></th>\n",
       "      <th>Prix</th>\n",
       "      <th>Mois</th>\n",
       "      <th>Gare de départ</th>\n",
       "      <th>Gare d arrivée</th>\n",
       "      <th>Distance du trajet</th>\n",
       "      <th>Prix moyen</th>\n",
       "    </tr>\n",
       "  </thead>\n",
       "  <tbody>\n",
       "    <tr>\n",
       "      <th>0</th>\n",
       "      <td>-0.411215</td>\n",
       "      <td>jan</td>\n",
       "      <td>Paris</td>\n",
       "      <td>Rennes</td>\n",
       "      <td>-0.401107</td>\n",
       "      <td>-0.385417</td>\n",
       "    </tr>\n",
       "    <tr>\n",
       "      <th>1</th>\n",
       "      <td>-0.186916</td>\n",
       "      <td>fév</td>\n",
       "      <td>Paris</td>\n",
       "      <td>Rennes</td>\n",
       "      <td>-0.401107</td>\n",
       "      <td>-0.385417</td>\n",
       "    </tr>\n",
       "    <tr>\n",
       "      <th>2</th>\n",
       "      <td>2.672897</td>\n",
       "      <td>mar</td>\n",
       "      <td>Paris</td>\n",
       "      <td>Rennes</td>\n",
       "      <td>-0.401107</td>\n",
       "      <td>-0.385417</td>\n",
       "    </tr>\n",
       "    <tr>\n",
       "      <th>3</th>\n",
       "      <td>-0.317757</td>\n",
       "      <td>avr</td>\n",
       "      <td>Paris</td>\n",
       "      <td>Rennes</td>\n",
       "      <td>-0.401107</td>\n",
       "      <td>-0.385417</td>\n",
       "    </tr>\n",
       "    <tr>\n",
       "      <th>4</th>\n",
       "      <td>-0.485981</td>\n",
       "      <td>mai</td>\n",
       "      <td>Paris</td>\n",
       "      <td>Rennes</td>\n",
       "      <td>-0.401107</td>\n",
       "      <td>-0.385417</td>\n",
       "    </tr>\n",
       "    <tr>\n",
       "      <th>...</th>\n",
       "      <td>...</td>\n",
       "      <td>...</td>\n",
       "      <td>...</td>\n",
       "      <td>...</td>\n",
       "      <td>...</td>\n",
       "      <td>...</td>\n",
       "    </tr>\n",
       "    <tr>\n",
       "      <th>350</th>\n",
       "      <td>-0.018692</td>\n",
       "      <td>août</td>\n",
       "      <td>Nice</td>\n",
       "      <td>Paris</td>\n",
       "      <td>0.960195</td>\n",
       "      <td>0.906250</td>\n",
       "    </tr>\n",
       "    <tr>\n",
       "      <th>351</th>\n",
       "      <td>-0.504673</td>\n",
       "      <td>sep</td>\n",
       "      <td>Nice</td>\n",
       "      <td>Paris</td>\n",
       "      <td>0.960195</td>\n",
       "      <td>0.906250</td>\n",
       "    </tr>\n",
       "    <tr>\n",
       "      <th>352</th>\n",
       "      <td>-0.504673</td>\n",
       "      <td>oct</td>\n",
       "      <td>Nice</td>\n",
       "      <td>Paris</td>\n",
       "      <td>0.960195</td>\n",
       "      <td>0.906250</td>\n",
       "    </tr>\n",
       "    <tr>\n",
       "      <th>353</th>\n",
       "      <td>-0.598131</td>\n",
       "      <td>nov</td>\n",
       "      <td>Nice</td>\n",
       "      <td>Paris</td>\n",
       "      <td>0.960195</td>\n",
       "      <td>0.906250</td>\n",
       "    </tr>\n",
       "    <tr>\n",
       "      <th>354</th>\n",
       "      <td>-0.336449</td>\n",
       "      <td>déc</td>\n",
       "      <td>Nice</td>\n",
       "      <td>Paris</td>\n",
       "      <td>0.960195</td>\n",
       "      <td>0.906250</td>\n",
       "    </tr>\n",
       "  </tbody>\n",
       "</table>\n",
       "<p>355 rows × 6 columns</p>\n",
       "</div>"
      ],
      "text/plain": [
       "         Prix  Mois Gare de départ Gare d arrivée  Distance du trajet  \\\n",
       "0   -0.411215   jan          Paris         Rennes           -0.401107   \n",
       "1   -0.186916   fév          Paris         Rennes           -0.401107   \n",
       "2    2.672897   mar          Paris         Rennes           -0.401107   \n",
       "3   -0.317757   avr          Paris         Rennes           -0.401107   \n",
       "4   -0.485981   mai          Paris         Rennes           -0.401107   \n",
       "..        ...   ...            ...            ...                 ...   \n",
       "350 -0.018692  août           Nice          Paris            0.960195   \n",
       "351 -0.504673   sep           Nice          Paris            0.960195   \n",
       "352 -0.504673   oct           Nice          Paris            0.960195   \n",
       "353 -0.598131   nov           Nice          Paris            0.960195   \n",
       "354 -0.336449   déc           Nice          Paris            0.960195   \n",
       "\n",
       "     Prix moyen  \n",
       "0     -0.385417  \n",
       "1     -0.385417  \n",
       "2     -0.385417  \n",
       "3     -0.385417  \n",
       "4     -0.385417  \n",
       "..          ...  \n",
       "350    0.906250  \n",
       "351    0.906250  \n",
       "352    0.906250  \n",
       "353    0.906250  \n",
       "354    0.906250  \n",
       "\n",
       "[355 rows x 6 columns]"
      ]
     },
     "execution_count": 55,
     "metadata": {},
     "output_type": "execute_result"
    }
   ],
   "source": [
    "dfm_bis"
   ]
  },
  {
   "cell_type": "code",
   "execution_count": 56,
   "metadata": {},
   "outputs": [],
   "source": [
    "#Encodage des valeurs catégorielles\n",
    "\n",
    "\n",
    "arr = ohe.fit_transform(np.array(dfm_bis['Gare de départ']).reshape(-1,1))\n",
    "names = ohe.categories_\n",
    "names = [x + '_d'for x in names[0]] #on identifie les variables des villes avec un _départ pour les départs\n",
    "arr2 = pd.DataFrame(arr, columns = names)\n",
    "temp = dfm_bis.drop('Gare de départ', axis = 1)\n",
    "dfm_bis = pd.concat([temp, arr2], axis = 1)\n",
    "\n",
    "\n",
    "arr = ohe.fit_transform(np.array(dfm_bis['Gare d arrivée']).reshape(-1,1))\n",
    "names = ohe.categories_\n",
    "names = [x + '_a'for x in names[0]]  #on identifie les variables des villes avec un _arrivée pour les départs\n",
    "arr2 = pd.DataFrame(arr, columns = names)\n",
    "temp = dfm_bis.drop('Gare d arrivée', axis = 1)\n",
    "dfm_bis = pd.concat([temp, arr2], axis = 1)\n",
    "\n",
    "arr = ohe.fit_transform(np.array(dfm_bis['Mois']).reshape(-1,1))\n",
    "names = ohe.categories_\n",
    "names = [x for x in names[0]]\n",
    "arr2 = pd.DataFrame(arr, columns = names)\n",
    "temp = dfm_bis.drop('Mois', axis = 1)\n",
    "dfm_bis = pd.concat([temp, arr2], axis = 1)\n"
   ]
  },
  {
   "cell_type": "code",
   "execution_count": 57,
   "metadata": {},
   "outputs": [
    {
     "data": {
      "text/plain": [
       "Index(['Prix', 'Distance du trajet', 'Prix moyen', 'Bordeaux_d', 'Lyon_d',\n",
       "       'Marseille_d', 'Nantes_d', 'Nice_d', 'Paris_d', 'Lille_a', 'Lyon_a',\n",
       "       'Marseille_a', 'Montpellier_a', 'Nantes_a', 'Nice_a', 'Paris_a',\n",
       "       'Rennes_a', 'Toulouse_a', 'août', 'avr', 'déc', 'fév', 'jan', 'juil',\n",
       "       'juin', 'mai', 'mar', 'nov', 'oct', 'sep'],\n",
       "      dtype='object')"
      ]
     },
     "execution_count": 57,
     "metadata": {},
     "output_type": "execute_result"
    }
   ],
   "source": [
    "dfm_bis.columns"
   ]
  },
  {
   "cell_type": "code",
   "execution_count": 58,
   "metadata": {},
   "outputs": [
    {
     "data": {
      "text/plain": [
       "(array(['Rennes', 'Montpellier', 'Toulouse', 'Lille', 'Nantes',\n",
       "        'Marseille', 'Nice', 'Lyon', 'Paris'], dtype=object),\n",
       " array(['Paris', 'Nantes', 'Marseille', 'Lyon', 'Bordeaux', 'Nice'],\n",
       "       dtype=object),\n",
       " array(['jan', 'fév', 'mar', 'avr', 'mai', 'juin', 'juil', 'août', 'sep',\n",
       "        'oct', 'nov', 'déc'], dtype=object))"
      ]
     },
     "execution_count": 58,
     "metadata": {},
     "output_type": "execute_result"
    }
   ],
   "source": [
    "#On peut vérifier que l'encodage catégoriel a bien été fait\n",
    "df_bis['Gare d arrivée'].unique(), df_bis['Gare de départ'].unique(), df_bis.Mois.unique()"
   ]
  },
  {
   "cell_type": "code",
   "execution_count": 59,
   "metadata": {},
   "outputs": [],
   "source": [
    "#Séparation jeu d'entrainement, jeu de test\n",
    "\n",
    "from sklearn.model_selection import train_test_split\n",
    "\n",
    "train_df2, test_df2= train_test_split(dfm_bis, test_size = 0.2, random_state = 0)"
   ]
  },
  {
   "cell_type": "code",
   "execution_count": 60,
   "metadata": {},
   "outputs": [],
   "source": [
    "X_train_bis = train_df2.drop('Prix', axis = 1) #ce sur quoi le modèle apprend\n",
    "Y_train_bis = train_df2['Prix'] #L'objectif, la variable à prédire\n",
    "\n",
    "X_test_bis = test_df2.drop('Prix', axis = 1)\n",
    "Y_test_bis = test_df2['Prix']"
   ]
  },
  {
   "cell_type": "code",
   "execution_count": 61,
   "metadata": {},
   "outputs": [],
   "source": [
    "from sklearn.metrics import explained_variance_score, r2_score\n",
    "from sklearn.model_selection import learning_curve\n",
    "\n",
    "def evaluation_bis(model, scor):\n",
    "    model.fit(X_train_bis, Y_train_bis)\n",
    "    y_pred_bis = model.predict(X_test_bis)\n",
    "    \n",
    "    print('explained variance : ', explained_variance_score(Y_test_bis, y_pred_bis))\n",
    "    print('R2 :',r2_score(Y_test_bis, y_pred_bis))\n",
    "    \n",
    "    N, train_score, val_score = learning_curve(model, X_train_bis, Y_train_bis, cv = 4, scoring = scor, train_sizes = np.linspace(0.1,1,10))\n",
    "    plt.figure(figsize = (12,8))\n",
    "    plt.plot(N, train_score.mean(axis = 1), label = 'train score')\n",
    "    plt.plot(N, val_score.mean(axis = 1), label = 'validation score')\n",
    "    plt.legend()\n",
    "    plt.show()"
   ]
  },
  {
   "cell_type": "code",
   "execution_count": 62,
   "metadata": {},
   "outputs": [],
   "source": [
    "from sklearn.neighbors import KNeighborsRegressor\n",
    "\n",
    "knn = KNeighborsRegressor()\n",
    "svr = SVR()"
   ]
  },
  {
   "cell_type": "code",
   "execution_count": 63,
   "metadata": {
    "scrolled": false
   },
   "outputs": [
    {
     "name": "stdout",
     "output_type": "stream",
     "text": [
      "explained variance :  0.5410287249463133\n",
      "R2 : 0.5213489816234176\n"
     ]
    },
    {
     "data": {
      "image/png": "[encoded data removed]",
      "text/plain": [
       "<Figure size 864x576 with 1 Axes>"
      ]
     },
     "metadata": {
      "needs_background": "light"
     },
     "output_type": "display_data"
    }
   ],
   "source": [
    "evaluation_bis(svr, 'neg_median_absolute_error')"
   ]
  },
  {
   "cell_type": "markdown",
   "metadata": {},
   "source": [
    "$\\to$ Comme on a une courbe d'entrainement presque constante, il est raisonnable de penser que le modèle est en overfitting, c'est-à-dire qu'il prévoit trop bien les données sur le jeu d'entrainement."
   ]
  },
  {
   "cell_type": "code",
   "execution_count": 64,
   "metadata": {},
   "outputs": [
    {
     "name": "stdout",
     "output_type": "stream",
     "text": [
      "explained variance :  0.35666211541676773\n",
      "R2 : 0.3360831503940125\n"
     ]
    },
    {
     "data": {
      "image/png": "[encoded data removed]",
      "text/plain": [
       "<Figure size 864x576 with 1 Axes>"
      ]
     },
     "metadata": {
      "needs_background": "light"
     },
     "output_type": "display_data"
    }
   ],
   "source": [
    "evaluation_bis(knn, 'neg_median_absolute_error')"
   ]
  },
  {
   "cell_type": "markdown",
   "metadata": {},
   "source": [
    "**Justification du choix du modèle :** On peut imaginer qu'en prenant en compte les mois dans les données, on se rapproche de la notion de voisins : on aura des prix potentiellement similaires sur les même mois. Là encore, on ne constate pas d'overfitting. Le score est similaire à ce que l'on avait pu observer sur les autres modèles. On peut encore fairre tourner un GridSearchCV pour avoir un aperçu du meilleur jeu de paramètres pour ce modèle."
   ]
  },
  {
   "cell_type": "code",
   "execution_count": 65,
   "metadata": {},
   "outputs": [
    {
     "data": {
      "text/plain": [
       "{'algorithm': 'brute',\n",
       " 'leaf_size': 20,\n",
       " 'metric': 'manhattan',\n",
       " 'n_neighbors': 10,\n",
       " 'weights': 'uniform'}"
      ]
     },
     "execution_count": 65,
     "metadata": {},
     "output_type": "execute_result"
    }
   ],
   "source": [
    "pars = {'n_neighbors' : np.arange(1,11),\n",
    "        'weights' : ['uniform', 'distance'],\n",
    "        'algorithm': ['ball_tree', 'kd_tree', 'brute'],\n",
    "        'leaf_size': np.arange(20,41),\n",
    "        'metric': ['euclidean', 'manhattan']}\n",
    "\n",
    "\n",
    "grid = GridSearchCV(knn, pars, cv = 4, scoring = 'neg_median_absolute_error')\n",
    "grid.fit(X_train_bis, Y_train_bis)\n",
    "grid.best_params_"
   ]
  },
  {
   "cell_type": "code",
   "execution_count": 66,
   "metadata": {},
   "outputs": [
    {
     "data": {
      "text/plain": [
       "-0.32803738317757003"
      ]
     },
     "execution_count": 66,
     "metadata": {},
     "output_type": "execute_result"
    }
   ],
   "source": [
    "grid.best_score_"
   ]
  },
  {
   "cell_type": "markdown",
   "metadata": {},
   "source": [
    "$\\to$ On voit que l'erreur peine à descendre en dessous de 30%, ce qui peut signifier que la taille du dataset est un vrai frein à l'amélioration du score. "
   ]
  },
  {
   "cell_type": "markdown",
   "metadata": {},
   "source": [
    "# Dernier essai : fusion des deux datasets\n",
    "Cette partie a un but plus expérimental : voir si l'on peut obtenir de bons résultats en sacrifiant le nombre de lignes du dataset au profit d'une description plus préciser (combiner TEMPS et MOIS sur les trajets)"
   ]
  },
  {
   "cell_type": "code",
   "execution_count": 67,
   "metadata": {},
   "outputs": [],
   "source": [
    "bdd_fin = pd.merge(bdd_corr_1, bdd_corr_21, left_on =[bdd_corr_1['Gare de départ'],bdd_corr_1['Gare d arrivée'], bdd_corr_1['Prix']],\n",
    "                   right_on = [bdd_corr_21['Gare de départ'],bdd_corr_21['Gare d arrivée'], bdd_corr_21['Prix']], how ='inner')"
   ]
  },
  {
   "cell_type": "code",
   "execution_count": 68,
   "metadata": {},
   "outputs": [
    {
     "data": {
      "text/html": [
       "<div>\n",
       "<style scoped>\n",
       "    .dataframe tbody tr th:only-of-type {\n",
       "        vertical-align: middle;\n",
       "    }\n",
       "\n",
       "    .dataframe tbody tr th {\n",
       "        vertical-align: top;\n",
       "    }\n",
       "\n",
       "    .dataframe thead th {\n",
       "        text-align: right;\n",
       "    }\n",
       "</style>\n",
       "<table border=\"1\" class=\"dataframe\">\n",
       "  <thead>\n",
       "    <tr style=\"text-align: right;\">\n",
       "      <th></th>\n",
       "      <th>key_0</th>\n",
       "      <th>key_1</th>\n",
       "      <th>key_2</th>\n",
       "      <th>Prix_x</th>\n",
       "      <th>Temps</th>\n",
       "      <th>Gare de départ_x</th>\n",
       "      <th>Gare d arrivée_x</th>\n",
       "      <th>Distance du trajet_x</th>\n",
       "      <th>Prix moyen_x</th>\n",
       "      <th>Prix_y</th>\n",
       "      <th>Mois</th>\n",
       "      <th>Gare de départ_y</th>\n",
       "      <th>Gare d arrivée_y</th>\n",
       "      <th>Distance du trajet_y</th>\n",
       "      <th>Prix moyen_y</th>\n",
       "    </tr>\n",
       "  </thead>\n",
       "  <tbody>\n",
       "    <tr>\n",
       "      <th>0</th>\n",
       "      <td>Paris</td>\n",
       "      <td>Rennes</td>\n",
       "      <td>133</td>\n",
       "      <td>133</td>\n",
       "      <td>2</td>\n",
       "      <td>Paris</td>\n",
       "      <td>Rennes</td>\n",
       "      <td>329.462708</td>\n",
       "      <td>193.0</td>\n",
       "      <td>133</td>\n",
       "      <td>nov</td>\n",
       "      <td>Paris</td>\n",
       "      <td>Rennes</td>\n",
       "      <td>329.462708</td>\n",
       "      <td>193.0</td>\n",
       "    </tr>\n",
       "    <tr>\n",
       "      <th>1</th>\n",
       "      <td>Paris</td>\n",
       "      <td>Rennes</td>\n",
       "      <td>139</td>\n",
       "      <td>139</td>\n",
       "      <td>4</td>\n",
       "      <td>Paris</td>\n",
       "      <td>Rennes</td>\n",
       "      <td>329.462708</td>\n",
       "      <td>193.0</td>\n",
       "      <td>139</td>\n",
       "      <td>déc</td>\n",
       "      <td>Paris</td>\n",
       "      <td>Rennes</td>\n",
       "      <td>329.462708</td>\n",
       "      <td>193.0</td>\n",
       "    </tr>\n",
       "    <tr>\n",
       "      <th>2</th>\n",
       "      <td>Paris</td>\n",
       "      <td>Rennes</td>\n",
       "      <td>134</td>\n",
       "      <td>134</td>\n",
       "      <td>7</td>\n",
       "      <td>Paris</td>\n",
       "      <td>Rennes</td>\n",
       "      <td>329.462708</td>\n",
       "      <td>193.0</td>\n",
       "      <td>134</td>\n",
       "      <td>avr</td>\n",
       "      <td>Paris</td>\n",
       "      <td>Rennes</td>\n",
       "      <td>329.462708</td>\n",
       "      <td>193.0</td>\n",
       "    </tr>\n",
       "    <tr>\n",
       "      <th>3</th>\n",
       "      <td>Marseille</td>\n",
       "      <td>Rennes</td>\n",
       "      <td>149</td>\n",
       "      <td>149</td>\n",
       "      <td>4</td>\n",
       "      <td>Marseille</td>\n",
       "      <td>Rennes</td>\n",
       "      <td>773.008188</td>\n",
       "      <td>322.0</td>\n",
       "      <td>149</td>\n",
       "      <td>juil</td>\n",
       "      <td>Marseille</td>\n",
       "      <td>Rennes</td>\n",
       "      <td>773.008188</td>\n",
       "      <td>322.0</td>\n",
       "    </tr>\n",
       "    <tr>\n",
       "      <th>4</th>\n",
       "      <td>Lyon</td>\n",
       "      <td>Rennes</td>\n",
       "      <td>130</td>\n",
       "      <td>130</td>\n",
       "      <td>2</td>\n",
       "      <td>Lyon</td>\n",
       "      <td>Rennes</td>\n",
       "      <td>560.838254</td>\n",
       "      <td>251.0</td>\n",
       "      <td>130</td>\n",
       "      <td>oct</td>\n",
       "      <td>Lyon</td>\n",
       "      <td>Rennes</td>\n",
       "      <td>560.838254</td>\n",
       "      <td>251.0</td>\n",
       "    </tr>\n",
       "  </tbody>\n",
       "</table>\n",
       "</div>"
      ],
      "text/plain": [
       "       key_0   key_1  key_2  Prix_x  Temps Gare de départ_x Gare d arrivée_x  \\\n",
       "0      Paris  Rennes    133     133      2            Paris           Rennes   \n",
       "1      Paris  Rennes    139     139      4            Paris           Rennes   \n",
       "2      Paris  Rennes    134     134      7            Paris           Rennes   \n",
       "3  Marseille  Rennes    149     149      4        Marseille           Rennes   \n",
       "4       Lyon  Rennes    130     130      2             Lyon           Rennes   \n",
       "\n",
       "   Distance du trajet_x  Prix moyen_x  Prix_y  Mois Gare de départ_y  \\\n",
       "0            329.462708         193.0     133   nov            Paris   \n",
       "1            329.462708         193.0     139   déc            Paris   \n",
       "2            329.462708         193.0     134   avr            Paris   \n",
       "3            773.008188         322.0     149  juil        Marseille   \n",
       "4            560.838254         251.0     130   oct             Lyon   \n",
       "\n",
       "  Gare d arrivée_y  Distance du trajet_y  Prix moyen_y  \n",
       "0           Rennes            329.462708         193.0  \n",
       "1           Rennes            329.462708         193.0  \n",
       "2           Rennes            329.462708         193.0  \n",
       "3           Rennes            773.008188         322.0  \n",
       "4           Rennes            560.838254         251.0  "
      ]
     },
     "execution_count": 68,
     "metadata": {},
     "output_type": "execute_result"
    }
   ],
   "source": [
    "bdd_fin.head()"
   ]
  },
  {
   "cell_type": "code",
   "execution_count": 69,
   "metadata": {},
   "outputs": [],
   "source": [
    "bdd_fin = bdd_fin.drop(['key_0', 'key_1', 'key_2', 'Prix_x','Prix moyen_x', 'Gare de départ_x', 'Gare d arrivée_x', 'Distance du trajet_x'], axis = 1)\n",
    "bdd_fin.columns = ['Temps', 'Prix','Mois', 'Gare de départ', 'Gare d arrivée', 'Distance du trajet', 'Prix moyen']"
   ]
  },
  {
   "cell_type": "code",
   "execution_count": 70,
   "metadata": {},
   "outputs": [
    {
     "data": {
      "text/html": [
       "<div>\n",
       "<style scoped>\n",
       "    .dataframe tbody tr th:only-of-type {\n",
       "        vertical-align: middle;\n",
       "    }\n",
       "\n",
       "    .dataframe tbody tr th {\n",
       "        vertical-align: top;\n",
       "    }\n",
       "\n",
       "    .dataframe thead th {\n",
       "        text-align: right;\n",
       "    }\n",
       "</style>\n",
       "<table border=\"1\" class=\"dataframe\">\n",
       "  <thead>\n",
       "    <tr style=\"text-align: right;\">\n",
       "      <th></th>\n",
       "      <th>Temps</th>\n",
       "      <th>Prix</th>\n",
       "      <th>Mois</th>\n",
       "      <th>Gare de départ</th>\n",
       "      <th>Gare d arrivée</th>\n",
       "      <th>Distance du trajet</th>\n",
       "      <th>Prix moyen</th>\n",
       "    </tr>\n",
       "  </thead>\n",
       "  <tbody>\n",
       "    <tr>\n",
       "      <th>0</th>\n",
       "      <td>2</td>\n",
       "      <td>133</td>\n",
       "      <td>nov</td>\n",
       "      <td>Paris</td>\n",
       "      <td>Rennes</td>\n",
       "      <td>329.462708</td>\n",
       "      <td>193.0</td>\n",
       "    </tr>\n",
       "    <tr>\n",
       "      <th>1</th>\n",
       "      <td>4</td>\n",
       "      <td>139</td>\n",
       "      <td>déc</td>\n",
       "      <td>Paris</td>\n",
       "      <td>Rennes</td>\n",
       "      <td>329.462708</td>\n",
       "      <td>193.0</td>\n",
       "    </tr>\n",
       "    <tr>\n",
       "      <th>2</th>\n",
       "      <td>7</td>\n",
       "      <td>134</td>\n",
       "      <td>avr</td>\n",
       "      <td>Paris</td>\n",
       "      <td>Rennes</td>\n",
       "      <td>329.462708</td>\n",
       "      <td>193.0</td>\n",
       "    </tr>\n",
       "    <tr>\n",
       "      <th>3</th>\n",
       "      <td>4</td>\n",
       "      <td>149</td>\n",
       "      <td>juil</td>\n",
       "      <td>Marseille</td>\n",
       "      <td>Rennes</td>\n",
       "      <td>773.008188</td>\n",
       "      <td>322.0</td>\n",
       "    </tr>\n",
       "    <tr>\n",
       "      <th>4</th>\n",
       "      <td>2</td>\n",
       "      <td>130</td>\n",
       "      <td>oct</td>\n",
       "      <td>Lyon</td>\n",
       "      <td>Rennes</td>\n",
       "      <td>560.838254</td>\n",
       "      <td>251.0</td>\n",
       "    </tr>\n",
       "  </tbody>\n",
       "</table>\n",
       "</div>"
      ],
      "text/plain": [
       "   Temps  Prix  Mois Gare de départ Gare d arrivée  Distance du trajet  \\\n",
       "0      2   133   nov          Paris         Rennes          329.462708   \n",
       "1      4   139   déc          Paris         Rennes          329.462708   \n",
       "2      7   134   avr          Paris         Rennes          329.462708   \n",
       "3      4   149  juil      Marseille         Rennes          773.008188   \n",
       "4      2   130   oct           Lyon         Rennes          560.838254   \n",
       "\n",
       "   Prix moyen  \n",
       "0       193.0  \n",
       "1       193.0  \n",
       "2       193.0  \n",
       "3       322.0  \n",
       "4       251.0  "
      ]
     },
     "execution_count": 70,
     "metadata": {},
     "output_type": "execute_result"
    }
   ],
   "source": [
    "bdd_fin.head()"
   ]
  },
  {
   "cell_type": "markdown",
   "metadata": {},
   "source": [
    "$\\to$ On passe dans le même processus que pour les autres datasets"
   ]
  },
  {
   "cell_type": "code",
   "execution_count": 71,
   "metadata": {},
   "outputs": [],
   "source": [
    "bdd_fin.Prix = bdd_fin.Prix.astype('float')\n",
    "bdd_fin.Temps = bdd_fin.Temps.astype('float')"
   ]
  },
  {
   "cell_type": "code",
   "execution_count": 72,
   "metadata": {},
   "outputs": [],
   "source": [
    "# Normalisation des variables flottantes\n",
    "for flo in bdd_fin.select_dtypes('float'):\n",
    "    bdd_fin[flo] = rob.fit_transform(np.array(bdd_fin[flo]).reshape(-1,1))"
   ]
  },
  {
   "cell_type": "code",
   "execution_count": 73,
   "metadata": {},
   "outputs": [
    {
     "data": {
      "text/html": [
       "<div>\n",
       "<style scoped>\n",
       "    .dataframe tbody tr th:only-of-type {\n",
       "        vertical-align: middle;\n",
       "    }\n",
       "\n",
       "    .dataframe tbody tr th {\n",
       "        vertical-align: top;\n",
       "    }\n",
       "\n",
       "    .dataframe thead th {\n",
       "        text-align: right;\n",
       "    }\n",
       "</style>\n",
       "<table border=\"1\" class=\"dataframe\">\n",
       "  <thead>\n",
       "    <tr style=\"text-align: right;\">\n",
       "      <th></th>\n",
       "      <th>Temps</th>\n",
       "      <th>Prix</th>\n",
       "      <th>Mois</th>\n",
       "      <th>Gare de départ</th>\n",
       "      <th>Gare d arrivée</th>\n",
       "      <th>Distance du trajet</th>\n",
       "      <th>Prix moyen</th>\n",
       "    </tr>\n",
       "  </thead>\n",
       "  <tbody>\n",
       "    <tr>\n",
       "      <th>0</th>\n",
       "      <td>-0.705882</td>\n",
       "      <td>-0.264706</td>\n",
       "      <td>nov</td>\n",
       "      <td>Paris</td>\n",
       "      <td>Rennes</td>\n",
       "      <td>-0.641347</td>\n",
       "      <td>-0.890625</td>\n",
       "    </tr>\n",
       "    <tr>\n",
       "      <th>1</th>\n",
       "      <td>-0.235294</td>\n",
       "      <td>-0.088235</td>\n",
       "      <td>déc</td>\n",
       "      <td>Paris</td>\n",
       "      <td>Rennes</td>\n",
       "      <td>-0.641347</td>\n",
       "      <td>-0.890625</td>\n",
       "    </tr>\n",
       "    <tr>\n",
       "      <th>2</th>\n",
       "      <td>0.470588</td>\n",
       "      <td>-0.235294</td>\n",
       "      <td>avr</td>\n",
       "      <td>Paris</td>\n",
       "      <td>Rennes</td>\n",
       "      <td>-0.641347</td>\n",
       "      <td>-0.890625</td>\n",
       "    </tr>\n",
       "    <tr>\n",
       "      <th>3</th>\n",
       "      <td>-0.235294</td>\n",
       "      <td>0.205882</td>\n",
       "      <td>juil</td>\n",
       "      <td>Marseille</td>\n",
       "      <td>Rennes</td>\n",
       "      <td>1.065461</td>\n",
       "      <td>1.125000</td>\n",
       "    </tr>\n",
       "    <tr>\n",
       "      <th>4</th>\n",
       "      <td>-0.705882</td>\n",
       "      <td>-0.352941</td>\n",
       "      <td>oct</td>\n",
       "      <td>Lyon</td>\n",
       "      <td>Rennes</td>\n",
       "      <td>0.249010</td>\n",
       "      <td>0.015625</td>\n",
       "    </tr>\n",
       "  </tbody>\n",
       "</table>\n",
       "</div>"
      ],
      "text/plain": [
       "      Temps      Prix  Mois Gare de départ Gare d arrivée  Distance du trajet  \\\n",
       "0 -0.705882 -0.264706   nov          Paris         Rennes           -0.641347   \n",
       "1 -0.235294 -0.088235   déc          Paris         Rennes           -0.641347   \n",
       "2  0.470588 -0.235294   avr          Paris         Rennes           -0.641347   \n",
       "3 -0.235294  0.205882  juil      Marseille         Rennes            1.065461   \n",
       "4 -0.705882 -0.352941   oct           Lyon         Rennes            0.249010   \n",
       "\n",
       "   Prix moyen  \n",
       "0   -0.890625  \n",
       "1   -0.890625  \n",
       "2   -0.890625  \n",
       "3    1.125000  \n",
       "4    0.015625  "
      ]
     },
     "execution_count": 73,
     "metadata": {},
     "output_type": "execute_result"
    }
   ],
   "source": [
    "bdd_fin.head()"
   ]
  },
  {
   "cell_type": "code",
   "execution_count": 74,
   "metadata": {},
   "outputs": [],
   "source": [
    "#Encodage des valeurs catégorielles\n",
    "\n",
    "\n",
    "arr = ohe.fit_transform(np.array(bdd_fin['Gare de départ']).reshape(-1,1))\n",
    "names = ohe.categories_\n",
    "names = [x + '_d'for x in names[0]] #on identifie les variables des villes avec un _départ pour les départs\n",
    "arr2 = pd.DataFrame(arr, columns = names)\n",
    "temp = bdd_fin.drop('Gare de départ', axis = 1)\n",
    "bdd_fin = pd.concat([temp, arr2], axis = 1)\n",
    "\n",
    "\n",
    "arr = ohe.fit_transform(np.array(bdd_fin['Gare d arrivée']).reshape(-1,1))\n",
    "names = ohe.categories_\n",
    "names = [x + '_a'for x in names[0]]  #on identifie les variables des villes avec un _arrivée pour les départs\n",
    "arr2 = pd.DataFrame(arr, columns = names)\n",
    "temp = bdd_fin.drop('Gare d arrivée', axis = 1)\n",
    "bdd_fin = pd.concat([temp, arr2], axis = 1)\n",
    "\n",
    "arr = ohe.fit_transform(np.array(bdd_fin['Mois']).reshape(-1,1))\n",
    "names = ohe.categories_\n",
    "names = [x for x in names[0]]\n",
    "arr2 = pd.DataFrame(arr, columns = names)\n",
    "temp = bdd_fin.drop('Mois', axis = 1)\n",
    "bdd_fin = pd.concat([temp, arr2], axis = 1)\n"
   ]
  },
  {
   "cell_type": "code",
   "execution_count": 75,
   "metadata": {
    "scrolled": true
   },
   "outputs": [
    {
     "data": {
      "text/html": [
       "<div>\n",
       "<style scoped>\n",
       "    .dataframe tbody tr th:only-of-type {\n",
       "        vertical-align: middle;\n",
       "    }\n",
       "\n",
       "    .dataframe tbody tr th {\n",
       "        vertical-align: top;\n",
       "    }\n",
       "\n",
       "    .dataframe thead th {\n",
       "        text-align: right;\n",
       "    }\n",
       "</style>\n",
       "<table border=\"1\" class=\"dataframe\">\n",
       "  <thead>\n",
       "    <tr style=\"text-align: right;\">\n",
       "      <th></th>\n",
       "      <th>Temps</th>\n",
       "      <th>Prix</th>\n",
       "      <th>Distance du trajet</th>\n",
       "      <th>Prix moyen</th>\n",
       "      <th>Bordeaux_d</th>\n",
       "      <th>Lyon_d</th>\n",
       "      <th>Marseille_d</th>\n",
       "      <th>Nantes_d</th>\n",
       "      <th>Nice_d</th>\n",
       "      <th>Paris_d</th>\n",
       "      <th>...</th>\n",
       "      <th>déc</th>\n",
       "      <th>fév</th>\n",
       "      <th>jan</th>\n",
       "      <th>juil</th>\n",
       "      <th>juin</th>\n",
       "      <th>mai</th>\n",
       "      <th>mar</th>\n",
       "      <th>nov</th>\n",
       "      <th>oct</th>\n",
       "      <th>sep</th>\n",
       "    </tr>\n",
       "  </thead>\n",
       "  <tbody>\n",
       "    <tr>\n",
       "      <th>0</th>\n",
       "      <td>-0.705882</td>\n",
       "      <td>-0.264706</td>\n",
       "      <td>-0.641347</td>\n",
       "      <td>-0.890625</td>\n",
       "      <td>0.0</td>\n",
       "      <td>0.0</td>\n",
       "      <td>0.0</td>\n",
       "      <td>0.0</td>\n",
       "      <td>0.0</td>\n",
       "      <td>1.0</td>\n",
       "      <td>...</td>\n",
       "      <td>0.0</td>\n",
       "      <td>0.0</td>\n",
       "      <td>0.0</td>\n",
       "      <td>0.0</td>\n",
       "      <td>0.0</td>\n",
       "      <td>0.0</td>\n",
       "      <td>0.0</td>\n",
       "      <td>1.0</td>\n",
       "      <td>0.0</td>\n",
       "      <td>0.0</td>\n",
       "    </tr>\n",
       "    <tr>\n",
       "      <th>1</th>\n",
       "      <td>-0.235294</td>\n",
       "      <td>-0.088235</td>\n",
       "      <td>-0.641347</td>\n",
       "      <td>-0.890625</td>\n",
       "      <td>0.0</td>\n",
       "      <td>0.0</td>\n",
       "      <td>0.0</td>\n",
       "      <td>0.0</td>\n",
       "      <td>0.0</td>\n",
       "      <td>1.0</td>\n",
       "      <td>...</td>\n",
       "      <td>1.0</td>\n",
       "      <td>0.0</td>\n",
       "      <td>0.0</td>\n",
       "      <td>0.0</td>\n",
       "      <td>0.0</td>\n",
       "      <td>0.0</td>\n",
       "      <td>0.0</td>\n",
       "      <td>0.0</td>\n",
       "      <td>0.0</td>\n",
       "      <td>0.0</td>\n",
       "    </tr>\n",
       "    <tr>\n",
       "      <th>2</th>\n",
       "      <td>0.470588</td>\n",
       "      <td>-0.235294</td>\n",
       "      <td>-0.641347</td>\n",
       "      <td>-0.890625</td>\n",
       "      <td>0.0</td>\n",
       "      <td>0.0</td>\n",
       "      <td>0.0</td>\n",
       "      <td>0.0</td>\n",
       "      <td>0.0</td>\n",
       "      <td>1.0</td>\n",
       "      <td>...</td>\n",
       "      <td>0.0</td>\n",
       "      <td>0.0</td>\n",
       "      <td>0.0</td>\n",
       "      <td>0.0</td>\n",
       "      <td>0.0</td>\n",
       "      <td>0.0</td>\n",
       "      <td>0.0</td>\n",
       "      <td>0.0</td>\n",
       "      <td>0.0</td>\n",
       "      <td>0.0</td>\n",
       "    </tr>\n",
       "    <tr>\n",
       "      <th>3</th>\n",
       "      <td>-0.235294</td>\n",
       "      <td>0.205882</td>\n",
       "      <td>1.065461</td>\n",
       "      <td>1.125000</td>\n",
       "      <td>0.0</td>\n",
       "      <td>0.0</td>\n",
       "      <td>1.0</td>\n",
       "      <td>0.0</td>\n",
       "      <td>0.0</td>\n",
       "      <td>0.0</td>\n",
       "      <td>...</td>\n",
       "      <td>0.0</td>\n",
       "      <td>0.0</td>\n",
       "      <td>0.0</td>\n",
       "      <td>1.0</td>\n",
       "      <td>0.0</td>\n",
       "      <td>0.0</td>\n",
       "      <td>0.0</td>\n",
       "      <td>0.0</td>\n",
       "      <td>0.0</td>\n",
       "      <td>0.0</td>\n",
       "    </tr>\n",
       "    <tr>\n",
       "      <th>4</th>\n",
       "      <td>-0.705882</td>\n",
       "      <td>-0.352941</td>\n",
       "      <td>0.249010</td>\n",
       "      <td>0.015625</td>\n",
       "      <td>0.0</td>\n",
       "      <td>1.0</td>\n",
       "      <td>0.0</td>\n",
       "      <td>0.0</td>\n",
       "      <td>0.0</td>\n",
       "      <td>0.0</td>\n",
       "      <td>...</td>\n",
       "      <td>0.0</td>\n",
       "      <td>0.0</td>\n",
       "      <td>0.0</td>\n",
       "      <td>0.0</td>\n",
       "      <td>0.0</td>\n",
       "      <td>0.0</td>\n",
       "      <td>0.0</td>\n",
       "      <td>0.0</td>\n",
       "      <td>1.0</td>\n",
       "      <td>0.0</td>\n",
       "    </tr>\n",
       "  </tbody>\n",
       "</table>\n",
       "<p>5 rows × 31 columns</p>\n",
       "</div>"
      ],
      "text/plain": [
       "      Temps      Prix  Distance du trajet  Prix moyen  Bordeaux_d  Lyon_d  \\\n",
       "0 -0.705882 -0.264706           -0.641347   -0.890625         0.0     0.0   \n",
       "1 -0.235294 -0.088235           -0.641347   -0.890625         0.0     0.0   \n",
       "2  0.470588 -0.235294           -0.641347   -0.890625         0.0     0.0   \n",
       "3 -0.235294  0.205882            1.065461    1.125000         0.0     0.0   \n",
       "4 -0.705882 -0.352941            0.249010    0.015625         0.0     1.0   \n",
       "\n",
       "   Marseille_d  Nantes_d  Nice_d  Paris_d  ...  déc  fév  jan  juil  juin  \\\n",
       "0          0.0       0.0     0.0      1.0  ...  0.0  0.0  0.0   0.0   0.0   \n",
       "1          0.0       0.0     0.0      1.0  ...  1.0  0.0  0.0   0.0   0.0   \n",
       "2          0.0       0.0     0.0      1.0  ...  0.0  0.0  0.0   0.0   0.0   \n",
       "3          1.0       0.0     0.0      0.0  ...  0.0  0.0  0.0   1.0   0.0   \n",
       "4          0.0       0.0     0.0      0.0  ...  0.0  0.0  0.0   0.0   0.0   \n",
       "\n",
       "   mai  mar  nov  oct  sep  \n",
       "0  0.0  0.0  1.0  0.0  0.0  \n",
       "1  0.0  0.0  0.0  0.0  0.0  \n",
       "2  0.0  0.0  0.0  0.0  0.0  \n",
       "3  0.0  0.0  0.0  0.0  0.0  \n",
       "4  0.0  0.0  0.0  1.0  0.0  \n",
       "\n",
       "[5 rows x 31 columns]"
      ]
     },
     "execution_count": 75,
     "metadata": {},
     "output_type": "execute_result"
    }
   ],
   "source": [
    "bdd_fin.head()"
   ]
  },
  {
   "cell_type": "code",
   "execution_count": 76,
   "metadata": {},
   "outputs": [],
   "source": [
    "train_df3, test_df3= train_test_split(bdd_fin, test_size = 0.2, random_state = 0)"
   ]
  },
  {
   "cell_type": "code",
   "execution_count": 77,
   "metadata": {},
   "outputs": [],
   "source": [
    "X_train_fin = train_df3.drop('Prix', axis = 1) #ce sur quoi le modèle apprend\n",
    "Y_train_fin = train_df3['Prix'] #L'objectif, la variable à prédire\n",
    "\n",
    "X_test_fin = test_df3.drop('Prix', axis = 1)\n",
    "Y_test_fin = test_df3['Prix']"
   ]
  },
  {
   "cell_type": "code",
   "execution_count": 78,
   "metadata": {},
   "outputs": [],
   "source": [
    "def evaluation_fin(model, scor):\n",
    "    model.fit(X_train_fin, Y_train_fin)\n",
    "    y_pred_fin = model.predict(X_test_fin)\n",
    "    \n",
    "    print('explained variance : ', explained_variance_score(Y_test_fin, y_pred_fin))\n",
    "    print('R2 :',r2_score(Y_test_fin, y_pred_fin))\n",
    "    \n",
    "    N, train_score, val_score = learning_curve(model, X_train_fin, Y_train_fin, cv = 4, scoring = scor, train_sizes = np.linspace(0.1,1,10))\n",
    "    plt.figure(figsize = (12,8))\n",
    "    plt.plot(N, train_score.mean(axis = 1), label = 'train score')\n",
    "    plt.plot(N, val_score.mean(axis = 1), label = 'validation score')\n",
    "    plt.legend()\n",
    "    plt.show()"
   ]
  },
  {
   "cell_type": "code",
   "execution_count": 79,
   "metadata": {},
   "outputs": [
    {
     "name": "stdout",
     "output_type": "stream",
     "text": [
      "explained variance :  0.17616480257059852\n",
      "R2 : 0.1759176296113203\n"
     ]
    },
    {
     "data": {
      "image/png": "[encoded data removed]",
      "text/plain": [
       "<Figure size 864x576 with 1 Axes>"
      ]
     },
     "metadata": {
      "needs_background": "light"
     },
     "output_type": "display_data"
    }
   ],
   "source": [
    "knn = KNeighborsRegressor(n_neighbors = 2)\n",
    "evaluation_fin(knn, 'neg_median_absolute_error')"
   ]
  },
  {
   "cell_type": "code",
   "execution_count": 80,
   "metadata": {},
   "outputs": [
    {
     "data": {
      "text/plain": [
       "{'algorithm': 'ball_tree',\n",
       " 'leaf_size': 20,\n",
       " 'metric': 'euclidean',\n",
       " 'n_neighbors': 1,\n",
       " 'weights': 'uniform'}"
      ]
     },
     "execution_count": 80,
     "metadata": {},
     "output_type": "execute_result"
    }
   ],
   "source": [
    "pars = {'n_neighbors' : np.arange(1,3),\n",
    "        'weights' : ['uniform', 'distance'],\n",
    "        'algorithm': ['ball_tree', 'kd_tree', 'brute'],\n",
    "        'leaf_size': np.arange(20,41),\n",
    "        'metric': ['euclidean', 'manhattan']}\n",
    "\n",
    "\n",
    "grid = GridSearchCV(knn, pars, cv = 4, scoring = 'neg_median_absolute_error')\n",
    "grid.fit(X_train_fin, Y_train_fin)\n",
    "grid.best_params_"
   ]
  },
  {
   "cell_type": "code",
   "execution_count": 81,
   "metadata": {},
   "outputs": [
    {
     "data": {
      "text/plain": [
       "-0.23529411764705882"
      ]
     },
     "execution_count": 81,
     "metadata": {},
     "output_type": "execute_result"
    }
   ],
   "source": [
    "grid.best_score_"
   ]
  },
  {
   "cell_type": "markdown",
   "metadata": {},
   "source": [
    "$\\to$ On a réussi à diminuer l'erreur d'envison 30% de l'erreur obtenue avec les autres datasets. Cependant, on a un $R^2$ beaucoup plus faible, ce qui signifie qu'on a moins expliqué les données. **Fusionner les tables n'est donc pas forcément une meilleure approche que nos études séparées au préalable**"
   ]
  }
 ],
 "metadata": {
  "kernelspec": {
   "display_name": "Python 3",
   "language": "python",
   "name": "python3"
  },
  "language_info": {
   "codemirror_mode": {
    "name": "ipython",
    "version": 3
   },
   "file_extension": ".py",
   "mimetype": "text/x-python",
   "name": "python",
   "nbconvert_exporter": "python",
   "pygments_lexer": "ipython3",
   "version": "3.7.9"
  }
 },
 "nbformat": 4,
 "nbformat_minor": 4
}
