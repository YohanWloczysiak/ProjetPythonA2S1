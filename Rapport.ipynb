{
  "nbformat": 4,
  "nbformat_minor": 0,
  "metadata": {
    "colab": {
      "name": "Rapport.ipynb",
      "provenance": [],
      "collapsed_sections": [],
      "toc_visible": true,
      "authorship_tag": "ABX9TyOmrlbN4joiGubGVJf4mnTd"
    },
    "kernelspec": {
      "name": "python3",
      "display_name": "Python 3"
    }
  },
  "cells": [
    {
      "cell_type": "markdown",
      "metadata": {
        "id": "41e0hPxG3vw7"
      },
      "source": [
        "# **Préliminaires**\n"
      ]
    },
    {
      "cell_type": "markdown",
      "metadata": {
        "id": "Z7RzwUtOZViK"
      },
      "source": [
        "# **1. Modélisation**"
      ]
    },
    {
      "cell_type": "markdown",
      "metadata": {
        "id": "MlEkVctY2hEG"
      },
      "source": [
        "Cette première partie permet de récupérer et de traiter les données que nous utiliserons dans le projet.\n"
      ]
    },
    {
      "cell_type": "code",
      "metadata": {
        "id": "JWDYWyAq6vQj"
      },
      "source": [
        "import urllib\n",
        "import bs4\n",
        "import pandas\n",
        "import re\n",
        "import numpy"
      ],
      "execution_count": null,
      "outputs": []
    },
    {
      "cell_type": "markdown",
      "metadata": {
        "id": "wLXn4xt23B-v"
      },
      "source": [
        "### **Données sur le trafic aérien en France**\n"
      ]
    },
    {
      "cell_type": "markdown",
      "metadata": {
        "id": "FpJRK3gw64jv"
      },
      "source": [
        "Les données sur le trafic aérien en France sont issues du site https://www.ou-et-quand.net/vols/. Afin de les récupérer, nous allons de voir faire du webscraping."
      ]
    },
    {
      "cell_type": "markdown",
      "metadata": {
        "id": "5P1BUQwk7SzI"
      },
      "source": [
        "Nous commençons par récupérer l'adresse url de chaque page qui nous intéresse, c'est-à-dire chaque page concernant un aéroport français."
      ]
    },
    {
      "cell_type": "code",
      "metadata": {
        "id": "LZyPPvHU2PM7"
      },
      "source": [
        "# (A modifier : voir si on peut récupérer les noms de villes avec du webscraping)\n",
        "\n",
        "url_radical = \"https://www.ou-et-quand.net/vols/\"\n",
        "ordre_villes = ['Strasbourg', 'Bordeaux', 'Clermont-Ferrand', 'Rennes', 'Brest', 'Ajaccio', 'Bastia', 'Calvi', 'Figari', 'Montpellier', 'Limoges', 'Metz', 'Toulouse', 'Lille', 'Caen', 'Nantes', 'Poitiers', 'Marseille', 'Nice', 'Lyon', 'Paris']\n",
        "url_terminaison = [\"alsace/strasbourg/\", \"aquitaine/bordeaux/\", \"auvergne/clermont-ferrand/\", \"bretagne/rennes/\", \"bretagne/brest/\", \"corse/ajaccio/\", \"corse/bastia/\", \"corse/calvi/\", \"corse/figari/\", \"languedoc-roussillon/montpellier/\", \"limousin/limoges/\", \"lorraine/metz/\", \"midi-pyrenees/toulouse/\", \"nord-pas-de-calais/lille/\", \"normandie/caen/\", \"pays-de-la-loire/nantes/\", \"poitou-charentes/poitiers/\", \"provence-alpes-c-te-d-azur/marseille/\", \"provence-alpes-c-te-d-azur/nice/\", \"rh-ne-alpes/lyon/\", \"ile-de-france/paris/\"]"
      ],
      "execution_count": null,
      "outputs": []
    },
    {
      "cell_type": "markdown",
      "metadata": {
        "id": "0P2axJDK7hyj"
      },
      "source": [
        "Pour chaque aéroport, nous devons récupérer plusieurs données : le prix moyen du billet aller-retour en fonction des aéroports de départ, le prix moyen du billet aller-retour en fonction du mois de départ et de l'aéroport de départ ainsi que le prix moyen du billet aller-retour en fonction du délai entre la réservation et le départ et de l'aéroport de départ."
      ]
    },
    {
      "cell_type": "markdown",
      "metadata": {
        "id": "ko88giYixwSw"
      },
      "source": [
        "##### **Construction des expressions régulières**"
      ]
    },
    {
      "cell_type": "markdown",
      "metadata": {
        "id": "6qF196PWxkIx"
      },
      "source": [
        "On commence par construire les expressions régulières qui vont nous permettre de sélectionner les parties de la page html qui nous intéressent.\n",
        "\n",
        "Pour récupérer les données, il faudra utiliser plusieurs expressions régulières à chaque fois.\n",
        "\n",
        "\n",
        "\n",
        "\n"
      ]
    },
    {
      "cell_type": "markdown",
      "metadata": {
        "id": "jeEcz79QzEkC"
      },
      "source": [
        "Les expressions commençant par \"expression_villes\" permettent de récupérer les noms des villes de départ."
      ]
    },
    {
      "cell_type": "code",
      "metadata": {
        "id": "aiKsclQRzi50"
      },
      "source": [
        "expression_villes = re.compile(\"categories:.+],\")\n",
        "expression_villes_bis = re.compile(\":.+],\")\n",
        "expression_villes_ter = re.compile(\"[\\w]+\")"
      ],
      "execution_count": null,
      "outputs": []
    },
    {
      "cell_type": "markdown",
      "metadata": {
        "id": "dkBlGzs2zODV"
      },
      "source": [
        "Les expressions commençant par \"expression_prix\" permettent de récupérer les prix moyens en fonction de l'aéroport de départ."
      ]
    },
    {
      "cell_type": "code",
      "metadata": {
        "id": "-qX962KQzlVU"
      },
      "source": [
        "expression_prix = re.compile(\"\"\"'aéroport de départ',\n",
        "            data: .+,\"\"\")\n",
        "expression_prix_bis = re.compile(\":.+],\")\n",
        "expression_prix_ter = re.compile(\"[\\d]+\")"
      ],
      "execution_count": null,
      "outputs": []
    },
    {
      "cell_type": "markdown",
      "metadata": {
        "id": "1d6YrZ3AzWqd"
      },
      "source": [
        "Les expressions commençant par \"expression_mois\" permettent de récupérer la liste des mois pour lesquels on a des données de prix."
      ]
    },
    {
      "cell_type": "code",
      "metadata": {
        "id": "DSvY6aDZzpsi"
      },
      "source": [
        "expression_mois = re.compile(\"\"\"xAxis: {\n",
        "            categories: .+,\n",
        "            title: {\n",
        "                text: null\"\"\")\n",
        "expression_mois_select = re.compile(\"'jan.'|'fév.'|'mar.'|'avr.'|'mai'|'juin'|'juil'|'août'|'sep.'|'oct.'|'nov.'|'déc.'\")\n",
        "expression_mois_bis = re.compile(\"[\\w]+\")"
      ],
      "execution_count": null,
      "outputs": []
    },
    {
      "cell_type": "markdown",
      "metadata": {
        "id": "f-WC8IXSzVfn"
      },
      "source": [
        "Les expressions commençant par \"expression_prix_mois\" permettent de récupérer les prix moyens en fonction du mois de départ et de l'aéroport de départ."
      ]
    },
    {
      "cell_type": "code",
      "metadata": {
        "id": "uNkvdzD3znU_"
      },
      "source": [
        "expression_prix_mois = re.compile(\"\"\"en euros selon le mois de départ',\n",
        "            data: .+,\"\"\")\n",
        "expression_prix_mois_bis = re.compile(\":.+],\")\n",
        "expression_prix_mois_ter = re.compile(\"[\\d]+\")"
      ],
      "execution_count": null,
      "outputs": []
    },
    {
      "cell_type": "markdown",
      "metadata": {
        "id": "uhTMM46szfDJ"
      },
      "source": [
        "Les expressions commençant par \"expression_avance\" permettent de récupérer les délais entre la réservation et le départ pour lesquels on a des données de prix."
      ]
    },
    {
      "cell_type": "code",
      "metadata": {
        "id": "iPNnnYJ4ztan"
      },
      "source": [
        "expression_avance = re.compile(\"\"\"xAxis: {\n",
        "            categories: .+,\n",
        "            title: {\n",
        "                text: null\"\"\")\n",
        "expression_avance_select = re.compile(\"'0 à 1 mois'|'1 à 2 mois'|'2 à 3 mois'|'3 à 4 mois'|'4 à 5 mois'|'5 à 6 mois'|'6 à 7 mois'|'7 à 8 mois'|'8 à 9 mois'|'9 à 10 mois'|'10 à 11 mois'|'11 à 12 mois'\")\n",
        "expression_avance_bis = re.compile(\"[\\w]+\")"
      ],
      "execution_count": null,
      "outputs": []
    },
    {
      "cell_type": "markdown",
      "metadata": {
        "id": "2RSw7ZA0zV9J"
      },
      "source": [
        "Les expressions commençant par \"expression_prix_avance\" permettent de récupérer les prix moyens en fonction du délai entre le mois de départ et la réservation."
      ]
    },
    {
      "cell_type": "code",
      "metadata": {
        "id": "WrNMSQpJzr0B"
      },
      "source": [
        "expression_prix_avance = re.compile(\"\"\"selon le nombre de mois entre la réservation et le vol',\n",
        "            data: .+,\"\"\")\n",
        "expression_prix_avance_bis = re.compile(\":.+],\")\n",
        "expression_prix_avance_ter = re.compile(\"[\\d]+\")"
      ],
      "execution_count": null,
      "outputs": []
    },
    {
      "cell_type": "markdown",
      "metadata": {
        "id": "1MzAVkSr1UZT"
      },
      "source": [
        "##### **Récupération des données par webscraping**"
      ]
    },
    {
      "cell_type": "markdown",
      "metadata": {
        "id": "VjD21MBs1gvF"
      },
      "source": [
        "Maintenant qu'on a nos expressions régulières, on peut rechercher l'ensemble des données qui nous intéressent sur les pages du site."
      ]
    },
    {
      "cell_type": "code",
      "metadata": {
        "id": "t6oVYDTV2gof"
      },
      "source": [
        "prix_moyen_destination = []\n",
        "villesbis = []\n",
        "villes = []\n",
        "prix = []\n",
        "liste_prix = []\n",
        "prix_mois = []\n",
        "liste_prix_mois = []\n",
        "prix_avance = []\n",
        "liste_prix_avance = []\n",
        "avance_mois = []\n",
        "mois = []\n",
        "liste_mois = []\n",
        "\n",
        "\n",
        "for i in range(len(ordre_villes)):\n",
        "    url_totale = url_radical+url_terminaison[i]\n",
        "    \n",
        "    from urllib.request import Request, urlopen\n",
        "    req = Request(url_totale, headers={'User-Agent': 'Mozilla/5.0'})\n",
        "    web_byte = urlopen(req).read()\n",
        "    page = bs4.BeautifulSoup(web_byte, 'lxml')\n",
        "    \n",
        "    prix_moyen_destination.append(page.findAll(\"script\")[23])\n",
        "    s = prix_moyen_destination[i].text.strip()\n",
        "    \n",
        "    # seconde étape : recherche\n",
        "    # Récupération des villes de départ\n",
        "    city = expression_villes.findall(s)[0]\n",
        "    city_bis = expression_villes_bis.findall(city)\n",
        "    liste_villes = expression_villes_ter.findall(city_bis[0])\n",
        "    villesbis.append(liste_villes)\n",
        "    \n",
        "    \n",
        "    \"\"\"Récupération des prix moyens en fonction de la ville de départ\"\"\"\n",
        "    price_moyen_bis = expression_prix.findall(s)\n",
        "    price_moyen = expression_prix_bis.findall(price_moyen_bis[0])\n",
        "    prix_moyen = expression_prix_ter.findall(price_moyen[0])\n",
        "    \n",
        "    liste_prixbis = []\n",
        "\n",
        "    for elem in prix_moyen:\n",
        "        elem_bis = int(elem)\n",
        "        liste_prixbis.append(elem_bis)\n",
        "        \n",
        "    liste_prix.append(liste_prixbis)\n",
        "    \n",
        "    \n",
        "    \"\"\"Récupération des prix moyens en fonction du mois de départ\"\"\"\n",
        "    price_mois_bis = expression_prix_mois.findall(s)\n",
        "    month = expression_mois.findall(s)\n",
        "    for elem in month:\n",
        "        if expression_mois_select.findall(elem) != []:\n",
        "            month_select = expression_mois_select.findall(elem)\n",
        "            \n",
        "            for elem_bis in month_select:\n",
        "                month_bis = expression_mois_bis.findall(elem_bis)\n",
        "                mois.append(month_bis[0])\n",
        "        \n",
        "        \n",
        "    for j in range(len(price_mois_bis)):\n",
        "        price_mois = expression_prix_mois_bis.findall(price_mois_bis[j])\n",
        "        prix_mois = expression_prix_mois_ter.findall(price_mois[0])\n",
        "        liste_prixbis_mois = []\n",
        "\n",
        "        for elem in prix_mois:\n",
        "            elem_bis = int(elem)\n",
        "            liste_prixbis_mois.append(elem_bis)\n",
        "\n",
        "        liste_prix_mois.append(liste_prixbis_mois) \n",
        "    \n",
        "\n",
        "    \n",
        "    \"\"\"Récupération des prix moyens en fonction du mois de réservation\"\"\"\n",
        "    price_avance_bis = expression_prix_avance.findall(s)\n",
        "    avance = expression_avance.findall(s)\n",
        "    for elem in avance:\n",
        "        if expression_avance_select.findall(elem) != []:\n",
        "            avance_select = expression_avance_select.findall(elem)\n",
        "            \n",
        "            for elem_bis in avance_select:\n",
        "                avance_bis = expression_avance_bis.findall(elem_bis)\n",
        "                avance_mois.append(avance_bis[0] + ' ' + avance_bis[1] + ' ' +  avance_bis[2] + ' ' +  avance_bis[3])\n",
        "        \n",
        "        \n",
        "    for j in range(len(price_avance_bis)):\n",
        "        price_avance = expression_prix_avance_bis.findall(price_avance_bis[j])\n",
        "        prix_avance = expression_prix_avance_ter.findall(price_avance[0])\n",
        "        liste_prixbis_avance = []\n",
        "\n",
        "        for elem in prix_avance:\n",
        "            elem_bis = int(elem)\n",
        "            liste_prixbis_avance.append(elem_bis)\n",
        "\n",
        "        liste_prix_avance.append(liste_prixbis_avance)"
      ],
      "execution_count": null,
      "outputs": []
    },
    {
      "cell_type": "markdown",
      "metadata": {
        "id": "0S4yzt6f11f3"
      },
      "source": [
        "##### **Création des bases de données finales**"
      ]
    },
    {
      "cell_type": "markdown",
      "metadata": {
        "id": "9mjAG3iv2Vpn"
      },
      "source": [
        "La première base de données contiendra les prix moyens du billet aller-retour en fonction uniquement de l'aéroport de départ."
      ]
    },
    {
      "cell_type": "code",
      "metadata": {
        "id": "ZwS6ymnL161U"
      },
      "source": [
        "col_1_1 = []\n",
        "col_1_2 = []\n",
        "col_1_3 = []\n",
        "col_1_4 = []\n",
        "\n",
        "for l in range(len(villesbis)):\n",
        "    col_1_1 = col_1_1 + villesbis[l]\n",
        "    col_1_2 = col_1_2 + [ordre_villes[l]]*len(villesbis[l])\n",
        "    col_1_3 = col_1_3 + liste_prix[l]"
      ],
      "execution_count": null,
      "outputs": []
    },
    {
      "cell_type": "code",
      "metadata": {
        "id": "8QTbfMGk2FqL",
        "outputId": "1b9e657b-e6ca-41ac-952f-026de615cc9a",
        "colab": {
          "base_uri": "https://localhost:8080/",
          "height": 402
        }
      },
      "source": [
        "table_prix_trajet = pandas.DataFrame({'Départ' : col_1_1 , 'Arrivée': col_1_2 , 'Prix': col_1_3})\n",
        "table_prix_trajet"
      ],
      "execution_count": null,
      "outputs": [
        {
          "output_type": "execute_result",
          "data": {
            "text/html": [
              "<div>\n",
              "<style scoped>\n",
              "    .dataframe tbody tr th:only-of-type {\n",
              "        vertical-align: middle;\n",
              "    }\n",
              "\n",
              "    .dataframe tbody tr th {\n",
              "        vertical-align: top;\n",
              "    }\n",
              "\n",
              "    .dataframe thead th {\n",
              "        text-align: right;\n",
              "    }\n",
              "</style>\n",
              "<table border=\"1\" class=\"dataframe\">\n",
              "  <thead>\n",
              "    <tr style=\"text-align: right;\">\n",
              "      <th></th>\n",
              "      <th>Départ</th>\n",
              "      <th>Arrivée</th>\n",
              "      <th>Prix</th>\n",
              "    </tr>\n",
              "  </thead>\n",
              "  <tbody>\n",
              "    <tr>\n",
              "      <th>0</th>\n",
              "      <td>Paris</td>\n",
              "      <td>Strasbourg</td>\n",
              "      <td>248</td>\n",
              "    </tr>\n",
              "    <tr>\n",
              "      <th>1</th>\n",
              "      <td>Nantes</td>\n",
              "      <td>Strasbourg</td>\n",
              "      <td>177</td>\n",
              "    </tr>\n",
              "    <tr>\n",
              "      <th>2</th>\n",
              "      <td>Marseille</td>\n",
              "      <td>Strasbourg</td>\n",
              "      <td>215</td>\n",
              "    </tr>\n",
              "    <tr>\n",
              "      <th>3</th>\n",
              "      <td>Bordeaux</td>\n",
              "      <td>Strasbourg</td>\n",
              "      <td>227</td>\n",
              "    </tr>\n",
              "    <tr>\n",
              "      <th>4</th>\n",
              "      <td>Bruxelles</td>\n",
              "      <td>Strasbourg</td>\n",
              "      <td>205</td>\n",
              "    </tr>\n",
              "    <tr>\n",
              "      <th>...</th>\n",
              "      <td>...</td>\n",
              "      <td>...</td>\n",
              "      <td>...</td>\n",
              "    </tr>\n",
              "    <tr>\n",
              "      <th>162</th>\n",
              "      <td>Bruxelles</td>\n",
              "      <td>Paris</td>\n",
              "      <td>254</td>\n",
              "    </tr>\n",
              "    <tr>\n",
              "      <th>163</th>\n",
              "      <td>Genève</td>\n",
              "      <td>Paris</td>\n",
              "      <td>184</td>\n",
              "    </tr>\n",
              "    <tr>\n",
              "      <th>164</th>\n",
              "      <td>Lyon</td>\n",
              "      <td>Paris</td>\n",
              "      <td>170</td>\n",
              "    </tr>\n",
              "    <tr>\n",
              "      <th>165</th>\n",
              "      <td>Toulouse</td>\n",
              "      <td>Paris</td>\n",
              "      <td>122</td>\n",
              "    </tr>\n",
              "    <tr>\n",
              "      <th>166</th>\n",
              "      <td>Nice</td>\n",
              "      <td>Paris</td>\n",
              "      <td>134</td>\n",
              "    </tr>\n",
              "  </tbody>\n",
              "</table>\n",
              "<p>167 rows × 3 columns</p>\n",
              "</div>"
            ],
            "text/plain": [
              "        Départ     Arrivée  Prix\n",
              "0        Paris  Strasbourg   248\n",
              "1       Nantes  Strasbourg   177\n",
              "2    Marseille  Strasbourg   215\n",
              "3     Bordeaux  Strasbourg   227\n",
              "4    Bruxelles  Strasbourg   205\n",
              "..         ...         ...   ...\n",
              "162  Bruxelles       Paris   254\n",
              "163     Genève       Paris   184\n",
              "164       Lyon       Paris   170\n",
              "165   Toulouse       Paris   122\n",
              "166       Nice       Paris   134\n",
              "\n",
              "[167 rows x 3 columns]"
            ]
          },
          "metadata": {
            "tags": []
          },
          "execution_count": 11
        }
      ]
    },
    {
      "cell_type": "markdown",
      "metadata": {
        "id": "fmWzkIwn2iAI"
      },
      "source": [
        "La deuxième base de données contiendra les prix moyens du billet aller-retour en fonction du mois de départ et de l'aéroport de départ."
      ]
    },
    {
      "cell_type": "code",
      "metadata": {
        "id": "ul7QRhga2IE0"
      },
      "source": [
        "col_2_1 = []\n",
        "col_2_2 = []\n",
        "col_2_3 = []\n",
        "col_2_4 = mois\n",
        "num_list = 0\n",
        "\n",
        "for k in range(len(ordre_villes)):\n",
        "    for l in range(len(villesbis[k])):\n",
        "        col_2_1 = col_2_1 + [villesbis[k][l]]*len(liste_prix_mois[num_list])\n",
        "        col_2_2 = col_2_2 + [ordre_villes[k]]*len(liste_prix_mois[num_list])\n",
        "        col_2_3 = col_2_3 + liste_prix_mois[num_list]\n",
        "        num_list = num_list + 1"
      ],
      "execution_count": null,
      "outputs": []
    },
    {
      "cell_type": "code",
      "metadata": {
        "id": "zceKP6kF2KRP",
        "outputId": "c8fd6255-8139-4e6a-eda4-46f7d7989d4c",
        "colab": {
          "base_uri": "https://localhost:8080/",
          "height": 402
        }
      },
      "source": [
        "table_prix_mois = pandas.DataFrame({'Départ' : col_2_1 , 'Arrivée': col_2_2 , 'Prix': col_2_3, 'Mois': col_2_4})\n",
        "table_prix_mois[:100]"
      ],
      "execution_count": null,
      "outputs": [
        {
          "output_type": "execute_result",
          "data": {
            "text/html": [
              "<div>\n",
              "<style scoped>\n",
              "    .dataframe tbody tr th:only-of-type {\n",
              "        vertical-align: middle;\n",
              "    }\n",
              "\n",
              "    .dataframe tbody tr th {\n",
              "        vertical-align: top;\n",
              "    }\n",
              "\n",
              "    .dataframe thead th {\n",
              "        text-align: right;\n",
              "    }\n",
              "</style>\n",
              "<table border=\"1\" class=\"dataframe\">\n",
              "  <thead>\n",
              "    <tr style=\"text-align: right;\">\n",
              "      <th></th>\n",
              "      <th>Départ</th>\n",
              "      <th>Arrivée</th>\n",
              "      <th>Prix</th>\n",
              "      <th>Mois</th>\n",
              "    </tr>\n",
              "  </thead>\n",
              "  <tbody>\n",
              "    <tr>\n",
              "      <th>0</th>\n",
              "      <td>Paris</td>\n",
              "      <td>Strasbourg</td>\n",
              "      <td>310</td>\n",
              "      <td>jan</td>\n",
              "    </tr>\n",
              "    <tr>\n",
              "      <th>1</th>\n",
              "      <td>Paris</td>\n",
              "      <td>Strasbourg</td>\n",
              "      <td>189</td>\n",
              "      <td>fév</td>\n",
              "    </tr>\n",
              "    <tr>\n",
              "      <th>2</th>\n",
              "      <td>Paris</td>\n",
              "      <td>Strasbourg</td>\n",
              "      <td>225</td>\n",
              "      <td>mar</td>\n",
              "    </tr>\n",
              "    <tr>\n",
              "      <th>3</th>\n",
              "      <td>Paris</td>\n",
              "      <td>Strasbourg</td>\n",
              "      <td>234</td>\n",
              "      <td>avr</td>\n",
              "    </tr>\n",
              "    <tr>\n",
              "      <th>4</th>\n",
              "      <td>Paris</td>\n",
              "      <td>Strasbourg</td>\n",
              "      <td>256</td>\n",
              "      <td>mai</td>\n",
              "    </tr>\n",
              "    <tr>\n",
              "      <th>...</th>\n",
              "      <td>...</td>\n",
              "      <td>...</td>\n",
              "      <td>...</td>\n",
              "      <td>...</td>\n",
              "    </tr>\n",
              "    <tr>\n",
              "      <th>95</th>\n",
              "      <td>Nice</td>\n",
              "      <td>Strasbourg</td>\n",
              "      <td>130</td>\n",
              "      <td>fév</td>\n",
              "    </tr>\n",
              "    <tr>\n",
              "      <th>96</th>\n",
              "      <td>Nice</td>\n",
              "      <td>Strasbourg</td>\n",
              "      <td>186</td>\n",
              "      <td>mar</td>\n",
              "    </tr>\n",
              "    <tr>\n",
              "      <th>97</th>\n",
              "      <td>Nice</td>\n",
              "      <td>Strasbourg</td>\n",
              "      <td>154</td>\n",
              "      <td>avr</td>\n",
              "    </tr>\n",
              "    <tr>\n",
              "      <th>98</th>\n",
              "      <td>Nice</td>\n",
              "      <td>Strasbourg</td>\n",
              "      <td>164</td>\n",
              "      <td>mai</td>\n",
              "    </tr>\n",
              "    <tr>\n",
              "      <th>99</th>\n",
              "      <td>Nice</td>\n",
              "      <td>Strasbourg</td>\n",
              "      <td>188</td>\n",
              "      <td>juin</td>\n",
              "    </tr>\n",
              "  </tbody>\n",
              "</table>\n",
              "<p>100 rows × 4 columns</p>\n",
              "</div>"
            ],
            "text/plain": [
              "   Départ     Arrivée  Prix  Mois\n",
              "0   Paris  Strasbourg   310   jan\n",
              "1   Paris  Strasbourg   189   fév\n",
              "2   Paris  Strasbourg   225   mar\n",
              "3   Paris  Strasbourg   234   avr\n",
              "4   Paris  Strasbourg   256   mai\n",
              "..    ...         ...   ...   ...\n",
              "95   Nice  Strasbourg   130   fév\n",
              "96   Nice  Strasbourg   186   mar\n",
              "97   Nice  Strasbourg   154   avr\n",
              "98   Nice  Strasbourg   164   mai\n",
              "99   Nice  Strasbourg   188  juin\n",
              "\n",
              "[100 rows x 4 columns]"
            ]
          },
          "metadata": {
            "tags": []
          },
          "execution_count": 13
        }
      ]
    },
    {
      "cell_type": "markdown",
      "metadata": {
        "id": "iBqEgBKD2ooZ"
      },
      "source": [
        "La troisième base de données contiendra les prix moyens du billet aller-retour en fonction du délai entre la réservation et le départ et de l'aéroport de départ."
      ]
    },
    {
      "cell_type": "code",
      "metadata": {
        "id": "dersByMO2Lwl"
      },
      "source": [
        "col_3_1 = []\n",
        "col_3_2 = []\n",
        "col_3_3 = []\n",
        "col_3_4 = avance_mois\n",
        "num_list = 0\n",
        "\n",
        "for k in range(len(ordre_villes)):\n",
        "    for l in range(len(villesbis[k])):\n",
        "        col_3_1 = col_3_1 + [villesbis[k][l]]*len(liste_prix_avance[num_list])\n",
        "        col_3_2 = col_3_2 + [ordre_villes[k]]*len(liste_prix_avance[num_list])\n",
        "        col_3_3 = col_3_3 + liste_prix_avance[num_list]\n",
        "        num_list = num_list + 1"
      ],
      "execution_count": null,
      "outputs": []
    },
    {
      "cell_type": "code",
      "metadata": {
        "id": "YfBqcr0w2N_i",
        "outputId": "6892985c-03c6-4e47-ee94-90c1397cf714",
        "colab": {
          "base_uri": "https://localhost:8080/",
          "height": 402
        }
      },
      "source": [
        "table_prix_avance = pandas.DataFrame({'Départ' : col_3_1 , 'Arrivée': col_3_2 , 'Prix': col_3_3, 'Temps entre la réservation et le vol': col_3_4})\n",
        "table_prix_avance[:100]"
      ],
      "execution_count": null,
      "outputs": [
        {
          "output_type": "execute_result",
          "data": {
            "text/html": [
              "<div>\n",
              "<style scoped>\n",
              "    .dataframe tbody tr th:only-of-type {\n",
              "        vertical-align: middle;\n",
              "    }\n",
              "\n",
              "    .dataframe tbody tr th {\n",
              "        vertical-align: top;\n",
              "    }\n",
              "\n",
              "    .dataframe thead th {\n",
              "        text-align: right;\n",
              "    }\n",
              "</style>\n",
              "<table border=\"1\" class=\"dataframe\">\n",
              "  <thead>\n",
              "    <tr style=\"text-align: right;\">\n",
              "      <th></th>\n",
              "      <th>Départ</th>\n",
              "      <th>Arrivée</th>\n",
              "      <th>Prix</th>\n",
              "      <th>Temps entre la réservation et le vol</th>\n",
              "    </tr>\n",
              "  </thead>\n",
              "  <tbody>\n",
              "    <tr>\n",
              "      <th>0</th>\n",
              "      <td>Paris</td>\n",
              "      <td>Strasbourg</td>\n",
              "      <td>315</td>\n",
              "      <td>0 à 1 mois</td>\n",
              "    </tr>\n",
              "    <tr>\n",
              "      <th>1</th>\n",
              "      <td>Paris</td>\n",
              "      <td>Strasbourg</td>\n",
              "      <td>237</td>\n",
              "      <td>1 à 2 mois</td>\n",
              "    </tr>\n",
              "    <tr>\n",
              "      <th>2</th>\n",
              "      <td>Paris</td>\n",
              "      <td>Strasbourg</td>\n",
              "      <td>198</td>\n",
              "      <td>2 à 3 mois</td>\n",
              "    </tr>\n",
              "    <tr>\n",
              "      <th>3</th>\n",
              "      <td>Paris</td>\n",
              "      <td>Strasbourg</td>\n",
              "      <td>201</td>\n",
              "      <td>3 à 4 mois</td>\n",
              "    </tr>\n",
              "    <tr>\n",
              "      <th>4</th>\n",
              "      <td>Paris</td>\n",
              "      <td>Strasbourg</td>\n",
              "      <td>208</td>\n",
              "      <td>4 à 5 mois</td>\n",
              "    </tr>\n",
              "    <tr>\n",
              "      <th>...</th>\n",
              "      <td>...</td>\n",
              "      <td>...</td>\n",
              "      <td>...</td>\n",
              "      <td>...</td>\n",
              "    </tr>\n",
              "    <tr>\n",
              "      <th>95</th>\n",
              "      <td>Paris</td>\n",
              "      <td>Bordeaux</td>\n",
              "      <td>134</td>\n",
              "      <td>2 à 3 mois</td>\n",
              "    </tr>\n",
              "    <tr>\n",
              "      <th>96</th>\n",
              "      <td>Paris</td>\n",
              "      <td>Bordeaux</td>\n",
              "      <td>155</td>\n",
              "      <td>3 à 4 mois</td>\n",
              "    </tr>\n",
              "    <tr>\n",
              "      <th>97</th>\n",
              "      <td>Paris</td>\n",
              "      <td>Bordeaux</td>\n",
              "      <td>181</td>\n",
              "      <td>4 à 5 mois</td>\n",
              "    </tr>\n",
              "    <tr>\n",
              "      <th>98</th>\n",
              "      <td>Paris</td>\n",
              "      <td>Bordeaux</td>\n",
              "      <td>163</td>\n",
              "      <td>5 à 6 mois</td>\n",
              "    </tr>\n",
              "    <tr>\n",
              "      <th>99</th>\n",
              "      <td>Paris</td>\n",
              "      <td>Bordeaux</td>\n",
              "      <td>271</td>\n",
              "      <td>6 à 7 mois</td>\n",
              "    </tr>\n",
              "  </tbody>\n",
              "</table>\n",
              "<p>100 rows × 4 columns</p>\n",
              "</div>"
            ],
            "text/plain": [
              "   Départ     Arrivée  Prix Temps entre la réservation et le vol\n",
              "0   Paris  Strasbourg   315                           0 à 1 mois\n",
              "1   Paris  Strasbourg   237                           1 à 2 mois\n",
              "2   Paris  Strasbourg   198                           2 à 3 mois\n",
              "3   Paris  Strasbourg   201                           3 à 4 mois\n",
              "4   Paris  Strasbourg   208                           4 à 5 mois\n",
              "..    ...         ...   ...                                  ...\n",
              "95  Paris    Bordeaux   134                           2 à 3 mois\n",
              "96  Paris    Bordeaux   155                           3 à 4 mois\n",
              "97  Paris    Bordeaux   181                           4 à 5 mois\n",
              "98  Paris    Bordeaux   163                           5 à 6 mois\n",
              "99  Paris    Bordeaux   271                           6 à 7 mois\n",
              "\n",
              "[100 rows x 4 columns]"
            ]
          },
          "metadata": {
            "tags": []
          },
          "execution_count": 15
        }
      ]
    },
    {
      "cell_type": "markdown",
      "metadata": {
        "id": "u8jn_sHoRB55"
      },
      "source": [
        "On termine en créant des fichiers csv contenant les données récupérées."
      ]
    },
    {
      "cell_type": "code",
      "metadata": {
        "id": "HQMt3X3LQ_Gq"
      },
      "source": [
        "table_prix_trajet.to_csv('bdd1.csv')\n",
        "table_prix_mois.to_csv('bdd2.csv')\n",
        "table_prix_avance.to_csv('bdd3.csv')"
      ],
      "execution_count": null,
      "outputs": []
    },
    {
      "cell_type": "markdown",
      "metadata": {
        "id": "CptfBMHu3J8N"
      },
      "source": [
        "### **Données sur le trafic ferroviaire en France**\n"
      ]
    },
    {
      "cell_type": "code",
      "metadata": {
        "id": "TpcqCX-Ja8PV"
      },
      "source": [
        ""
      ],
      "execution_count": null,
      "outputs": []
    },
    {
      "cell_type": "markdown",
      "metadata": {
        "id": "z0ewvIctZ5Ev"
      },
      "source": [
        "# **2. Visualisation**"
      ]
    },
    {
      "cell_type": "markdown",
      "metadata": {
        "id": "wU1F9at3aM3b"
      },
      "source": [
        "# **3. Modélisation**"
      ]
    },
    {
      "cell_type": "markdown",
      "metadata": {
        "id": "YCiqoz3NWrUv"
      },
      "source": [
        "### **Preprocessing**"
      ]
    },
    {
      "cell_type": "markdown",
      "metadata": {
        "id": "fdB7RZPrWDP2"
      },
      "source": [
        "##### **Standardisation et normalisation des données**"
      ]
    },
    {
      "cell_type": "code",
      "metadata": {
        "id": "1eU0uliv80o5"
      },
      "source": [
        ""
      ],
      "execution_count": null,
      "outputs": []
    },
    {
      "cell_type": "markdown",
      "metadata": {
        "id": "a7JiwHIIWRM-"
      },
      "source": [
        "##### **Encodage des valeurs catégorielles**"
      ]
    },
    {
      "cell_type": "code",
      "metadata": {
        "id": "BldU_l-aWQ0H"
      },
      "source": [
        ""
      ],
      "execution_count": 17,
      "outputs": []
    },
    {
      "cell_type": "markdown",
      "metadata": {
        "id": "QiT6tM2rXu4Q"
      },
      "source": [
        "### **Modéles**"
      ]
    },
    {
      "cell_type": "markdown",
      "metadata": {
        "id": "mQ2E9cABYRtk"
      },
      "source": [
        "##### **Modèle de SVM**"
      ]
    },
    {
      "cell_type": "code",
      "metadata": {
        "id": "s94qY3JRWr8J"
      },
      "source": [
        ""
      ],
      "execution_count": null,
      "outputs": []
    },
    {
      "cell_type": "markdown",
      "metadata": {
        "id": "iuygrxiPX_8f"
      },
      "source": [
        "##### **Modèle de régression**"
      ]
    },
    {
      "cell_type": "code",
      "metadata": {
        "id": "iO7ZZwLxYdtq"
      },
      "source": [
        ""
      ],
      "execution_count": 17,
      "outputs": []
    },
    {
      "cell_type": "markdown",
      "metadata": {
        "id": "gKZnL0_2YeCa"
      },
      "source": [
        "##### **Modèle de clustering**"
      ]
    },
    {
      "cell_type": "code",
      "metadata": {
        "id": "-GsrTSb-YR75"
      },
      "source": [
        ""
      ],
      "execution_count": null,
      "outputs": []
    },
    {
      "cell_type": "markdown",
      "metadata": {
        "id": "DfPVEao6WmxJ"
      },
      "source": [
        "### **Evaluation des modèles**"
      ]
    },
    {
      "cell_type": "code",
      "metadata": {
        "id": "M03mG3TQWmgi"
      },
      "source": [
        ""
      ],
      "execution_count": null,
      "outputs": []
    }
  ]
}