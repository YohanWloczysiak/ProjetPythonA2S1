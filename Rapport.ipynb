{
  "nbformat": 4,
  "nbformat_minor": 0,
  "metadata": {
    "colab": {
      "name": "Copie de Rapport.ipynb",
      "provenance": [],
      "collapsed_sections": [],
      "toc_visible": true,
      "include_colab_link": true
    },
    "kernelspec": {
      "display_name": "Python 3",
      "name": "python3"
    }
  },
  "cells": [
    {
      "cell_type": "markdown",
      "metadata": {
        "id": "view-in-github",
        "colab_type": "text"
      },
      "source": [
        "<a href=\"https://colab.research.google.com/github/YohanWloczysiak/Projet_Python_A2_S1/blob/main/Rapport.ipynb\" target=\"_parent\"><img src=\"https://colab.research.google.com/assets/colab-badge.svg\" alt=\"Open In Colab\"/></a>"
      ]
    },
    {
      "cell_type": "markdown",
      "metadata": {
        "id": "d7Y8jUdeVfTG"
      },
      "source": [
        "# **Importation des modules**"
      ]
    },
    {
      "cell_type": "code",
      "metadata": {
        "colab": {
          "base_uri": "https://localhost:8080/"
        },
        "id": "0tEWrTWyV_vs",
        "outputId": "cd6a005e-19f3-4189-9c61-725b0c185ca8"
      },
      "source": [
        "!pip install --upgrade geopandas\r\n",
        "!pip install --upgrade -q gspread\r\n",
        "!pip install fuzzywuzzy[speedup]"
      ],
      "execution_count": 1,
      "outputs": [
        {
          "output_type": "stream",
          "text": [
            "Collecting geopandas\n",
            "\u001b[?25l  Downloading https://files.pythonhosted.org/packages/f7/a4/e66aafbefcbb717813bf3a355c8c4fc3ed04ea1dd7feb2920f2f4f868921/geopandas-0.8.1-py2.py3-none-any.whl (962kB)\n",
            "\u001b[K     |████████████████████████████████| 972kB 8.2MB/s \n",
            "\u001b[?25hRequirement already satisfied, skipping upgrade: pandas>=0.23.0 in /usr/local/lib/python3.6/dist-packages (from geopandas) (1.1.5)\n",
            "Collecting fiona\n",
            "\u001b[?25l  Downloading https://files.pythonhosted.org/packages/37/94/4910fd55246c1d963727b03885ead6ef1cd3748a465f7b0239ab25dfc9a3/Fiona-1.8.18-cp36-cp36m-manylinux1_x86_64.whl (14.8MB)\n",
            "\u001b[K     |████████████████████████████████| 14.8MB 333kB/s \n",
            "\u001b[?25hCollecting pyproj>=2.2.0\n",
            "\u001b[?25l  Downloading https://files.pythonhosted.org/packages/e4/ab/280e80a67cfc109d15428c0ec56391fc03a65857b7727cf4e6e6f99a4204/pyproj-3.0.0.post1-cp36-cp36m-manylinux2010_x86_64.whl (6.4MB)\n",
            "\u001b[K     |████████████████████████████████| 6.5MB 24.7MB/s \n",
            "\u001b[?25hRequirement already satisfied, skipping upgrade: shapely in /usr/local/lib/python3.6/dist-packages (from geopandas) (1.7.1)\n",
            "Requirement already satisfied, skipping upgrade: python-dateutil>=2.7.3 in /usr/local/lib/python3.6/dist-packages (from pandas>=0.23.0->geopandas) (2.8.1)\n",
            "Requirement already satisfied, skipping upgrade: pytz>=2017.2 in /usr/local/lib/python3.6/dist-packages (from pandas>=0.23.0->geopandas) (2018.9)\n",
            "Requirement already satisfied, skipping upgrade: numpy>=1.15.4 in /usr/local/lib/python3.6/dist-packages (from pandas>=0.23.0->geopandas) (1.18.5)\n",
            "Collecting cligj>=0.5\n",
            "  Downloading https://files.pythonhosted.org/packages/42/1e/947eadf10d6804bf276eb8a038bd5307996dceaaa41cfd21b7a15ec62f5d/cligj-0.7.1-py3-none-any.whl\n",
            "Requirement already satisfied, skipping upgrade: click<8,>=4.0 in /usr/local/lib/python3.6/dist-packages (from fiona->geopandas) (7.1.2)\n",
            "Collecting click-plugins>=1.0\n",
            "  Downloading https://files.pythonhosted.org/packages/e9/da/824b92d9942f4e472702488857914bdd50f73021efea15b4cad9aca8ecef/click_plugins-1.1.1-py2.py3-none-any.whl\n",
            "Requirement already satisfied, skipping upgrade: certifi in /usr/local/lib/python3.6/dist-packages (from fiona->geopandas) (2020.12.5)\n",
            "Requirement already satisfied, skipping upgrade: attrs>=17 in /usr/local/lib/python3.6/dist-packages (from fiona->geopandas) (20.3.0)\n",
            "Requirement already satisfied, skipping upgrade: six>=1.7 in /usr/local/lib/python3.6/dist-packages (from fiona->geopandas) (1.15.0)\n",
            "Collecting munch\n",
            "  Downloading https://files.pythonhosted.org/packages/cc/ab/85d8da5c9a45e072301beb37ad7f833cd344e04c817d97e0cc75681d248f/munch-2.5.0-py2.py3-none-any.whl\n",
            "Installing collected packages: cligj, click-plugins, munch, fiona, pyproj, geopandas\n",
            "Successfully installed click-plugins-1.1.1 cligj-0.7.1 fiona-1.8.18 geopandas-0.8.1 munch-2.5.0 pyproj-3.0.0.post1\n",
            "Collecting fuzzywuzzy[speedup]\n",
            "  Downloading https://files.pythonhosted.org/packages/43/ff/74f23998ad2f93b945c0309f825be92e04e0348e062026998b5eefef4c33/fuzzywuzzy-0.18.0-py2.py3-none-any.whl\n",
            "Collecting python-levenshtein>=0.12; extra == \"speedup\"\n",
            "\u001b[?25l  Downloading https://files.pythonhosted.org/packages/42/a9/d1785c85ebf9b7dfacd08938dd028209c34a0ea3b1bcdb895208bd40a67d/python-Levenshtein-0.12.0.tar.gz (48kB)\n",
            "\u001b[K     |████████████████████████████████| 51kB 4.2MB/s \n",
            "\u001b[?25hRequirement already satisfied: setuptools in /usr/local/lib/python3.6/dist-packages (from python-levenshtein>=0.12; extra == \"speedup\"->fuzzywuzzy[speedup]) (50.3.2)\n",
            "Building wheels for collected packages: python-levenshtein\n",
            "  Building wheel for python-levenshtein (setup.py) ... \u001b[?25l\u001b[?25hdone\n",
            "  Created wheel for python-levenshtein: filename=python_Levenshtein-0.12.0-cp36-cp36m-linux_x86_64.whl size=144792 sha256=5a5739c03bc9a3ad9e09f6e55840d8540a5e7e59d056ba69eb93f319c4a32778\n",
            "  Stored in directory: /root/.cache/pip/wheels/de/c2/93/660fd5f7559049268ad2dc6d81c4e39e9e36518766eaf7e342\n",
            "Successfully built python-levenshtein\n",
            "Installing collected packages: python-levenshtein, fuzzywuzzy\n",
            "Successfully installed fuzzywuzzy-0.18.0 python-levenshtein-0.12.0\n"
          ],
          "name": "stdout"
        }
      ]
    },
    {
      "cell_type": "code",
      "metadata": {
        "id": "JWDYWyAq6vQj",
        "colab": {
          "base_uri": "https://localhost:8080/"
        },
        "outputId": "df7ab63b-90ea-4585-f8fe-12356bffae74"
      },
      "source": [
        "import urllib\n",
        "import bs4\n",
        "import pandas\n",
        "import re\n",
        "import numpy\n",
        "import geopandas\n",
        "import seaborn as sn\n",
        "import scipy\n",
        "import statsmodels.api as sm\n",
        "import matplotlib.pyplot as plt\n",
        "import Levenshtein as lev\n",
        "\n",
        "from pyproj import Geod\n",
        "from shapely.geometry import Point\n",
        "from shapely.geometry import Polygon\n",
        "from urllib.request import Request, urlopen\n",
        "from scipy import stats"
      ],
      "execution_count": 2,
      "outputs": [
        {
          "output_type": "stream",
          "text": [
            "/usr/local/lib/python3.6/dist-packages/statsmodels/tools/_testing.py:19: FutureWarning: pandas.util.testing is deprecated. Use the functions in the public API at pandas.testing instead.\n",
            "  import pandas.util.testing as tm\n"
          ],
          "name": "stderr"
        }
      ]
    },
    {
      "cell_type": "markdown",
      "metadata": {
        "id": "Z7RzwUtOZViK"
      },
      "source": [
        "# **1. Modélisation**"
      ]
    },
    {
      "cell_type": "markdown",
      "metadata": {
        "id": "MlEkVctY2hEG"
      },
      "source": [
        "Cette première partie permet de récupérer et de traiter les données que nous utiliserons dans le projet.\n"
      ]
    },
    {
      "cell_type": "markdown",
      "metadata": {
        "id": "wLXn4xt23B-v"
      },
      "source": [
        "### **Données sur le trafic aérien en France**\n"
      ]
    },
    {
      "cell_type": "markdown",
      "metadata": {
        "id": "FpJRK3gw64jv"
      },
      "source": [
        "Les données sur le trafic aérien en France sont issues du site https://www.ou-et-quand.net/vols/. Afin de les récupérer, nous allons de voir faire du webscraping."
      ]
    },
    {
      "cell_type": "markdown",
      "metadata": {
        "id": "5P1BUQwk7SzI"
      },
      "source": [
        "Nous commençons par récupérer l'adresse url de chaque page qui nous intéresse, c'est-à-dire chaque page concernant un aéroport français."
      ]
    },
    {
      "cell_type": "code",
      "metadata": {
        "id": "LZyPPvHU2PM7"
      },
      "source": [
        "# (A modifier : voir si on peut récupérer les noms de villes avec du webscraping)\n",
        "\n",
        "url_radical = \"https://www.ou-et-quand.net/vols/\"\n",
        "ordre_villes = ['Strasbourg', 'Bordeaux', 'Clermont-Ferrand', 'Rennes', 'Brest', 'Ajaccio', 'Bastia', 'Calvi', 'Figari', 'Montpellier', 'Limoges', 'Metz', 'Toulouse', 'Lille', 'Caen', 'Nantes', 'Poitiers', 'Marseille', 'Nice', 'Lyon', 'Paris']\n",
        "url_terminaison = [\"alsace/strasbourg/\", \"aquitaine/bordeaux/\", \"auvergne/clermont-ferrand/\", \"bretagne/rennes/\", \"bretagne/brest/\", \"corse/ajaccio/\", \"corse/bastia/\", \"corse/calvi/\", \"corse/figari/\", \"languedoc-roussillon/montpellier/\", \"limousin/limoges/\", \"lorraine/metz/\", \"midi-pyrenees/toulouse/\", \"nord-pas-de-calais/lille/\", \"normandie/caen/\", \"pays-de-la-loire/nantes/\", \"poitou-charentes/poitiers/\", \"provence-alpes-c-te-d-azur/marseille/\", \"provence-alpes-c-te-d-azur/nice/\", \"rh-ne-alpes/lyon/\", \"ile-de-france/paris/\"]"
      ],
      "execution_count": 3,
      "outputs": []
    },
    {
      "cell_type": "markdown",
      "metadata": {
        "id": "0P2axJDK7hyj"
      },
      "source": [
        "Pour chaque aéroport, nous devons récupérer plusieurs données : le prix moyen du billet aller-retour en fonction des aéroports de départ, le prix moyen du billet aller-retour en fonction du mois de départ et de l'aéroport de départ ainsi que le prix moyen du billet aller-retour en fonction du délai entre la réservation et le départ et de l'aéroport de départ."
      ]
    },
    {
      "cell_type": "markdown",
      "metadata": {
        "id": "ko88giYixwSw"
      },
      "source": [
        "##### **Construction des expressions régulières**"
      ]
    },
    {
      "cell_type": "markdown",
      "metadata": {
        "id": "6qF196PWxkIx"
      },
      "source": [
        "On commence par construire les expressions régulières qui vont nous permettre de sélectionner les parties de la page html qui nous intéressent.\n",
        "\n",
        "Pour récupérer les données, il faudra utiliser plusieurs expressions régulières à chaque fois.\n",
        "\n",
        "\n",
        "\n",
        "\n"
      ]
    },
    {
      "cell_type": "markdown",
      "metadata": {
        "id": "jeEcz79QzEkC"
      },
      "source": [
        "Les expressions commençant par \"expression_villes\" permettent de récupérer les noms des villes de départ."
      ]
    },
    {
      "cell_type": "code",
      "metadata": {
        "id": "aiKsclQRzi50"
      },
      "source": [
        "expression_villes = re.compile(\"categories:.+],\")\n",
        "expression_villes_bis = re.compile(\":.+],\")\n",
        "expression_villes_ter = re.compile(\"[\\w]+\")"
      ],
      "execution_count": 4,
      "outputs": []
    },
    {
      "cell_type": "markdown",
      "metadata": {
        "id": "dkBlGzs2zODV"
      },
      "source": [
        "Les expressions commençant par \"expression_prix\" permettent de récupérer les prix moyens en fonction de l'aéroport de départ."
      ]
    },
    {
      "cell_type": "code",
      "metadata": {
        "id": "-qX962KQzlVU"
      },
      "source": [
        "expression_prix = re.compile(\"\"\"'aéroport de départ',\n",
        "            data: .+,\"\"\")\n",
        "expression_prix_bis = re.compile(\":.+],\")\n",
        "expression_prix_ter = re.compile(\"[\\d]+\")"
      ],
      "execution_count": 5,
      "outputs": []
    },
    {
      "cell_type": "markdown",
      "metadata": {
        "id": "1d6YrZ3AzWqd"
      },
      "source": [
        "Les expressions commençant par \"expression_mois\" permettent de récupérer la liste des mois pour lesquels on a des données de prix."
      ]
    },
    {
      "cell_type": "code",
      "metadata": {
        "id": "DSvY6aDZzpsi"
      },
      "source": [
        "expression_mois = re.compile(\"\"\"xAxis: {\n",
        "            categories: .+,\n",
        "            title: {\n",
        "                text: null\"\"\")\n",
        "expression_mois_select = re.compile(\"'jan.'|'fév.'|'mar.'|'avr.'|'mai'|'juin'|'juil'|'août'|'sep.'|'oct.'|'nov.'|'déc.'\")\n",
        "expression_mois_bis = re.compile(\"[\\w]+\")"
      ],
      "execution_count": 6,
      "outputs": []
    },
    {
      "cell_type": "markdown",
      "metadata": {
        "id": "f-WC8IXSzVfn"
      },
      "source": [
        "Les expressions commençant par \"expression_prix_mois\" permettent de récupérer les prix moyens en fonction du mois de départ et de l'aéroport de départ."
      ]
    },
    {
      "cell_type": "code",
      "metadata": {
        "id": "uNkvdzD3znU_"
      },
      "source": [
        "expression_prix_mois = re.compile(\"\"\"en euros selon le mois de départ',\n",
        "            data: .+,\"\"\")\n",
        "expression_prix_mois_bis = re.compile(\":.+],\")\n",
        "expression_prix_mois_ter = re.compile(\"[\\d]+\")"
      ],
      "execution_count": 7,
      "outputs": []
    },
    {
      "cell_type": "markdown",
      "metadata": {
        "id": "uhTMM46szfDJ"
      },
      "source": [
        "Les expressions commençant par \"expression_avance\" permettent de récupérer les délais entre la réservation et le départ pour lesquels on a des données de prix."
      ]
    },
    {
      "cell_type": "code",
      "metadata": {
        "id": "iPNnnYJ4ztan"
      },
      "source": [
        "expression_avance = re.compile(\"\"\"xAxis: {\n",
        "            categories: .+,\n",
        "            title: {\n",
        "                text: null\"\"\")\n",
        "expression_avance_select = re.compile(\"'0 à 1 mois'|'1 à 2 mois'|'2 à 3 mois'|'3 à 4 mois'|'4 à 5 mois'|'5 à 6 mois'|'6 à 7 mois'|'7 à 8 mois'|'8 à 9 mois'|'9 à 10 mois'|'10 à 11 mois'|'11 à 12 mois'\")\n",
        "expression_avance_bis = re.compile(\"[\\w]+\")"
      ],
      "execution_count": 8,
      "outputs": []
    },
    {
      "cell_type": "markdown",
      "metadata": {
        "id": "2RSw7ZA0zV9J"
      },
      "source": [
        "Les expressions commençant par \"expression_prix_avance\" permettent de récupérer les prix moyens en fonction du délai entre le mois de départ et la réservation."
      ]
    },
    {
      "cell_type": "code",
      "metadata": {
        "id": "WrNMSQpJzr0B"
      },
      "source": [
        "expression_prix_avance = re.compile(\"\"\"selon le nombre de mois entre la réservation et le vol',\n",
        "            data: .+,\"\"\")\n",
        "expression_prix_avance_bis = re.compile(\":.+],\")\n",
        "expression_prix_avance_ter = re.compile(\"[\\d]+\")"
      ],
      "execution_count": 9,
      "outputs": []
    },
    {
      "cell_type": "markdown",
      "metadata": {
        "id": "1MzAVkSr1UZT"
      },
      "source": [
        "##### **Récupération des données par webscraping**"
      ]
    },
    {
      "cell_type": "markdown",
      "metadata": {
        "id": "VjD21MBs1gvF"
      },
      "source": [
        "Maintenant qu'on a nos expressions régulières, on peut rechercher l'ensemble des données qui nous intéressent sur les pages du site."
      ]
    },
    {
      "cell_type": "code",
      "metadata": {
        "id": "t6oVYDTV2gof"
      },
      "source": [
        "prix_moyen_destination = []\n",
        "villesbis = []\n",
        "villes = []\n",
        "prix = []\n",
        "liste_prix = []\n",
        "prix_mois = []\n",
        "liste_prix_mois = []\n",
        "prix_avance = []\n",
        "liste_prix_avance = []\n",
        "avance_mois = []\n",
        "mois = []\n",
        "liste_mois = []\n",
        "\n",
        "\n",
        "for i in range(len(ordre_villes)):\n",
        "    url_totale = url_radical+url_terminaison[i]\n",
        "    \n",
        "    req = Request(url_totale, headers={'User-Agent': 'Mozilla/5.0'})\n",
        "    web_byte = urlopen(req).read()\n",
        "    page = bs4.BeautifulSoup(web_byte, 'lxml')\n",
        "    \n",
        "    prix_moyen_destination.append(page.findAll(\"script\")[22])\n",
        "    s = prix_moyen_destination[i].text.strip()\n",
        "    \n",
        "    # seconde étape : recherche\n",
        "    # Récupération des villes de départ\n",
        "    city = expression_villes.findall(s)[0]\n",
        "    city_bis = expression_villes_bis.findall(city)\n",
        "    liste_villes = expression_villes_ter.findall(city_bis[0])\n",
        "    villesbis.append(liste_villes)\n",
        "    \n",
        "    \n",
        "    \"\"\"Récupération des prix moyens en fonction de la ville de départ\"\"\"\n",
        "    price_moyen_bis = expression_prix.findall(s)\n",
        "    price_moyen = expression_prix_bis.findall(price_moyen_bis[0])\n",
        "    prix_moyen = expression_prix_ter.findall(price_moyen[0])\n",
        "    \n",
        "    liste_prixbis = []\n",
        "\n",
        "    for elem in prix_moyen:\n",
        "        elem_bis = int(elem)\n",
        "        liste_prixbis.append(elem_bis)\n",
        "        \n",
        "    liste_prix.append(liste_prixbis)\n",
        "    \n",
        "    \n",
        "    \"\"\"Récupération des prix moyens en fonction du mois de départ\"\"\"\n",
        "    price_mois_bis = expression_prix_mois.findall(s)\n",
        "    month = expression_mois.findall(s)\n",
        "    for elem in month:\n",
        "        if expression_mois_select.findall(elem) != []:\n",
        "            month_select = expression_mois_select.findall(elem)\n",
        "            \n",
        "            for elem_bis in month_select:\n",
        "                month_bis = expression_mois_bis.findall(elem_bis)\n",
        "                mois.append(month_bis[0])\n",
        "        \n",
        "        \n",
        "    for j in range(len(price_mois_bis)):\n",
        "        price_mois = expression_prix_mois_bis.findall(price_mois_bis[j])\n",
        "        prix_mois = expression_prix_mois_ter.findall(price_mois[0])\n",
        "        liste_prixbis_mois = []\n",
        "\n",
        "        for elem in prix_mois:\n",
        "            elem_bis = int(elem)\n",
        "            liste_prixbis_mois.append(elem_bis)\n",
        "\n",
        "        liste_prix_mois.append(liste_prixbis_mois) \n",
        "    \n",
        "\n",
        "    \n",
        "    \"\"\"Récupération des prix moyens en fonction du mois de réservation\"\"\"\n",
        "    price_avance_bis = expression_prix_avance.findall(s)\n",
        "    avance = expression_avance.findall(s)\n",
        "    for elem in avance:\n",
        "        if expression_avance_select.findall(elem) != []:\n",
        "            avance_select = expression_avance_select.findall(elem)\n",
        "            \n",
        "            for elem_bis in avance_select:\n",
        "                avance_bis = expression_avance_bis.findall(elem_bis)\n",
        "                avance_mois.append(avance_bis[0] + ' ' + avance_bis[1] + ' ' +  avance_bis[2] + ' ' +  avance_bis[3])\n",
        "        \n",
        "        \n",
        "    for j in range(len(price_avance_bis)):\n",
        "        price_avance = expression_prix_avance_bis.findall(price_avance_bis[j])\n",
        "        prix_avance = expression_prix_avance_ter.findall(price_avance[0])\n",
        "        liste_prixbis_avance = []\n",
        "\n",
        "        for elem in prix_avance:\n",
        "            elem_bis = int(elem)\n",
        "            liste_prixbis_avance.append(elem_bis)\n",
        "\n",
        "        liste_prix_avance.append(liste_prixbis_avance)"
      ],
      "execution_count": 10,
      "outputs": []
    },
    {
      "cell_type": "markdown",
      "metadata": {
        "id": "0S4yzt6f11f3"
      },
      "source": [
        "##### **Création des bases de données finales**"
      ]
    },
    {
      "cell_type": "markdown",
      "metadata": {
        "id": "9mjAG3iv2Vpn"
      },
      "source": [
        "La première base de données contiendra les prix moyens du billet aller-retour en fonction uniquement de l'aéroport de départ."
      ]
    },
    {
      "cell_type": "code",
      "metadata": {
        "id": "ZwS6ymnL161U"
      },
      "source": [
        "col_1_1 = []\n",
        "col_1_2 = []\n",
        "col_1_3 = []\n",
        "col_1_4 = []\n",
        "\n",
        "for l in range(len(villesbis)):\n",
        "    col_1_1 = col_1_1 + villesbis[l]\n",
        "    col_1_2 = col_1_2 + [ordre_villes[l]]*len(villesbis[l])\n",
        "    col_1_3 = col_1_3 + liste_prix[l]"
      ],
      "execution_count": 11,
      "outputs": []
    },
    {
      "cell_type": "code",
      "metadata": {
        "colab": {
          "base_uri": "https://localhost:8080/",
          "height": 402
        },
        "id": "8QTbfMGk2FqL",
        "outputId": "916b4e09-efa9-4cdd-f7b9-b0a2989a414c"
      },
      "source": [
        "bdd_1 = pandas.DataFrame({'Départ' : col_1_1 , 'Arrivée': col_1_2 , 'Prix': col_1_3})\n",
        "bdd_1[:100]"
      ],
      "execution_count": 12,
      "outputs": [
        {
          "output_type": "execute_result",
          "data": {
            "text/html": [
              "<div>\n",
              "<style scoped>\n",
              "    .dataframe tbody tr th:only-of-type {\n",
              "        vertical-align: middle;\n",
              "    }\n",
              "\n",
              "    .dataframe tbody tr th {\n",
              "        vertical-align: top;\n",
              "    }\n",
              "\n",
              "    .dataframe thead th {\n",
              "        text-align: right;\n",
              "    }\n",
              "</style>\n",
              "<table border=\"1\" class=\"dataframe\">\n",
              "  <thead>\n",
              "    <tr style=\"text-align: right;\">\n",
              "      <th></th>\n",
              "      <th>Départ</th>\n",
              "      <th>Arrivée</th>\n",
              "      <th>Prix</th>\n",
              "    </tr>\n",
              "  </thead>\n",
              "  <tbody>\n",
              "    <tr>\n",
              "      <th>0</th>\n",
              "      <td>Paris</td>\n",
              "      <td>Strasbourg</td>\n",
              "      <td>247</td>\n",
              "    </tr>\n",
              "    <tr>\n",
              "      <th>1</th>\n",
              "      <td>Nantes</td>\n",
              "      <td>Strasbourg</td>\n",
              "      <td>170</td>\n",
              "    </tr>\n",
              "    <tr>\n",
              "      <th>2</th>\n",
              "      <td>Marseille</td>\n",
              "      <td>Strasbourg</td>\n",
              "      <td>208</td>\n",
              "    </tr>\n",
              "    <tr>\n",
              "      <th>3</th>\n",
              "      <td>Bordeaux</td>\n",
              "      <td>Strasbourg</td>\n",
              "      <td>225</td>\n",
              "    </tr>\n",
              "    <tr>\n",
              "      <th>4</th>\n",
              "      <td>Bruxelles</td>\n",
              "      <td>Strasbourg</td>\n",
              "      <td>205</td>\n",
              "    </tr>\n",
              "    <tr>\n",
              "      <th>...</th>\n",
              "      <td>...</td>\n",
              "      <td>...</td>\n",
              "      <td>...</td>\n",
              "    </tr>\n",
              "    <tr>\n",
              "      <th>95</th>\n",
              "      <td>Nice</td>\n",
              "      <td>Metz</td>\n",
              "      <td>246</td>\n",
              "    </tr>\n",
              "    <tr>\n",
              "      <th>96</th>\n",
              "      <td>Paris</td>\n",
              "      <td>Toulouse</td>\n",
              "      <td>132</td>\n",
              "    </tr>\n",
              "    <tr>\n",
              "      <th>97</th>\n",
              "      <td>Nantes</td>\n",
              "      <td>Toulouse</td>\n",
              "      <td>121</td>\n",
              "    </tr>\n",
              "    <tr>\n",
              "      <th>98</th>\n",
              "      <td>Marseille</td>\n",
              "      <td>Toulouse</td>\n",
              "      <td>145</td>\n",
              "    </tr>\n",
              "    <tr>\n",
              "      <th>99</th>\n",
              "      <td>Bordeaux</td>\n",
              "      <td>Toulouse</td>\n",
              "      <td>289</td>\n",
              "    </tr>\n",
              "  </tbody>\n",
              "</table>\n",
              "<p>100 rows × 3 columns</p>\n",
              "</div>"
            ],
            "text/plain": [
              "       Départ     Arrivée  Prix\n",
              "0       Paris  Strasbourg   247\n",
              "1      Nantes  Strasbourg   170\n",
              "2   Marseille  Strasbourg   208\n",
              "3    Bordeaux  Strasbourg   225\n",
              "4   Bruxelles  Strasbourg   205\n",
              "..        ...         ...   ...\n",
              "95       Nice        Metz   246\n",
              "96      Paris    Toulouse   132\n",
              "97     Nantes    Toulouse   121\n",
              "98  Marseille    Toulouse   145\n",
              "99   Bordeaux    Toulouse   289\n",
              "\n",
              "[100 rows x 3 columns]"
            ]
          },
          "metadata": {
            "tags": []
          },
          "execution_count": 12
        }
      ]
    },
    {
      "cell_type": "markdown",
      "metadata": {
        "id": "fmWzkIwn2iAI"
      },
      "source": [
        "La deuxième base de données contiendra les prix moyens du billet aller-retour en fonction du mois de départ et de l'aéroport de départ."
      ]
    },
    {
      "cell_type": "code",
      "metadata": {
        "id": "ul7QRhga2IE0"
      },
      "source": [
        "col_2_1 = []\n",
        "col_2_2 = []\n",
        "col_2_3 = []\n",
        "col_2_4 = mois\n",
        "num_list = 0\n",
        "\n",
        "for k in range(len(ordre_villes)):\n",
        "    for l in range(len(villesbis[k])):\n",
        "        col_2_1 = col_2_1 + [villesbis[k][l]]*len(liste_prix_mois[num_list])\n",
        "        col_2_2 = col_2_2 + [ordre_villes[k]]*len(liste_prix_mois[num_list])\n",
        "        col_2_3 = col_2_3 + liste_prix_mois[num_list]\n",
        "        num_list = num_list + 1"
      ],
      "execution_count": 13,
      "outputs": []
    },
    {
      "cell_type": "code",
      "metadata": {
        "colab": {
          "base_uri": "https://localhost:8080/",
          "height": 402
        },
        "id": "zceKP6kF2KRP",
        "outputId": "b53bd97b-7b42-4a70-a025-b9ff19ee4779"
      },
      "source": [
        "bdd_2 = pandas.DataFrame({'Départ' : col_2_1 , 'Arrivée': col_2_2 , 'Prix': col_2_3, 'Mois': col_2_4})\n",
        "bdd_2[:100]"
      ],
      "execution_count": 14,
      "outputs": [
        {
          "output_type": "execute_result",
          "data": {
            "text/html": [
              "<div>\n",
              "<style scoped>\n",
              "    .dataframe tbody tr th:only-of-type {\n",
              "        vertical-align: middle;\n",
              "    }\n",
              "\n",
              "    .dataframe tbody tr th {\n",
              "        vertical-align: top;\n",
              "    }\n",
              "\n",
              "    .dataframe thead th {\n",
              "        text-align: right;\n",
              "    }\n",
              "</style>\n",
              "<table border=\"1\" class=\"dataframe\">\n",
              "  <thead>\n",
              "    <tr style=\"text-align: right;\">\n",
              "      <th></th>\n",
              "      <th>Départ</th>\n",
              "      <th>Arrivée</th>\n",
              "      <th>Prix</th>\n",
              "      <th>Mois</th>\n",
              "    </tr>\n",
              "  </thead>\n",
              "  <tbody>\n",
              "    <tr>\n",
              "      <th>0</th>\n",
              "      <td>Paris</td>\n",
              "      <td>Strasbourg</td>\n",
              "      <td>304</td>\n",
              "      <td>jan</td>\n",
              "    </tr>\n",
              "    <tr>\n",
              "      <th>1</th>\n",
              "      <td>Paris</td>\n",
              "      <td>Strasbourg</td>\n",
              "      <td>185</td>\n",
              "      <td>fév</td>\n",
              "    </tr>\n",
              "    <tr>\n",
              "      <th>2</th>\n",
              "      <td>Paris</td>\n",
              "      <td>Strasbourg</td>\n",
              "      <td>224</td>\n",
              "      <td>mar</td>\n",
              "    </tr>\n",
              "    <tr>\n",
              "      <th>3</th>\n",
              "      <td>Paris</td>\n",
              "      <td>Strasbourg</td>\n",
              "      <td>233</td>\n",
              "      <td>avr</td>\n",
              "    </tr>\n",
              "    <tr>\n",
              "      <th>4</th>\n",
              "      <td>Paris</td>\n",
              "      <td>Strasbourg</td>\n",
              "      <td>250</td>\n",
              "      <td>mai</td>\n",
              "    </tr>\n",
              "    <tr>\n",
              "      <th>...</th>\n",
              "      <td>...</td>\n",
              "      <td>...</td>\n",
              "      <td>...</td>\n",
              "      <td>...</td>\n",
              "    </tr>\n",
              "    <tr>\n",
              "      <th>95</th>\n",
              "      <td>Nice</td>\n",
              "      <td>Strasbourg</td>\n",
              "      <td>106</td>\n",
              "      <td>fév</td>\n",
              "    </tr>\n",
              "    <tr>\n",
              "      <th>96</th>\n",
              "      <td>Nice</td>\n",
              "      <td>Strasbourg</td>\n",
              "      <td>178</td>\n",
              "      <td>mar</td>\n",
              "    </tr>\n",
              "    <tr>\n",
              "      <th>97</th>\n",
              "      <td>Nice</td>\n",
              "      <td>Strasbourg</td>\n",
              "      <td>155</td>\n",
              "      <td>avr</td>\n",
              "    </tr>\n",
              "    <tr>\n",
              "      <th>98</th>\n",
              "      <td>Nice</td>\n",
              "      <td>Strasbourg</td>\n",
              "      <td>155</td>\n",
              "      <td>mai</td>\n",
              "    </tr>\n",
              "    <tr>\n",
              "      <th>99</th>\n",
              "      <td>Nice</td>\n",
              "      <td>Strasbourg</td>\n",
              "      <td>187</td>\n",
              "      <td>juin</td>\n",
              "    </tr>\n",
              "  </tbody>\n",
              "</table>\n",
              "<p>100 rows × 4 columns</p>\n",
              "</div>"
            ],
            "text/plain": [
              "   Départ     Arrivée  Prix  Mois\n",
              "0   Paris  Strasbourg   304   jan\n",
              "1   Paris  Strasbourg   185   fév\n",
              "2   Paris  Strasbourg   224   mar\n",
              "3   Paris  Strasbourg   233   avr\n",
              "4   Paris  Strasbourg   250   mai\n",
              "..    ...         ...   ...   ...\n",
              "95   Nice  Strasbourg   106   fév\n",
              "96   Nice  Strasbourg   178   mar\n",
              "97   Nice  Strasbourg   155   avr\n",
              "98   Nice  Strasbourg   155   mai\n",
              "99   Nice  Strasbourg   187  juin\n",
              "\n",
              "[100 rows x 4 columns]"
            ]
          },
          "metadata": {
            "tags": []
          },
          "execution_count": 14
        }
      ]
    },
    {
      "cell_type": "markdown",
      "metadata": {
        "id": "iBqEgBKD2ooZ"
      },
      "source": [
        "La troisième base de données contiendra les prix moyens du billet aller-retour en fonction du délai entre la réservation et le départ et de l'aéroport de départ."
      ]
    },
    {
      "cell_type": "code",
      "metadata": {
        "id": "dersByMO2Lwl"
      },
      "source": [
        "col_3_1 = []\n",
        "col_3_2 = []\n",
        "col_3_3 = []\n",
        "col_3_4 = avance_mois\n",
        "num_list = 0\n",
        "\n",
        "for k in range(len(ordre_villes)):\n",
        "    for l in range(len(villesbis[k])):\n",
        "        col_3_1 = col_3_1 + [villesbis[k][l]]*len(liste_prix_avance[num_list])\n",
        "        col_3_2 = col_3_2 + [ordre_villes[k]]*len(liste_prix_avance[num_list])\n",
        "        col_3_3 = col_3_3 + liste_prix_avance[num_list]\n",
        "        num_list = num_list + 1"
      ],
      "execution_count": 15,
      "outputs": []
    },
    {
      "cell_type": "code",
      "metadata": {
        "colab": {
          "base_uri": "https://localhost:8080/",
          "height": 402
        },
        "id": "YfBqcr0w2N_i",
        "outputId": "6071ee28-aba7-4519-efd5-8cfc089c7957"
      },
      "source": [
        "bdd_3 = pandas.DataFrame({'Départ' : col_3_1 , 'Arrivée': col_3_2 , 'Prix': col_3_3, 'Temps entre la réservation et le vol': col_3_4})\n",
        "bdd_3[:100]"
      ],
      "execution_count": 16,
      "outputs": [
        {
          "output_type": "execute_result",
          "data": {
            "text/html": [
              "<div>\n",
              "<style scoped>\n",
              "    .dataframe tbody tr th:only-of-type {\n",
              "        vertical-align: middle;\n",
              "    }\n",
              "\n",
              "    .dataframe tbody tr th {\n",
              "        vertical-align: top;\n",
              "    }\n",
              "\n",
              "    .dataframe thead th {\n",
              "        text-align: right;\n",
              "    }\n",
              "</style>\n",
              "<table border=\"1\" class=\"dataframe\">\n",
              "  <thead>\n",
              "    <tr style=\"text-align: right;\">\n",
              "      <th></th>\n",
              "      <th>Départ</th>\n",
              "      <th>Arrivée</th>\n",
              "      <th>Prix</th>\n",
              "      <th>Temps entre la réservation et le vol</th>\n",
              "    </tr>\n",
              "  </thead>\n",
              "  <tbody>\n",
              "    <tr>\n",
              "      <th>0</th>\n",
              "      <td>Paris</td>\n",
              "      <td>Strasbourg</td>\n",
              "      <td>311</td>\n",
              "      <td>0 à 1 mois</td>\n",
              "    </tr>\n",
              "    <tr>\n",
              "      <th>1</th>\n",
              "      <td>Paris</td>\n",
              "      <td>Strasbourg</td>\n",
              "      <td>235</td>\n",
              "      <td>1 à 2 mois</td>\n",
              "    </tr>\n",
              "    <tr>\n",
              "      <th>2</th>\n",
              "      <td>Paris</td>\n",
              "      <td>Strasbourg</td>\n",
              "      <td>196</td>\n",
              "      <td>2 à 3 mois</td>\n",
              "    </tr>\n",
              "    <tr>\n",
              "      <th>3</th>\n",
              "      <td>Paris</td>\n",
              "      <td>Strasbourg</td>\n",
              "      <td>200</td>\n",
              "      <td>3 à 4 mois</td>\n",
              "    </tr>\n",
              "    <tr>\n",
              "      <th>4</th>\n",
              "      <td>Paris</td>\n",
              "      <td>Strasbourg</td>\n",
              "      <td>208</td>\n",
              "      <td>4 à 5 mois</td>\n",
              "    </tr>\n",
              "    <tr>\n",
              "      <th>...</th>\n",
              "      <td>...</td>\n",
              "      <td>...</td>\n",
              "      <td>...</td>\n",
              "      <td>...</td>\n",
              "    </tr>\n",
              "    <tr>\n",
              "      <th>95</th>\n",
              "      <td>Paris</td>\n",
              "      <td>Bordeaux</td>\n",
              "      <td>134</td>\n",
              "      <td>2 à 3 mois</td>\n",
              "    </tr>\n",
              "    <tr>\n",
              "      <th>96</th>\n",
              "      <td>Paris</td>\n",
              "      <td>Bordeaux</td>\n",
              "      <td>154</td>\n",
              "      <td>3 à 4 mois</td>\n",
              "    </tr>\n",
              "    <tr>\n",
              "      <th>97</th>\n",
              "      <td>Paris</td>\n",
              "      <td>Bordeaux</td>\n",
              "      <td>180</td>\n",
              "      <td>4 à 5 mois</td>\n",
              "    </tr>\n",
              "    <tr>\n",
              "      <th>98</th>\n",
              "      <td>Paris</td>\n",
              "      <td>Bordeaux</td>\n",
              "      <td>160</td>\n",
              "      <td>5 à 6 mois</td>\n",
              "    </tr>\n",
              "    <tr>\n",
              "      <th>99</th>\n",
              "      <td>Paris</td>\n",
              "      <td>Bordeaux</td>\n",
              "      <td>269</td>\n",
              "      <td>6 à 7 mois</td>\n",
              "    </tr>\n",
              "  </tbody>\n",
              "</table>\n",
              "<p>100 rows × 4 columns</p>\n",
              "</div>"
            ],
            "text/plain": [
              "   Départ     Arrivée  Prix Temps entre la réservation et le vol\n",
              "0   Paris  Strasbourg   311                           0 à 1 mois\n",
              "1   Paris  Strasbourg   235                           1 à 2 mois\n",
              "2   Paris  Strasbourg   196                           2 à 3 mois\n",
              "3   Paris  Strasbourg   200                           3 à 4 mois\n",
              "4   Paris  Strasbourg   208                           4 à 5 mois\n",
              "..    ...         ...   ...                                  ...\n",
              "95  Paris    Bordeaux   134                           2 à 3 mois\n",
              "96  Paris    Bordeaux   154                           3 à 4 mois\n",
              "97  Paris    Bordeaux   180                           4 à 5 mois\n",
              "98  Paris    Bordeaux   160                           5 à 6 mois\n",
              "99  Paris    Bordeaux   269                           6 à 7 mois\n",
              "\n",
              "[100 rows x 4 columns]"
            ]
          },
          "metadata": {
            "tags": []
          },
          "execution_count": 16
        }
      ]
    },
    {
      "cell_type": "markdown",
      "metadata": {
        "id": "CptfBMHu3J8N"
      },
      "source": [
        "### **Données sur le trafic ferroviaire en France**\n"
      ]
    },
    {
      "cell_type": "markdown",
      "metadata": {
        "id": "x7ddHJCajdYr"
      },
      "source": [
        "#### Ouverture de la base de données"
      ]
    },
    {
      "cell_type": "code",
      "metadata": {
        "colab": {
          "base_uri": "https://localhost:8080/",
          "height": 402
        },
        "id": "bU0ksGG_jdYx",
        "outputId": "9bd18ed2-0f28-4993-b95b-6c5d20a27343"
      },
      "source": [
        "df = pandas.read_csv('https://raw.githubusercontent.com/YohanWloczysiak/Projet_Python_A2_S1/main/tarifs-tgv-par-od.csv')\n",
        "df.columns =['Colonne']\n",
        "df\n",
        "#df.size"
      ],
      "execution_count": 18,
      "outputs": [
        {
          "output_type": "execute_result",
          "data": {
            "text/html": [
              "<div>\n",
              "<style scoped>\n",
              "    .dataframe tbody tr th:only-of-type {\n",
              "        vertical-align: middle;\n",
              "    }\n",
              "\n",
              "    .dataframe tbody tr th {\n",
              "        vertical-align: top;\n",
              "    }\n",
              "\n",
              "    .dataframe thead th {\n",
              "        text-align: right;\n",
              "    }\n",
              "</style>\n",
              "<table border=\"1\" class=\"dataframe\">\n",
              "  <thead>\n",
              "    <tr style=\"text-align: right;\">\n",
              "      <th></th>\n",
              "      <th>Colonne</th>\n",
              "    </tr>\n",
              "  </thead>\n",
              "  <tbody>\n",
              "    <tr>\n",
              "      <th>0</th>\n",
              "      <td>NIMES-LILLE EUROPE;30.0;144.0;184.0;</td>\n",
              "    </tr>\n",
              "    <tr>\n",
              "      <th>1</th>\n",
              "      <td>MOUTIERS SALINS BRIDES-QUIMPER;30.0;147.0;190.0;</td>\n",
              "    </tr>\n",
              "    <tr>\n",
              "      <th>2</th>\n",
              "      <td>LANDRY-QUIMPER;30.0;147.0;190.0;</td>\n",
              "    </tr>\n",
              "    <tr>\n",
              "      <th>3</th>\n",
              "      <td>TGV HAUTE PICARDIE-AGDE;30.0;150.0;188.0;</td>\n",
              "    </tr>\n",
              "    <tr>\n",
              "      <th>4</th>\n",
              "      <td>TGV HAUTE PICARDIE-SETE;30.0;150.0;188.0;</td>\n",
              "    </tr>\n",
              "    <tr>\n",
              "      <th>...</th>\n",
              "      <td>...</td>\n",
              "    </tr>\n",
              "    <tr>\n",
              "      <th>4157</th>\n",
              "      <td>PLOUARET TREGOR - PARIS MONTPARNASSE 1 ET 2;20...</td>\n",
              "    </tr>\n",
              "    <tr>\n",
              "      <th>4158</th>\n",
              "      <td>DOL DE BRETAGNE - PARIS MONTPARNASSE 1 ET 2;20...</td>\n",
              "    </tr>\n",
              "    <tr>\n",
              "      <th>4159</th>\n",
              "      <td>MARNE LA VALLEE CHESSY - MORLAIX;20.0;99.0;138...</td>\n",
              "    </tr>\n",
              "    <tr>\n",
              "      <th>4160</th>\n",
              "      <td>QUIMPERLE - MARNE LA VALLEE CHESSY;20.0;103.0;...</td>\n",
              "    </tr>\n",
              "    <tr>\n",
              "      <th>4161</th>\n",
              "      <td>MASSY TGV - QUIMPER;20.0;103.0;147.0;Tarifs ap...</td>\n",
              "    </tr>\n",
              "  </tbody>\n",
              "</table>\n",
              "<p>4162 rows × 1 columns</p>\n",
              "</div>"
            ],
            "text/plain": [
              "                                                Colonne\n",
              "0                  NIMES-LILLE EUROPE;30.0;144.0;184.0;\n",
              "1      MOUTIERS SALINS BRIDES-QUIMPER;30.0;147.0;190.0;\n",
              "2                      LANDRY-QUIMPER;30.0;147.0;190.0;\n",
              "3             TGV HAUTE PICARDIE-AGDE;30.0;150.0;188.0;\n",
              "4             TGV HAUTE PICARDIE-SETE;30.0;150.0;188.0;\n",
              "...                                                 ...\n",
              "4157  PLOUARET TREGOR - PARIS MONTPARNASSE 1 ET 2;20...\n",
              "4158  DOL DE BRETAGNE - PARIS MONTPARNASSE 1 ET 2;20...\n",
              "4159  MARNE LA VALLEE CHESSY - MORLAIX;20.0;99.0;138...\n",
              "4160  QUIMPERLE - MARNE LA VALLEE CHESSY;20.0;103.0;...\n",
              "4161  MASSY TGV - QUIMPER;20.0;103.0;147.0;Tarifs ap...\n",
              "\n",
              "[4162 rows x 1 columns]"
            ]
          },
          "metadata": {
            "tags": []
          },
          "execution_count": 18
        }
      ]
    },
    {
      "cell_type": "markdown",
      "metadata": {
        "id": "fFKH8fK8jdZV"
      },
      "source": [
        "On observe que la base de données récupérée possède une seule colonne et 4162 lignes. Chaque ligne correspond à un trajet (gare de départ-gare d'arrivée), tarif d'appel en seconde classe, plein tarif de loisir en seconde classe et tarif de première classe. Il faut donc créer un DataFrame contenant ces informations séparées en 5 colonnes."
      ]
    },
    {
      "cell_type": "markdown",
      "metadata": {
        "id": "3lNCa0SPjdZf"
      },
      "source": [
        "#### Création de deux colonnes : gare de départ, gare d'arrivée  "
      ]
    },
    {
      "cell_type": "code",
      "metadata": {
        "colab": {
          "base_uri": "https://localhost:8080/"
        },
        "id": "gx6FCmJfjdZk",
        "outputId": "213d9a24-056f-4d28-deba-c39ad19b5f1f"
      },
      "source": [
        "liste_gare_0= []\n",
        "for k in range(len(df['Colonne'])):\n",
        "    liste_gare_0.append(re.split(';', df['Colonne'][k])[0])\n",
        "liste_gare_0"
      ],
      "execution_count": 19,
      "outputs": [
        {
          "output_type": "execute_result",
          "data": {
            "text/plain": [
              "['NIMES-LILLE EUROPE',\n",
              " 'MOUTIERS SALINS BRIDES-QUIMPER',\n",
              " 'LANDRY-QUIMPER',\n",
              " 'TGV HAUTE PICARDIE-AGDE',\n",
              " 'TGV HAUTE PICARDIE-SETE',\n",
              " 'PARIS GARE DE LYON-TOULON',\n",
              " 'PARIS GARE DE LYON-MONTBELIARD',\n",
              " 'LIMOGES BENEDICTINS-AEROPORT CDG 2 TGV ROISSY',\n",
              " 'CHATEAUROUX-AEROPORT CDG 2 TGV ROISSY',\n",
              " 'CHAMBERY CHALLES LES EAUX-MASSY TGV',\n",
              " 'MASSY TGV-AIX LES BAINS LE REVARD',\n",
              " 'AEROPORT CDG 2 TGV ROISSY-AIX LES BAINS LE REVARD',\n",
              " 'NICE VILLE-CHALON SUR SAONE',\n",
              " 'BELFORT-MONTBELIARD TGV-LONS LE SAUNIER',\n",
              " 'MARSEILLE ST CHARLES-LONS LE SAUNIER',\n",
              " 'BESANCON VIOTTE-LILLE EUROPE',\n",
              " 'ANGERS ST LAUD-NANCY VILLE',\n",
              " 'LE MANS-PARIS MONTPARNASSE 1 ET 2',\n",
              " 'LE MANS-MASSY TGV',\n",
              " 'AEROPORT CDG 2 TGV ROISSY-ALBERTVILLE',\n",
              " 'PARIS NORD-ALBERTVILLE',\n",
              " 'MARNE LA VALLEE CHESSY-BOURG ST MAURICE',\n",
              " 'ST JEAN DE MAURIENNE ARVAN-MARNE LA VALLEE CHESSY',\n",
              " 'MARNE LA VALLEE CHESSY-ST MICHEL VALLOIRE',\n",
              " 'MARNE LA VALLEE CHESSY-ANNECY',\n",
              " 'MASSY TGV-ANNEMASSE',\n",
              " 'MASSY PALAISEAU-VALENCE',\n",
              " 'LE TEIL-PARIS GARE DE LYON',\n",
              " 'PARIS EST-ST DIE',\n",
              " 'MEUSE-LUNEVILLE',\n",
              " 'LYON ST EXUPERY-POITIERS',\n",
              " 'MACON LOCHE TGV-ORANGE',\n",
              " 'MEUSE-REMIREMONT',\n",
              " 'AVIGNON TGV-VENTIMIGLIA STAZIONE',\n",
              " 'POITIERS-SAVERNE',\n",
              " 'ANGOULEME-SAVERNE',\n",
              " 'VENDOME VILLIERS SUR LOIR-LYON ST EXUPERY',\n",
              " 'LYON ST EXUPERY-BELFORT-MONTBELIARD TGV',\n",
              " 'BOURG ST MAURICE-BESANCON FRANCHE-COMTE TGV',\n",
              " 'AVIGNON-RENNES',\n",
              " 'AVIGNON-BELFORT-MONTBELIARD TGV',\n",
              " 'BESANCON VIOTTE-AVIGNON',\n",
              " 'AVIGNON-LONS LE SAUNIER',\n",
              " 'CAGNES SUR MER-NICE VILLE',\n",
              " 'QUIMPERLE-LORIENT',\n",
              " 'BOULOGNE VILLE-ETAPLES LE TOUQUET',\n",
              " 'BORDEAUX ST JEAN-LIBOURNE',\n",
              " 'STRASBOURG-SELESTAT',\n",
              " 'CLUSES  74-ANNEMASSE',\n",
              " 'LUNEVILLE-SARREBOURG',\n",
              " 'GROISY THORENS LA CAILLE-CLUSES  74',\n",
              " 'BORDEAUX ST JEAN-LA TESTE',\n",
              " 'TOURS-BLOIS',\n",
              " 'ST ETIENNE CHATEAUCREUX-LYON PART DIEU',\n",
              " 'LYON PERRACHE-MACON LOCHE TGV',\n",
              " 'NIMES-AGDE',\n",
              " 'CLUSES  74-AIX LES BAINS LE REVARD',\n",
              " 'LILLE FLANDRES-TGV HAUTE PICARDIE',\n",
              " 'MOUTIERS SALINS BRIDES-AIX LES BAINS LE REVARD',\n",
              " 'AVIGNON-MARSEILLE BLANCARDE',\n",
              " 'CHAMBERY CHALLES LES EAUX-AIME LA PLAGNE',\n",
              " 'BESANCON VIOTTE-BOURG EN BRESSE',\n",
              " 'LANDRY-BOURG EN BRESSE',\n",
              " 'LANDRY-AIX LES BAINS LE REVARD',\n",
              " 'FACTURE BIGANOS-BAYONNE',\n",
              " 'LYON ST EXUPERY-ANNEMASSE',\n",
              " 'CARCASSONNE-NIMES',\n",
              " 'SABLE-LA ROCHE SUR YON',\n",
              " 'BOURG EN BRESSE-SALLANCHES COMBLOUX MEGEVE',\n",
              " 'SURGERES-ST PIERRE DES CORPS',\n",
              " 'BREAUTE BEUZEVILLE-MASSY PALAISEAU',\n",
              " 'RANG DU FLIERS VERTON-LILLE EUROPE',\n",
              " 'COLMAR-MOUCHARD',\n",
              " 'AGEN-ANGOULEME',\n",
              " 'BORDEAUX ST JEAN-LOURDES',\n",
              " 'ST PERAY-AGDE',\n",
              " 'POITIERS-MARMANDE',\n",
              " 'BRIVE LA GAILLARDE-LES AUBRAIS ORLEANS',\n",
              " 'IRUN-POITIERS',\n",
              " 'HENDAYE-FUTUROSCOPE',\n",
              " 'ST PIERRE DES CORPS-TARBES',\n",
              " 'AIX EN PROVENCE TGV-VENTIMIGLIA STAZIONE',\n",
              " 'ST AVRE LA CHAMBRE-MACON LOCHE TGV',\n",
              " 'AVIGNON-AGDE',\n",
              " 'NIMES-MARNE LA VALLEE CHESSY',\n",
              " 'MASSY TGV-LYON ST EXUPERY',\n",
              " 'METZ VILLE-LYON ST EXUPERY',\n",
              " 'METZ VILLE-LYON PERRACHE',\n",
              " 'CULMONT CHALINDREY-cannes',\n",
              " 'NEUFCHATEAU-toulouse matabiau',\n",
              " 'CULMONT CHALINDREY-NIMES',\n",
              " 'paris austerlitz-Surgeres',\n",
              " 'PARIS MONTPARNASSE 1 ET 2-FUTUROSCOPE',\n",
              " 'LORIENT-DOUAI',\n",
              " 'AGEN-PARIS MONTPARNASSE 1 ET 2',\n",
              " 'MASSY TGV-LE POULIGUEN',\n",
              " 'MASSY TGV-SURGERES',\n",
              " 'FUTUROSCOPE-ST PIERRE DES CORPS',\n",
              " 'LAVAL-VANNES',\n",
              " 'LAVAL-AURAY',\n",
              " 'LE MANS-REDON',\n",
              " 'BORDEAUX ST JEAN-VENDOME VILLIERS SUR LOIR',\n",
              " 'LA TESTE-POITIERS',\n",
              " 'BREST-PARIS MONTPARNASSE 1 ET 2',\n",
              " 'AEROPORT CDG2 TGV ROISSY - LIBOURNE',\n",
              " 'LILLE EUROPE - LORIENT',\n",
              " 'VANNES - DOUAI',\n",
              " 'DOUAI - AURAY',\n",
              " 'ANGOULEME - MASSY TGV',\n",
              " 'ANGERS ST LAUD - PARIS MONTPARNASSE 1 ET 2',\n",
              " 'LA ROCHELLE VILLE - PARIS MONTPARNASSE 1 ET 2',\n",
              " 'PARIS MONTPARNASSE 1 ET 2 - TOULOUSE MATABIAU',\n",
              " 'ANGERS ST LAUD - MASSY TGV',\n",
              " 'MASSY TGV - LE CROISIC',\n",
              " 'JUVISY TGV-MARNE LA VALLEE CHESSY',\n",
              " 'AVIGNON TGV-MARSEILLE ST CHARLES',\n",
              " 'JUVISY TGV-AEROPORT CDG 2 TGV ROISSY',\n",
              " \"LE HAVRE-CONFLANS FIN D'OISE\",\n",
              " 'METZ VILLE-CHAMPAGNE ARDENNE',\n",
              " 'VALENCE TGV-LE CREUSOT MONTCEAU MONTCHANIN',\n",
              " 'AIX EN PROVENCE TGV-NARBONNE',\n",
              " 'TOURCOING-PARIS NORD',\n",
              " 'CHERBOURG-MANTES LA J. TGV',\n",
              " 'DIJON VILLE-VALENCE',\n",
              " 'AVIGNON-LE CREUSOT MONTCEAU MONTCHANIN',\n",
              " 'AVIGNON TGV-NICE VILLE',\n",
              " 'LYON ST EXUPERY-TOULON',\n",
              " 'LILLE FLANDRES-LES AUBRAIS ORLEANS',\n",
              " 'LYON ST EXUPERY-ST RAPHAEL VALESCURE',\n",
              " 'BESANCON VIOTTE-LISIEUX',\n",
              " 'LILLE FLANDRES-TOURS',\n",
              " 'ST MAIXENT DEUX SEVRES-TGV HAUTE PICARDIE',\n",
              " 'LILLE FLANDRES-FUTUROSCOPE',\n",
              " 'FONTAINEBLEAU AVON-AIX EN PROVENCE TGV',\n",
              " 'NIORT-ARRAS',\n",
              " 'LAMBALLE-ARRAS',\n",
              " 'ST BRIEUC-TGV HAUTE PICARDIE',\n",
              " 'CAEN-AIME LA PLAGNE',\n",
              " 'LISON-ALBERTVILLE',\n",
              " 'CARENTAN-BOURG ST MAURICE',\n",
              " 'EVREUX EMBRANCHEMENT-LANDRY',\n",
              " 'TOURS-AIX EN PROVENCE TGV',\n",
              " 'LILLE EUROPE-ST GERVAIS LES BAINS LE FAYET',\n",
              " 'AIME LA PLAGNE-DOUAI',\n",
              " 'DOUAI-ST MICHEL VALLOIRE',\n",
              " 'ARRAS-SALLANCHES COMBLOUX MEGEVE',\n",
              " 'DUNKERQUE-MODANE',\n",
              " 'DUNKERQUE-ANNECY',\n",
              " 'LILLE EUROPE-LA ROCHE SUR FORON',\n",
              " 'LA ROCHE SUR FORON-NANTES',\n",
              " 'LE HAVRE-MARSEILLE ST CHARLES',\n",
              " 'RENNES-VALENCE',\n",
              " 'BOURG ST MAURICE-RENNES',\n",
              " 'LANDRY-RENNES',\n",
              " 'AIME LA PLAGNE-VANNES',\n",
              " 'MOUTIERS SALINS BRIDES-AURAY',\n",
              " 'LA ROCHE SUR FORON-REDON',\n",
              " 'LORIENT-ANNECY',\n",
              " 'CHATELLERAULT - ST PIERRE DES CORPS',\n",
              " 'LE MANS - AURAY',\n",
              " 'LE MANS - QUIMPERLE',\n",
              " 'MARNE LA VALLEE CHESSY - LANDERNEAU',\n",
              " 'MARNE LA VALLEE CHESSY - ROSPORDEN',\n",
              " 'TOURS - CHATELLERAULT',\n",
              " 'ANGERS ST LAUD - LYON SAINT EXUPERY TGV',\n",
              " 'ARRAS-DOUAI',\n",
              " 'HENDAYE-BIARRITZ',\n",
              " 'BAYEUX-LISON',\n",
              " 'METZ VILLE-THIONVILLE',\n",
              " 'GUINGAMP-ST BRIEUC',\n",
              " 'NURIEUX-BELLEGARDE',\n",
              " 'PLOUARET TREGOR-ST BRIEUC',\n",
              " 'CASTELNAUDARY-TOULOUSE MATABIAU',\n",
              " 'DAX-BIARRITZ',\n",
              " 'ARLES-ORANGE',\n",
              " 'GROISY THORENS LA CAILLE-SALLANCHES COMBLOUX MEGEVE',\n",
              " 'NARBONNE-SETE',\n",
              " 'MANTES LA J. TGV-ROUEN RIVE DROITE',\n",
              " 'PAU-MORCENX',\n",
              " 'DAX-PAU',\n",
              " 'MARSEILLE ST CHARLES-HYERES',\n",
              " 'TOURCOING-ARRAS',\n",
              " 'BREST-PLOUARET TREGOR',\n",
              " 'VALENCE-ORANGE',\n",
              " \"LES SABLES D'OLONNE-NANTES\",\n",
              " 'BESANCON VIOTTE-BELFORT',\n",
              " 'ANCENIS-LA ROCHE SUR YON',\n",
              " 'DIJON VILLE-FRASNE',\n",
              " 'ST PERAY-VILLENEUVE LES AVIGNONS',\n",
              " 'NIMES-MONTELIMAR',\n",
              " 'SAUMUR-VENDOME VILLIERS SUR LOIR',\n",
              " 'NANTES-AURAY',\n",
              " 'AIX EN PROVENCE TGV-LES ARCS DRAGUIGNAN',\n",
              " 'CASTELNAUDARY-MONTPELLIER',\n",
              " 'VERSAILLES CHANTIERS-YVETOT',\n",
              " 'LIMOGES BENEDICTINS-VIERZON VILLE',\n",
              " 'ANGERS ST LAUD-VANNES',\n",
              " 'HENDAYE-LIBOURNE',\n",
              " 'ANGERS ST LAUD-LORIENT',\n",
              " 'LE MANS-LE CROISIC',\n",
              " 'LYON PART DIEU-BOURG ST MAURICE',\n",
              " 'QUIMPER-VITRE',\n",
              " 'HENDAYE-POITIERS',\n",
              " 'ST PIERRE DES CORPS-TOULOUSE MATABIAU',\n",
              " 'VENDOME-MASSY TGV',\n",
              " 'VENDOME-LIBOURNE',\n",
              " 'CULOZ-TOULON',\n",
              " 'MARNE LA VALLEE CHESSY-MONTPELLIER',\n",
              " 'MASSY TGV-MARSEILLE ST CHARLES',\n",
              " 'VERSAILLES CHANTIERS-MARSEILLE ST CHARLES',\n",
              " 'AVIGNON-MARNE LA VALLEE CHESSY',\n",
              " 'LYON PART DIEU-PARIS GARE DE LYON',\n",
              " 'BESANCON VIOTTE-MANTES LA JOLIE',\n",
              " 'MULHOUSE VILLE-PARIS GARE DE LYON',\n",
              " 'ROUEN RIVE DROITE-YVETOT',\n",
              " 'LE HAVRE-MEUSE',\n",
              " 'CHAMPAGNE ARDENNE-ROUEN RIVE DROITE',\n",
              " 'MULHOUSE VILLE-AVIGNON TGV',\n",
              " 'METZ VILLE-MONTPELLIER',\n",
              " 'STRASBOURG-LYON ST EXUPERY',\n",
              " 'Toul-carcassonne',\n",
              " 'NEUFCHATEAU-Agde',\n",
              " 'NEUFCHATEAU-carcassonne',\n",
              " 'ST AVRE - LA CHAMBRE-VERSAILLES CHANTIERS',\n",
              " 'ST JEAN DE MAURIENNE ARVAN-VERSAILLES CHANTIERS',\n",
              " 'SETE-MASSY TGV',\n",
              " 'paris austerlitz-brest',\n",
              " 'paris austerlitz-rosporden',\n",
              " 'POITIERS-TGV HAUTE PICARDIE',\n",
              " 'LILLE EUROPE-LORIENT',\n",
              " 'LE MANS-NIMES',\n",
              " 'QUIMPERLE-LILLE EUROPE',\n",
              " 'POITIERS-PARIS MONTPARNASSE 1 ET 2',\n",
              " 'ANGOULEME-MASSY TGV',\n",
              " 'MASSY TGV-NANTES',\n",
              " 'AEROPORT CDG 2 TGV ROISSY-RENNES',\n",
              " 'PARIS MONTPARNASSE 1 ET 2-TARBES',\n",
              " 'LYON PERRACHE-RENNES',\n",
              " 'ANGOULEME-FACTURE BIGANOS',\n",
              " 'BORDEAUX ST JEAN-FUTUROSCOPE',\n",
              " 'AEROPORT CDG 2 TGV ROISSY-ST MALO',\n",
              " 'BREST-MASSY TGV',\n",
              " 'CHAMPAGNE ARDENNE - FUTUROSCOPE',\n",
              " 'QUIMPERLE - TGV HAUTE PICARDIE',\n",
              " 'LILLE EUROPE - AURAY',\n",
              " 'MARSEILLE ST CHARLES - ST PIERRE DES CORPS',\n",
              " 'LE MANS - AIX EN PROVENCE TGV',\n",
              " 'PARIS MONTPARNASSE 1 ET 2 - BAYONNE',\n",
              " 'MARNE LA VALLEE CHESSY - ST NAZAIRE',\n",
              " 'SURGERES - PARIS MONTPARNASSE 1 ET 2',\n",
              " 'MASSY TGV - VANNES',\n",
              " 'AEROPORT CDG 2 TGV ROISSY-MASSY PALAISEAU',\n",
              " 'MACON LOCHE TGV-VALENCE',\n",
              " 'VALENCE-CHALON SUR SAONE',\n",
              " 'TOULON-VALENCE',\n",
              " 'MARNE LA VALLEE CHESSY-ST PIERRE DES CORPS',\n",
              " 'AIX EN PROVENCE TGV-LYON ST EXUPERY',\n",
              " 'LYON PERRACHE-AGDE',\n",
              " 'LYON PART DIEU-SENS',\n",
              " 'AIX EN PROVENCE TGV-BELLEGARDE',\n",
              " 'ANGOULEME-PARIS AUSTERLITZ',\n",
              " 'LYON PART DIEU-ST RAPHAEL VALESCURE',\n",
              " 'LYON PERRACHE-TOULOUSE MATABIAU',\n",
              " 'LAVAL-CHAMPAGNE ARDENNE',\n",
              " 'BEZIERS-BEAUNE',\n",
              " 'LILLE FLANDRES-LE MANS',\n",
              " 'LYON PERRACHE-TGV HAUTE PICARDIE',\n",
              " 'LYON PART DIEU-ST NAZAIRE',\n",
              " 'ROUEN RIVE DROITE-VALENCE',\n",
              " 'PORNICHET-LYON PART DIEU',\n",
              " 'ANGOULEME-LYON PART DIEU',\n",
              " 'LILLE FLANDRES-LIMOGES BENEDICTINS',\n",
              " 'TGV HAUTE PICARDIE-ST GERVAIS LES BAINS LE FAYET',\n",
              " 'ANNECY-TGV HAUTE PICARDIE',\n",
              " 'LILLE FLANDRES-ST BRIEUC',\n",
              " 'METZ VILLE-LES ARCS DRAGUIGNAN',\n",
              " 'CHERBOURG-CHAMBERY CHALLES LES EAUX',\n",
              " 'CHAMBERY CHALLES LES EAUX-DOUAI',\n",
              " 'DOUAI-ST GERVAIS LES BAINS LE FAYET',\n",
              " 'DUNKERQUE-SALLANCHES COMBLOUX MEGEVE',\n",
              " 'GRENOBLE-DOUAI',\n",
              " 'AIX EN PROVENCE TGV-ROUEN RIVE DROITE',\n",
              " 'ANGERS ST LAUD-NIMES',\n",
              " 'ANGERS ST LAUD-AVIGNON',\n",
              " 'ST JEAN DE MAURIENNE ARVAN-RENNES',\n",
              " 'MOUTIERS SALINS BRIDES-VANNES',\n",
              " 'ST JEAN DE MAURIENNE ARVAN-AURAY',\n",
              " 'CHAMBERY CHALLES LES EAUX-GUINGAMP',\n",
              " 'AVIGNON-LILLE EUROPE',\n",
              " 'IRUN-DOUAI',\n",
              " 'MODANE-BREST',\n",
              " 'ST JEAN DE MAURIENNE ARVAN-QUIMPER',\n",
              " 'BREST-LA ROCHE SUR FORON',\n",
              " 'ST AVRE LA CHAMBRE-QUIMPER',\n",
              " 'LILLE FLANDRES-TOULON',\n",
              " 'LILLE EUROPE-MARMANDE',\n",
              " 'CHATEAUROUX-MARNE LA VALLEE CHESSY',\n",
              " 'DIJON VILLE-MANTES LA J. TGV',\n",
              " 'MONTBARD-BELFORT-MONTBELIARD TGV',\n",
              " 'COLMAR-LONS LE SAUNIER',\n",
              " 'MULHOUSE VILLE-BOURG EN BRESSE',\n",
              " 'DIJON VILLE-CARCASSONNE',\n",
              " 'BEZIERS-CHALON SUR SAONE',\n",
              " 'DIJON VILLE-CANNES',\n",
              " 'DIJON VILLE-NICE VILLE',\n",
              " 'BESANCON VIOTTE-AVIGNON TGV',\n",
              " 'METZ VILLE-TOULON',\n",
              " 'NANCY VILLE-CANNES',\n",
              " 'NANCY VILLE-NANTES',\n",
              " 'LAMBALLE-AEROPORT CDG 2 TGV ROISSY',\n",
              " 'PARIS NORD-VALENCE TGV',\n",
              " 'PARIS MONTPARNASSE 1 ET 2-SETE',\n",
              " 'PARIS MONTPARNASSE 1 ET 2-NARBONNE',\n",
              " 'PARIS NORD-LES ARCS DRAGUIGNAN',\n",
              " 'AEROPORT CDG 2 TGV ROISSY-MOUTIERS SALINS BRIDES',\n",
              " 'AEROPORT CDG 2 TGV ROISSY-ANNECY',\n",
              " 'MASSY TGV-ST GERVAIS LES BAINS LE FAYET',\n",
              " 'MACON LOCHE TGV-MARNE LA VALLEE CHESSY',\n",
              " 'MARNE LA VALLEE CHESSY-BELFORT-MONTBELIARD TGV',\n",
              " 'ARLES-MACON LOCHE TGV',\n",
              " 'COLMAR-PARIS GARE DE LYON',\n",
              " 'AEROPORT CDG 2 TGV ROISSY-SAVERNE',\n",
              " 'MEUSE-SAVERNE',\n",
              " 'AIME LA PLAGNE-BESANCON FRANCHE-COMTE TGV',\n",
              " 'LE POULIGUEN-LE CROISIC',\n",
              " 'BIARRITZ-BAYONNE',\n",
              " 'LILLE FLANDRES-ROUBAIX',\n",
              " 'AIME LA PLAGNE-BOURG ST MAURICE',\n",
              " 'AIX EN PROVENCE TGV-MARSEILLE ST CHARLES',\n",
              " 'MASSY TGV - BAYONNE',\n",
              " 'LAVAL - QUIMPERLE',\n",
              " 'MONTAUBAN VILLE BOURBON - ST PIERRE DES CORPS',\n",
              " 'LA TESTE - POITIERS',\n",
              " 'MORLAIX - PARIS MONTPARNASSE 1 ET 2',\n",
              " 'DOUAI-ST JEAN DE LUZ CIBOURE',\n",
              " 'IRUN-ARRAS',\n",
              " 'LILLE EUROPE-SETE',\n",
              " 'LILLE FLANDRES-PERPIGNAN',\n",
              " 'CASTELNAUDARY-LILLE EUROPE',\n",
              " 'ETAPLES LE TOUQUET-PARIS NORD',\n",
              " 'AVIGNON TGV-LYON ST EXUPERY',\n",
              " 'BESANCON VIOTTE-COLMAR',\n",
              " 'CANNES-CHALON SUR SAONE',\n",
              " 'TOUL-ST RAPHAEL VALESCURE',\n",
              " 'NANCY VILLE-VALENCE TGV',\n",
              " 'PARIS AUSTERLITZ-MONTAUBAN VILLE BOURBON',\n",
              " 'MANTES LA J. TGV-VALENCE TGV',\n",
              " 'AEROPORT CDG 2 TGV ROISSY-NICE VILLE',\n",
              " 'PARIS NORD-MOUTIERS SALINS BRIDES',\n",
              " 'LANDRY-PARIS GARE DE LYON',\n",
              " 'AEROPORT CDG 2 TGV ROISSY-BOURG ST MAURICE',\n",
              " 'LANDRY-AEROPORT CDG 2 TGV ROISSY',\n",
              " 'PARIS GARE DE LYON-EVIAN LES BAINS',\n",
              " 'MARNE LA VALLEE CHESSY-ANNEMASSE',\n",
              " 'MARNE LA VALLEE CHESSY-ST GERVAIS LES BAINS LE FAYET',\n",
              " 'AEROPORT CDG 2 TGV ROISSY-ST GERVAIS LES BAINS LE FAYET',\n",
              " 'PARIS GARE DE LYON-MONTELIMAR',\n",
              " 'PARIS EST-BAR LE DUC',\n",
              " 'LYON PART DIEU-POITIERS',\n",
              " 'AIX EN PROVENCE TGV-VENDOME VILLIERS SUR LOIR',\n",
              " 'MULHOUSE VILLE-ALBERTVILLE',\n",
              " 'AVIGNON-ECOLE VALENTIN',\n",
              " 'LANDRY-ECOLE VALENTIN',\n",
              " 'CHAMBÉRY-CHAMBÉRY-LAVAL',\n",
              " 'TOURCOING-CROIX WASQUEHAL',\n",
              " 'CALAIS VILLE-CALAIS FRETHUN',\n",
              " 'CAGNES SUR MER-ANTIBES',\n",
              " 'MODANE-ST MICHEL VALLOIRE',\n",
              " 'BEZIERS-AGDE',\n",
              " 'CULOZ-AIX LES BAINS LE REVARD',\n",
              " 'GUINGAMP-PLOUARET TREGOR',\n",
              " 'LES ARCS DRAGUIGNAN-ST RAPHAEL VALESCURE',\n",
              " 'LILLE FLANDRES-DOUAI',\n",
              " 'CANNES-NICE VILLE',\n",
              " 'ANGERS ST LAUD-SAUMUR',\n",
              " 'CHAMBERY CHALLES LES EAUX-ANNECY',\n",
              " 'RUFFEC CHARENTE-POITIERS',\n",
              " 'DIJON VILLE-CHALON SUR SAONE',\n",
              " 'DUNKERQUE-BETHUNE',\n",
              " 'ANTIBES-LES ARCS DRAGUIGNAN',\n",
              " 'CROIX WASQUEHAL-ARRAS',\n",
              " 'LA BAULE ESCOUBLAC-NANTES',\n",
              " 'BEZIERS-CARCASSONNE',\n",
              " 'LANNION-LAMBALLE',\n",
              " 'ARCACHON-LIBOURNE',\n",
              " 'MIRAMAS-ORANGE',\n",
              " 'LIMOGES BENEDICTINS-BRIVE LA GAILLARDE',\n",
              " 'ANCENIS-SABLE',\n",
              " 'AIX LES BAINS LE REVARD-BOURG EN BRESSE',\n",
              " 'LYON PERRACHE-AIX LES BAINS LE REVARD',\n",
              " 'MARSEILLE ST CHARLES-LES ARCS DRAGUIGNAN',\n",
              " 'AGEN-BORDEAUX ST JEAN',\n",
              " 'DUNKERQUE-DOUAI',\n",
              " 'LYON PART DIEU-BELLEGARDE',\n",
              " 'SURGERES-CHATELLERAULT',\n",
              " 'GRENOBLE-LYON ST EXUPERY',\n",
              " 'LYON PART DIEU-BEAUNE',\n",
              " 'LA ROCHE SUR FORON-BOURG EN BRESSE',\n",
              " 'ANGERS ST LAUD-LE POULIGUEN',\n",
              " 'FACTURE BIGANOS-ST JEAN DE LUZ CIBOURE',\n",
              " 'GRENOBLE-MACON LOCHE TGV',\n",
              " 'MARSEILLE BLANCARDE-MONTELIMAR',\n",
              " 'ST JEAN DE MAURIENNE ARVAN-LYON ST EXUPERY',\n",
              " 'LE CROISIC-SABLE',\n",
              " 'MULHOUSE VILLE-MOUCHARD',\n",
              " 'NANTES-ST BRIEUC',\n",
              " 'CHERBOURG-EVREUX EMBRANCHEMENT',\n",
              " 'QUIMPERLE-VITRE',\n",
              " 'VALOGNES-MANTES LA JOLIE',\n",
              " 'ANGOULEME-MONTAUBAN VILLE BOURBON',\n",
              " 'IRUN-ANGOULEME',\n",
              " 'AGEN-ST PIERRE DES CORPS',\n",
              " 'AIX EN PROVENCE TGV-AIX LES BAINS LE REVARD',\n",
              " 'POITIERS-TARBES',\n",
              " 'AIX EN PROVENCE TGV-ANNECY',\n",
              " 'MENTON-VENTIMIGLIA STAZIONE',\n",
              " 'BASEL SBB-MULHOUSE VILLE',\n",
              " 'MACON VILLE-MOUTIERS SALINS BRIDES',\n",
              " 'VERSAILLES CHANTIERS-VALOGNES',\n",
              " 'VILLENEUVE LES AVIGNONS-ORANGE',\n",
              " 'VILLENEUVE LES AVIGNONS-MONTELIMAR',\n",
              " 'AVIGNON TGV-ANNECY',\n",
              " 'NIMES-LE CREUSOT MONTCEAU MONTCHANIN',\n",
              " 'VENDOME-BORDEAUX ST JEAN',\n",
              " 'CHAMBERY CHALLES LES EAUX-CANNES',\n",
              " 'NIMES-PARIS GARE DE LYON',\n",
              " 'STRASBOURG-CHALON SUR SAONE',\n",
              " 'METZ VILLE-AVIGNON TGV',\n",
              " 'STRASBOURG-LYON PERRACHE',\n",
              " 'THIONVILLE-AVIGNON TGV',\n",
              " 'CHAMPAGNE ARDENNE-colmar',\n",
              " 'MÂCON LOCHÉ TGV-MASSY PALAISEAU',\n",
              " 'GRENOBLE-MASSY PALAISEAU',\n",
              " 'paris austerlitz-Pornichet',\n",
              " 'paris austerlitz-la-teste',\n",
              " 'NANTES-TGV HAUTE PICARDIE',\n",
              " 'TGV HAUTE PICARDIE-REDON',\n",
              " 'LILLE FLANDRES-ST MALO',\n",
              " 'AEROPORT CDG 2 TGV ROISSY-NANTES',\n",
              " 'LA BAULE ESCOUBLAC-MARNE LA VALLEE CHESSY',\n",
              " 'AGEN-MASSY TGV',\n",
              " 'MASSY TGV-ORTHEZ',\n",
              " 'FACTURE BIGANOS-ST PIERRE DES CORPS',\n",
              " 'NANTES - TGV HAUTE PICARDIE',\n",
              " 'CHAMPAGNE ARDENNE - RENNES',\n",
              " 'TGV HAUTE PICARDIE - AURAY',\n",
              " 'TGV HAUTE PICARDIE - QUIMPER',\n",
              " 'ARRAS - ST MALO',\n",
              " 'MONTPELLIER - RENNES',\n",
              " 'LA TESTE - PARIS MONTPARNASSE 1 ET 2',\n",
              " 'CHAMPAGNE ARDENNE-CHALONS EN CHAMPAGNE',\n",
              " 'MANTES LA J. TGV-CONFLANS FDO TGV',\n",
              " 'MEUSE-NANCY VILLE',\n",
              " 'AVIGNON TGV-MONTPELLIER',\n",
              " 'EVREUX EMBRANCHEMENT-MARNE LA VALLEE CHESSY',\n",
              " 'AEROPORT CDG 2 TGV ROISSY-ROUEN RIVE DROITE',\n",
              " 'MACON VILLE-VALENCE',\n",
              " 'LILLE FLANDRES-PARIS NORD',\n",
              " 'CHAMPAGNE ARDENNE-TGV HAUTE PICARDIE',\n",
              " 'AVIGNON TGV-MENTON',\n",
              " 'CHAMPAGNE ARDENNE-LILLE EUROPE',\n",
              " 'DIJON VILLE-EVREUX EMBRANCHEMENT',\n",
              " 'CHAMPAGNE ARDENNE-ARRAS',\n",
              " 'FONTAINEBLEAU AVON-LYON PART DIEU',\n",
              " 'LYON ST EXUPERY-TGV HAUTE PICARDIE',\n",
              " 'LA BAULE ESCOUBLAC-LILLE EUROPE',\n",
              " 'LE CREUSOT MONTCEAU MONTCHANIN-DOUAI',\n",
              " 'AGEN-CHALON SUR SAONE',\n",
              " 'LE CROISIC-LYON PERRACHE',\n",
              " 'GUINGAMP-ARRAS',\n",
              " 'SURGERES-DOUAI',\n",
              " 'NEUFCHATEAU-ANTIBES',\n",
              " 'CHERBOURG-BOURG ST MAURICE',\n",
              " 'ALBERTVILLE-BERNAY',\n",
              " 'LILLE FLANDRES-VALENCE',\n",
              " 'LE POULIGUEN-GRENOBLE',\n",
              " 'LILLE EUROPE-MOUTIERS SALINS BRIDES',\n",
              " 'CHAMBERY CHALLES LES EAUX-ARRAS',\n",
              " 'ST JEAN DE MAURIENNE ARVAN-LILLE EUROPE',\n",
              " 'LILLE FLANDRES-ST JEAN DE MAURIENNE ARVAN',\n",
              " 'DUNKERQUE-MOUTIERS SALINS BRIDES',\n",
              " 'LANDRY-ARRAS',\n",
              " 'NANTES-BOURG ST MAURICE',\n",
              " 'MODANE-RENNES',\n",
              " 'GUINGAMP-ST GERVAIS LES BAINS LE FAYET',\n",
              " 'GUINGAMP-CLUSES  74',\n",
              " 'CHAMBERY CHALLES LES EAUX-AURAY',\n",
              " 'ANNECY-AURAY',\n",
              " 'LILLE FLANDRES-MONTAUBAN VILLE BOURBON',\n",
              " 'ORTHEZ - PARIS MONTPARNASSE 1 ET 2',\n",
              " 'MASSY TGV - LOURDES',\n",
              " 'ANGOULEME - FUTUROSCOPE',\n",
              " 'BORDEAUX ST JEAN - FUTUROSCOPE',\n",
              " 'LE MANS - LANNION',\n",
              " 'TOURS - BORDEAUX ST JEAN',\n",
              " 'LE MANS - LANDERNEAU',\n",
              " 'AEROPORT CDG2 TGV ROISSY - MORLAIX',\n",
              " 'MASSY TGV - ROSPORDEN',\n",
              " 'ANGERS ST LAUD-SABLE',\n",
              " 'VANNES-REDON',\n",
              " 'METZ VILLE-TOUL',\n",
              " 'GUINGAMP-MORLAIX',\n",
              " 'DOL-RENNES',\n",
              " 'MOUCHARD-MONTBELIARD',\n",
              " 'NANTES-LA ROCHE SUR YON',\n",
              " 'BELLEGARDE-EVIAN LES BAINS',\n",
              " 'BIARRITZ-MORCENX',\n",
              " 'LEPIN LE LAC LA BAUCHE-MOUTIERS SALINS BRIDES',\n",
              " 'ALBERTVILLE-BOURG EN BRESSE',\n",
              " 'RENNES-ST BRIEUC',\n",
              " 'CHAMBERY CHALLES LES EAUX-LYON ST EXUPERY',\n",
              " 'DUNKERQUE-ARRAS',\n",
              " 'CHAMBERY CHALLES LES EAUX-CLUSES  74',\n",
              " 'LYON PART DIEU-CHALON SUR SAONE',\n",
              " 'LA ROCHELLE VILLE-FUTUROSCOPE',\n",
              " 'ST JEAN DE MAURIENNE ARVAN-MACON LOCHE TGV',\n",
              " 'GUINGAMP-VITRE',\n",
              " 'EVREUX EMBRANCHEMENT-LISON',\n",
              " 'CHAMBERY CHALLES LES EAUX-VALENCE TGV',\n",
              " 'LE TEIL-MARSEILLE BLANCARDE',\n",
              " 'ST JEAN DE MAURIENNE ARVAN-LYON PART DIEU',\n",
              " 'AIX EN PROVENCE TGV-CANNES',\n",
              " 'BREAUTE BEUZEVILLE-VERSAILLES CHANTIERS',\n",
              " 'LE MANS-SAVENAY',\n",
              " 'BAYONNE-LIBOURNE',\n",
              " 'LAVAL-LANNION',\n",
              " 'CARENTAN-MANTES LA J. TGV',\n",
              " 'ST JEAN DE LUZ CIBOURE-LIBOURNE',\n",
              " 'CHATEAUROUX-JUVISY',\n",
              " 'LANDRY-LYON PART DIEU',\n",
              " 'LE POULIGUEN-ST PIERRE DES CORPS',\n",
              " 'VILLENEUVE LES AVIGNONS-ST RAPHAEL VALESCURE',\n",
              " 'GUINGAMP-NANTES',\n",
              " 'BREST-VITRE',\n",
              " 'LIBOURNE-TOULOUSE MATABIAU',\n",
              " 'ANGOULEME-BAYONNE',\n",
              " 'RUFFEC CHARENTE-BAYONNE',\n",
              " 'AVIGNON TGV-CHAMBERY CHALLES LES EAUX',\n",
              " 'BAYONNE-CHATELLERAULT',\n",
              " 'POITIERS-TOULOUSE MATABIAU',\n",
              " 'LOURDES-CHATELLERAULT',\n",
              " 'LEPIN LE LAC LA BAUCHE-ROUEN RIVE DROITE',\n",
              " 'CARCASSONNE-PERPIGNAN',\n",
              " 'MACON VILLE-LANDRY',\n",
              " 'AVIGNON TGV-MIRAMAS',\n",
              " 'LISON-MASSY PALAISEAU',\n",
              " 'CHERBOURG-MASSY PALAISEAU',\n",
              " 'GENEVE-VALENCE',\n",
              " 'NIMES-AEROPORT CDG 2 TGV ROISSY',\n",
              " 'AVIGNON TGV-MARNE LA VALLEE CHESSY',\n",
              " 'AVIGNON TGV-VERSAILLES CHANTIERS',\n",
              " 'MASSY TGV-LYON PART DIEU',\n",
              " 'LYON PART DIEU-MASSY PALAISEAU',\n",
              " 'LYON PERRACHE-MASSY PALAISEAU',\n",
              " 'LYON ST EXUPERY-MANTES LA J. TGV',\n",
              " 'CAEN-MANTES LA JOLIE',\n",
              " 'DOLE VILLE-BELFORT',\n",
              " 'STRASBOURG-MASSY TGV',\n",
              " 'STRASBOURG-LAVAL',\n",
              " 'PARIS EST-SELESTAT',\n",
              " 'CULMONT CHALINDREY-ST RAPHAEL VALESCURE',\n",
              " 'CULMONT CHALINDREY-carcassonne',\n",
              " 'Nancy ville-SETE',\n",
              " 'ST JEAN DE MAURIENNE ARVAN-MASSY PALAISEAU',\n",
              " 'paris austerlitz-rennes',\n",
              " \"paris austerlitz-Les Sables d'Olonne\",\n",
              " 'paris austerlitz-arcachon',\n",
              " 'paris austerlitz-futuroscope',\n",
              " 'TGV HAUTE PICARDIE-VANNES',\n",
              " 'TGV HAUTE PICARDIE-AURAY',\n",
              " 'LORRAINE TGV-FUTUROSCOPE',\n",
              " 'ANGOULEME-ARRAS',\n",
              " 'DOUAI-LIBOURNE',\n",
              " 'PAU-PARIS MONTPARNASSE 1 ET 2',\n",
              " 'MASSY TGV-ST BRIEUC',\n",
              " 'PARIS MONTPARNASSE 1 ET 2-ST JEAN DE LUZ CIBOURE',\n",
              " 'LYON PART DIEU-ST PIERRE DES CORPS',\n",
              " 'LAVAL-DOL',\n",
              " 'PAU-FUTUROSCOPE',\n",
              " 'LA TESTE-ST PIERRE DES CORPS',\n",
              " 'LANNION-PARIS MONTPARNASSE 1 ET 2',\n",
              " 'MASSY TGV-DOL',\n",
              " 'MASSY TGV-ST MALO',\n",
              " 'MARNE LA VALLEE CHESSY-ROSPORDEN',\n",
              " 'PARIS MONTPARNASSE 1 ET 2 - ST NAZAIRE',\n",
              " 'LAMBALLE - PARIS MONTPARNASSE 1 ET 2',\n",
              " 'PARIS MONTPARNASSE 1 ET 2 - VANNES',\n",
              " 'LE CROISIC - MARNE LA VALLEE CHESSY',\n",
              " 'AEROPORT CDG2 TGV ROISSY - VANNES',\n",
              " \"CONFLANS FIN D'OISE-MANTES LA JOLIE\",\n",
              " 'MARNE LA VALLEE CHESSY-MASSY PALAISEAU',\n",
              " 'LE HAVRE-CONFLANS FDO TGV',\n",
              " 'CHAMPAGNE ARDENNE-AEROPORT CDG 2 TGV ROISSY',\n",
              " 'LYON PART DIEU-ORANGE',\n",
              " 'VALENCE TGV-BELLEGARDE',\n",
              " 'CAEN-AEROPORT CDG 2 TGV ROISSY',\n",
              " 'VALENCE TGV-BEAUNE',\n",
              " 'AIX EN PROVENCE TGV-LYON PERRACHE',\n",
              " 'CARCASSONNE-VALENCE TGV',\n",
              " 'NIMES-BELLEGARDE',\n",
              " 'MACON LOCHE TGV-MARSEILLE ST CHARLES',\n",
              " 'CHAMPAGNE ARDENNE-DOUAI',\n",
              " 'VALENCE-ANTIBES',\n",
              " 'TOURS-CHAMPAGNE ARDENNE',\n",
              " 'MEUSE-ST PIERRE DES CORPS',\n",
              " 'NURIEUX-PARIS GARE DE LYON',\n",
              " 'SAUMUR-LE CREUSOT MONTCEAU MONTCHANIN',\n",
              " 'LE MANS-DOUAI',\n",
              " 'LAVAL-DOUAI',\n",
              " 'ANGERS ST LAUD-ARRAS',\n",
              " 'DOUAI-ST PIERRE DES CORPS',\n",
              " 'LAROCHE MIGENNES-MARSEILLE ST CHARLES',\n",
              " 'LA ROCHE SUR FORON-MARNE LA VALLEE CHESSY',\n",
              " 'LA ROCHE SUR FORON-AEROPORT CDG 2 TGV ROISSY',\n",
              " 'MELUN-MARSEILLE ST CHARLES',\n",
              " 'LILLE EUROPE-LE CREUSOT MONTCEAU MONTCHANIN',\n",
              " 'LE HAVRE-VALENCE',\n",
              " 'LE MANS-ANNECY',\n",
              " 'TOURS-CHAMBERY CHALLES LES EAUX',\n",
              " 'LYON ST EXUPERY-LILLE EUROPE',\n",
              " 'LAVAL-VALENCE',\n",
              " 'ROUEN RIVE DROITE-ALBERTVILLE',\n",
              " 'ANGERS ST LAUD-LANDRY',\n",
              " 'LE MANS-LA ROCHE SUR FORON',\n",
              " 'LAMBALLE-LILLE EUROPE',\n",
              " 'CAEN-LANDRY',\n",
              " 'CHERBOURG-LANDRY',\n",
              " 'CHERBOURG-ALBERTVILLE',\n",
              " 'ANNECY-DOUAI',\n",
              " 'QUIMPER-DOUAI',\n",
              " 'ARRAS-AIX LES BAINS LE REVARD',\n",
              " 'MODANE-NANTES',\n",
              " 'AVIGNON TGV-ROUEN RIVE DROITE',\n",
              " 'NANTES-VALENCE TGV',\n",
              " 'AIME LA PLAGNE-RENNES',\n",
              " 'LA ROCHE SUR FORON-RENNES',\n",
              " 'MODANE-REDON',\n",
              " 'ST JEAN DE MAURIENNE ARVAN-REDON',\n",
              " 'LANDRY-REDON',\n",
              " 'LA ROCHE SUR FORON-AURAY',\n",
              " 'AIME LA PLAGNE-REDON',\n",
              " 'AVIGNON-DOUAI',\n",
              " 'LILLE FLANDRES-BIARRITZ',\n",
              " 'AIX EN PROVENCE TGV-LILLE EUROPE',\n",
              " 'BREST-MOUTIERS SALINS BRIDES',\n",
              " 'BREST-CHAMBERY CHALLES LES EAUX',\n",
              " 'QUIMPER-ST GERVAIS LES BAINS LE FAYET',\n",
              " 'CARCASSONNE-LILLE EUROPE',\n",
              " 'LILLE FLANDRES-BEZIERS',\n",
              " 'LILLE FLANDRES-LES ARCS DRAGUIGNAN',\n",
              " 'AVIGNON-CARCASSONNE',\n",
              " 'LILLE FLANDRES-MARNE LA VALLEE CHESSY',\n",
              " 'CALAIS VILLE-PARIS NORD',\n",
              " 'AVIGNON-LYON PART DIEU',\n",
              " 'LYON PERRACHE-VALENCE TGV',\n",
              " 'DIJON VILLE-BESANCON VIOTTE',\n",
              " 'PARIS GARE DE LYON-PONTARLIER',\n",
              " 'MACON VILLE-BESANCON FRANCHE-COMTE TGV',\n",
              " 'NIMES-MACON VILLE',\n",
              " 'NANCY VILLE-ST RAPHAEL VALESCURE',\n",
              " 'METZ VILLE-CANNES',\n",
              " 'DIJON VILLE-LILLE FLANDRES',\n",
              " 'LILLE FLANDRES-MULHOUSE VILLE',\n",
              " 'MACON VILLE-PERPIGNAN',\n",
              " 'LILLE FLANDRES-NANCY VILLE',\n",
              " 'LYON PART DIEU-MONTAUBAN VILLE BOURBON',\n",
              " 'VENDOME VILLIERS SUR LOIR-PARIS MONTPARNASSE 1 ET 2',\n",
              " 'MARNE LA VALLEE CHESSY-MARMANDE',\n",
              " 'AEROPORT CDG 2 TGV ROISSY-BAYONNE',\n",
              " 'MARNE LA VALLEE CHESSY-BAYONNE',\n",
              " 'VERSAILLES CHANTIERS-VALENCE TGV',\n",
              " 'MASSY TGV-BOURG ST MAURICE',\n",
              " 'MARNE LA VALLEE CHESSY-AIME LA PLAGNE',\n",
              " 'PARIS NORD-ANNEMASSE',\n",
              " 'MASSY TGV-CLUSES  74',\n",
              " 'CLUSES  74-PARIS NORD',\n",
              " 'PARIS NORD-ARRAS',\n",
              " 'AVIGNON-NIMES',\n",
              " 'AVIGNON-CANNES',\n",
              " 'LAVAL-NANCY VILLE',\n",
              " 'BELFORT-MONTBELIARD TGV-ECOLE VALENTIN',\n",
              " 'STRASBOURG-ECOLE VALENTIN',\n",
              " 'CHALON SUR SAONE-ECOLE VALENTIN',\n",
              " 'VENDOME VILLIERS SUR LOIR-TGV HAUTE PICARDIE',\n",
              " 'BELFORT-MONTBELIARD TGV-ALBERTVILLE',\n",
              " 'BONNEVILLE-LA ROCHE SUR FORON',\n",
              " 'ROSPORDEN-QUIMPER',\n",
              " 'BIARRITZ - MASSY TGV',\n",
              " 'HENDAYE - RUFFEC CHARENTE',\n",
              " 'MARNE LA VALLEE CHESSY-MANTES LA JOLIE',\n",
              " 'MANTES LA J. TGV-LISIEUX',\n",
              " 'CAEN-MANTES LA J. TGV',\n",
              " 'NIMES-VALENCE TGV',\n",
              " 'AIX EN PROVENCE TGV-BEZIERS',\n",
              " 'MARNE LA VALLEE CHESSY-LISIEUX',\n",
              " 'MARSEILLE ST CHARLES-VALENCE TGV',\n",
              " 'NIMES-LYON PART DIEU',\n",
              " 'LILLE FLANDRES-JUVISY TGV',\n",
              " 'CHERBOURG-AEROPORT CDG 2 TGV ROISSY',\n",
              " 'LYON PART DIEU-SETE',\n",
              " 'LORRAINE TGV-MARNE LA VALLEE CHESSY',\n",
              " 'VALENCE-ST RAPHAEL VALESCURE',\n",
              " 'VALENCE TGV-SENS',\n",
              " 'TGV HAUTE PICARDIE-ST PIERRE DES CORPS',\n",
              " 'CANNES-LYON PART DIEU',\n",
              " 'LE HAVRE-LYON PERRACHE',\n",
              " 'CULOZ-PARIS NORD',\n",
              " 'AGDE-BEAUNE',\n",
              " 'TOULON-BEAUNE',\n",
              " 'LORRAINE TGV-DOUAI',\n",
              " 'FONTAINEBLEAU AVON-VALENCE TGV',\n",
              " 'ANGERS ST LAUD-LILLE EUROPE',\n",
              " 'MARSEILLE ST CHARLES-NEUFCHATEAU',\n",
              " 'LYON PART DIEU-TGV HAUTE PICARDIE',\n",
              " 'LORRAINE TGV-ST PIERRE DES CORPS',\n",
              " 'LILLE EUROPE-ST NAZAIRE',\n",
              " 'LILLE FLANDRES-LYON PART DIEU',\n",
              " 'SAUMUR-VALENCE TGV',\n",
              " 'AVIGNON-LE MANS',\n",
              " 'GRENOBLE-TGV HAUTE PICARDIE',\n",
              " 'TGV HAUTE PICARDIE-ALBERTVILLE',\n",
              " 'LE MANS-BOURG ST MAURICE',\n",
              " 'LE MANS-ST AVRE LA CHAMBRE',\n",
              " 'ANGERS ST LAUD-ST AVRE LA CHAMBRE',\n",
              " 'LE MANS-ANNEMASSE',\n",
              " 'BAYEUX-CHAMBERY CHALLES LES EAUX',\n",
              " 'CARENTAN-AIME LA PLAGNE',\n",
              " 'ANNECY-RENNES',\n",
              " 'ARRAS-ALBERTVILLE',\n",
              " 'MOUTIERS SALINS BRIDES-DOUAI',\n",
              " 'BREST-LYON PART DIEU',\n",
              " 'LYON PERRACHE-MORLAIX',\n",
              " 'AIX EN PROVENCE TGV-TGV HAUTE PICARDIE',\n",
              " 'LANDRY-VANNES',\n",
              " 'LORIENT-ALBERTVILLE',\n",
              " 'ALBERTVILLE-AURAY',\n",
              " 'LORIENT-AIX LES BAINS LE REVARD',\n",
              " 'NIMES-NANTES',\n",
              " 'DAX-LILLE EUROPE',\n",
              " 'AIX EN PROVENCE TGV-ARRAS',\n",
              " 'MORLAIX-SALLANCHES COMBLOUX MEGEVE',\n",
              " 'BEZIERS-LILLE EUROPE',\n",
              " 'TGV HAUTE PICARDIE-TOULOUSE MATABIAU',\n",
              " 'BEZIERS-ARRAS',\n",
              " 'FONTAINEBLEAU AVON-LYON ST EXUPERY',\n",
              " 'LYON PART DIEU-VALENCE TGV',\n",
              " 'JUVISY-LILLE EUROPE',\n",
              " 'MULHOUSE VILLE-BESANCON FRANCHE-COMTE TGV',\n",
              " 'BELFORT-MONTBELIARD TGV-BESANCON FRANCHE-COMTE TGV',\n",
              " 'MULHOUSE VILLE-MACON VILLE',\n",
              " 'COLMAR-LYON PART DIEU',\n",
              " 'DIJON VILLE-MONTPELLIER',\n",
              " 'CHALON SUR SAONE-SETE',\n",
              " 'DIJON VILLE-AVIGNON TGV',\n",
              " 'CHALON SUR SAONE-ST RAPHAEL VALESCURE',\n",
              " 'AVIGNON TGV-MACON VILLE',\n",
              " 'BESANCON VIOTTE-MARSEILLE ST CHARLES',\n",
              " 'AIX EN PROVENCE TGV-NANCY VILLE',\n",
              " 'TOULON-TOUL',\n",
              " 'LILLE FLANDRES-BESANCON FRANCHE-COMTE TGV',\n",
              " 'CHAMPAGNE ARDENNE-NANCY VILLE',\n",
              " 'MARNE LA VALLEE CHESSY-ST BRIEUC',\n",
              " 'AGEN-PARIS AUSTERLITZ',\n",
              " 'AEROPORT CDG 2 TGV ROISSY-ST JEAN DE LUZ CIBOURE',\n",
              " 'HENDAYE-AEROPORT CDG 2 TGV ROISSY',\n",
              " 'MARNE LA VALLEE CHESSY-LES ARCS DRAGUIGNAN',\n",
              " 'NICE VILLE-PARIS NORD',\n",
              " 'CLUSES  74-AEROPORT CDG 2 TGV ROISSY',\n",
              " 'MACON LOCHE TGV-AEROPORT CDG 2 TGV ROISSY',\n",
              " 'MONTBARD-MANTES LA JOLIE',\n",
              " 'MONTBARD-PARIS BERCY',\n",
              " 'MANTES LA J. TGV-VALENCE',\n",
              " 'PARIS NORD-ST OMER',\n",
              " 'LYON ST EXUPERY-RENNES',\n",
              " 'LYON ST EXUPERY-FUTUROSCOPE',\n",
              " 'BASEL SBB-LYON PART DIEU',\n",
              " 'MARNE LA VALLEE CHESSY-SAVERNE',\n",
              " 'BASEL SBB-ECOLE VALENTIN',\n",
              " 'CHAMBERY CHALLES LES EAUX-MASSY PALAISEAU',\n",
              " 'BESANCON VIOTTE-CHAMBERY CHALLES LES EAUX',\n",
              " 'MOUTIERS SALINS BRIDES L BAINS-LAVAL-MOUTIERS SALINS BRIDES L BAINS',\n",
              " 'MEUSE TGV-LILLE EUROPE-147322',\n",
              " 'ST GERVAIS LES BAINS LE FAYET-SALLANCHES COMBLOUX MEGEVE',\n",
              " 'RANG DU FLIERS VERTON-ETAPLES LE TOUQUET',\n",
              " 'FACTURE BIGANOS-ARCACHON',\n",
              " 'AIX EN PROVENCE TGV-MARSEILLE BLANCARDE',\n",
              " 'VITRY-LE-FRANÇOIS-CHALONS EN CHAMPAGNE',\n",
              " 'NURIEUX-BOURG EN BRESSE',\n",
              " 'ANTIBES-MONACO MONTE CARLO',\n",
              " 'BESANCON VIOTTE-DOLE VILLE',\n",
              " 'LILLE EUROPE-BETHUNE',\n",
              " 'SAUMUR-ST PIERRE DES CORPS',\n",
              " 'CAGNES SUR MER-ST RAPHAEL VALESCURE',\n",
              " 'MELUN-SENS',\n",
              " 'RETHEL-SEDAN',\n",
              " 'VITRY-LE-FRANÇOIS-REIMS',\n",
              " 'RUFFEC CHARENTE-FUTUROSCOPE',\n",
              " 'CHATEAUROUX-LA SOUTERRAINE',\n",
              " 'ORTHEZ-MORCENX',\n",
              " 'RIVES-LYON ST EXUPERY',\n",
              " 'ANGERS ST LAUD-LE MANS',\n",
              " 'LES ARCS DRAGUIGNAN-VENTIMIGLIA STAZIONE  (IT)',\n",
              " 'BOURG EN BRESSE-LE CREUSOT MONTCEAU MONTCHANIN',\n",
              " 'AIX LES BAINS LE REVARD-ST GERVAIS LES BAINS LE FAYET',\n",
              " 'VERSAILLES CHANTIERS-ROUEN RIVE DROITE',\n",
              " 'CHAMBERY CHALLES LES EAUX-LYON PERRACHE',\n",
              " 'DOLE VILLE-MONTBELIARD',\n",
              " 'CHAMBERY CHALLES LES EAUX-ST GERVAIS LES BAINS LE FAYET',\n",
              " 'CARCASSONNE-MONTPELLIER',\n",
              " 'ANGERS ST LAUD-LA ROCHE SUR YON',\n",
              " 'BRIVE LA GAILLARDE-LA SOUTERRAINE',\n",
              " 'CULMONT CHALINDREY-NANCY VILLE',\n",
              " \"ANGERS ST LAUD-LES SABLES D'OLONNE\",\n",
              " 'AGEN-LIBOURNE',\n",
              " 'QUIMPERLE-RENNES',\n",
              " 'CHALONS EN CHAMPAGNE-THIONVILLE',\n",
              " 'POITIERS-LIBOURNE',\n",
              " 'LE HAVRE-VERSAILLES CHANTIERS',\n",
              " 'BREAUTE BEUZEVILLE-MASSY TGV',\n",
              " 'LA ROCHELLE VILLE-ST PIERRE DES CORPS',\n",
              " \"LES SABLES D'OLONNE-SABLE\",\n",
              " 'METZ VILLE-IS SUR TILLE',\n",
              " 'STRASBOURG-MOUCHARD',\n",
              " 'RUFFEC CHARENTE-ST JEAN DE LUZ CIBOURE',\n",
              " 'MACON VILLE-BOURG ST MAURICE',\n",
              " 'VERSAILLES CHANTIERS-LISON',\n",
              " 'EVREUX EMBRANCHEMENT-MASSY PALAISEAU',\n",
              " 'VALENCE TGV-MONTELIMAR',\n",
              " 'VENDOME-PARIS MONTPARNASSE 1 ET 2',\n",
              " 'CHAMBERY CHALLES LES EAUX-NICE VILLE',\n",
              " 'BORDEAUX ST JEAN-BEAUNE',\n",
              " 'LYON PART DIEU-MANTES LA JOLIE',\n",
              " 'MASSY TGV-LYON PERRACHE',\n",
              " 'VERSAILLES CHANTIERS-LYON PERRACHE',\n",
              " 'VENDOME VILLIERS SUR LOIR-la rochelle',\n",
              " 'CHERBOURG-MANTES LA JOLIE',\n",
              " 'CAEN-MONTBARD',\n",
              " 'COLMAR-MONTBELIARD',\n",
              " 'MONTELIMAR-NARBONNE',\n",
              " 'BEZIERS-LE CREUSOT MONTCEAU MONTCHANIN',\n",
              " 'STRASBOURG-DOUAI',\n",
              " 'STRASBOURG-LE MANS',\n",
              " 'THIONVILLE-BELFORT-MONTBELIARD TGV',\n",
              " 'CULMONT CHALINDREY-toulon',\n",
              " 'CULMONT CHALINDREY-Les Arcs Draguignan',\n",
              " 'BOURG EN BRESSE-MASSY PALAISEAU',\n",
              " 'MULHOUSE-PARIS EST',\n",
              " 'MARNE LA VALLEE CHESSY-FUTUROSCOPE',\n",
              " 'ANGOULEME-TGV HAUTE PICARDIE',\n",
              " 'AVIGNON TGV-ST PIERRE DES CORPS',\n",
              " 'MASSY TGV-POITIERS',\n",
              " 'LYON PERRACHE-ST PIERRE DES CORPS',\n",
              " 'MARNE LA VALLEE CHESSY-ST MALO',\n",
              " 'MARNE LA VALLEE CHESSY-MORLAIX',\n",
              " 'AEROPORT CDG 2 TGV ROISSY-QUIMPER',\n",
              " 'MASSY TGV - MARNE LA VALLEE CHESSY',\n",
              " 'PARIS MONTPARNASSE 1 ET 2 - FUTUROSCOPE',\n",
              " 'BORDEAUX ST JEAN - MARNE LA VALLEE CHESSY',\n",
              " 'DOUAI - REDON',\n",
              " 'LORRAINE TGV - RENNES',\n",
              " 'MONTPELLIER - ST PIERRE DES CORPS',\n",
              " 'DAX - PARIS MONTPARNASSE 1 ET 2',\n",
              " 'LAVAL - MASSY TGV',\n",
              " 'MASSY TGV - GUINGAMP',\n",
              " 'LAVAL - REDON',\n",
              " 'FACTURE BIGANOS - ST PIERRE DES CORPS',\n",
              " 'CHATELLERAULT - TOULOUSE MATABIAU',\n",
              " 'LA TESTE - FUTUROSCOPE',\n",
              " 'STRASBOURG - POITIERS',\n",
              " 'MARNE LA VALLEE CHESSY - QUIMPER',\n",
              " 'LILLE FLANDRES - VANNES',\n",
              " 'LILLE FLANDRES - ROSPORDEN',\n",
              " 'IRUN-LILLE FLANDRES',\n",
              " 'HENDAYE-DOUAI',\n",
              " 'IRUN-LILLE EUROPE',\n",
              " 'AVIGNON-PERPIGNAN',\n",
              " 'CHAMBERY CHALLES LES EAUX-PARIS GARE DE LYON',\n",
              " 'LES AUBRAIS ORLEANS-MARNE LA VALLEE CHESSY',\n",
              " 'PARIS NORD-AIX LES BAINS LE REVARD',\n",
              " 'DIJON VILLE-LILLE EUROPE',\n",
              " 'LILLE EUROPE-BELFORT-MONTBELIARD TGV',\n",
              " 'DIJON VILLE-AIX EN PROVENCE TGV',\n",
              " 'BELFORT-MONTBELIARD TGV-VALENCE TGV',\n",
              " 'BESANCON VIOTTE-VALENCE TGV',\n",
              " 'BESANCON VIOTTE-LYON PART DIEU',\n",
              " 'ANGOULEME-NANCY VILLE',\n",
              " 'LE MANS-AEROPORT CDG 2 TGV ROISSY',\n",
              " 'AEROPORT CDG 2 TGV ROISSY-ST BRIEUC',\n",
              " 'AGEN-MARNE LA VALLEE CHESSY',\n",
              " 'AGEN-AEROPORT CDG 2 TGV ROISSY',\n",
              " 'BIARRITZ-PARIS AUSTERLITZ',\n",
              " 'PARIS AUSTERLITZ-BAYONNE',\n",
              " 'MASSY TGV-VALENCE TGV',\n",
              " 'AEROPORT CDG 2 TGV ROISSY-AGDE',\n",
              " 'PARIS NORD-ANTIBES',\n",
              " 'ST AVRE LA CHAMBRE-MARNE LA VALLEE CHESSY',\n",
              " 'MODANE-PARIS GARE DE LYON',\n",
              " 'AEROPORT CDG 2 TGV ROISSY-BELLEGARDE',\n",
              " 'AEROPORT CDG 2 TGV ROISSY-SALLANCHES COMBLOUX MEGEVE',\n",
              " 'AEROPORT CDG 2 TGV ROISSY-BELFORT-MONTBELIARD TGV',\n",
              " 'MASSY TGV-MEUSE',\n",
              " 'LYON ST EXUPERY-ST PIERRE DES CORPS',\n",
              " 'AVIGNON-MARSEILLE ST CHARLES',\n",
              " 'AVIGNON-ST RAPHAEL VALESCURE',\n",
              " 'VENDOME VILLIERS SUR LOIR-MARSEILLE ST CHARLES',\n",
              " 'MULHOUSE VILLE-AIME LA PLAGNE',\n",
              " 'METZ VILLE-AVIGNON',\n",
              " 'MODANE-ST JEAN DE MAURIENNE ARVAN',\n",
              " 'DOUAI-VALENCIENNES',\n",
              " 'MODANE-ST AVRE LA CHAMBRE',\n",
              " 'STRASBOURG-SAVERNE',\n",
              " 'ST PERAY-LE TEIL',\n",
              " 'CAEN-LISIEUX',\n",
              " 'LE MANS-SABLE',\n",
              " 'GROISY THORENS LA CAILLE-AIX LES BAINS LE REVARD',\n",
              " 'HAZEBROUCK-LILLE EUROPE',\n",
              " 'ANNEMASSE-SALLANCHES COMBLOUX MEGEVE',\n",
              " 'BESANCON VIOTTE-LONS LE SAUNIER',\n",
              " 'MORCENX-BAYONNE',\n",
              " 'ARLES-MARSEILLE ST CHARLES',\n",
              " 'LYON ST EXUPERY-MACON LOCHE TGV',\n",
              " 'LE HAVRE-ROUEN RIVE DROITE',\n",
              " 'ST MAIXENT DEUX SEVRES-LA ROCHELLE VILLE',\n",
              " 'GUINGAMP-LANDERNEAU',\n",
              " 'LAMBALLE-MORLAIX',\n",
              " 'ARLES-LE TEIL',\n",
              " 'ARLES-MONTELIMAR',\n",
              " 'JUVISY TGV-LES AUBRAIS ORLEANS',\n",
              " 'LOURDES-MORCENX',\n",
              " 'RENNES-VANNES',\n",
              " 'LYON ST EXUPERY-AIX LES BAINS LE REVARD',\n",
              " 'NANTES-VANNES',\n",
              " 'DIJON VILLE-PONTARLIER',\n",
              " 'CHATEAUROUX-LES AUBRAIS ORLEANS',\n",
              " 'MASSY PALAISEAU-ROUEN RIVE DROITE',\n",
              " 'CULMONT CHALINDREY-CHALON SUR SAONE',\n",
              " 'MACON LOCHE TGV-ANNECY',\n",
              " 'PORNICHET-SABLE',\n",
              " 'TOULON-ORANGE',\n",
              " 'ETAPLES LE TOUQUET-LILLE EUROPE',\n",
              " 'METZ VILLE-CULMONT CHALINDREY',\n",
              " 'BRIVE LA GAILLARDE-CHATEAUROUX',\n",
              " 'LE MANS-LA ROCHE SUR YON',\n",
              " 'VALOGNES-BERNAY',\n",
              " 'LE MANS-PORNICHET',\n",
              " 'MORLAIX-NANTES',\n",
              " 'BORDEAUX ST JEAN-NARBONNE',\n",
              " 'BORDEAUX ST JEAN-MONTPELLIER',\n",
              " 'AVIGNON TGV-MONTELIMAR',\n",
              " 'GRENOBLE-AIX LES BAINS LE REVARD',\n",
              " 'MONTPELLIER-LE CREUSOT MONTCEAU MONTCHANIN',\n",
              " 'AIX EN PROVENCE TGV-VERSAILLES CHANTIERS',\n",
              " 'AVIGNON TGV-AEROPORT CDG 2 TGV ROISSY',\n",
              " 'DIJON VILLE-AEROPORT CDG 2 TGV ROISSY',\n",
              " 'LE HAVRE-CHAMPAGNE ARDENNE',\n",
              " 'DIJON VILLE-MULHOUSE VILLE',\n",
              " 'DIJON VILLE-STRASBOURG',\n",
              " 'METZ VILLE-MARSEILLE ST CHARLES',\n",
              " 'TOUL-VALENCE TGV',\n",
              " 'Toul-toulouse matabiau',\n",
              " 'Modane-LE CREUSOT MONTCEAU MONTCHANIN',\n",
              " 'CHAMBERY CHALLES LES EAUX-LE CREUSOT MONTCEAU MONTCHANIN',\n",
              " 'AGEN-SETE',\n",
              " 'paris austerlitz-Dol de Bretagne',\n",
              " 'paris austerlitz-libourne',\n",
              " 'ANGOULEME-DOUAI',\n",
              " 'LILLE EUROPE-LIBOURNE',\n",
              " 'BORDEAUX ST JEAN-PARIS MONTPARNASSE 1 ET 2',\n",
              " 'NIORT-PARIS MONTPARNASSE 1 ET 2',\n",
              " 'MASSY TGV-REDON',\n",
              " 'MASSY TGV-FACTURE BIGANOS',\n",
              " 'BIARRITZ-MASSY TGV',\n",
              " 'ANGERS ST LAUD-LYON PART DIEU',\n",
              " 'LAVAL-ST BRIEUC',\n",
              " 'LAVAL-GUINGAMP',\n",
              " 'ANGOULEME-ST PIERRE DES CORPS',\n",
              " 'LE MANS-LAMBALLE',\n",
              " 'BORDEAUX ST JEAN-POITIERS',\n",
              " 'POITIERS-ARCACHON',\n",
              " 'LE MANS-QUIMPER',\n",
              " 'CHATELLERAULT-MONTAUBAN VILLE BOURBON',\n",
              " 'FACTURE BIGANOS-FUTUROSCOPE',\n",
              " 'LA TESTE-FUTUROSCOPE',\n",
              " 'STRASBOURG-BORDEAUX ST JEAN',\n",
              " 'LORIENT-PARIS MONTPARNASSE 1 ET 2',\n",
              " 'AEROPORT CDG 2 TGV ROISSY-AURAY',\n",
              " 'QUIMPERLE-AEROPORT CDG 2 TGV ROISSY',\n",
              " 'LILLE EUROPE - RENNES',\n",
              " 'BORDEAUX ST JEAN - LILLE EUROPE',\n",
              " 'BORDEAUX ST JEAN - MASSY TGV',\n",
              " 'LE POULIGUEN - PARIS MONTPARNASSE 1 ET 2',\n",
              " 'LE POULIGUEN - MARNE LA VALLEE CHESSY',\n",
              " 'MASSY TGV - FACTURE BIGANOS',\n",
              " 'MEUSE-LORRAINE TGV',\n",
              " 'MEUSE-THIONVILLE',\n",
              " 'MANTES LA J. TGV-AEROPORT CDG 2 TGV ROISSY',\n",
              " 'MARSEILLE ST CHARLES-SETE',\n",
              " 'CHAMPAGNE ARDENNE-LORRAINE TGV',\n",
              " 'VALENCE-LE CREUSOT MONTCEAU MONTCHANIN',\n",
              " 'LE CREUSOT MONTCEAU MONTCHANIN-SENS',\n",
              " ...]"
            ]
          },
          "metadata": {
            "tags": []
          },
          "execution_count": 19
        }
      ]
    },
    {
      "cell_type": "markdown",
      "metadata": {
        "id": "fT6inCmNjdaU"
      },
      "source": [
        "liste_gare_0 contient tous les noms de trajets, que nous allons séparer en deux listes disjointes : celle contenant les fares de départ, et celle contenant les gares d'arrivée. "
      ]
    },
    {
      "cell_type": "code",
      "metadata": {
        "id": "tb8dKiMRjdab"
      },
      "source": [
        "liste_gare_départ=[]\n",
        "liste_gare_arrivée=[]\n",
        "\n",
        "for k in range(len(liste_gare_0)):\n",
        "    liste_gare_départ.append(re.split('-', liste_gare_0[k])[0])\n",
        "    liste_gare_arrivée.append(re.split('-', liste_gare_0[k])[1])\n"
      ],
      "execution_count": 20,
      "outputs": []
    },
    {
      "cell_type": "markdown",
      "metadata": {
        "id": "qmK8xGoRjda4"
      },
      "source": [
        "#### Création des colonnes tarifs "
      ]
    },
    {
      "cell_type": "code",
      "metadata": {
        "id": "1CTRF-xHjda_"
      },
      "source": [
        "tarifs = []\n",
        "for k in range(len(df['Colonne'])) :\n",
        "    tarifs += re.split(';', df['Colonne'][k])\n",
        "tarifs\n",
        "\n",
        "prix_dappel_2nde = tarifs[1::5]\n",
        "plein_tarif_loisir_2nde = [float(x) for x in tarifs[2::5]]\n",
        "premiere_classe = [float(x) for x in tarifs[3::5]]\n",
        "\n",
        "#print(len(prix_dappel_2nde), len(plein_tarif_loisir_2nde), len(premiere_classe))"
      ],
      "execution_count": 21,
      "outputs": []
    },
    {
      "cell_type": "code",
      "metadata": {
        "colab": {
          "base_uri": "https://localhost:8080/",
          "height": 402
        },
        "id": "B_ApuQeejdbe",
        "outputId": "bb8dbefe-e4af-450a-a7d2-497606c9a65a"
      },
      "source": [
        "bdd_sncf = pandas.DataFrame({'Gare de départ' :liste_gare_départ, 'Gare d arrivée': liste_gare_arrivée, 'Prix d appel seconde':prix_dappel_2nde, 'Plein tarif loisir seconde':plein_tarif_loisir_2nde,'Tarif premiere classe' :premiere_classe})\n",
        "bdd_sncf"
      ],
      "execution_count": 22,
      "outputs": [
        {
          "output_type": "execute_result",
          "data": {
            "text/html": [
              "<div>\n",
              "<style scoped>\n",
              "    .dataframe tbody tr th:only-of-type {\n",
              "        vertical-align: middle;\n",
              "    }\n",
              "\n",
              "    .dataframe tbody tr th {\n",
              "        vertical-align: top;\n",
              "    }\n",
              "\n",
              "    .dataframe thead th {\n",
              "        text-align: right;\n",
              "    }\n",
              "</style>\n",
              "<table border=\"1\" class=\"dataframe\">\n",
              "  <thead>\n",
              "    <tr style=\"text-align: right;\">\n",
              "      <th></th>\n",
              "      <th>Gare de départ</th>\n",
              "      <th>Gare d arrivée</th>\n",
              "      <th>Prix d appel seconde</th>\n",
              "      <th>Plein tarif loisir seconde</th>\n",
              "      <th>Tarif premiere classe</th>\n",
              "    </tr>\n",
              "  </thead>\n",
              "  <tbody>\n",
              "    <tr>\n",
              "      <th>0</th>\n",
              "      <td>NIMES</td>\n",
              "      <td>LILLE EUROPE</td>\n",
              "      <td>30.0</td>\n",
              "      <td>144.0</td>\n",
              "      <td>184.0</td>\n",
              "    </tr>\n",
              "    <tr>\n",
              "      <th>1</th>\n",
              "      <td>MOUTIERS SALINS BRIDES</td>\n",
              "      <td>QUIMPER</td>\n",
              "      <td>30.0</td>\n",
              "      <td>147.0</td>\n",
              "      <td>190.0</td>\n",
              "    </tr>\n",
              "    <tr>\n",
              "      <th>2</th>\n",
              "      <td>LANDRY</td>\n",
              "      <td>QUIMPER</td>\n",
              "      <td>30.0</td>\n",
              "      <td>147.0</td>\n",
              "      <td>190.0</td>\n",
              "    </tr>\n",
              "    <tr>\n",
              "      <th>3</th>\n",
              "      <td>TGV HAUTE PICARDIE</td>\n",
              "      <td>AGDE</td>\n",
              "      <td>30.0</td>\n",
              "      <td>150.0</td>\n",
              "      <td>188.0</td>\n",
              "    </tr>\n",
              "    <tr>\n",
              "      <th>4</th>\n",
              "      <td>TGV HAUTE PICARDIE</td>\n",
              "      <td>SETE</td>\n",
              "      <td>30.0</td>\n",
              "      <td>150.0</td>\n",
              "      <td>188.0</td>\n",
              "    </tr>\n",
              "    <tr>\n",
              "      <th>...</th>\n",
              "      <td>...</td>\n",
              "      <td>...</td>\n",
              "      <td>...</td>\n",
              "      <td>...</td>\n",
              "      <td>...</td>\n",
              "    </tr>\n",
              "    <tr>\n",
              "      <th>4157</th>\n",
              "      <td>PLOUARET TREGOR</td>\n",
              "      <td>PARIS MONTPARNASSE 1 ET 2</td>\n",
              "      <td>20.0</td>\n",
              "      <td>99.0</td>\n",
              "      <td>138.0</td>\n",
              "    </tr>\n",
              "    <tr>\n",
              "      <th>4158</th>\n",
              "      <td>DOL DE BRETAGNE</td>\n",
              "      <td>PARIS MONTPARNASSE 1 ET 2</td>\n",
              "      <td>20.0</td>\n",
              "      <td>95.0</td>\n",
              "      <td>138.0</td>\n",
              "    </tr>\n",
              "    <tr>\n",
              "      <th>4159</th>\n",
              "      <td>MARNE LA VALLEE CHESSY</td>\n",
              "      <td>MORLAIX</td>\n",
              "      <td>20.0</td>\n",
              "      <td>99.0</td>\n",
              "      <td>138.0</td>\n",
              "    </tr>\n",
              "    <tr>\n",
              "      <th>4160</th>\n",
              "      <td>QUIMPERLE</td>\n",
              "      <td>MARNE LA VALLEE CHESSY</td>\n",
              "      <td>20.0</td>\n",
              "      <td>103.0</td>\n",
              "      <td>147.0</td>\n",
              "    </tr>\n",
              "    <tr>\n",
              "      <th>4161</th>\n",
              "      <td>MASSY TGV</td>\n",
              "      <td>QUIMPER</td>\n",
              "      <td>20.0</td>\n",
              "      <td>103.0</td>\n",
              "      <td>147.0</td>\n",
              "    </tr>\n",
              "  </tbody>\n",
              "</table>\n",
              "<p>4162 rows × 5 columns</p>\n",
              "</div>"
            ],
            "text/plain": [
              "               Gare de départ  ... Tarif premiere classe\n",
              "0                       NIMES  ...                 184.0\n",
              "1      MOUTIERS SALINS BRIDES  ...                 190.0\n",
              "2                      LANDRY  ...                 190.0\n",
              "3          TGV HAUTE PICARDIE  ...                 188.0\n",
              "4          TGV HAUTE PICARDIE  ...                 188.0\n",
              "...                       ...  ...                   ...\n",
              "4157         PLOUARET TREGOR   ...                 138.0\n",
              "4158         DOL DE BRETAGNE   ...                 138.0\n",
              "4159  MARNE LA VALLEE CHESSY   ...                 138.0\n",
              "4160               QUIMPERLE   ...                 147.0\n",
              "4161               MASSY TGV   ...                 147.0\n",
              "\n",
              "[4162 rows x 5 columns]"
            ]
          },
          "metadata": {
            "tags": []
          },
          "execution_count": 22
        }
      ]
    },
    {
      "cell_type": "markdown",
      "metadata": {
        "id": "pLj6jecijdeO"
      },
      "source": [
        "#### Ajout des distances entre deux gares "
      ]
    },
    {
      "cell_type": "markdown",
      "metadata": {
        "id": "ag6e3rOjjdeT"
      },
      "source": [
        "On récupère une nouvelle base de données contenant pour chaque gare ses coordonnées GPS (latitude et longitude). A partir de ces données, on va déterminer la distance pour l'ensemble des trajets contenus dans bdd_sncf. "
      ]
    },
    {
      "cell_type": "code",
      "metadata": {
        "colab": {
          "base_uri": "https://localhost:8080/",
          "height": 402
        },
        "id": "h5yBpKLGjdeb",
        "outputId": "64a958e0-aebb-410b-bf98-2e08abf4e1ad"
      },
      "source": [
        "coordonnees = pandas.read_csv('https://raw.githubusercontent.com/YohanWloczysiak/Projet_Python_A2_S1/main/gares-tgv.csv', encoding = 'latin-1')\n",
        "coordonnees = coordonnees.drop(['Unnamed: 0', 'INSEE_REG', 'NOM_REG','INSEE_DEP',\n",
        "       'NOM_DEP'], axis=1)\n",
        "coordonnees"
      ],
      "execution_count": 23,
      "outputs": [
        {
          "output_type": "execute_result",
          "data": {
            "text/html": [
              "<div>\n",
              "<style scoped>\n",
              "    .dataframe tbody tr th:only-of-type {\n",
              "        vertical-align: middle;\n",
              "    }\n",
              "\n",
              "    .dataframe tbody tr th {\n",
              "        vertical-align: top;\n",
              "    }\n",
              "\n",
              "    .dataframe thead th {\n",
              "        text-align: right;\n",
              "    }\n",
              "</style>\n",
              "<table border=\"1\" class=\"dataframe\">\n",
              "  <thead>\n",
              "    <tr style=\"text-align: right;\">\n",
              "      <th></th>\n",
              "      <th>Nom_Gare</th>\n",
              "      <th>Latitude</th>\n",
              "      <th>Longitude</th>\n",
              "    </tr>\n",
              "  </thead>\n",
              "  <tbody>\n",
              "    <tr>\n",
              "      <th>0</th>\n",
              "      <td>Aix-en-Provence TGV</td>\n",
              "      <td>43.456</td>\n",
              "      <td>5.316</td>\n",
              "    </tr>\n",
              "    <tr>\n",
              "      <th>1</th>\n",
              "      <td>Bellegarde</td>\n",
              "      <td>46.114</td>\n",
              "      <td>5.824</td>\n",
              "    </tr>\n",
              "    <tr>\n",
              "      <th>2</th>\n",
              "      <td>Bourg-en-Bresse</td>\n",
              "      <td>46.196</td>\n",
              "      <td>5.210</td>\n",
              "    </tr>\n",
              "    <tr>\n",
              "      <th>3</th>\n",
              "      <td>Cluses</td>\n",
              "      <td>46.171</td>\n",
              "      <td>5.577</td>\n",
              "    </tr>\n",
              "    <tr>\n",
              "      <th>4</th>\n",
              "      <td>Nurieux</td>\n",
              "      <td>46.181</td>\n",
              "      <td>5.521</td>\n",
              "    </tr>\n",
              "    <tr>\n",
              "      <th>...</th>\n",
              "      <td>...</td>\n",
              "      <td>...</td>\n",
              "      <td>...</td>\n",
              "    </tr>\n",
              "    <tr>\n",
              "      <th>178</th>\n",
              "      <td>Saint-Dié-des-Vosges</td>\n",
              "      <td>48.293</td>\n",
              "      <td>6.962</td>\n",
              "    </tr>\n",
              "    <tr>\n",
              "      <th>179</th>\n",
              "      <td>Saint-Michel - Valloire</td>\n",
              "      <td>48.157</td>\n",
              "      <td>6.134</td>\n",
              "    </tr>\n",
              "    <tr>\n",
              "      <th>180</th>\n",
              "      <td>Belfort - Montbéliard TGV</td>\n",
              "      <td>47.637</td>\n",
              "      <td>6.858</td>\n",
              "    </tr>\n",
              "    <tr>\n",
              "      <th>181</th>\n",
              "      <td>Massy - Palaiseau</td>\n",
              "      <td>48.731</td>\n",
              "      <td>2.243</td>\n",
              "    </tr>\n",
              "    <tr>\n",
              "      <th>182</th>\n",
              "      <td>Massy TGV</td>\n",
              "      <td>48.736</td>\n",
              "      <td>2.291</td>\n",
              "    </tr>\n",
              "  </tbody>\n",
              "</table>\n",
              "<p>183 rows × 3 columns</p>\n",
              "</div>"
            ],
            "text/plain": [
              "                      Nom_Gare  Latitude  Longitude\n",
              "0          Aix-en-Provence TGV    43.456      5.316\n",
              "1                   Bellegarde    46.114      5.824\n",
              "2              Bourg-en-Bresse    46.196      5.210\n",
              "3                       Cluses    46.171      5.577\n",
              "4                      Nurieux    46.181      5.521\n",
              "..                         ...       ...        ...\n",
              "178       Saint-Dié-des-Vosges    48.293      6.962\n",
              "179    Saint-Michel - Valloire    48.157      6.134\n",
              "180  Belfort - Montbéliard TGV    47.637      6.858\n",
              "181          Massy - Palaiseau    48.731      2.243\n",
              "182                  Massy TGV    48.736      2.291\n",
              "\n",
              "[183 rows x 3 columns]"
            ]
          },
          "metadata": {
            "tags": []
          },
          "execution_count": 23
        }
      ]
    },
    {
      "cell_type": "markdown",
      "metadata": {
        "id": "kMmOhyBYjde9"
      },
      "source": [
        "On représente l'ensemble des gares sur une carte de la France. "
      ]
    },
    {
      "cell_type": "code",
      "metadata": {
        "colab": {
          "base_uri": "https://localhost:8080/",
          "height": 254
        },
        "id": "6oKr4tK_jdfE",
        "outputId": "738b99d2-952f-4857-b518-8a25c058e038"
      },
      "source": [
        "points = [Point(lon, lat) for ind, lat, lon in coordonnees[['Latitude', 'Longitude']].itertuples()]\n",
        "enedis = geopandas.GeoDataFrame(data=dict(geometry=points))\n",
        "enedis['Nom'] = coordonnees['Nom_Gare']\n",
        "enedis.head()\n",
        "\n",
        "world = geopandas.read_file(geopandas.datasets.get_path('naturalearth_lowres'))\n",
        "world.head()\n",
        "\n",
        "europe = world[(world.continent == \"Europe\")].copy()\n",
        "europe['geometry'] = europe.geometry.intersection(Polygon([[-10,35], [50,35], [50,70], [-10, 70]]))\n",
        "europe.head()\n",
        "\n",
        "fig, ax = plt.subplots(1, 1, figsize=(5, 4))\n",
        "minx, miny, maxx, maxy = enedis.total_bounds\n",
        "\n",
        "world.plot(ax=ax, color='white', edgecolor='black')\n",
        "enedis.plot(ax=ax, marker='o', color='red', markersize=2)\n",
        "ax.set_xlim(minx, maxx)\n",
        "ax.set_ylim(miny, maxy)\n",
        "ax.set_title(\"Localisation des gares d'après la base de données récupérée\");"
      ],
      "execution_count": 24,
      "outputs": [
        {
          "output_type": "display_data",
          "data": {
            "image/png": "[encoded data removed]",
            "text/plain": [
              "<Figure size 360x288 with 1 Axes>"
            ]
          },
          "metadata": {
            "tags": [],
            "needs_background": "light"
          }
        }
      ]
    },
    {
      "cell_type": "markdown",
      "metadata": {
        "id": "tKojA5Lajdfj"
      },
      "source": [
        "On utilise le module Geod de pyproj pour déterminer les distances en kms. "
      ]
    },
    {
      "cell_type": "code",
      "metadata": {
        "id": "hBEWVw3zjdgL"
      },
      "source": [
        "wgs84_geod = Geod(ellps ='WGS84')\n",
        "\n",
        "\n",
        "def Distance(lat1,lon1,lat2,lon2):\n",
        "     az12,az21,dist = wgs84_geod.inv(lon1,lat1,lon2,lat2) \n",
        "     return dist"
      ],
      "execution_count": 25,
      "outputs": []
    },
    {
      "cell_type": "code",
      "metadata": {
        "id": "HqhZqUc8jdgv"
      },
      "source": [
        "nom_gare = coordonnees['Nom_Gare'].tolist()\n",
        "latitude = coordonnees['Latitude'].tolist()\n",
        "longitude = coordonnees['Longitude'].tolist()\n",
        "\n",
        "liste = [[] for i in range(len(nom_gare))]\n",
        "\n",
        "for i in range(len(liste)) : \n",
        "    liste[i] = nom_gare[i], latitude[i], longitude[i]\n",
        "    \n",
        "#liste"
      ],
      "execution_count": 26,
      "outputs": []
    },
    {
      "cell_type": "markdown",
      "metadata": {
        "id": "ngiFZ6EvjdhN"
      },
      "source": [
        "liste contient les triplets (nom de gare, latitude, longitude) pour chaque gare. Pour chaque couple de gares contenues dans cette liste, on calcule la distance entre ces deux gares que l'on stocke dans le dictionnaire distance. "
      ]
    },
    {
      "cell_type": "code",
      "metadata": {
        "id": "fvKwacP5jdhQ"
      },
      "source": [
        "distance = {}\n",
        "for k in range(len(liste)) : \n",
        "    for j in range(len(liste)) : \n",
        "        distance[liste[j][0], liste[k][0]] = Distance(liste[j][1],liste[j][2], liste[k][1], liste[k][2])\n",
        "        \n",
        "        \n",
        "gares = list(distance.keys())\n",
        "gare_depart = [gares[k][0] for k in range(len(gares))]\n",
        "gare_arrivee = [gares[k][1] for k in range(len(gares))]"
      ],
      "execution_count": 27,
      "outputs": []
    },
    {
      "cell_type": "markdown",
      "metadata": {
        "id": "8j9J1ZYKjdht"
      },
      "source": [
        "On crée le DataFrame distance_villes qui pour une gare de départ et une gare d'arrivée donne la distance en kms entre ces deux gares. "
      ]
    },
    {
      "cell_type": "code",
      "metadata": {
        "id": "-bjSQ_rsjdhy"
      },
      "source": [
        "distance_villes = pandas.DataFrame({'Gare de départ' : gare_depart, 'Gare d arrivée' : gare_arrivee, 'Distance entre les villes' : list(distance.values())})\n",
        "distance_villes['Distance entre les villes'] = distance_villes['Distance entre les villes']/1000"
      ],
      "execution_count": 28,
      "outputs": []
    },
    {
      "cell_type": "markdown",
      "metadata": {
        "id": "h_zcfyAnjdiU"
      },
      "source": [
        "  On veut désormais combiner les deux DataFrame : bdd_sncf et distance_villes, afin d'obtenir un DataFrame final contenant : \n",
        "- le nom de la gare de départ, \n",
        "- le nom de la gare d'arrivée, \n",
        "- les tarifs correspondants,\n",
        "- la distance correspondante à ce trajet. \n",
        "\n",
        "    Cependant, ces deux bases de données étant issues de jeux de données différents, **la syntaxe des noms de gares est différente**. Par exemple, les noms de gares dans bdd_sncf sont affichés en majuscule et sans caractères spéciaux (en particulier les tirets). On doit donc modifier la syntaxe des noms de gares contenues dans distance_villes. "
      ]
    },
    {
      "cell_type": "code",
      "metadata": {
        "colab": {
          "base_uri": "https://localhost:8080/"
        },
        "id": "zWvuWKJnjdiW",
        "outputId": "119926ec-df7d-4582-bbe2-76571eeb4219"
      },
      "source": [
        "distance_villes['Gare de départ'] = distance_villes['Gare de départ'].str.upper()\n",
        "distance_villes['Gare d arrivée'] = distance_villes['Gare d arrivée'].str.upper()\n",
        "distance_villes = distance_villes.replace('\\-', ' ', regex = True)\n",
        "distance_villes.iloc[2502]"
      ],
      "execution_count": 29,
      "outputs": [
        {
          "output_type": "execute_result",
          "data": {
            "text/plain": [
              "Gare de départ                  SÉLESTAT\n",
              "Gare d arrivée               CARCASSONNE\n",
              "Distance entre les villes        687.594\n",
              "Name: 2502, dtype: object"
            ]
          },
          "metadata": {
            "tags": []
          },
          "execution_count": 29
        }
      ]
    },
    {
      "cell_type": "markdown",
      "metadata": {
        "id": "9M5Un9mWjdim"
      },
      "source": [
        "Il reste néanmoins des différences entre les noms qui pointent vers des gares identiques. Pour résoudre ce problème on utilise le module Levenshtein qui permet de définir un **ratio de ressemblance entre deux chaînes de caractères**. \n",
        "On crée la fonction *ratio* qui pour une gare de départ $x$ et une gare d'arrivée $y$ de bdd_sncf, retourne l'indice de la ligne de distance_villes du trajet de $x$ à $y$ correspondant. "
      ]
    },
    {
      "cell_type": "code",
      "metadata": {
        "id": "4GNyGMA3jdip"
      },
      "source": [
        "garedepartmaj = distance_villes['Gare de départ'].tolist() \n",
        "garearrmaj = distance_villes['Gare d arrivée'].tolist()\n",
        "\n",
        "def ratio(x,y):\n",
        "    garedep = []\n",
        "    ratiosd = []\n",
        "    ratiosa =[]\n",
        "    for gare in garedepartmaj :\n",
        "        Ratio_dep = lev.ratio(gare, x) # on calcule pour chaque gare de départ de distance_villes le ratio de similitude avec x\n",
        "        ratiosd.append(Ratio_dep) # la liste ratiosd stocke l'ensemble des ratios\n",
        "    ratiomaxd = max(ratiosd) #on prend le max de ces ratios\n",
        "    \n",
        "    for i in range (len(ratiosd)):\n",
        "        if ratiosd[i] == ratiomaxd:\n",
        "            garedep.append(i) # on stocke dans garedep les indices des gares de départ pour lesquelles le ratio est maximal\n",
        "    \n",
        "    for index in garedep : \n",
        "        Ratio_arr = lev.ratio(garearrmaj[index], y) #on regarde les ratios de similitude avec la gare d'arrivée pour les gares dans garedep \n",
        "        ratiosa.append(Ratio_arr)\n",
        "    \n",
        "    ratiomaxa=max(ratiosa)\n",
        "    for i in range (len(ratiosa)):\n",
        "        if ratiosa[i] == ratiomaxa:\n",
        "            return(garedep[i]) #on retourne l'indice de la ligne de distances_villes pour laquelle la gare de départ et la gare \n",
        "        #d'arrivée ont le plus grand ratio de similitude avec les gares x et y. \n"
      ],
      "execution_count": 30,
      "outputs": []
    },
    {
      "cell_type": "code",
      "metadata": {
        "colab": {
          "base_uri": "https://localhost:8080/"
        },
        "id": "KkI5SUm1jdi7",
        "outputId": "6eb1d970-f510-42bc-ea32-d715a70852a0"
      },
      "source": [
        "distancegares=[]\n",
        "for i in range(len(liste_gare_départ)):\n",
        "    départ =liste_gare_départ[i]\n",
        "    arrivée = liste_gare_arrivée[i]\n",
        "    distancegares.append(distance_villes['Distance entre les villes'][ratio(départ,arrivée)])\n",
        "\n",
        "print(distancegares) \n",
        "# distancegares contient l'ensemble des distances pour les trajets de bdd_sncf. \n"
      ],
      "execution_count": 31,
      "outputs": [
        {
          "output_type": "stream",
          "text": [
            "[763.4494232135221, 862.3306999056759, 869.2340235577246, 728.9280520171588, 720.1620277648304, 692.9771206596267, 185.32250434949844, 418.95177403756867, 192.96627229798273, 450.243970870064, 436.0223865378026, 447.0127476523231, 393.03323572136685, 768.3214022095215, 395.4904053563777, 434.8170876252371, 522.7982889481061, 182.86916621409156, 175.78531973037073, 470.5318044481111, 470.2017997005322, 477.6755327849721, 483.16254747414354, 260.07798985513836, 415.4917785867372, 411.21987278130746, 454.68920941717835, 164.90503463342364, 615.3878469540766, 676.8821996608219, 358.72752125028256, 237.50749785441747, 632.2640194285419, 244.35749203465568, 579.6105086465208, 644.7465341936958, 367.81634632154027, 665.2470229143048, 204.13937784998478, 721.895242480806, 801.6359821745868, 405.6871376693689, 348.64900268396866, 393.03323572136685, 18.54669675447768, 21.29894225297276, 26.86424645169764, 40.50966865415426, 51.3710849549716, 45.114231036522725, 519.7045201297943, 50.076217465619806, 242.5836939217416, 49.165727578206614, 58.786870843784314, 92.63632605958833, 59.681615756436834, 86.90887101245255, 57.081458805171614, 52.33255277362172, 49.284527326634596, 132.54236230927708, 137.0353418142436, 64.95212575828002, 133.28334793486766, 119.42300197259304, 175.85786924423877, 213.565025527776, 115.65158574698802, 182.10908969311873, 289.63269424842457, 106.21472030700849, 169.96308816787538, 165.1932681704385, 198.12808620950716, 20.14782729805564, 445.4773733331851, 585.3622747953048, 192.33610148966844, 403.9123956939046, 464.8211595288392, 256.6239886783331, 156.3096422590387, 135.7277491176555, 573.442060938721, 382.7036748327174, 384.9023648491345, 385.87051143893, 615.7571056383624, 136.08933678745763, 569.5816164108855, 578.4714742930554, 283.1513299050677, 555.892198497987, 531.1089292676072, 388.3411903748534, 370.4929185751148, 86.32605872002425, 158.4108256592431, 172.91474556680424, 174.65185559599334, 351.5900987095867, 244.72184994553334, 505.07639156076357, 504.44424826697514, 569.0974782134929, 526.7687285068868, 537.8321557921777, 378.93733527023994, 261.8869249008744, 396.3717451614084, 584.9737944404952, 254.04448978367628, 392.6693817284684, 596.111834091002, 52.33255277362172, 608.576770557922, 364.5712281985546, 158.05437678656511, 182.69413151749492, 188.2312558296621, 211.98917249036947, 392.11345741304143, 339.58127766604457, 339.4607936051566, 175.60454757357581, 305.37900964282477, 582.1126302167474, 300.3310058290756, 124.73911795424287, 398.08530073129344, 445.2681467367654, 483.8742418277638, 256.6239886783331, 502.48043595847315, 437.437886349402, 434.7972463801343, 496.69143336652974, 820.9574168272992, 214.84586822816786, 270.3230334016334, 568.15512131949, 594.3480917459608, 596.2887525992151, 332.72241881261834, 566.4269588432804, 723.5848773721754, 635.2240370928987, 552.2340379089566, 65.89403898862436, 803.448970795318, 606.7020233741612, 707.4012075936143, 700.8325431658235, 753.7178865238227, 772.2048731448099, 119.8131302241046, 753.4459226005652, 67.9952747341031, 240.9777442482663, 279.6790933256047, 520.0967042011894, 495.95270520745316, 68.6099429252646, 453.9347963865165, 24.840638947664267, 21.9904151275757, 603.2340545024847, 29.037965400929362, 29.70939179107782, 24.5650154365656, 94.2783617149776, 473.2524698011254, 47.329090227715696, 59.22112387616318, 604.092478974839, 60.08117710700574, 359.77639375980004, 646.2751694375454, 74.07723411312094, 59.10131700195673, 54.12856894802867, 211.66228132188525, 102.980856425576, 88.45140337464615, 710.7657284915579, 79.63934826402715, 173.8398686464715, 403.59104102845976, 84.34174623910104, 102.58838551594874, 118.82172909737419, 94.5639422197639, 194.20396361378155, 693.8210347076702, 235.4389508496, 168.1383703979674, 210.68728682395437, 215.25138618842658, 217.89721790562757, 156.21276319016658, 214.70350406551069, 394.9962918314287, 423.0766004721427, 675.5721831359905, 210.68728682395437, 0.0, 503.5236012457514, 655.8663704553496, 666.6052679050481, 606.2189331998052, 390.52180551525583, 374.6379258182547, 388.18822559374786, 723.656927185699, 665.8951395710957, 492.1939684853759, 486.88686193176113, 517.6610767769132, 382.7383096212502, 131.10611085440414, 365.13679878735286, 528.819803321423, 385.0754288093243, 506.0488751964689, 602.0019067584935, 643.1586771547662, 643.1586771547662, 409.2438389950116, 569.0974782134929, 565.8322539026638, 570.9262203170939, 291.87862644077967, 378.93733527023994, 328.9454849878621, 329.4627078260693, 646.841287370821, 560.8382539154838, 141.60448537315833, 214.993841793777, 335.8838886339533, 502.6822682414105, 392.91225339934084, 516.822478556742, 552.1931113462327, 587.0574789744194, 643.1586771547662, 660.0739840398885, 408.9731114814176, 380.52740624717404, 395.8190621605362, 38.91402559675093, 134.96534125742167, 191.66164050551222, 231.22164494203645, 223.23120053751578, 258.72284815000796, 290.511817401492, 535.4417731616675, 298.09867239788656, 395.78061536237857, 299.8959042155693, 358.2104674559731, 372.4634455288513, 424.59506255289284, 358.90418915616493, 480.8717208446559, 565.267242040345, 477.3877141516051, 573.4660018307168, 365.3461602811579, 538.2643709675962, 528.9784551872158, 504.37309142594773, 482.5565768056247, 622.6580186238027, 362.4029840106381, 578.6199005920946, 569.321973514723, 652.6187835134609, 612.6054905781405, 589.6448935710628, 558.2642216665295, 611.433481571139, 690.450122691864, 755.8290822005765, 764.4387047939776, 769.1376677624722, 791.3388120333902, 659.925484163127, 922.6676476218651, 855.0149357521168, 300.0443219896401, 847.7350868718355, 862.005123246496, 477.70673741493783, 207.8065049873302, 246.47066964711325, 580.2724876281886, 237.98439877256848, 236.54916130873542, 579.5721180741924, 395.1204277274446, 528.9649697992464, 527.8377474390421, 405.6871376693689, 663.5281738205354, 565.8156751222197, 600.3355975765559, 381.08169336858305, 465.95398492175275, 612.7908714166797, 631.0581801042255, 677.0338926233122, 497.5369097446005, 436.9202691416491, 460.2271145876458, 325.27849625227685, 473.504650570544, 293.8146057523775, 378.5824833221545, 352.36957604094675, 730.9590843449978, 199.17417561921374, 5.485344682565253, 9.692621244113463, 11.441605184165706, 17.32864857627997, 24.230365599784115, 649.1371130293445, 209.22551923070412, 377.2468617491903, 244.72184994553334, 453.4178470280163, 859.2478781356537, 641.0939816266681, 805.3802978399, 881.7361057013959, 625.5448918527444, 191.03582559064665, 234.4322499222385, 136.1952552494949, 392.69444167805005, 74.25582268558145, 416.9795282347669, 546.2390536631247, 498.7404857543219, 691.9187008539151, 497.09238077852996, 491.088443431657, 499.1993698311069, 494.4843840180835, 418.3045565049541, 396.1989102151132, 445.08524175198284, 466.6395547721232, 511.08141755006557, 205.95712375539352, 359.6669155133826, 586.6401258643989, 243.2434668800787, 422.1047466109208, 225.02144265519203, 0.0, 4.469846656611867, 102.49403990857475, 398.21827579169786, 331.15855580456025, 23.004464145953612, 284.1571575758434, 122.62030841556302, 24.719270457284697, 26.58447740271154, 11.275836967297595, 43.058992845892504, 39.31046519736912, 325.5663873389137, 147.92095972861728, 61.372229126589794, 51.28712607639654, 50.04800373547108, 63.7786549545307, 72.55134811997944, 76.7943648997263, 78.06650633505231, 57.71878575079044, 67.78681213949926, 156.46141466607503, 78.64873831574978, 85.19058223690747, 89.54957189084206, 117.69292093703011, 88.18220959711668, 85.83908039363894, 123.31454847154247, 96.26676064300833, 150.0863015297863, 513.0394459818511, 144.16304010528393, 152.36181260119625, 143.1661458495186, 153.72285680025297, 130.75619837058372, 128.10530650355855, 144.78758431625516, 166.2806128838515, 87.59479729145008, 176.00063963553077, 365.85210013077796, 204.23512523298095, 89.75919577319614, 353.6231290911591, 252.8257560623064, 372.53513619112374, 278.73295759327453, 211.81702834775515, 732.7550512246154, 165.0277763339405, 386.8829551369958, 287.5696939757972, 251.92830229170295, 261.8875358704002, 315.29553159314855, 190.90897870508692, 231.29769704246436, 578.3268389355729, 294.685606582714, 610.6000998159254, 383.56370941722764, 639.2465704708216, 648.1583060035636, 333.2537169526345, 476.33007180075464, 524.5238090122767, 643.1586771547662, 432.62665280409925, 436.77261246334405, 424.17566955325555, 361.6807571610119, 422.29740583745894, 519.6556642819323, 628.9966594369639, 331.884470236019, 432.62665280409925, 435.89327842929686, 492.52537257183053, 547.11738936703, 389.255698418802, 661.7130674207173, 536.556228234642, 39.34870044691203, 379.71920927488907, 676.4531035314579, 102.70047779742426, 298.7001075821135, 400.1322888360857, 137.69370181406723, 200.74686961159475, 110.59759827857441, 193.35940512021824, 171.84098037234227, 135.86035486033697, 148.27727827332953, 139.0849437742534, 479.91715634686693, 545.8674525042649, 424.5370115233391, 437.3366031372271, 588.2158236714811, 471.14479089392404, 553.9072419376722, 628.191372944454, 351.94138565760755, 697.0089521761558, 633.544185991274, 672.4383245881259, 632.842539362019, 577.6130948861264, 645.0624354389688, 644.2475258444208, 694.8387645449096, 601.6184076665269, 668.8854097011041, 716.0943521827531, 802.3844856254888, 710.6325625539511, 724.8540573854724, 722.1299864435854, 746.9642824387676, 640.1806152037828, 652.6601425591772, 112.78274753312508, 214.993841793777, 283.78424796145697, 301.3182844663409, 334.0040835683482, 472.7822400571153, 458.1421014147254, 183.12672350320818, 51.87508478551366, 663.5281738205354, 50.06660471142446, 59.02457546436485, 143.99942399416005, 65.89403898862436, 67.78681213949926, 594.3481920122113, 23.190582151947993, 108.8771238212519, 91.19376163132293, 92.09000225415788, 88.48097186833998, 74.71428368129376, 114.49136960891501, 129.18428072878282, 165.37356835147622, 151.3949893466421, 750.3974695516207, 101.19176345457569, 698.6747373224898, 129.87719123826227, 149.47898267364616, 296.2766973630579, 537.2032287850922, 182.2195306572468, 214.01998529966076, 725.5354701745578, 203.81019408731245, 361.7418865457219, 149.06023126662157, 242.15602506199662, 328.89883188342776, 189.1898350257033, 245.51951146842597, 196.3885989568048, 270.5666197701826, 678.5899055406462, 222.59916310897134, 397.31145053680393, 341.35884842918233, 413.7785816948091, 575.1561949405889, 66.49353605807632, 168.78593305269936, 6.169347481630712, 420.27392850348997, 353.7017939809786, 352.1738680732544, 591.773445826596, 606.2189331998052, 615.1290260463185, 383.10103113135006, 384.46965051009323, 384.93357037963426, 429.4411806143624, 538.8995778952248, 675.343312630244, 403.36763890953614, 633.8334664679402, 378.3805031685315, 640.6206797386905, 615.7571056383624, 290.54426628188526, 495.35435788579605, 643.1586771547662, 224.38609681848766, 643.1586771547662, 643.1586771547662, 480.5087872765439, 492.52537257183053, 84.51351210527439, 551.3355698229799, 659.925484163127, 649.6434613598032, 373.4496499069692, 680.3600350648549, 361.2319223771053, 109.68640794758113, 378.03589259561005, 339.31637114506447, 425.3868015063587, 346.7429810276289, 314.0513073664824, 495.95270520745316, 376.4863338007783, 360.49002621889593, 400.93180822559435, 431.6269193809945, 424.4708965588141, 359.77639375980004, 42.43851521897274, 497.4819457955948, 106.53069213776219, 179.9353017659544, 137.45213597417583, 554.1122262700081, 227.28428560045816, 257.7343059213925, 288.95341167997526, 277.80223361006244, 339.7185281920292, 146.02566469893043, 241.55273979917285, 317.01058075181606, 426.42718619899534, 379.3404346187378, 344.990500186109, 339.53913124509563, 380.42160058781445, 397.1434370785683, 375.1505892499865, 613.271569620943, 399.34466123809716, 396.4579666519356, 176.02938512334293, 451.9901085803669, 608.8299650809016, 507.889950588817, 454.06758450848275, 558.3526836191774, 547.2812274679325, 574.4884031518297, 597.3439834882776, 192.0766303085371, 474.112819043196, 506.55900011826725, 352.0139120284965, 345.6951647589821, 547.8679133450663, 586.0990832134539, 562.5150357820938, 672.2536067146507, 562.3041292216823, 552.349752001866, 691.9316662247138, 161.22327463439177, 725.4261181305143, 699.4021987051598, 713.3967767561159, 161.5652179029186, 704.124398956717, 763.7988803451667, 868.8493381739198, 816.6289162401133, 903.1549777435953, 856.2369860948903, 853.6364040368368, 831.097429003703, 801.4382787674346, 833.4348614325212, 224.22050350292113, 196.53358324922723, 179.6855275424976, 234.45227444432302, 76.17939332880363, 134.17536267515973, 294.7006386013721, 140.96063334509537, 276.7763346013744, 586.4377863134248, 610.3573544370322, 306.0903302873305, 447.3570103572869, 429.2605490875796, 313.2294834732873, 339.4198449230715, 149.57441311640366, 337.06135524992544, 685.2941533926787, 679.6181006291049, 464.83667417650076, 491.8012799559103, 467.081638022238, 418.7745578739512, 377.7206130796005, 386.72935893498027, 159.65302552020228, 60.32862757531019, 165.44950733362796, 521.7163950921715, 768.3214022095215, 204.46523622097703, 91.89331422940205, 264.4034840637929, 768.3214022095215, 502.47758578433087, 22.781041342627727, 656.124595640688, 699.7686219544163, 78.88163081955801, 423.58328788409096, 538.8995778952248, 142.78639441305685, 168.43863787624304, 363.2039512239302, 205.72039606216998, 217.14749024746024, 792.1988737800996, 330.06171052588064, 276.45838238159797, 226.2165294716297, 234.99070736433322, 611.424899375912, 314.6108372690206, 296.85284886673264, 544.5324016550293, 697.1330559927097, 430.9541180814466, 452.88784436621535, 377.3626150073222, 145.83724424981435, 440.74736322273196, 551.5257432929566, 480.11474179112787, 3.89092858958206, 534.8498282904995, 557.3848911873806, 454.4826299683572, 614.584874268659, 564.7676359008979, 537.5208879455247, 573.7383753742525, 552.0273997918143, 576.9841114980242, 501.48418333693274, 632.0485219361676, 217.6198463038119, 641.9762749720626, 580.8866162179193, 607.272456556365, 766.9092691313392, 727.605367493289, 736.7321349618801, 763.0735226209675, 781.9364814828691, 750.5330266620144, 746.8892364232399, 598.4113294784574, 831.8311709391818, 783.8481900198248, 846.3604534926818, 802.8621552398702, 702.7680368679805, 764.5177618063074, 140.07163722692823, 77.23027934981509, 336.0706585166823, 115.28796487203593, 768.3214022095215, 249.55517510061887, 321.28679303168985, 397.18190940737895, 386.2431387908225, 496.5145760530868, 401.9918409219259, 294.8232519893672, 446.20791259205174, 587.4204537872375, 0.0, 425.82456643059425, 172.87138193929889, 410.14655706059204, 536.1435232093172, 705.7035978289065, 711.818331085006, 661.1915928439917, 689.2675337822158, 387.83995900085665, 345.9603456224338, 234.1361544772639, 185.77223757025592, 498.7404857543219, 616.9809923593413, 560.335086047246, 358.8476142957105, 578.5519540780481, 336.5136937757135, 601.2856859665569, 452.08364375554885, 187.7888260358126, 630.8383026094269, 793.8316007196518, 4.755887670872458, 12.529775507248507, 17.026177060560837, 24.230365599784115, 400.10035427741263, 24.066955267864174, 899.3619950262009, 39.2609622290351, 33.95219504167922, 64.51129926462725, 401.9918409219259, 812.3323816210312, 45.267453602720785, 400.10035427741263, 316.76168640882713, 401.31686265062564, 613.166281445244, 236.04024914150645, 80.83478514297256, 209.8078965938162, 82.84458666580282, 62.550259313528976, 361.48242518720264, 91.86186764415874, 102.13571780029402, 64.88298803696622, 241.69827799984193, 111.51936630952352, 415.28902462005635, 139.57156638718976, 143.63364998845307, 102.60047201120814, 141.35742337238736, 137.59184292348561, 192.33610148966844, 163.34960861075558, 286.05848531786137, 200.06147726884123, 225.7061908805175, 132.25297198573787, 229.63405128319397, 695.3679406609303, 175.24006204140375, 412.1784008666457, 332.96980092395097, 58.83620210200455, 686.41403107382, 231.09041438040737, 477.7241635233043, 429.8834376092033, 383.577241628969, 395.3146890543358, 66.90966309857592, 392.11345741304143, 496.8798421713783, 225.40831601281639, 205.0325698756776, 372.080274581249, 394.765530363697, 564.9304955519184, 724.9829533710051, 615.7571056383624, 357.27059672069026, 359.76698748661084, 387.47429691640343, 305.44279066960047, 508.8265695204797, 535.0031490101185, 281.2309323680007, 360.95336914976156, 350.3201823940495, 487.5417173502062, 504.47846870693047, 38.95788348931408, 283.1513299050677, 515.8388669585667, 485.46896735974553, 196.96751983857473, 486.3118194613066, 626.8274026710808, 237.4566096472358, 401.6573216186113, 109.68640794758113, 331.884470236019, 361.4049496018676, 253.53818099979532, 600.2533231442453, 517.2907581753874, 539.7979690370682, 577.6327525651129, 683.3601975897874, 865.0585570195367, 685.1831473525264, 208.7344645658721, 455.89330469055284, 432.1327256811364, 445.43447690813935, 306.8699883098794, 569.0974782134929, 519.8929927096816, 768.3214022095215, 257.9949969508624, 188.8588765644828, 571.3228287436507, 208.4213681903906, 396.096187132827, 544.2991265838248, 554.1122262700081, 672.9644800596026, 665.9803009127144, 453.5766501496284, 636.1446778814833, 693.2486151069872, 473.2823217418088, 520.2784041757159, 404.0454101319234, 461.8839418631788, 462.2349174909019, 576.1506908404799, 360.42822837678983, 52.33255277362172, 137.94463367082963, 610.4973371523655, 248.0030354699133, 610.6000998159254, 26.261887937145143, 30.846614361749374, 33.555411236661755, 35.875586866623784, 679.224478471679, 443.29973051795986, 208.66723627533682, 550.9225082862991, 26.85467959092837, 44.2705339256362, 103.54042001211074, 593.6821769292791, 51.89433356189073, 57.788247091194755, 364.5712281985546, 78.27676349302013, 82.09991383302194, 96.9423312096103, 653.3091803504681, 103.91159625303544, 410.83810391001975, 676.5105097474718, 97.0261621347604, 85.26661818954082, 102.75626775221751, 377.50798418782983, 577.3816235307592, 361.36268607475, 243.5925826004812, 111.51191892394174, 133.0398267443037, 145.45903339151158, 105.96194860807562, 132.1067937167504, 562.8565702920126, 192.0766303085371, 482.14943105904007, 205.84514273161264, 226.24690778497455, 342.0242669615996, 422.4024404836514, 102.70047779742426, 58.69158438088629, 237.68763654848394, 642.383154463341, 625.442344235079, 191.11779703692727, 279.4054986492345, 195.0670735203568, 225.65238336492877, 652.1955259291974, 231.22164494203645, 578.4714742930554, 315.29553159314855, 174.58612856615932, 263.15734564247987, 155.8494277147722, 643.1586771547662, 570.1893426344955, 685.1831473525264, 496.12853956017574, 349.26273294095853, 346.7429810276289, 517.5683727768044, 656.124595640688, 454.7880736159045, 155.99510328446075, 185.64953923339655, 198.029977935142, 208.66723627533682, 205.93346892719936, 243.24339600176296, 319.7672346740236, 315.29713080402007, 245.77824562764698, 253.53818099979532, 759.0547800600482, 439.54415650097826, 438.24705591450453, 469.42033606887526, 445.51896799742985, 700.4825838607229, 485.1916960212154, 394.6350466316004, 427.29875892767006, 517.5683727768044, 426.4232635707601, 735.0194559552228, 62.210014457236504, 141.66269091117198, 317.7412314833652, 182.69413151749492, 428.73113381351243, 183.75214831113308, 216.86973377705027, 135.0220609662517, 431.92604650355673, 316.9380210621467, 360.8243667280055, 566.146680437033, 306.44529136797996, 78.95216869489118, 502.9770162593286, 455.49213435923286, 518.0777416507267, 615.9904325578833, 529.1398221664816, 792.7392709933708, 592.9062913829457, 632.919558501607, 560.4307341814508, 537.5800414817164, 448.4848600992126, 588.4314805163041, 114.77621628311176, 665.8307052633431, 450.726039330832, 708.4902810495088, 769.9041937677479, 261.4492649514275, 677.8977861135402, 628.8535771673456, 667.9547914371761, 589.6781719928497, 547.97286741718, 552.349752001866, 597.4700414271616, 608.2283630868084, 635.4218117028039, 86.41379420543069, 337.6545495266059, 315.29713080402007, 489.9706637909372, 759.0547800600482, 439.54415650097826, 335.8838886339533, 461.7711551957054, 58.2840173300152, 29.656416683716827, 657.1110207608746, 151.6678679021448, 47.63545084143838, 591.2075003399714, 44.54886935645741, 564.9366052307496, 45.31731312795956, 55.044148234897335, 61.17492302868106, 61.04771022670149, 102.70047779742426, 62.924947788751176, 72.74974126481777, 110.98166407273158, 768.140222696694, 34.25132581358714, 120.99570753923977, 99.5283677436123, 731.0523199245498, 93.91404580999183, 492.6776815185473, 107.99366769765778, 77.7612461408074, 95.33064020153145, 123.07737184077807, 491.2887142360472, 135.3472545127353, 306.5059911664256, 118.19050175992321, 262.39021177692894, 119.64776120392935, 200.09149345236597, 172.35160500203338, 340.9082450115681, 156.4458754168433, 301.46040285673337, 275.16199628161405, 264.6627795116671, 344.9936796806671, 354.00178116410797, 295.22501510537455, 423.0452816706574, 609.0253717280202, 277.9581828282421, 631.6536058020909, 644.7544147331055, 390.15204063311006, 429.4411806143624, 168.45936939400414, 703.8504518430593, 360.4780908247616, 735.6274593766582, 384.54113957236416, 618.6965256123331, 37.43761354115678, 370.4385131829591, 807.9073949973564, 547.2359778644051, 192.0766303085371, 176.4833592422109, 317.59004826833046, 547.11738936703, 598.5318871003958, 643.1586771547662, 287.8308106486427, 386.77477984440765, 287.3701123926415, 280.13812591838973, 301.3185613933572, 361.4049496018676, 590.0483601977246, 539.2668691608529, 409.2438389950116, 374.4654019879617, 425.992911219669, 370.4929185751148, 276.2404456457477, 178.81374364717405, 152.54050196222838, 200.14127271315814, 238.1240927758935, 224.82905648182464, 249.81094814083403, 288.9156107001025, 318.6703380818982, 281.91757894554445, 283.2546823079072, 468.05474558806105, 477.7433489525793, 361.6453223967349, 419.6213279862498, 429.9163730287466, 608.8299650809016, 582.7358981797967, 526.7247119364109, 588.1671255847816, 456.4853096891547, 121.91024514833724, 798.4264410889896, 849.5129137115042, 115.83758778826743, 703.716744467213, 572.8850330735911, 690.5840019425244, 602.6048794765519, 547.3499192610493, 561.2822311105492, 652.231784733777, 620.9774029310357, 354.41410320872893, 624.8440628440517, 647.9328722113182, 605.1619038771261, 605.6935757580247, 662.6055377865019, 760.5377415117803, 791.776644356987, 850.634666251504, 816.3570802206864, 790.3912230727234, 734.2143444790327, 764.0975878544458, 831.8623585776447, 582.4018411210163, 535.3067423689099, 441.52858750991874, 683.518941185296, 246.47066964711325, 447.45346883634664, 216.97235096753573, 195.37594508019154, 480.27380304339823, 564.2360277238507, 541.6036109890738, 189.43891450771582, 589.3311001947878, 472.9783938248723, 493.2705206472428, 476.1137796695403, 494.8412266382591, 414.58817147469347, 613.1340183862177, 515.8252989772411, 545.1186521580239, 304.87396870707295, 340.8335138754026, 298.0433422286235, 411.1665623967529, 493.9670302189927, 233.3035872436083, 7.883523510144533, 9.387053713144336, 392.69444167805005, 468.4798308692861, 432.9994884090201, 89.66504019754704, 174.65185559599334, 243.24339600176296, 661.3208430226847, 812.9487625744024, 815.5044630704413, 859.4575684842824, 739.4474348697927, 889.2163121627391, 834.3757855539122, 572.54901316636, 96.84848151128958, 429.22856026770586, 404.0454101319234, 440.4038745303734, 233.43618200249583, 426.41333101297585, 294.685606582714, 395.4904053563777, 542.370672096848, 591.7144953384438, 801.6359821745868, 619.431197727457, 139.7678847283252, 233.91656961633143, 298.7168684912311, 358.5805291449843, 645.606182312586, 647.8158386648568, 635.5675236725134, 677.5463587010312, 594.2810532832893, 325.89182508821807, 375.3249035032868, 180.1077461019296, 411.57002499800353, 361.31288120204215, 162.67890901546323, 175.60454757357581, 372.6933965822085, 499.5997677251677, 2.787897949863314, 5.662668438222759, 8.452087229087516, 18.09551808343927, 311.6467128571959, 23.2272737172327, 58.2840173300152, 540.3001693284986, 28.163144474655045, 494.44972166994745, 47.85742390490288, 262.8193567239693, 476.88533205948625, 49.971345606070706, 780.9605663080051, 59.42359281799269, 61.77207508326118, 76.5244037945242, 57.74550600162404, 359.77639375980004, 74.29479559639364, 66.0120830951952, 102.13571780029402, 142.49936171957992, 59.436990602043764, 87.25300881133094, 126.88245753798321, 353.5061397590214, 128.66558041996993, 141.76204543225654, 149.9285788621765, 149.29344238958905, 150.38492011170277, 120.66197324673905, 171.01463495639683, 180.4196313628536, 213.01303659548387, 690.7948769696834, 0.0, 725.5354701745578, 314.78989707276, 200.86652978519982, 265.25728371776756, 273.8517060188693, 121.62821916206927, 647.0080190261172, 158.88299359603167, 158.35093752412763, 140.07163722692823, 149.06023126662157, 379.28596979530323, 379.90451075360806, 468.0904904835194, 564.3033959545886, 529.5379253536075, 412.9544945420574, 148.11104579829447, 160.2437523967031, 386.46834402292734, 717.2080695425227, 517.0819174516736, 400.81509052790375, 643.1586771547662, 38.95788348931408, 521.3562140927345, 353.0525774053445, 512.6528060431364, 502.1118427433464, 666.7321060655142, 389.6731980275266, 535.1166871369965, 370.023324288686, 339.1652000258267, 395.8190621605362, 109.68640794758113, 248.66130785159817, 351.62391932150746, 377.2468617491903, 316.1632690504512, 453.4178470280163, 483.0820806109773, 451.3844738181108, 21.574246938016596, 513.1113343360888, 614.4998845003372, 485.66560215402166, 579.435058693399, 675.6244656593362, 438.0270925724372, 443.48592359031807, 157.29872015242012, 134.85716568696463, 417.2403529139097, 91.35457025942758, 190.0734653510732, 165.44950733362796, 282.25277972868116, 192.40849835708866, 227.5627608077438, 331.4480222573426, 359.7010274150048, 346.0269529948332, 466.82402166071006, 442.5525751579568, 793.3474423637973, 178.92822136520041, 564.7021633423641, 414.8546733447311, 439.31630415009784, 400.71065417098566, 364.3337056818203, 481.2067120363679, 563.3477862907564, 584.5599376271235, 484.34912041357205, 200.61943451474218, 107.98976757437973, 755.8290822005765, 216.1548271362048, 607.2288213711539, 690.5840019425244, 593.9669991670578, 515.6684350355576, 533.6959902273844, 473.02759127803284, 621.7052455027491, 571.1048251864851, 660.9566154051284, 522.7026389421346, 550.3093090660441, 285.79899311317007, 748.115483722139, 708.4902810495088, 827.1350550081715, 155.99510328446075, 151.5457400083028, 224.38609681848766, 234.5857373766422, 226.4727898529822, 233.6682196641685, 248.66130785159817, 616.5750529813321, 701.5235622378259, 350.3201823940495, 729.2300385416389, 19.087047527096264, 652.3856433765611, 34.77279046807029, 113.20455975843856, 40.26270995975789, 47.98506689361691, 41.39782908777822, 53.69149141808869, 52.95171444367708, 33.78533938630959, 51.781518113673215, 58.73845717321134, 98.27095713660881, 67.43637527773734, 345.58420680758223, 218.91242401907886, 59.10131700195673, 53.5152077585702, 70.56179059944296, 234.00655399400833, 33.756334615762675, 868.5387525355407, 98.3597526748992, 83.78949590736971, 367.20090744131835, 89.54957189084206, 121.82295222952557, 109.4569167775034, 102.6858388766544, 100.22852174420103, 197.68698448550103, 156.75801673446068, 114.31140409200827, 161.72276397542097, 702.9475248588843, 170.27355606901696, 283.80708767222603, 227.97392868438047, 481.22310444853474, 642.2218387425876, 415.8313427605193, 226.24217203486336, 363.63491513494216, 683.5936063683624, 442.5649415810975, 273.36150833393253, 284.9120538607168, 346.5616550931424, 365.13679878735286, 462.91657941569486, 127.92769712951798, 275.9172486390783, 140.41721117627984, 121.6609206728693, 511.08141755006557, 674.9758744998275, 699.2062094953953, 668.9489608790541, 394.86107498692155, 170.28468793798228, 293.2925704370678, 765.1390720102779, 294.4098658085807, 194.08026565971682, 601.2109178136556, 228.94759448109178, 310.52068442197026, 410.83810391001975, 643.1586771547662, 226.4727898529822, 643.1586771547662, 213.36972735243543, 643.1586771547662, 93.61232692866821, 513.1113343360888, 357.721918501419, 398.8792252348609, 276.2404456457477, 667.0243484191192, 686.41403107382, 106.99620895420013, 145.6649000262899, 176.4833592422109, 256.18214498883043, 151.977186349091, 461.0556031041438, 555.892198497987, 614.584874268659, 263.72119043881406, 357.721918501419, 528.3708838437058, 77.23027934981509, 106.092966436816, 236.04024914150645, 234.53023818237742, 778.483054796774, 793.8316007196518, 281.26774264503194, 288.02080532317734, 191.2711831397564, 222.48941659791822, 286.1702147330248, 626.5722998784975, 463.6752708632885, 553.1728734307775, 506.47197278274655, 558.2391945710679, 557.2645370389588, 651.9627493565838, 504.130720454021, 540.3001693284986, 523.8464025861996, 568.9682726801416, 756.7199625030954, 782.3278843314937, 739.8503707452926, 740.9373362599924, 883.7717970429004, 778.3649581208252, 846.0996545435905, 655.552530439163, 874.9723334159, 840.3225298225409, 814.6913962174889, 776.9118127688002, 231.3324842627381, 443.7223309881126, 198.10611109359928, 223.19402308965562, 195.23147923033167, 542.9199188208019, 398.21827579169786, 348.64900268396866, 128.14116858715605, 501.3830249129866, 669.2587438329431, 498.7404857543219, 631.4725100998285, 606.0022535754337, 688.5727800862943, 670.857697898554, 449.0981997593465, 459.3492191481115, 366.39377294348003, 432.25642123335814, 629.2907263430434, 347.31113620069226, 214.95242143551283, 192.60303163303647, 343.54219840436923, 567.6022396189895, 751.1912734131554, 91.35457025942758, 0.0, 626.8480413962727, 290.7662590048914, 10.517587881414672, 203.81019408731245, 13.795072875772659, 669.4851972360289, 141.60448537315833, 395.12777609840066, 151.977186349091, 483.0820806109773, 60.32862757531019, 345.9603456224338, 291.1718882014367, 135.0220609662517, 231.22164494203645, 273.5213926819228, 298.0081203220212, 320.69343455908046, 337.47104692688123, 299.2915358835358, 347.3893192359818, 350.99304520860323, 445.1513187956471, 454.13470201255376, 414.8546733447311, 448.86784495559596, 497.5095940829232, 574.6125289436033, 475.27719535566905, 568.4785591167891, 230.961884918897, 271.00851862184453, 606.5032939738229, 502.9129402814118, 593.6766540645486, 637.753361458216, 803.6701895443617, 774.2169373755412, 748.1462636643287, 788.7945423181981, 786.3088813346344, 795.9719899637399, 752.5596793628257, 748.6241957882976, 789.2973808882144, 848.108565394452, 868.3888037095526, 829.2177535541765, 791.2929805665565, 833.8767725271491, 233.43618200249583, 459.81572301611044, 136.01486133292545, 644.2858550364006, 347.9514627241388, 329.5532491954119, 293.44310615697475, 394.722410057542, 453.4178470280163, 651.9959773483914, 611.1201859507369, 632.5149765704241, 690.0344478788778, 504.4261300189481, 503.6241910234087, 290.4392632031366, 382.644540290877, 366.5343405864275, 338.24872871362635, 285.8339412903159, 262.5852591586762, 293.3153134964012, 411.7091313359257, 582.637063225731, 500.3503114552605, 307.29731448071067, 7.188789155131058, 592.0790750441506, 21.734759510901636, 112.04314171507927, 22.602810949839895, 32.286410089679876, 656.9965233476444, 31.443449985724563, 32.79202092903701, 683.0535791147965, 566.1448903723797, 37.276337349796265, 428.0546251268123, 693.6454057963949, 48.381109870227284, 56.5865529395934, 61.41764222668017, 102.70047779742426, 64.50656027452176, 147.62210555858442, 500.546465971335, 527.4481980923921, 147.51882078428875, 205.0325698756776, 89.82869306004807, 84.33658475736955, 216.6969311925037, 106.7886399783015, 94.2732048245552, 80.96530555805506, 64.40888759031965, 129.2470547599433, 136.4722954122029, 143.41614145367046, 158.88299359603167, 142.20741377278347, 144.02753172549515, 329.48588709484477, 153.6198447842668, 190.90897870508692, 157.80933581940155, 155.93711343996398, 0.0, 724.696009355714, 200.69842274045612, 308.05385437018623, 451.13644829819447, 378.4078039307216, 662.5038360543477, 388.3593155081354, 58.2840173300152, 228.98364159194767, 126.31600112494093, 157.20369755842285, 284.1571575758434, 268.8064696438812, 568.4590755099329, 613.5816969944311, 399.2587971144846, 283.94816802942285, 246.0855453038637, 254.23658355907068, 367.93364885564426, 598.0827331498939, 630.7913985495372, 170.4028602076853, 276.45838238159797, 486.8709565559595, 303.9981952250107, 396.98055427378375, 203.53782676057796, 0.0, 396.583871138419, 552.1931113462327, 579.435058693399, 656.261382230473, 375.93709368163263, 352.3328859403031, 370.5529497457118, 340.62665316291066, 528.3708838437058, 106.10794204369519, 110.68054460384124, 226.4727898529822, 247.749383109181, 252.01939108210613, 310.59470896430145, 524.9359169883315, 461.7711551957054, 353.0525774053445, 414.0943968985078, 169.80660200480042, 656.261382230473, 319.6548625590173, 479.5621579785003, 432.8571927797649, 118.0170996685891, 138.0172465395863, 158.4108256592431, 199.27828978961026, 287.9483465519551, 594.761900557869, 425.3868015063587, 550.3245993024253, 813.2997134065198, 768.140222696694, 796.2271155406071, 288.92494627679287, 275.35222721949543, 384.6067648513423, 768.3214022095215, 535.2041227969997, 339.58127766604457, 710.7657284915579, 475.7788799203945, 105.40767706022541, 606.795166150525, 571.1008149659456, 494.4843840180835, 686.161100855782, 691.1869784015805, 696.4335743201599, 483.7870306124152, 413.48775737354237, 443.7223309881126, 461.8026671481982, 452.40677513419496, 464.83667417650076, 515.4632325326742, 352.0042489289976, 113.38761888914328, 639.3340508017795, 452.41069084047746, 175.8358843974218, 400.71065417098566, 193.35940512021824, 626.823741936444, 196.13447094971423, 221.622776872149, 307.29731448071067, 321.14422830976804, 11.138094300537741, 87.80910516715008, 151.6678679021448, 28.14463603477572, 4.040459366091178, 24.91895499241243, 27.86169937466939, 627.8479569105837, 27.082668034198395, 58.83620210200455, 594.0382772191776, 47.66412319220377, 34.89087773394242, 419.0165628371342, 58.59979361374051, 67.99235989602181, 651.6832360577005, 116.23453544140403, 47.768899206420286, 112.80236619266915, 31.443449985724563, 364.19506095490647, 110.30138786702105, 652.7988599830462, 698.0725459725174, 122.08653124367403, 131.2036962094046, 139.4121477574128, 521.8989867825285, 112.93289746645323, 109.57417217209795, 455.7511197800578, 611.6525418128361, 128.9174471919896, 184.50520301566746, 277.8580349223175, 291.4462564293043, 286.88233016629664, 384.31308778084485, 255.7018479419429, 368.93191695587285, 414.7192867679121, 349.42212487593724, 449.09281788619535, 217.6198463038119, 2.6285495832261243, 0.0, 199.20701344105393, 0.0, 45.31731312795956, 58.91794938255725, 123.07737184077807, 394.6219467859709, 301.67421588890176, 132.25297198573787, 659.5746283244296, 193.12885434477838, 502.6822682414105, 619.9450335641076, 412.6382195634973, 614.584874268659, 498.09106387991545, 490.51287803607084, 595.4245005363658, 519.8485397973039, 668.4933115184406, 660.0739840398885, 626.8274026710808, 376.42275046457354, 385.61658629139964, 669.4851972360289, 638.3156402350638, 530.2319119746996, 372.6933965822085, 151.5457400083028, 224.38609681848766, 481.344754228959, 317.59004826833046, 308.9158123913572, 480.5087872765439, 570.1893426344955, 750.355706925622, 531.1089292676072, 401.3910934990025, 346.7429810276289, 0.0, 418.27277582856226, 318.03061894672516, 144.48345349346945, 207.59314745851808, 210.99496464453156, 465.8837532524287, 238.59360283741847, 180.93605955740512, 614.6354246017937, 386.94636009897675, 462.2633678457733, 435.31973550900904, 588.7990302242993, 544.918451754414, 539.3262484878206, 680.9644186392088, 667.7966275302315, 662.5799666792333, 603.7438726959023, 580.4471623160456, 636.083743201565, 600.3096350044432, 634.182478444825, 609.0253717280202, 547.3454574823103, 247.1182448007204, 786.0511001244461, 711.7794573457375, 779.4755340251291, 720.1810363191851, 756.3403075223707, 706.5285313347295, 655.6959132088259, 615.7930559167104, 252.01939108210613, 414.9614442681039, 505.6546578140042, 483.432310867045, 595.2127382048542, 189.972041395351, 169.11328513712462, 183.18763533151736, 182.2195306572468, 33.04971238380926, 43.27111661796313, 45.56015786708885, 71.74786665736903, 64.31299851030711, 70.20558754854082, 51.89433356189073, 61.02986867815726, 77.53755754858491, 85.75181384174101, 77.10419406166326, 71.87773537836914, 64.09050754328884, 101.67916631419497, 513.3612148081409, 107.86367208651934, 113.94989040972438, 107.07541659198984, 551.3540248317257, 175.75738796062075, 139.0849437742534, 224.99533030156493, 331.72401705145876, 233.85603029015823, 243.316769820656, 369.40843078105735, 303.27953913807073, 443.53332693264036, 397.6860865945489, 252.31948058422486, 280.08779980825864, 735.3058041728128, 237.29761703630712, 649.9819918043793, 364.58600229862816, 330.844215827961, 261.0443191666017, 261.8875358704002, 647.4814124040633, 481.4145442344228, 521.7719384209178, 382.07537446623945, 342.3833965927925, 357.3274916484763, 386.2431387908225, 422.8872244687508, 169.80660200480042, 587.0574789744194, 485.1916960212154, 272.54659227162927, 396.3717451614084, 434.5434662822021, 498.2361465721169, 198.64841466657455, 236.85770198426866, 701.5235622378259, 483.432310867045, 479.6346842045129, 424.17566955325555, 551.3355698229799, 606.7020233741612, 773.0081877508825, 349.26273294095853, 419.3789269816442, 274.1665085514974, 137.94463367082963, 225.57196409353836, 403.98046705673664, 288.95341167997526, 283.1513299050677, 275.07297752239765, 291.92235064182256, 207.7946256925591, 313.1805780522469, 522.8715918936933, 503.88642508178594, 461.1546218347609, 493.3043378524574, 528.230404233382, 577.7824606782798, 572.8824759734143, 400.04436483223304, 526.5497478903752, 615.0296136633324, 546.8064071187575, 554.2503310392117, 564.574418319904, 649.0916182188683, 695.0047622361534, 354.12919891343, 706.2286237412213, 779.3350748645335, 710.8144801728105, 790.5470130033988, 697.9146409495054, 699.0594700722727, 758.0733675664528, 862.2734990173388, 798.347439846232, 598.5318871003958, 883.2270543546127, 876.0168721496821, 811.4934731199322, 841.0056104190385, 170.5243783012662, 170.28468793798228, 237.98439877256848, 344.10100623928435, 316.3638757142931, 292.67684056280495, 665.6302185453234, 193.50096833905718, 289.38839308607874, 563.2162934823466, 606.8058189898182, 610.7960229809737, 320.2993145937193, 417.7451239929993, 397.393573797469, 272.3800963668471, 400.26044722368397, 240.82098575510415, 91.35457025942758, 368.4027623768308, 360.2098866625331, 339.09112791731565, 284.2579370071832, 541.6036109890738, 211.53869723072478, 652.2265905790514, 178.7615194300374, 11.676451867934707, 563.6496912741936, 68.8927993451102, 176.4833592422109, 141.4962337151025, 410.06266209350946, 539.2668691608529, 839.4759311622378, 728.218074469967, 888.5381589557303, 815.1134441127112, 278.5730474763785, 805.2607941871279, 848.1569572507422, 102.70047779742426, 702.3864780585302, 227.5627608077438, 803.4598176261308, 396.5066672851066, 249.4123371269452, 353.4195140541341, 322.77986980842104, 567.2535434687193, 307.814210076984, 422.7263622259748, 375.4498569972472, 353.7981790206904, 356.0001414071118, 651.8246239584278, 698.2205852564247, 461.61402714792894, 493.48796131364423, 502.9168900708006, 399.7267486865535, 283.94816802942285, 472.2197315605696, 465.95398492175275, 614.6354246017937, 309.3294215185531, 162.16542305043407, 351.0974014995151, 175.66433782185854, 573.7624634439463, 443.18672796113304, 424.33385068081293, 208.7344645658721, 801.5297004979351, 810.8741257958167, 201.60303347009682, 504.7252037126008, 463.6624595449396, 214.98819458283305, 9.859831361431656, 908.7130206605173, 15.200721267427745, 15.333782018154192, 14.169139687694733, 14.230175083412144, 20.14782729805564, 541.4774755273644, 890.0269799875392, 331.4480222573426, 37.02694486027099, 41.66817321179109, 37.43761354115678, 84.34174623910104, 307.5000685536657, 74.1694142269032, 194.85909910726556, 607.4682858093842, 44.60834215591667, 40.66548900803506, 47.550484851732676, 53.626569259534655, 86.53997071676598, 868.890190574055, 153.99609304317582, 107.46995094469679, 92.30020838113273, 66.60875507354231, 102.75850846522962, 72.06267710199245, 108.02282614404832, 147.51882078428875, 679.224478471679, 234.80279363515706, 194.37480804074607, 187.52316794488098, 124.50722781457068, 321.749554444998, 222.7463119357878, 178.11158151057901, 236.85576268827663, 363.12900461795556, 471.1911184872642, 230.1206407928567, 394.9962918314287, 263.15734564247987, 155.4028932977521, 313.8808218193783, 298.72167822956266, 522.7804112163705, 640.5743308281923, 656.8535433887208, 625.442344235079, 613.5816969944311, 262.5852591586762, 491.85278685374163, 458.8250845704981, 160.2437523967031, 621.4431607243632, 486.74584375266556, 466.92081040775497, 176.6080395446521, 409.0537967428884, 526.7687285068868, 196.59985285031615, 700.4825838607229, 683.3601975897874, 272.8611655035244, 319.6548625590173, 67.9952747341031, 130.06886956570386, 209.22551923070412, 225.6667085571289, 448.69609388752394, 458.1421014147254, 329.30989899571136, 597.4165311957903, 215.3822877728979, 565.8322539026638, 402.99669104323397, 306.6653249858641, 352.3328859403031, 403.8624204913456, 649.6434613598032, 385.61658629139964, 28.593421935549763, 133.85808269799958, 428.9317154552879, 207.21926018661577, 217.55194068865694, 241.55273979917285, 181.00824735651253, 294.68890216601307, 301.190230648803, 297.40111930336303, 417.6681206945623, 496.12853956017574, 471.1238059437139, 486.90543538716435, 513.2101049178709, 817.1443719354525, 404.09937794659277, 485.9713648539171, 454.4826299683572, 593.0037472636751, 590.9117108626199, 681.2805217927105, 607.2288213711539, 549.0720370730749, 548.0675391001962, 665.4071979523176, 654.3243792441214, 633.0377907062086, 678.7623564882784, 720.6810013017665, 656.3592971110955, 791.145934604065, 762.5526459552309, 737.2013702337968, 829.9953045301826, 454.38614482280224, 498.2361465721169, 361.2319223771053, 86.32605872002425, 192.428001345227, 351.62391932150746, 314.0513073664824, 448.69609388752394, 21.889228535643, 600.9299420186838, 31.45637661461643, 24.694431260032573, 546.4492149222805, 28.670320239956013, 27.19404249681833, 37.89668048351419, 31.19452108481215, 462.02447884110904, 43.45385594908509, 66.90605668085604, 305.1804291607202, 63.662492192852525, 35.92567590853143, 601.3862620617892, 236.06925148677823, 50.361421947721745, 143.99942399416005, 68.42692418803846, 83.02859534625318, 95.858749187481, 103.77424697947657, 361.6667682896968, 324.30709698357225, 421.7405761661635, 651.9005012395697, 133.27392122845893, 254.23658355907068, 140.56204830992695, 151.6678679021448, 369.5574445457703, 157.6552440334604, 140.6111612675463, 26.86424645169764, 173.8323864048159, 211.15937411636736, 210.22613165381014, 351.0974014995151, 297.89610817824985, 330.40801473101305, 376.0164676502708, 413.0009081488024, 489.9706637909372, 111.83986293977138, 582.5194436669299, 605.3291812014346, 647.4814124040633, 384.064236692043, 400.6753758860378, 325.0216526388388, 708.8507488983237, 191.6206030072409, 334.6848506812369, 586.4828607757215, 582.637063225731, 364.831007645559, 200.04659293166247, 327.51889061550185, 491.10810577142803, 343.82267197226395, 527.8057929875655, 385.0754288093243, 595.3791603572316, 643.1586771547662, 208.29084780850988, 515.8388669585667, 443.62944801406223, 501.83581144425335, 425.992911219669, 606.7020233741612, 468.4798308692861, 360.49002621889593, 370.21884171521117, 402.99669104323397, 400.93180822559435, 383.340685584115, 431.6269193809945, 649.1371130293445, 432.9994884090201, 138.0172465395863, 192.428001345227, 240.9777442482663, 699.7686219544163, 485.9208527369137, 541.6768749330297, 242.78614770892503, 287.8308106486427, 292.5072151380369, 367.72237541982815, 381.160607368056, 329.4627078260693, 524.4362388235135, 116.23453544140403, 100.37262640524087, 210.74073204071246, 224.3870640011602, 205.07455284117512, 294.8232519893672, 292.19478614561535, 292.19478614561535, 226.33542816436704, 344.5416858535025, 282.4191240412381, 454.2213071356376, 539.7189490353488, 357.3158905640014, 438.82316961550214, 528.3187900943916, 767.9121419401778, 712.104083779826, 485.8925224545596, 401.6267033915535, 583.3185428482291, 578.2319546123749, 531.1613105137071, 524.2687021797169, 577.2307660387991, 449.04975345053884, 482.8212743265319, 606.8513073377911, 710.5300205229536, 602.1451804865992, 542.9509957662584, 632.0915369963765, 634.9977610467329, 420.0430523406683, 661.9984065184522, 639.0595889269257, 620.2702904524169, 710.8144801728105, 680.4789444850771, 810.8741257958167, 773.3890042960431, 721.4584011480355, 763.7988803451667, 572.3443651070029, 654.3545687862904, 758.7902318897081, 764.3606446723787, 435.47899536470936, 157.93389913772162, 198.7553735075683, 697.1330559927097, 358.7710402017629, 113.4349676994638, 446.0000002042753, 374.924494008964, 530.319984650706, 372.28861755028, 327.2952587492563, 559.6286684727005, 190.3177321526806, 432.73094567269135, 453.753180563837, 628.1659326702595, 648.3078491565876, 472.9783938248723, 524.9953095199734, 440.3295342630882, 292.88976719076817, 208.25464207863908, 374.2094005279102, 92.7220206385752, 744.3869139862737, 605.5285461748774, 506.986249826643, 139.0704691414264, 756.3403075223707, 194.21644176405349, 176.56328933852362, 304.93699426349093, 18.08007930254457, 19.677263283901357, 675.5721831359905, 560.8382539154838, 454.7880736159045, 145.6649000262899, 287.7789521737756, 435.1288347417483, 499.93344692451996, 710.6781458008843, 417.27519363495367, 134.96534125742167, 215.88301451248046, 227.28253837151473, 348.64900268396866, 97.43108465599516, 466.7377719870777, 276.36023043586954, 364.32990728539477, 346.0319751515953, 299.8710567314208, 500.3503114552605, 388.6586311852748, 384.83152418268395, 593.1433282415971, 193.35940512021824, 545.4522889441862, 429.7270180696597, 507.66312207027846, 95.76204146912441, 559.3279791623897, 532.0057307754595, 564.554818774616, 562.9207294859017, 472.29908557944566, 505.8128804531246, 539.5639149895078, 633.544185991274, 543.0792424409948, 619.0911541932968, 564.6860458120195, 650.2795592404166, 654.9080821341303, 682.5466194962422, 810.5563762043121, 822.0742124682156, 811.7604729057789, 770.1147980375733, 692.0533169205332, 889.4868335486345, 800.7771763511812, 851.0956515912667, 809.8742661786408, 716.5594849241916, 786.7473594828363, 847.257445470511, 304.9057348970674, 703.4123701247211, 397.393573797469, 425.77371342224797, 125.61521971450382, 833.0784492496944, 346.7258677610449, 348.64900268396866, 45.31731312795956, 253.66427069494475, 192.40849835708866, 673.2607550331356, 214.65230171692164, 633.2320100838026, 675.5006728526283, 489.2461030986273, 288.8207838394518, 342.2808486317127, 183.07861654150818, 359.15479571243463, 497.45058365455435, 588.9169458301578, 471.00489543884083, 495.19381033554413, 484.78208155438386, 683.0535791147965, 351.78833552371344, 465.1661804019121, 196.70532909451163, 264.60701995456003, 279.04966532828286, 736.8064192738011, 22.801881721759514, 18.24107276637913, 818.0981971617952, 19.444255885665953, 13.789129991480273, 273.0276791772287, 33.600511414674, 73.07563436845774, 631.3103896376884, 37.953244660234496, 50.48944996240482, 51.61683989193564, 773.4528635246809, 382.01621131082027, 64.97879631224727, 56.977818138438444, 643.8763414348193, 67.707597831996, 83.78949590736971, 95.52540566077697, 387.21900493011265, 734.9036322943783, 173.4501729077942, 105.40767706022541, 484.87079253229155, 704.9564060269585, 114.60689642812937, 118.4538051085715, 132.88055259442984, 698.6747373224898, 201.46602406865736, 136.28447719532244, 219.37987311186728, 213.36972735243543, 238.09592590294878, 262.60765451872675, 510.4678647010009, 343.63185405752284, 689.8209707173656, 124.71657156149062, 224.3870640011602, 379.0085524649506, 105.40767706022541, 674.9758744998275, 647.4814124040633, 605.3291812014346, 399.57716607657443, 469.8836191129537, 121.96716914952748, 174.0353453045786, 631.4345868086108, 389.3860803558421, 131.10611085440414, 609.2292581761418, 643.1586771547662, 614.8649544151946, 299.47286234534494, 306.6653249858641, 360.49002621889593, 584.9737944404952, 454.38614482280224, 68.8927993451102, 71.51849173624099, 505.6546578140042, 398.50503146045935, 436.77261246334405, 508.8265695204797, 666.7321060655142, 389.9759662309556, 336.1597181594969, 389.6731980275266, 535.1166871369965, 370.5529497457118, 370.023324288686, 387.6234770488271, 373.4496499069692, 268.7868109512671, 438.24705591450453, 806.8173931909998, 839.4104357798531, 840.3742668324147, 881.0735998014503, 805.458038557352, 791.0095021773013, 141.216715641349, 425.60987198171534, 543.1886432883609, 351.7713862198841, 363.63491513494216, 567.6022396189895, 500.4178378993296, 422.69806147815177, 452.40677513419496, 623.0240126397873, 684.1845617784556, 484.78208155438386, 480.1932627846241, 488.5549812609252, 493.14383577938776, 467.77439375404396, 278.054247085406, 185.32250434949844, 279.04347325222176, 145.83724424981435, 559.9222489054483, 758.0531221767062, 282.4323512768158, 398.0825634232368, 251.73700968941606, 299.2223903998923, 281.3164765208548, 803.6701895443617, 790.1885059775559, 488.8431283000191, 482.2832716561578, 513.2080251195819, 68.02667487851163, 239.49081574995935, 203.93537119352823, 0.0, 5.220945272395639, 60.79455341988149, 437.1765384347884, 21.58585711797755, 34.223169657768885, 49.191613105240556, 59.02457546436485, 45.31731312795956, 59.6720128403848, 527.6511145370895, 61.578549793921475, 213.15463248113605, 662.8129291125683, 107.08403044446952, 110.31976863313402, 110.19641614849256, 151.37847457754012, 114.31140409200827, 8.471516540183128, 110.91126353366488, 147.151422965356, 44.60834215591667, 150.50789182209527, 135.8219034777129, 297.0125862501044, 485.6528614077936, 130.3548733629532, 166.05942771276472, 129.41211936795764, 194.72668686216127, 174.09495194978484, 443.81789922887316, 365.85210013077796, 357.27059672069026, 236.72542461738564, 196.70658818410865, 166.2834175223939, 76.50042755927403, 215.06091966710022, 160.18059041092206, 392.27277542898963, 46.24369432476225, 297.89610817824985, 243.8214561232233, 652.1252682721799, 604.5110180220878, 378.9859319241856, 429.8834376092033, 325.07858370945564, 314.59426323549854, 223.19402308965562, 537.6256418095066, 463.61234631416045, 431.5410820838458, 643.1586771547662, 313.90212475040926, 345.0160652839781, 541.6768749330297, 196.96751983857473, 596.997640148529, 261.8869249008744, 380.52740624717404, 438.0270925724372, 652.6601425591772, 561.1540493160121, 287.7789521737756, 141.4962337151025, 279.6790933256047, 313.90212475040926, 172.9717701046451, 409.0537967428884, 595.4245005363658, 328.9454849878621, 423.5567191040854, 434.5434662822021, 680.3600350648549, 377.13523260581655, 101.52234292825047, 85.88081534907163, 384.48214494146544, 205.72039606216998, 202.4725707135669, 243.66071983676133, 308.42068013058645, 316.2998829363423, 657.9586354070914, 349.16816006052153, 299.4802063356412, 419.9460837084948, 397.672546719029, 399.948878854335, 516.0244969679501, 492.53531964719537, 373.90188459784156, 441.4553079067607, 591.2075003399714, 485.9713648539171, 436.49202173258567, 484.7985143006733, 458.3815033537582, 518.0551875424537, 593.2392981084625, 603.1490656531874, 567.3846697717689, 604.0759503228887, 506.3008723554178, 111.51936630952352, 727.098892456163, 591.5931466039874, 634.6632845210745, 600.8889602400175, 638.3532478145237, 606.0906455150712, 607.8443319236922, 683.9837951462675, 608.6500911176682, 583.4185283551673, 227.05193288990338, 606.0387201137195, 795.8261154069255, 791.9873215144233, 147.90166286945177, 704.1909006266717, 682.4206557724863, 745.5596452707981, 412.4330723283372, 140.38967082635293, 256.18214498883043, 443.2401529679145, 567.2535434687193, 569.1014200401978, 22.01657785839838, 2.6285495832261243, 34.06966811038159, 587.9822071663867, 896.5451755392992, 614.3288856383803, 48.636252308424865, 247.43954868441352, 625.5547047871877, 77.49099236603736, 619.9632807419243, 56.3650309230525, 51.00977022206814, 67.21746750097182, 85.17679783716147, 214.50899863078556, 84.69667947275462, 66.09046706417891, 157.29872015242012, 626.2305306935501, 492.30520315068435, 109.5045518576343, 131.60052330365696, 145.4788153731317, 121.96716914952748, 263.4885473895246, 184.5209807166598, 145.82103603727253, 176.7992960160013, 116.42369401014957, 398.0977064207617, 403.984641064111, 367.63064943272445, 92.41160156724143, 679.267866445306, 342.2661833097904, 9.13036824015702, 231.22164494203645, 185.12871539814734, 74.25582268558145, 273.3396635190772, 262.38446169812227, 632.7410724548095, 676.2697177258192, 395.1427470801861, 710.2055801666485, 502.5838901754138, 850.7408981504338, 185.12871539814734, 766.9092691313392, 728.2015071716527, 717.2080695425227, 528.819803321423, 618.6965256123331, 294.8224156206835, 176.4833592422109, 329.30989899571136, 398.50503146045935, 445.51896799742985, 405.4986968890564, 414.0943968985078, 479.5621579785003, 367.72237541982815, 408.9731114814176, 392.6693817284684, 427.29875892767006, 640.1806152037828, 412.0054852067518, 140.38967082635293, 234.5857373766422, 305.52977362824714, 484.2425616770513, 405.4986968890564, 683.3601975897874, 668.4933115184406, 496.12853956017574, 291.87862644077967, 398.8792252348609, 414.45480888319435, 376.42275046457354, 462.2349174909019, 473.504650570544, 131.10611085440414, 142.78639441305685, 58.83620210200455, 235.52835760370004, 133.85808269799958, 220.73335648947355, 304.4257931226222, 223.06008508202675, 193.7377632772733, 318.6703380818982, 364.6408946967204, 306.8699883098794, 399.52956940730303, 324.6738399006309, 292.74353356672435, 550.1338761849037, 409.87478765211404, 558.470151726391, 547.2812274679325, 543.4302663437716, 495.8974967126068, 652.1839967797961, 566.0810433388689, 422.3065166108268, 597.7178063826361, 231.29769704246436, 516.91171892534, 558.5334857703089, 567.9151872169, 654.8131763118524, 646.1048080209208, 480.37527129039614, 881.9150858053918, 787.646996430881, 845.177601622628, 839.2589334051586, 859.9606938196026, 250.56399103334823, 789.655880132221, 827.7667409264634, 777.4434148402744, 835.6908112605643, 306.0903302873305, 196.42878428917635, 558.9955970475564, 453.244380844856, 382.644540290877, 192.82318410933613, 234.4322499222385, 284.37442121959293, 325.6727836819525, 329.20615276099767, 477.52398614206066, 191.66164050551222, 608.6424321887681, 91.35457025942758, 425.08903945159, 495.1629600407827, 405.28035661841074, 504.44424826697514, 551.4065398801079, 685.2765014707957, 454.68920941717835, 687.4218022636154, 670.2063206027196, 486.7068511377137, 291.4662598395728, 415.09232648953633, 421.79873515641566, 185.7573416789947, 453.5766501496284, 361.31288120204215, 464.01884730196053, 461.11424991644805, 480.83908574680237, 562.3041292216823, 591.7144953384438, 542.9509957662584, 431.6009569164463, 445.4773733331851, 19.46298849291933, 185.64953923339655, 524.9359169883315, 712.3737577277383, 883.2030414241335, 770.1399309994313, 158.4201614616751, 234.4322499222385, 333.70660237964154, 452.17658353496853, 666.1391674995929, 192.0583975168961, 103.54042001211074, 308.0004532182588, 373.80595992299845, 498.09106387991545, 620.2929039416981, 612.8205480703509, 499.7814538997793, 382.864969302846, 164.2519711292249, 182.87401802706884, 351.45270670522586, 512.0168216599901, 537.2032287850922, 558.1811198564134, 511.9363326269325, 0.0, 14.078906564018327, 584.2333458189839, 551.612264526551, 96.49193254362736, 40.07048021527384, 169.90585849883718, 794.2960963575005, 46.14389210075355, 54.038658316284874, 133.71450113976869, 44.341342006248986, 49.755743427020214, 56.051910003104545, 60.578238434620935, 577.7139312499437, 489.12117157593593, 410.7220410416412, 67.48873699481352, 100.49699126792274, 876.1829803244483, 630.0803181192764, 91.13309293841138, 86.7868757378668, 114.60689642812937, 424.39420478919817, 126.15242596039971, 107.30072279926324, 158.2131888519802, 158.13872377782403, 173.68593450693416, 163.94624323248937, 167.00674662355877, 193.43631072657786, 561.6687686327564, 717.846954377285, 807.0317560184923, 236.96229353334087, 271.3965718789583, 432.87731472483404, 652.777437658696, 154.9979151389591, 34.223169657768885, 133.37223138837743, 91.35457025942758, 235.17255535169116, 456.87957057766266, 246.0643793161317, 488.9052943969712, 195.9947840530078, 374.6379258182547, 224.22050350292113, 285.4927596448013, 384.45113299488645, 325.86975539589844, 721.8098801120822, 200.21305766141614, 96.75902017409818, 937.3602665916268, 326.10230049105337, 615.7571056383624, 383.483805616684, 389.255698418802, 537.8321557921777, 633.6262641649881, 302.28672972267475, 423.5567191040854, 473.504650570544, 524.4362388235135, 468.4798308692861, 68.92646038573814, 233.6682196641685, 594.761900557869, 661.3208430226847, 520.0967042011894, 345.0160652839781, 512.6528060431364, 84.51351210527439, 196.59985285031615, 570.9262203170939, 698.6405960577885, 721.895242480806, 479.5621579785003, 361.6807571610119, 400.10035427741263, 76.17939332880363, 153.72285680025297, 129.50934467299854, 207.21926018661577, 235.57465075886117, 204.03628240377805, 373.7517724465237, 536.2780374580342, 319.22320746229866, 692.9771206596267, 352.1738680732544, 464.25469094030984, 372.8822800188756, 375.4635896761291, 26.337864778176925, 450.45335421967815, 470.09607621888205, 409.87478765211404, 134.71222128804197, 538.8687094036147, 533.0871164381938, 659.2988516984148, 558.8506764745341, 462.2767968896775, 559.3973587928235, 442.6047376801093, 663.224565204132, 535.0031490101185, 539.5639149895078, 634.6632845210745, 625.5448918527444, 610.2601867655638, 611.433481571139, 689.40987115905, 705.0302360114342, 802.6301980980877, 715.4455742545556, 530.2319119746996, 573.4837369702487, 205.93346892719936, 225.6667085571289, 484.2425616770513, 339.31637114506447, 33.24267305515069, 24.429436235495547, 30.73855205262349, 49.011211216090175, 6.169347481630712, 73.18946514353713, 20.108471481720294, 43.83059643275142, 91.19629760907317, 73.43068273909661, 302.35157081081206, 83.00978308770031, 48.29720369532896, 116.23453544140403, 120.12647325836251, 128.5957373523875, 123.76090306572266, 150.112915717461, 239.59676337885446, 681.4462820992397, 211.5813126090375, 487.9937789420878, 153.7053087632289, 228.0107323915524, 0.0, 251.30120547192877, 337.48847256807096, 389.1522954593346, 158.66899849223853, 135.62686833841485, 237.68763654848394, 307.5000685536657, 246.37852469462263, 699.2062094953953, 615.1290260463185, 604.5110180220878, 400.16969068882037, 430.29002372480755, 174.46599839959217, 681.0407135962131, 0.0, 440.8514372890387, 643.1586771547662, 21.574246938016596, 400.90351775365247, 527.8295596255609, 441.4242079179619, 698.6405960577885, 675.6244656593362, 387.6234770488271, 381.160607368056, 357.721918501419, 675.5721831359905, 432.8571927797649, 95.38901599148384, 103.68600645531747, 287.9483465519551, 337.6545495266059, 616.5750529813321, 498.09106387991545, 501.83581144425335, 641.0939816266681, 685.1831473525264, 281.2309323680007, 468.4798308692861, 541.7327868789652, 422.29740583745894, 266.748240964831, 357.721918501419, 667.0243484191192, 175.66433782185854, 181.97960089476354, 113.38761888914328, 257.00350900890163, 304.19478271245686, 387.21900493011265, 428.8884511628293, 453.41869942826884, 440.64245569242956, 291.91802621222223, 2.562861154011252, 484.68729450041207, 485.7256755082419, 274.0150478156519, 504.902434808298, 431.6009569164463, 555.1917347814333, 577.9744162119956, 547.4750036786239, 615.205220277148, 531.0328885961576, 306.9124290615996, 610.2688698324389, 618.738671622262, 581.3444220966153, 505.8924564748198, 473.3021832978178, 679.4440280613563, 689.2560479064364, 856.0054294729013, 366.83034129171045, 276.2300111992988, 283.930876547107, 602.1451804865992, 691.6380607680263, 531.453726774447, 695.4520884772259, 697.5476858793471, 568.9682726801416, 681.0858609823082, 732.0931329982096, 781.3571681558022, 660.4430887871573, 820.6033076047573, 654.4008487101117, 728.9802295228782, 791.3388120333902, 864.122682995567, 870.7029241506589, 807.7556813183929, 762.1952328675184, 909.4048617433904, 761.610205952254, 846.1395278749735, 809.5782996507811, 774.5233615857552, 219.28006542824377, 240.7012391292994, 185.41965874510828, 565.623888259471, 400.2825102591572, 400.68705827038605, 630.9583648097312, 400.66122272102564, 278.29042857404323, 300.4904494943691, 325.58002055935503, 406.747656123995, 356.62909729036727, 706.6380475587725, 686.321990096008, 593.6372318274276, 494.56038031453915, 515.1268273418239, 455.4898444563571, 400.10035427741263, 453.9347963865165, 379.5704694945221, 96.49193254362736, 328.1506744183404, 817.6979418673386, 194.31463562547785, 28.593421935549763, 668.9707508098971, 521.7719384209178, 191.4563598907034, 193.70705678698806, 721.3177471171908, 8.257081834999592, 994.4950811493853, 360.95336914976156, 198.64841466657455, 247.749383109181, 297.23626818578464, 351.5900987095867, 287.3701123926415, 590.0483601977246, 316.1632690504512, 297.5842975629527, 451.3844738181108, 504.47846870693047, 469.42033606887526, 157.18301918268028, 320.13046019593713, 281.9570634841533, 238.59360283741847, 374.28376380689014, 372.8467605729075, 94.81439979725211, 299.11769478449577, 301.7182032187624, 454.61454419790414, 483.3699024046843, 355.2347340356115, 400.35095307590194, 545.1905315070185, 585.521061858606, 489.4220473136467, 541.0782019943061, 616.8812162424086, 844.5521773644003, 672.7177614037461, 270.46868621349705, 542.1225248867581, 589.7359921507573, 605.3276530466983, 696.1653108614832, 610.2616058710529, 727.9593185052603, 772.812383476662, 761.5984867368959, 836.1806400186005, 668.1521591271149, 693.8344837194983, 758.0733675664528, 785.13782918133, 687.9760706403133, 789.1725722246697, 900.2902133953887, 839.6962216938533, 829.5718044170007, 774.9266956587323, 834.865179966668, 374.1026373285479, 178.61560029792923, 461.60614380680175, 195.6905819505064, 803.2438882199526, 137.69370181406723, 139.45783368821117, 348.2758831718365, 296.332346183752, 692.3200453684774, 619.4974131665733, 499.0116368618048, 403.54408505625173, 464.09647133187434, 463.02594008458647, 337.4641638943034, 177.7884928216102, 709.0328184922982, 102.13571780029402, 424.33385068081293, 261.792161571239, 97.43108465599516, 176.56328933852362, 152.83808423270463, 23.161755274323646, 740.1682752336709, 27.944036932093113, 38.621969648112255, 34.25481352875373, 334.2245168173001, 400.10035427741263, 847.4617467951642, 0.0, 49.15106336092057, 52.75352163090214, 561.299118291008, 39.78011863223597, 55.64211284218507, 60.21334394407865, 602.1206406624447, 141.216715641349, 74.25582268558145, 36.3944732796518, 470.9195803593664, 75.94850876001354, 89.75919577319614, 55.124997978063014, 308.8334730654059, 666.8437243218538, 201.91212102892288, 605.5285461748774, 613.2012994898448, 316.6361699891718, 114.49136960891501, 121.96716914952748, 125.0042633408192, 82.29616813330337, 516.0284742034063, 145.60121268649416, 129.49090292967077, 153.72285680025297, 145.5765359050233, 160.2437523967031, 279.04347325222176, 304.77159556933094, 330.9605440043841, 342.8898403581137, 305.1804291607202, 384.98519519492936, 279.19285373786045, 397.3925719637017, 259.01877489901824, 247.51667262770238, 518.2202465452367, 136.63053062695113, 106.33988553174352, 502.1445244766005, 664.769551780564, 430.29002372480755, 485.4452084505833, 542.2878621651925, 564.9304955519184, 525.0846765924209, 326.70266606118395, 407.72726056720387, 380.53871533553917, 310.1132193065792, 228.76635177493444, 172.9717701046451, 435.89327842929686, 374.4654019879617, 597.4165311957903, 641.0939816266681, 721.895242480806, 253.0680313003337, 292.5072151380369, 394.6350466316004, 266.748240964831, 237.4566096472358, 536.556228234642, 479.5621579785003, 412.4330723283372, 174.65185559599334, 297.23626818578464, 287.3701123926415, 352.3328859403031, 410.06266209350946, 400.90351775365247, 521.3562140927345, 502.1118427433464, 535.0031490101185, 664.0675559436507, 383.340685584115, 339.1652000258267, 155.8494277147722, 70.524404958987, 287.3701123926415, 245.77824562764698, 689.1474895105074, 849.5364984335166, 743.388256879588, 749.4602062049546, 543.7471961702832, 564.3561873528582, 131.05212963724725, 226.2165294716297, 133.28642950960193, 258.59783956553593, 265.2265837137294, 768.3214022095215, 313.2534017797578, 270.1566045599635, 686.843959748537, 692.4038437160677, 461.8026671481982, 472.2197315605696, 689.2256237702331, 488.39536603831607, 279.2935680974118, 363.8022533072393, 207.26037159495456, 176.0076075149545, 104.44727665451039, 514.223868791785, 136.04273702386683, 269.3146977899215, 324.8267716461981, 175.86626013335504, 357.3262878186171, 339.63504840861, 245.61354843055605, 474.4082311040861, 3.5585692253055132, 19.563104194415235, 53.50928707471433, 329.281141970223, 38.063901941830224, 36.470199834649115, 30.38843572284479, 631.5132584084954, 515.6684350355576, 42.465768518136414, 49.13756373096757, 174.0353453045786, 79.46075443940062, 251.92830229170295, 82.46233280090695, 463.0826625114802, 83.63232015429233, 92.15865411235414, 97.63209916644487, 324.30709698357225, 115.60717775084902, 110.30138786702105, 124.73340840458724, 189.3845059788877, 151.11005693040076, 103.8120661744775, 146.18172341569252, 366.32533426433264, 167.6117225445615, 140.56204830992695, 144.39799151234809, 161.53903498458018, 110.49663310961277, 168.3487702736204, 906.8335761751858, 510.8764786654393, 352.0042489289976, 249.4257504567737, 417.160112046344, 410.68496694434475, 224.59059509057994, 139.85885132956443, 202.25412312931425, 528.5941804416993, 504.78307833255855, 235.17255535169116, 647.4814124040633, 316.8226492120553, 285.8339412903159, 538.4386316977789, 408.28423338953064, 502.2243969564577, 377.57180260180166, 148.55960091200453, 720.993433437894, 629.2681380625046, 352.0042489289976, 671.9651450022376, 106.10794204369519, 0.0, 593.6012862360367, 563.5924123403703, 263.72119043881406, 336.1597181594969, 541.7327868789652, 414.45480888319435, 329.9139707606566, 268.7868109512671, 301.3182844663409, 395.12777609840066, 531.0821831218892, 598.5318871003958, 563.5924123403703, 360.49002621889593, 375.93709368163263, 386.77477984440765, 77.1776152189028, 62.210014457236504, 400.1322888360857, 78.88163081955801, 123.06815871711017, 104.44727665451039, 183.09674611801475, 215.01320723905312, 304.6070500607464, 336.10013996524793, 304.2752743816537, 314.4816152001527, 486.7921863868419, 349.0973652832378, 502.0346743025214, 375.0608862786698, 463.11864757628945, 494.4550975877724, 592.8140069987444, 523.3679800963806, 505.3412447437887, 513.4032303055219, 77.60241932754758, 573.6746207428706, 638.3712471116941, 451.39865304733996, 628.1710748681364, 661.7168004030866, 636.4799525612334, 589.0610294958485, 561.4529583129319, 760.6850610343998, 734.1324151635442, 684.4851517792177, 654.3545687862904, 738.9337146853097, 372.6933965822085, 68.92646038573814, 106.10794204369519, 319.7672346740236, 505.07639156076357, 502.6822682414105, 485.9208527369137, 37.36007381862192, 394.20595541006804, 567.4704775463598, 58.91794938255725, 28.962724897202698, 60.450764534826526, 403.59104102845976, 48.364816596605806, 57.48314182061292, 80.19145455747942, 91.52886029770998, 111.83986293977138, 134.00442043458642, 45.438994377394934, 22.030961910247186, 95.5899282978703, 95.60292752094038, 131.56750671604, 106.31231457694368, 155.83742057174553, 153.29216379451017, 683.1852937952603, 568.6287796155973, 158.35093752412763, 175.18631279937466, 178.92822136520041, 236.3302863825395, 186.56385616205108, 426.4232635707601, 344.03892569494263, 232.67413912092337, 135.81961553717244, 453.55968047408237, 391.0394752850519, 474.757018167139, 322.99516489775993, 409.27832039705817, 520.8911671939528, 447.29827308202823, 412.7387673524018, 0.0, 578.7482229183533, 339.2200052930907, 643.1586771547662, 308.9158123913572, 430.0952857723301, 485.46896735974553, 389.9759662309556, 412.5223215973769, 419.3789269816442, 401.6573216186113, 615.7930559167104, 472.7822400571153, 443.2401529679145, 305.44279066960047, 176.6080395446521, 490.51287803607084, 527.8295596255609, 659.925484163127, 299.47286234534494, 423.5435071567821, 655.052445612114, 36.37972876198417, 48.19065838678197, 423.58328788409096, 127.2848724336887, 96.69142038136886, 179.01647180895264, 283.1513299050677, 319.2414241840418, 496.5145760530868, 243.1078434035297, 444.7574276215441, 544.2876648772922, 356.43577264128555, 200.14127271315814, 251.74892818510452, 478.79089129241464, 517.8245610259586, 517.4652665002878, 450.8636857906274, 527.5107935274044, 558.9955970475564, 533.9139036367952, 577.1105040584595, 532.8094363031979, 696.0475050390862, 840.7348234784902, 205.13418085689014, 734.1324151635442, 604.8549125019546, 529.5168417831139, 688.1299352344153, 657.2658745066824, 563.4593514318406, 652.5438503451617, 668.9707508098971, 516.2214095479003, 549.6481218420492, 727.0895335059212, 704.0077321211237, 764.5725382694051, 616.5899602537629, 705.710337945259, 649.6379318644176, 804.2358827382267, 819.8609083536282, 826.4202745261575, 916.0956978834604, 803.3168914543517, 834.6788371913938, 841.8427081542045, 759.5306698638746, 465.7500130467159, 143.58951448379366, 191.11779703692727, 216.97235096753573, 615.7571056383624, 639.0436852833816, 282.30587351732726, 562.2755783048696, 171.01600286112208, 700.3527859677671, 606.6748181209302, 684.4990942229033, 688.1961257767412, 393.01745311798766, 417.0261079719641, 284.7738024760844, 498.7404857543219, 596.111834091002, 608.576770557922, 352.36957604094675, 359.776766314897, 558.1811198564134, 52.54588558572935, 216.5712827690327, 400.04436483223304, 486.88686193176113, 462.7681605855539, 211.07215471548767, 352.1738680732544, 91.95527429325995, 561.1540493160121, 106.99620895420013, 236.85770198426866, 661.5453465651709, 735.6452613007524, 857.4904057814696, 844.0865782998385, 801.3035722780444, 399.7655214187935, 152.54050196222838, 198.7147188378604, 234.45227444432302, 188.50704881093858, 352.48716640151747, 318.7531515317606, 744.6926466605912, 320.88174444140395, 321.9689690593963, 528.819803321423, 176.39569210696808, 632.6362411505982, 701.6654969631364, 672.9368012647883, 681.6903704636185, 436.5885317324891, 419.60528339598244, 234.1361544772639, 302.39135139693065, 371.04376767517454, 516.3664201777067, 359.0103788980858, 195.34805257198718, 368.52738129057076, 368.45274131619846, 469.8836191129537, 434.42957154462556, 278.92833528406044, 501.1591580183337, 63.662492192852525, 228.1795853637335, 4.358954582620585, 29.823686034317383, 17.67167984446008, 619.431197727457, 34.185008476461825, 34.876958702694715, 259.85151513020355, 596.6748669482439, 106.55312995195052, 19.77842064523902, 601.2213057536577, 69.30854772980503, 605.8211066337824, 60.9794384332929, 729.9933944568518, 729.9933944568518, 157.29872015242012, 103.01087685763517, 79.67615377826277, 110.91126353366488, 150.70305276085057, 132.1067937167504, 721.7834483437647, 169.90585849883718, 189.972041395351, 800.972349465111, 208.29084780850988, 150.05007524013, 127.24833856590224, 247.43954868441352, 185.69569961271202, 580.2724876281886, 272.328905873068, 228.8814156264633, 201.46602406865736, 312.2637781003615, 464.67844381950744, 831.8027643042657, 376.0598203843576, 386.7841197387157, 259.6469995055391, 394.4489595566995, 580.2724876281886, 617.583882766572, 239.49060785039828, 360.4780908247616, 601.7464368877247, 149.42235782755543, 354.1507129334784, 313.1805780522469, 561.6687686327564, 683.9901114574294, 620.1359137885939, 365.152097776421, 376.6423936856484, 500.980201586237, 643.1586771547662, 392.91225339934084, 253.38283712166614, 614.4998845003372, 614.584874268659, 773.0081877508825, 750.355706925622, 242.78614770892503, 403.8624204913456, 664.0675559436507, 462.2349174909019, 497.9993378165189, 86.41379420543069, 118.0170996685891, 283.78424796145697, 600.2533231442453, 447.24821738765394, 430.0952857723301, 93.61232692866821, 566.7424368272935, 253.0680313003337, 412.5223215973769, 686.41403107382, 181.97960089476354, 544.2991265838248, 134.85716568696463, 225.20866930068718, 279.04966532828286, 215.01320723905312, 308.42068013058645, 339.4607936051566, 251.74892818510452, 361.6667682896968, 311.30266260836, 364.05651397483444, 352.2717926691026, 477.3877141516051, 555.1917347814333, 578.5519540780481, 497.5095940829232, 651.8812366315262, 490.2706461527933, 720.3239355573422, 530.3959082890765, 603.9942734266579, 618.7069735517427, 643.9824685676398, 751.1912734131554, 672.1650841002569, 523.3293424847174, 581.687084176401, 798.0770695815893, 797.663444442586, 801.5297004979351, 191.09716007255548, 646.841287370821, 412.0054852067518, 71.51849173624099, 110.68054460384124, 172.91474556680424, 301.3185613933572, 305.52977362824714, 378.03589259561005, 447.24821738765394, 31.560581978922727, 25.39570028442988, 31.57506371270028, 36.83689042707203, 51.381240616032954, 60.142252863596866, 60.19527647232472, 60.47933307714844, 890.4697317231211, 289.0688276338066, 76.42407879168287, 66.1050844913041, 88.57154233740965, 104.94274179062853, 80.0918902876586, 335.6980545376282, 84.26795100169181, 157.29872015242012, 23.48445866191683, 204.78414083650455, 800.8243811134213, 96.75902017409818, 101.51306278757225, 126.15242596039971, 138.94225917210454, 119.83214220439193, 149.12159836411715, 145.60121268649416, 28.470818875210036, 37.75023967002787, 183.77300506331835, 131.43072785339754, 155.0370803703211, 62.30400512233212, 138.90150760903282, 179.9409689553525, 506.0727207026379, 156.82740406165416, 334.25743914378194, 233.81353282691106, 264.9099612193193, 250.77206521168577, 269.3212243301728, 450.9803527696878, 634.9977610467329, 222.59916310897134, 676.070838605874, 305.37900964282477, 337.29612945540464, 511.89246034800584, 656.739324034353, 632.5219326973676, 360.472435138107, 379.9778117233604, 57.08253656198626, 264.94973193266577, 681.7399003233343, 290.71981136612, 616.7203185511711, 328.64693044147896, 487.03742419820185, 545.8700200316579, 451.6312058995114, 807.9073949973564, 494.44972166994745, 643.1586771547662, 504.44424826697514, 516.822478556742, 461.0556031041438, 531.0821831218892, 485.66560215402166, 401.3910934990025, 423.5435071567821, 424.4708965588141, 573.4837369702487, 112.78274753312508, 70.524404958987, 489.9706637909372, 414.9614442681039, 383.483805616684, 443.62944801406223, 593.6012862360367, 272.54659227162927, 272.8611655035244, 388.3411903748534, 329.9139707606566, 340.62665316291066, 519.6556642819323, 377.13523260581655, 157.29872015242012, 58.83620210200455, 257.00350900890163, 258.6803306509289, 289.4678251687963, 243.1078434035297, 234.99070736433322, 345.3627582002607, 372.28861755028, 388.41437331659114, 584.0384628718015, 300.92646174184017, 358.85913957009575, 401.6267033915535, 26.85467959092837, 298.90639874369646, 244.35749203465568, 494.7150221612002, 492.86533942613784, 603.805706687328, 574.2039256555627, 664.4343774059803, 659.0123210275218, 610.4526478448771, 547.8204109502879, 544.296946203001, 631.469673251444, 88.58939703401326, 569.3438902645637, 605.3099013618829, 597.214196483256, 504.06586119483933, 590.7472017442822, 610.4549242413078, 610.6000998159254, 815.4121163614838, 806.9425119323015, 817.6979418673386, 758.3357396100675, 790.1885059775559, 695.7944284513568, 706.4645640435283, 761.7303825843693, 862.860047681365, 742.4845853692069, 763.9723466351078, 785.2949092007952, 587.8821527582656, 282.79832762832046, 211.04343540551366, 77.1776152189028, 611.6525418128361, 342.1036363646633, 191.66164050551222, 430.8907672896794, 411.1665623967529, 573.0708499715653, 617.6168768773385, 399.7655214187935, 694.1067525097893, 466.3917494943011, 488.564831765372, 288.2402556008364, 432.7816256882332, 428.0422172065989, 418.95177403756867, 188.72106673922352, 164.18490331115183, 515.2626897501249, 397.6863656524578, 97.3761721362118, 374.2094005279102, 422.1047466109208, 349.8759496265577, 244.71609925024273, 493.03532066326267, 195.7487807672947, 207.04611789969044, 10.06579465512616, 900.9641020911439, 638.3156402350638, 95.38901599148384, 103.68600645531747, 280.13812591838973, 179.81403666442765, 135.63938468943863, 137.45213597417583, 195.65233681943656, 225.57196409353836, 162.67890901546323, 282.18833976178473, 314.0680338937443, 276.0164683630081, 291.4391131460394, 305.1804291607202, 541.0782019943061, 296.62399532336644, 607.3866552768066, 182.20817189339903, 316.9977491450959, 418.25571952853903, 366.98416127646686, 539.0869933336777, 442.99297086398184, 543.9734330128504, 626.0885404429374, 459.2989447205335, 353.1532318681154, 763.0735226209675, 753.7178865238227, 516.4971905236338, 639.2986697882293, 340.57469619612107, 588.8200666427758, 508.66012872405287, 556.4050612441987, 591.1796989438368, 683.0313133736397, 639.9058493631493, 766.4832810545154, 768.4977502254272, 769.9041937677479, 757.2773810483624, 744.1104861974713, 672.7875895060356, 659.3510476123346, 683.7186089267043, 887.6265323232824, 721.4492091878388, 896.737586263562, 892.7291542252639, 880.5778216279624, 849.6953199549193, 805.7797765830448, 855.3075873975056, 804.0184688459995, 863.0466668908276, 835.9023409704065, 542.1225248867581, 110.1669227397201, 293.93625359087486, 291.9415764391571, 541.6036109890738, 536.0345007231768, 620.6489697530461, 330.56419270198154, 415.8313427605193, 405.1056580588484, 111.83986293977138, 123.07737184077807, 434.23552912004055, 529.4647535265221, 172.3907002775846, 655.0279606459194, 645.8066289865474, 606.391657553189, 496.04858343191995, 524.1357227770255, 367.752417666732, 408.2298544050241, 555.4419997685676, 613.5816969944311, 591.9653985476964, 336.5136937757135, 366.112030453591, 150.60005503501907, 269.40861291607683, 518.0397751555624, 282.0871535398802, 282.30587351732726, 778.483054796774, 709.0328184922982, 490.41838785465904, 618.6763572708519, 10.152615471581049, 8.57509641208166, 16.429404778535982, 34.6340559238336, 30.83217064082003, 39.76134480313793, 45.438994377394934, 327.44328734294197, 567.819646748056, 41.70421763975111, 73.8467561428001, 102.980856425576, 101.40876420800596, 103.48736844950591, 104.25199278123138, 560.8365891853371, 116.91820075456657, 262.48828987735874, 565.6226599625892, 183.3837621677618, 156.75801673446068, 176.6080395446521, 268.761692519864, 149.72034467156035, 177.82265045094584, 232.93813935346077, 366.21682028499333, 651.2636901867994, 196.15358625287084, 315.25775139848844, 381.53597723421484, 481.10069130428184, 361.39759309626885, 523.4434026835144, 673.3694891605293, 85.39916070961844, 423.0452816706574, 373.1089203141315, 393.2004634593318, 269.57613074636475, 237.19754358771772, 515.2626897501249, 294.4098658085807, 441.1684335451021, 410.07339911696965, 542.6395526204335, 556.5720490874645, 829.4471996319871, 410.3740717980713, 174.33566985752333, 374.1647505920253, 326.10230049105337, 462.88506866787776, 430.10337484281393, 672.8105465626751, 319.7672346740236, 643.1586771547662, 0.0, 0.0, 414.9819887795197, 215.3822877728979, 376.4863338007783, 254.04448978367628, 420.1100983368913, 635.4218117028039, 199.27828978961026, 334.0040835683482, 435.1288347417483, 517.2907581753874, 414.9819887795197, 396.583871138419, 253.38283712166614, 596.997640148529, 370.21884171521117, 420.1100983368913, 302.28672972267475, 628.9966594369639, 497.9993378165189, 130.06886956570386, 198.029977935142, 208.66723627533682, 310.59470896430145, 300.18678746384757, 487.5417173502062, 481.344754228959, 479.6346842045129]\n"
          ],
          "name": "stdout"
        }
      ]
    },
    {
      "cell_type": "markdown",
      "metadata": {
        "id": "9uNWS3IhjdjR"
      },
      "source": [
        "On ajoute finalement la colonne distance à la DataFrame bdd_sncf. "
      ]
    },
    {
      "cell_type": "code",
      "metadata": {
        "colab": {
          "base_uri": "https://localhost:8080/",
          "height": 486
        },
        "id": "parJChZXjdjU",
        "outputId": "abcc940c-70d7-49a8-e831-dec9b70848c2"
      },
      "source": [
        "bdd_sncf['Distance du trajet'] = distancegares\n",
        "bdd_sncf\n",
        "#len(distancegareskm)"
      ],
      "execution_count": 32,
      "outputs": [
        {
          "output_type": "execute_result",
          "data": {
            "text/html": [
              "<div>\n",
              "<style scoped>\n",
              "    .dataframe tbody tr th:only-of-type {\n",
              "        vertical-align: middle;\n",
              "    }\n",
              "\n",
              "    .dataframe tbody tr th {\n",
              "        vertical-align: top;\n",
              "    }\n",
              "\n",
              "    .dataframe thead th {\n",
              "        text-align: right;\n",
              "    }\n",
              "</style>\n",
              "<table border=\"1\" class=\"dataframe\">\n",
              "  <thead>\n",
              "    <tr style=\"text-align: right;\">\n",
              "      <th></th>\n",
              "      <th>Gare de départ</th>\n",
              "      <th>Gare d arrivée</th>\n",
              "      <th>Prix d appel seconde</th>\n",
              "      <th>Plein tarif loisir seconde</th>\n",
              "      <th>Tarif premiere classe</th>\n",
              "      <th>Distance du trajet</th>\n",
              "    </tr>\n",
              "  </thead>\n",
              "  <tbody>\n",
              "    <tr>\n",
              "      <th>0</th>\n",
              "      <td>NIMES</td>\n",
              "      <td>LILLE EUROPE</td>\n",
              "      <td>30.0</td>\n",
              "      <td>144.0</td>\n",
              "      <td>184.0</td>\n",
              "      <td>763.449423</td>\n",
              "    </tr>\n",
              "    <tr>\n",
              "      <th>1</th>\n",
              "      <td>MOUTIERS SALINS BRIDES</td>\n",
              "      <td>QUIMPER</td>\n",
              "      <td>30.0</td>\n",
              "      <td>147.0</td>\n",
              "      <td>190.0</td>\n",
              "      <td>862.330700</td>\n",
              "    </tr>\n",
              "    <tr>\n",
              "      <th>2</th>\n",
              "      <td>LANDRY</td>\n",
              "      <td>QUIMPER</td>\n",
              "      <td>30.0</td>\n",
              "      <td>147.0</td>\n",
              "      <td>190.0</td>\n",
              "      <td>869.234024</td>\n",
              "    </tr>\n",
              "    <tr>\n",
              "      <th>3</th>\n",
              "      <td>TGV HAUTE PICARDIE</td>\n",
              "      <td>AGDE</td>\n",
              "      <td>30.0</td>\n",
              "      <td>150.0</td>\n",
              "      <td>188.0</td>\n",
              "      <td>728.928052</td>\n",
              "    </tr>\n",
              "    <tr>\n",
              "      <th>4</th>\n",
              "      <td>TGV HAUTE PICARDIE</td>\n",
              "      <td>SETE</td>\n",
              "      <td>30.0</td>\n",
              "      <td>150.0</td>\n",
              "      <td>188.0</td>\n",
              "      <td>720.162028</td>\n",
              "    </tr>\n",
              "    <tr>\n",
              "      <th>...</th>\n",
              "      <td>...</td>\n",
              "      <td>...</td>\n",
              "      <td>...</td>\n",
              "      <td>...</td>\n",
              "      <td>...</td>\n",
              "      <td>...</td>\n",
              "    </tr>\n",
              "    <tr>\n",
              "      <th>4157</th>\n",
              "      <td>PLOUARET TREGOR</td>\n",
              "      <td>PARIS MONTPARNASSE 1 ET 2</td>\n",
              "      <td>20.0</td>\n",
              "      <td>99.0</td>\n",
              "      <td>138.0</td>\n",
              "      <td>310.594709</td>\n",
              "    </tr>\n",
              "    <tr>\n",
              "      <th>4158</th>\n",
              "      <td>DOL DE BRETAGNE</td>\n",
              "      <td>PARIS MONTPARNASSE 1 ET 2</td>\n",
              "      <td>20.0</td>\n",
              "      <td>95.0</td>\n",
              "      <td>138.0</td>\n",
              "      <td>300.186787</td>\n",
              "    </tr>\n",
              "    <tr>\n",
              "      <th>4159</th>\n",
              "      <td>MARNE LA VALLEE CHESSY</td>\n",
              "      <td>MORLAIX</td>\n",
              "      <td>20.0</td>\n",
              "      <td>99.0</td>\n",
              "      <td>138.0</td>\n",
              "      <td>487.541717</td>\n",
              "    </tr>\n",
              "    <tr>\n",
              "      <th>4160</th>\n",
              "      <td>QUIMPERLE</td>\n",
              "      <td>MARNE LA VALLEE CHESSY</td>\n",
              "      <td>20.0</td>\n",
              "      <td>103.0</td>\n",
              "      <td>147.0</td>\n",
              "      <td>481.344754</td>\n",
              "    </tr>\n",
              "    <tr>\n",
              "      <th>4161</th>\n",
              "      <td>MASSY TGV</td>\n",
              "      <td>QUIMPER</td>\n",
              "      <td>20.0</td>\n",
              "      <td>103.0</td>\n",
              "      <td>147.0</td>\n",
              "      <td>479.634684</td>\n",
              "    </tr>\n",
              "  </tbody>\n",
              "</table>\n",
              "<p>4162 rows × 6 columns</p>\n",
              "</div>"
            ],
            "text/plain": [
              "               Gare de départ  ... Distance du trajet\n",
              "0                       NIMES  ...         763.449423\n",
              "1      MOUTIERS SALINS BRIDES  ...         862.330700\n",
              "2                      LANDRY  ...         869.234024\n",
              "3          TGV HAUTE PICARDIE  ...         728.928052\n",
              "4          TGV HAUTE PICARDIE  ...         720.162028\n",
              "...                       ...  ...                ...\n",
              "4157         PLOUARET TREGOR   ...         310.594709\n",
              "4158         DOL DE BRETAGNE   ...         300.186787\n",
              "4159  MARNE LA VALLEE CHESSY   ...         487.541717\n",
              "4160               QUIMPERLE   ...         481.344754\n",
              "4161               MASSY TGV   ...         479.634684\n",
              "\n",
              "[4162 rows x 6 columns]"
            ]
          },
          "metadata": {
            "tags": []
          },
          "execution_count": 32
        }
      ]
    },
    {
      "cell_type": "markdown",
      "metadata": {
        "id": "z0ewvIctZ5Ev"
      },
      "source": [
        "# **2. Visualisation**"
      ]
    },
    {
      "cell_type": "markdown",
      "metadata": {
        "id": "r9iE2GQ15A_K"
      },
      "source": [
        "Nous rappelons que :\n",
        "- *bdd_1* donne pour chaque vol, son prix moyen aller-retour;\n",
        "- *bdd_2* donne pour chaque vol, son prix et le mois du vol;\n",
        "- *bdd_3* donne pour chaque vol, son prix et le délais entre la réservation et le vol;\n",
        "- *bdd_sncf* donne pour chaque trajet de train, le prix en première et seconde classes ainsi que la distance du trajet en kms.\n",
        "\n",
        "Nous voulons regarder s'il existe une **corrélation entre le prix des billets d'avion et les variables suivantes** : \n",
        "- le prix des billets de train,\n",
        "- la distance du trajet. \n",
        "- le mois du vol,\n",
        "- le délais entre la réservation et le vol."
      ]
    },
    {
      "cell_type": "markdown",
      "metadata": {
        "id": "-n7IbKAO5A_L"
      },
      "source": [
        "## 1. Corrélation avec le prix des billets de train"
      ]
    },
    {
      "cell_type": "markdown",
      "metadata": {
        "id": "5iXNdD075A_L"
      },
      "source": [
        "On cherche d'une part à fusionner les bases de données *bdd_sncf* et *bdd_1* afin d'obtenir pour chaque trajet, le prix moyen du billet d'avion et le prix moyen du billet de train. \n",
        "\n",
        "\n",
        "Cependant, on remarque que les noms de villes qui qualifient les départs et les arrivées sont différents selon la base de données (par exemple, *bdd_sncf* indique généralement le nom de la gare, et non le nom de la ville). "
      ]
    },
    {
      "cell_type": "code",
      "metadata": {
        "colab": {
          "base_uri": "https://localhost:8080/",
          "height": 195
        },
        "id": "RkWwKeYI5A_M",
        "outputId": "0e1ceb60-bfbd-4ef4-aa7d-b6c254f07b44"
      },
      "source": [
        "bdd_sncf.head(5)"
      ],
      "execution_count": 35,
      "outputs": [
        {
          "output_type": "execute_result",
          "data": {
            "text/html": [
              "<div>\n",
              "<style scoped>\n",
              "    .dataframe tbody tr th:only-of-type {\n",
              "        vertical-align: middle;\n",
              "    }\n",
              "\n",
              "    .dataframe tbody tr th {\n",
              "        vertical-align: top;\n",
              "    }\n",
              "\n",
              "    .dataframe thead th {\n",
              "        text-align: right;\n",
              "    }\n",
              "</style>\n",
              "<table border=\"1\" class=\"dataframe\">\n",
              "  <thead>\n",
              "    <tr style=\"text-align: right;\">\n",
              "      <th></th>\n",
              "      <th>Gare de départ</th>\n",
              "      <th>Gare d arrivée</th>\n",
              "      <th>Prix d appel seconde</th>\n",
              "      <th>Plein tarif loisir seconde</th>\n",
              "      <th>Tarif premiere classe</th>\n",
              "      <th>Distance du trajet</th>\n",
              "    </tr>\n",
              "  </thead>\n",
              "  <tbody>\n",
              "    <tr>\n",
              "      <th>0</th>\n",
              "      <td>NIMES</td>\n",
              "      <td>LILLE EUROPE</td>\n",
              "      <td>30.0</td>\n",
              "      <td>144.0</td>\n",
              "      <td>184.0</td>\n",
              "      <td>763.449423</td>\n",
              "    </tr>\n",
              "    <tr>\n",
              "      <th>1</th>\n",
              "      <td>MOUTIERS SALINS BRIDES</td>\n",
              "      <td>QUIMPER</td>\n",
              "      <td>30.0</td>\n",
              "      <td>147.0</td>\n",
              "      <td>190.0</td>\n",
              "      <td>862.330700</td>\n",
              "    </tr>\n",
              "    <tr>\n",
              "      <th>2</th>\n",
              "      <td>LANDRY</td>\n",
              "      <td>QUIMPER</td>\n",
              "      <td>30.0</td>\n",
              "      <td>147.0</td>\n",
              "      <td>190.0</td>\n",
              "      <td>869.234024</td>\n",
              "    </tr>\n",
              "    <tr>\n",
              "      <th>3</th>\n",
              "      <td>TGV HAUTE PICARDIE</td>\n",
              "      <td>AGDE</td>\n",
              "      <td>30.0</td>\n",
              "      <td>150.0</td>\n",
              "      <td>188.0</td>\n",
              "      <td>728.928052</td>\n",
              "    </tr>\n",
              "    <tr>\n",
              "      <th>4</th>\n",
              "      <td>TGV HAUTE PICARDIE</td>\n",
              "      <td>SETE</td>\n",
              "      <td>30.0</td>\n",
              "      <td>150.0</td>\n",
              "      <td>188.0</td>\n",
              "      <td>720.162028</td>\n",
              "    </tr>\n",
              "  </tbody>\n",
              "</table>\n",
              "</div>"
            ],
            "text/plain": [
              "           Gare de départ  ... Distance du trajet\n",
              "0                   NIMES  ...         763.449423\n",
              "1  MOUTIERS SALINS BRIDES  ...         862.330700\n",
              "2                  LANDRY  ...         869.234024\n",
              "3      TGV HAUTE PICARDIE  ...         728.928052\n",
              "4      TGV HAUTE PICARDIE  ...         720.162028\n",
              "\n",
              "[5 rows x 6 columns]"
            ]
          },
          "metadata": {
            "tags": []
          },
          "execution_count": 35
        }
      ]
    },
    {
      "cell_type": "code",
      "metadata": {
        "colab": {
          "base_uri": "https://localhost:8080/",
          "height": 195
        },
        "id": "RXS6OgjV5A_X",
        "outputId": "a9597a84-88cf-47f2-8ab2-a769b821afcc"
      },
      "source": [
        "bdd_1.head(5)"
      ],
      "execution_count": 36,
      "outputs": [
        {
          "output_type": "execute_result",
          "data": {
            "text/html": [
              "<div>\n",
              "<style scoped>\n",
              "    .dataframe tbody tr th:only-of-type {\n",
              "        vertical-align: middle;\n",
              "    }\n",
              "\n",
              "    .dataframe tbody tr th {\n",
              "        vertical-align: top;\n",
              "    }\n",
              "\n",
              "    .dataframe thead th {\n",
              "        text-align: right;\n",
              "    }\n",
              "</style>\n",
              "<table border=\"1\" class=\"dataframe\">\n",
              "  <thead>\n",
              "    <tr style=\"text-align: right;\">\n",
              "      <th></th>\n",
              "      <th>Départ</th>\n",
              "      <th>Arrivée</th>\n",
              "      <th>Prix</th>\n",
              "    </tr>\n",
              "  </thead>\n",
              "  <tbody>\n",
              "    <tr>\n",
              "      <th>0</th>\n",
              "      <td>Paris</td>\n",
              "      <td>Strasbourg</td>\n",
              "      <td>247</td>\n",
              "    </tr>\n",
              "    <tr>\n",
              "      <th>1</th>\n",
              "      <td>Nantes</td>\n",
              "      <td>Strasbourg</td>\n",
              "      <td>170</td>\n",
              "    </tr>\n",
              "    <tr>\n",
              "      <th>2</th>\n",
              "      <td>Marseille</td>\n",
              "      <td>Strasbourg</td>\n",
              "      <td>208</td>\n",
              "    </tr>\n",
              "    <tr>\n",
              "      <th>3</th>\n",
              "      <td>Bordeaux</td>\n",
              "      <td>Strasbourg</td>\n",
              "      <td>225</td>\n",
              "    </tr>\n",
              "    <tr>\n",
              "      <th>4</th>\n",
              "      <td>Bruxelles</td>\n",
              "      <td>Strasbourg</td>\n",
              "      <td>205</td>\n",
              "    </tr>\n",
              "  </tbody>\n",
              "</table>\n",
              "</div>"
            ],
            "text/plain": [
              "      Départ     Arrivée  Prix\n",
              "0      Paris  Strasbourg   247\n",
              "1     Nantes  Strasbourg   170\n",
              "2  Marseille  Strasbourg   208\n",
              "3   Bordeaux  Strasbourg   225\n",
              "4  Bruxelles  Strasbourg   205"
            ]
          },
          "metadata": {
            "tags": []
          },
          "execution_count": 36
        }
      ]
    },
    {
      "cell_type": "code",
      "metadata": {
        "colab": {
          "base_uri": "https://localhost:8080/"
        },
        "id": "0QkCVMf75A_X",
        "outputId": "632c9b20-4ec8-455a-f001-880e0bd65114"
      },
      "source": [
        "bdd_1['Départ'].unique()\n",
        "bdd_1['Arrivée'].unique()"
      ],
      "execution_count": 37,
      "outputs": [
        {
          "output_type": "execute_result",
          "data": {
            "text/plain": [
              "array(['Strasbourg', 'Bordeaux', 'Clermont-Ferrand', 'Rennes', 'Brest',\n",
              "       'Ajaccio', 'Bastia', 'Calvi', 'Figari', 'Montpellier', 'Limoges',\n",
              "       'Metz', 'Toulouse', 'Lille', 'Caen', 'Nantes', 'Poitiers',\n",
              "       'Marseille', 'Nice', 'Lyon', 'Paris'], dtype=object)"
            ]
          },
          "metadata": {
            "tags": []
          },
          "execution_count": 37
        }
      ]
    },
    {
      "cell_type": "markdown",
      "metadata": {
        "id": "Pp-k16-P5A_Z"
      },
      "source": [
        "On voit que dans la base de données *bdd_1*, il y a un faible nombre de destinations et de départs. On peut donc changer à la main la syntaxe des départs et des arrivées dans la base de données *bdd_sncf* de façon à ce qu'elle soit identique à celle de *bdd_1*. Pour certaines grandes villes telles que Lyon et Paris comportant plusieurs gares, il ne faudra pas oublier de modifier le nom des toute les gares. \n",
        "\n",
        "Puis, on conserve seulement les lignes dont la ville de départ et d'arrivée coïncident avec celles de *bdd_1*. "
      ]
    },
    {
      "cell_type": "code",
      "metadata": {
        "colab": {
          "base_uri": "https://localhost:8080/",
          "height": 486
        },
        "id": "CLikVqj35A_Z",
        "outputId": "abc9af62-536d-4a29-d59e-612c3da69b3e"
      },
      "source": [
        "bdd_sncf['Gare de départ'].loc[(bdd_sncf['Gare de départ'] == 'PARIS MONTPARNASSE 1 ET 2') | (bdd_sncf['Gare de départ'] == 'PARIS AUSTERLITZ') | (bdd_sncf['Gare de départ'] == 'MASSY TGV') | (bdd_sncf['Gare de départ'] == 'MARNE LA VALLEE CHESSY') | (bdd_sncf['Gare de départ'] == 'PARIS NORD') | (bdd_sncf['Gare de départ'] == 'PARIS GARE DE LYON') |(bdd_sncf['Gare de départ'] == 'AEROPORT CDG 2 TGV ROISSY') | (bdd_sncf['Gare de départ'] =='MANTES LA J. TGV')] = 'Paris'\n",
        "bdd_sncf['Gare d arrivée'].loc[(bdd_sncf['Gare d arrivée'] == 'PARIS MONTPARNASSE 1 ET 2') | (bdd_sncf['Gare d arrivée'] == 'PARIS AUSTERLITZ') | (bdd_sncf['Gare d arrivée'] == 'MASSY TGV') | (bdd_sncf['Gare d arrivée'] == 'MARNE LA VALLEE CHESSY') | (bdd_sncf['Gare d arrivée'] == 'PARIS NORD') | (bdd_sncf['Gare d arrivée'] == 'PARIS GARE DE LYON') |(bdd_sncf['Gare d arrivée'] == 'AEROPORT CDG 2 TGV ROISSY') | (bdd_sncf['Gare d arrivée'] =='MANTES LA J. TGV') ] = 'Paris'\n",
        "\n",
        "bdd_sncf['Gare de départ'].loc[bdd_sncf['Gare de départ'] == 'NANTES'] = 'Nantes'\n",
        "bdd_sncf['Gare d arrivée'].loc[bdd_sncf['Gare d arrivée'] == 'NANTES'] = 'Nantes'\n",
        "\n",
        "\n",
        "bdd_sncf['Gare de départ'].loc[bdd_sncf['Gare de départ'] == 'MARSEILLE ST CHARLES'] = 'Marseille'\n",
        "bdd_sncf['Gare d arrivée'].loc[bdd_sncf['Gare d arrivée'] == 'MARSEILLE ST CHARLES'] = 'Marseille'\n",
        "\n",
        "bdd_sncf['Gare de départ'].loc[bdd_sncf['Gare de départ'] == 'BORDEAUX ST JEAN'] = 'Bordeaux'\n",
        "bdd_sncf['Gare d arrivée'].loc[bdd_sncf['Gare d arrivée'] == 'BORDEAUX ST JEAN'] = 'Bordeaux'\n",
        "\n",
        "\n",
        "bdd_sncf['Gare de départ'].loc[(bdd_sncf['Gare de départ'] == 'LYON PART DIEU') | (bdd_sncf['Gare de départ'] == 'LYON ST EXUPERY') | (bdd_sncf['Gare de départ'] == 'LYON PERRACHE')] = 'Lyon'\n",
        "bdd_sncf['Gare d arrivée'].loc[(bdd_sncf['Gare d arrivée'] == 'LYON PART DIEU') | (bdd_sncf['Gare d arrivée'] == 'LYON ST EXUPERY') | (bdd_sncf['Gare d arrivée'] == 'LYON PERRACHE')] = 'Lyon'\n",
        "\n",
        "bdd_sncf['Gare de départ'].loc[bdd_sncf['Gare de départ'] == 'TOULOUSE MATABIAU'] = 'Toulouse'\n",
        "bdd_sncf['Gare d arrivée'].loc[bdd_sncf['Gare d arrivée'] == 'TOULOUSE MATABIAU'] = 'Toulouse'\n",
        "\n",
        "bdd_sncf['Gare de départ'].loc[bdd_sncf['Gare de départ'] == 'NICE VILLE' ] = 'Nice'\n",
        "bdd_sncf['Gare d arrivée'].loc[bdd_sncf['Gare d arrivée'] == 'NICE VILLE' ] = 'Nice'\n",
        "\n",
        "bdd_sncf['Gare de départ'].loc[bdd_sncf['Gare de départ'] == 'STRASBOURG'] = 'Strasbourg'\n",
        "bdd_sncf['Gare d arrivée'].loc[bdd_sncf['Gare d arrivée'] == 'STRASBOURG'] = 'Strasbourg'\n",
        "\n",
        "bdd_sncf['Gare de départ'].loc[bdd_sncf['Gare de départ'] == 'BREST' ] = 'Brest'\n",
        "bdd_sncf['Gare d arrivée'].loc[bdd_sncf['Gare d arrivée'] == 'BREST' ] = 'Brest'\n",
        "\n",
        "bdd_sncf['Gare de départ'].loc[bdd_sncf['Gare de départ'] == 'MONTPELLIER' ] = 'Montpellier'\n",
        "bdd_sncf['Gare d arrivée'].loc[bdd_sncf['Gare d arrivée'] == 'MONTPELLIER' ] = 'Montpellier'\n",
        "\n",
        "bdd_sncf['Gare de départ'].loc[bdd_sncf['Gare de départ'] == 'LIMOGES BENEDICTINS'] = 'Limoges'\n",
        "bdd_sncf['Gare d arrivée'].loc[bdd_sncf['Gare d arrivée'] == 'LIMOGES BENEDICTINS'] = 'Limoges'\n",
        "\n",
        "bdd_sncf['Gare de départ'].loc[bdd_sncf['Gare de départ'] == 'METZ VILLE'] = 'Metz'\n",
        "bdd_sncf['Gare d arrivée'].loc[bdd_sncf['Gare d arrivée'] == 'METZ VILLE'] = 'Metz'\n",
        "\n",
        "bdd_sncf['Gare de départ'].loc[(bdd_sncf['Gare de départ'] == 'LILLE FLANDRES') | (bdd_sncf['Gare de départ'] == 'LILLE EUROPE') ] = 'Lille'\n",
        "bdd_sncf['Gare d arrivée'].loc[(bdd_sncf['Gare d arrivée'] == 'LILLE FLANDRES') | (bdd_sncf['Gare d arrivée'] == 'LILLE EUROPE') ] = 'Lille'\n",
        "\n",
        "bdd_sncf['Gare de départ'].loc[bdd_sncf['Gare de départ'] == 'CAEN' ] = 'Caen'\n",
        "bdd_sncf['Gare d arrivée'].loc[bdd_sncf['Gare d arrivée'] == 'CAEN' ] = 'Caen'\n",
        "\n",
        "bdd_sncf['Gare de départ'].loc[bdd_sncf['Gare de départ'] ==  ' POITIERS'] = 'Poitiers'\n",
        "bdd_sncf['Gare d arrivée'].loc[bdd_sncf['Gare d arrivée'] ==  ' POITIERS'] = 'Poitiers'\n",
        "\n",
        "bdd_sncf['Gare de départ'].loc[bdd_sncf['Gare de départ'] ==  'RENNES'] = 'Rennes'\n",
        "bdd_sncf['Gare d arrivée'].loc[bdd_sncf['Gare d arrivée'] ==  'RENNES'] = 'Rennes'\n",
        "\n",
        "liste_villes = ['Strasbourg', 'Bordeaux', 'Clermont-Ferrand', 'Rennes', 'Brest',\n",
        "       'Ajaccio', 'Bastia', 'Calvi', 'Figari', 'Montpellier', 'Limoges',\n",
        "       'Metz', 'Toulouse', 'Lille', 'Caen', 'Nantes', 'Poitiers',\n",
        "       'Marseille', 'Nice', 'Lyon', 'Paris','Bordeaux'] ##contient tous les destinations et villes de départ de bdd_1\n",
        "\n",
        "indexlist=[]\n",
        "for villedep in liste_villes:\n",
        "    for villearr in liste_villes:\n",
        "        inter = bdd_sncf[(bdd_sncf['Gare de départ'] == villedep)]\n",
        "        listelement = inter[inter['Gare d arrivée']==villearr].index.values.astype(int)\n",
        "        if listelement.size!=0:\n",
        "            indexlist.append(listelement[0])  ## listelement stocke tous les indices des lignes de bdd_sncf dont les départs \n",
        "            #et arrivées sont dans bdd_1. \n",
        "\n",
        "bdd_sncf = bdd_sncf[bdd_sncf.index.isin(indexlist)]\n",
        "bdd_sncf"
      ],
      "execution_count": 38,
      "outputs": [
        {
          "output_type": "stream",
          "text": [
            "/usr/local/lib/python3.6/dist-packages/pandas/core/indexing.py:670: SettingWithCopyWarning: \n",
            "A value is trying to be set on a copy of a slice from a DataFrame\n",
            "\n",
            "See the caveats in the documentation: https://pandas.pydata.org/pandas-docs/stable/user_guide/indexing.html#returning-a-view-versus-a-copy\n",
            "  iloc._setitem_with_indexer(indexer, value)\n"
          ],
          "name": "stderr"
        },
        {
          "output_type": "execute_result",
          "data": {
            "text/html": [
              "<div>\n",
              "<style scoped>\n",
              "    .dataframe tbody tr th:only-of-type {\n",
              "        vertical-align: middle;\n",
              "    }\n",
              "\n",
              "    .dataframe tbody tr th {\n",
              "        vertical-align: top;\n",
              "    }\n",
              "\n",
              "    .dataframe thead th {\n",
              "        text-align: right;\n",
              "    }\n",
              "</style>\n",
              "<table border=\"1\" class=\"dataframe\">\n",
              "  <thead>\n",
              "    <tr style=\"text-align: right;\">\n",
              "      <th></th>\n",
              "      <th>Gare de départ</th>\n",
              "      <th>Gare d arrivée</th>\n",
              "      <th>Prix d appel seconde</th>\n",
              "      <th>Plein tarif loisir seconde</th>\n",
              "      <th>Tarif premiere classe</th>\n",
              "      <th>Distance du trajet</th>\n",
              "    </tr>\n",
              "  </thead>\n",
              "  <tbody>\n",
              "    <tr>\n",
              "      <th>7</th>\n",
              "      <td>Limoges</td>\n",
              "      <td>Paris</td>\n",
              "      <td>25.0</td>\n",
              "      <td>88.0</td>\n",
              "      <td>111.0</td>\n",
              "      <td>418.951774</td>\n",
              "    </tr>\n",
              "    <tr>\n",
              "      <th>85</th>\n",
              "      <td>Paris</td>\n",
              "      <td>Lyon</td>\n",
              "      <td>25.0</td>\n",
              "      <td>97.0</td>\n",
              "      <td>133.0</td>\n",
              "      <td>382.703675</td>\n",
              "    </tr>\n",
              "    <tr>\n",
              "      <th>86</th>\n",
              "      <td>Metz</td>\n",
              "      <td>Lyon</td>\n",
              "      <td>20.0</td>\n",
              "      <td>88.0</td>\n",
              "      <td>112.0</td>\n",
              "      <td>384.902365</td>\n",
              "    </tr>\n",
              "    <tr>\n",
              "      <th>103</th>\n",
              "      <td>Brest</td>\n",
              "      <td>Paris</td>\n",
              "      <td>20.0</td>\n",
              "      <td>92.0</td>\n",
              "      <td>131.0</td>\n",
              "      <td>505.076392</td>\n",
              "    </tr>\n",
              "    <tr>\n",
              "      <th>207</th>\n",
              "      <td>Paris</td>\n",
              "      <td>Montpellier</td>\n",
              "      <td>25.0</td>\n",
              "      <td>114.0</td>\n",
              "      <td>160.0</td>\n",
              "      <td>503.523601</td>\n",
              "    </tr>\n",
              "    <tr>\n",
              "      <th>...</th>\n",
              "      <td>...</td>\n",
              "      <td>...</td>\n",
              "      <td>...</td>\n",
              "      <td>...</td>\n",
              "      <td>...</td>\n",
              "      <td>...</td>\n",
              "    </tr>\n",
              "    <tr>\n",
              "      <th>3454</th>\n",
              "      <td>Nantes</td>\n",
              "      <td>Paris</td>\n",
              "      <td>20.0</td>\n",
              "      <td>85.0</td>\n",
              "      <td>122.0</td>\n",
              "      <td>336.159718</td>\n",
              "    </tr>\n",
              "    <tr>\n",
              "      <th>3754</th>\n",
              "      <td>Marseille</td>\n",
              "      <td>Rennes</td>\n",
              "      <td>30.0</td>\n",
              "      <td>142.0</td>\n",
              "      <td>180.0</td>\n",
              "      <td>773.008188</td>\n",
              "    </tr>\n",
              "    <tr>\n",
              "      <th>3871</th>\n",
              "      <td>Strasbourg</td>\n",
              "      <td>Marseille</td>\n",
              "      <td>20.0</td>\n",
              "      <td>124.0</td>\n",
              "      <td>161.0</td>\n",
              "      <td>616.720319</td>\n",
              "    </tr>\n",
              "    <tr>\n",
              "      <th>4120</th>\n",
              "      <td>Strasbourg</td>\n",
              "      <td>Lille</td>\n",
              "      <td>25.0</td>\n",
              "      <td>132.0</td>\n",
              "      <td>152.0</td>\n",
              "      <td>410.073399</td>\n",
              "    </tr>\n",
              "    <tr>\n",
              "      <th>4124</th>\n",
              "      <td>Lille</td>\n",
              "      <td>Strasbourg</td>\n",
              "      <td>25.0</td>\n",
              "      <td>132.0</td>\n",
              "      <td>152.0</td>\n",
              "      <td>410.374072</td>\n",
              "    </tr>\n",
              "  </tbody>\n",
              "</table>\n",
              "<p>69 rows × 6 columns</p>\n",
              "</div>"
            ],
            "text/plain": [
              "     Gare de départ Gare d arrivée  ... Tarif premiere classe  Distance du trajet\n",
              "7           Limoges          Paris  ...                 111.0          418.951774\n",
              "85            Paris           Lyon  ...                 133.0          382.703675\n",
              "86             Metz           Lyon  ...                 112.0          384.902365\n",
              "103           Brest          Paris  ...                 131.0          505.076392\n",
              "207           Paris    Montpellier  ...                 160.0          503.523601\n",
              "...             ...            ...  ...                   ...                 ...\n",
              "3454         Nantes          Paris  ...                 122.0          336.159718\n",
              "3754      Marseille         Rennes  ...                 180.0          773.008188\n",
              "3871     Strasbourg      Marseille  ...                 161.0          616.720319\n",
              "4120     Strasbourg          Lille  ...                 152.0          410.073399\n",
              "4124          Lille     Strasbourg  ...                 152.0          410.374072\n",
              "\n",
              "[69 rows x 6 columns]"
            ]
          },
          "metadata": {
            "tags": []
          },
          "execution_count": 38
        }
      ]
    },
    {
      "cell_type": "markdown",
      "metadata": {
        "id": "VZjqDffF5A_c"
      },
      "source": [
        "On effectue la fusion de la nouvelle base obtenue *bdd_sncf* et *bdd_1* de façon à pouvoir comparer les prix des billets de train et ceux d'avion pour un même trajet. \n",
        "\n",
        "\n",
        "***bdd_corr_1* contient alors pour chaque trajet aller-retour, le prix du billet de train (dans la colonne \"Prix moyen\", qui correspond à la moyenne des tarifs de première et de seconde classe) et celui du billet d'avion (dans la colonne \"Prix\", et qui correspond également à un prix moyen).**"
      ]
    },
    {
      "cell_type": "code",
      "metadata": {
        "colab": {
          "base_uri": "https://localhost:8080/",
          "height": 935
        },
        "id": "F8D2hCup5A_c",
        "outputId": "f460ecac-a241-43a9-dcde-8c9053dccf65"
      },
      "source": [
        "bdd_corr = pandas.merge(bdd_1, bdd_sncf, left_on = [bdd_1['Départ'],bdd_1['Arrivée']], right_on = [bdd_sncf['Gare de départ'], bdd_sncf['Gare d arrivée']], how = 'inner')\n",
        "bdd_corr = bdd_corr.drop(['Gare de départ', 'Gare d arrivée', 'Prix d appel seconde', 'key_0', 'key_1'], axis=1)\n",
        "bdd_corr['Prix moyen'] = bdd_corr['Plein tarif loisir seconde'] + bdd_corr['Tarif premiere classe']\n",
        "bdd_corr_1 =  bdd_corr.drop(['Distance du trajet', 'Plein tarif loisir seconde', 'Tarif premiere classe', 'Départ', 'Arrivée'], axis = 1)\n",
        "bdd_corr_1"
      ],
      "execution_count": 39,
      "outputs": [
        {
          "output_type": "execute_result",
          "data": {
            "text/html": [
              "<div>\n",
              "<style scoped>\n",
              "    .dataframe tbody tr th:only-of-type {\n",
              "        vertical-align: middle;\n",
              "    }\n",
              "\n",
              "    .dataframe tbody tr th {\n",
              "        vertical-align: top;\n",
              "    }\n",
              "\n",
              "    .dataframe thead th {\n",
              "        text-align: right;\n",
              "    }\n",
              "</style>\n",
              "<table border=\"1\" class=\"dataframe\">\n",
              "  <thead>\n",
              "    <tr style=\"text-align: right;\">\n",
              "      <th></th>\n",
              "      <th>Prix</th>\n",
              "      <th>Prix moyen</th>\n",
              "    </tr>\n",
              "  </thead>\n",
              "  <tbody>\n",
              "    <tr>\n",
              "      <th>0</th>\n",
              "      <td>154</td>\n",
              "      <td>193.0</td>\n",
              "    </tr>\n",
              "    <tr>\n",
              "      <th>1</th>\n",
              "      <td>241</td>\n",
              "      <td>73.0</td>\n",
              "    </tr>\n",
              "    <tr>\n",
              "      <th>2</th>\n",
              "      <td>163</td>\n",
              "      <td>322.0</td>\n",
              "    </tr>\n",
              "    <tr>\n",
              "      <th>3</th>\n",
              "      <td>160</td>\n",
              "      <td>251.0</td>\n",
              "    </tr>\n",
              "    <tr>\n",
              "      <th>4</th>\n",
              "      <td>180</td>\n",
              "      <td>274.0</td>\n",
              "    </tr>\n",
              "    <tr>\n",
              "      <th>5</th>\n",
              "      <td>257</td>\n",
              "      <td>178.0</td>\n",
              "    </tr>\n",
              "    <tr>\n",
              "      <th>6</th>\n",
              "      <td>245</td>\n",
              "      <td>151.0</td>\n",
              "    </tr>\n",
              "    <tr>\n",
              "      <th>7</th>\n",
              "      <td>132</td>\n",
              "      <td>251.0</td>\n",
              "    </tr>\n",
              "    <tr>\n",
              "      <th>8</th>\n",
              "      <td>145</td>\n",
              "      <td>169.0</td>\n",
              "    </tr>\n",
              "    <tr>\n",
              "      <th>9</th>\n",
              "      <td>289</td>\n",
              "      <td>103.0</td>\n",
              "    </tr>\n",
              "    <tr>\n",
              "      <th>10</th>\n",
              "      <td>119</td>\n",
              "      <td>208.0</td>\n",
              "    </tr>\n",
              "    <tr>\n",
              "      <th>11</th>\n",
              "      <td>290</td>\n",
              "      <td>145.0</td>\n",
              "    </tr>\n",
              "    <tr>\n",
              "      <th>12</th>\n",
              "      <td>144</td>\n",
              "      <td>301.0</td>\n",
              "    </tr>\n",
              "    <tr>\n",
              "      <th>13</th>\n",
              "      <td>166</td>\n",
              "      <td>270.0</td>\n",
              "    </tr>\n",
              "    <tr>\n",
              "      <th>14</th>\n",
              "      <td>172</td>\n",
              "      <td>207.0</td>\n",
              "    </tr>\n",
              "    <tr>\n",
              "      <th>15</th>\n",
              "      <td>136</td>\n",
              "      <td>322.0</td>\n",
              "    </tr>\n",
              "    <tr>\n",
              "      <th>16</th>\n",
              "      <td>129</td>\n",
              "      <td>251.0</td>\n",
              "    </tr>\n",
              "    <tr>\n",
              "      <th>17</th>\n",
              "      <td>163</td>\n",
              "      <td>278.0</td>\n",
              "    </tr>\n",
              "    <tr>\n",
              "      <th>18</th>\n",
              "      <td>100</td>\n",
              "      <td>249.0</td>\n",
              "    </tr>\n",
              "    <tr>\n",
              "      <th>19</th>\n",
              "      <td>180</td>\n",
              "      <td>156.0</td>\n",
              "    </tr>\n",
              "    <tr>\n",
              "      <th>20</th>\n",
              "      <td>142</td>\n",
              "      <td>317.0</td>\n",
              "    </tr>\n",
              "    <tr>\n",
              "      <th>21</th>\n",
              "      <td>192</td>\n",
              "      <td>93.0</td>\n",
              "    </tr>\n",
              "    <tr>\n",
              "      <th>22</th>\n",
              "      <td>159</td>\n",
              "      <td>207.0</td>\n",
              "    </tr>\n",
              "    <tr>\n",
              "      <th>23</th>\n",
              "      <td>168</td>\n",
              "      <td>230.0</td>\n",
              "    </tr>\n",
              "    <tr>\n",
              "      <th>24</th>\n",
              "      <td>112</td>\n",
              "      <td>271.0</td>\n",
              "    </tr>\n",
              "    <tr>\n",
              "      <th>25</th>\n",
              "      <td>161</td>\n",
              "      <td>207.0</td>\n",
              "    </tr>\n",
              "    <tr>\n",
              "      <th>26</th>\n",
              "      <td>153</td>\n",
              "      <td>278.0</td>\n",
              "    </tr>\n",
              "    <tr>\n",
              "      <th>27</th>\n",
              "      <td>131</td>\n",
              "      <td>222.0</td>\n",
              "    </tr>\n",
              "    <tr>\n",
              "      <th>28</th>\n",
              "      <td>169</td>\n",
              "      <td>230.0</td>\n",
              "    </tr>\n",
              "    <tr>\n",
              "      <th>29</th>\n",
              "      <td>133</td>\n",
              "      <td>317.0</td>\n",
              "    </tr>\n",
              "  </tbody>\n",
              "</table>\n",
              "</div>"
            ],
            "text/plain": [
              "    Prix  Prix moyen\n",
              "0    154       193.0\n",
              "1    241        73.0\n",
              "2    163       322.0\n",
              "3    160       251.0\n",
              "4    180       274.0\n",
              "5    257       178.0\n",
              "6    245       151.0\n",
              "7    132       251.0\n",
              "8    145       169.0\n",
              "9    289       103.0\n",
              "10   119       208.0\n",
              "11   290       145.0\n",
              "12   144       301.0\n",
              "13   166       270.0\n",
              "14   172       207.0\n",
              "15   136       322.0\n",
              "16   129       251.0\n",
              "17   163       278.0\n",
              "18   100       249.0\n",
              "19   180       156.0\n",
              "20   142       317.0\n",
              "21   192        93.0\n",
              "22   159       207.0\n",
              "23   168       230.0\n",
              "24   112       271.0\n",
              "25   161       207.0\n",
              "26   153       278.0\n",
              "27   131       222.0\n",
              "28   169       230.0\n",
              "29   133       317.0"
            ]
          },
          "metadata": {
            "tags": []
          },
          "execution_count": 39
        }
      ]
    },
    {
      "cell_type": "markdown",
      "metadata": {
        "id": "9hevYf3L5A_e"
      },
      "source": [
        "On peut regarder la répartition des prix pour le train et l'avion à l'aide d'un histogramme afin de voir s'il n'y a pas de valeurs aberrantes. "
      ]
    },
    {
      "cell_type": "code",
      "metadata": {
        "colab": {
          "base_uri": "https://localhost:8080/",
          "height": 298
        },
        "id": "7BEPLHk45A_e",
        "outputId": "21d77e7f-83a0-423f-ee7f-5d6d4722327d"
      },
      "source": [
        "plt.hist([bdd_corr_1['Prix'], bdd_corr_1['Prix moyen']], rwidth = 0.5, color = ['red', 'green'], label = ['avion', 'train'])\n",
        "plt.title('Répartition des prix des billets d avion et de train')\n",
        "plt.legend()"
      ],
      "execution_count": 40,
      "outputs": [
        {
          "output_type": "execute_result",
          "data": {
            "text/plain": [
              "<matplotlib.legend.Legend at 0x7fa2e779c1d0>"
            ]
          },
          "metadata": {
            "tags": []
          },
          "execution_count": 40
        },
        {
          "output_type": "display_data",
          "data": {
            "image/png": "[encoded data removed]",
            "text/plain": [
              "<Figure size 432x288 with 1 Axes>"
            ]
          },
          "metadata": {
            "tags": [],
            "needs_background": "light"
          }
        }
      ]
    },
    {
      "cell_type": "markdown",
      "metadata": {
        "id": "yICyg0-35A_j"
      },
      "source": [
        "Nous souhaitons regarder s'il existe une corrélation entre ces deux variables, qui sont des variables quantitatives. "
      ]
    },
    {
      "cell_type": "markdown",
      "metadata": {
        "id": "6-vrWKfm5A_j"
      },
      "source": [
        "Regardons d'une part s'il existe **une corrélation linéaire entre les deux variables obtenues dans *bdd_corr_1* avec le test de Pearson :** "
      ]
    },
    {
      "cell_type": "code",
      "metadata": {
        "id": "2H7DDvPC5A_j",
        "colab": {
          "base_uri": "https://localhost:8080/"
        },
        "outputId": "b0515758-2266-4021-e26a-a608461a7784"
      },
      "source": [
        "stats.pearsonr(bdd_corr_1['Prix'], bdd_corr_1['Prix moyen'])"
      ],
      "execution_count": 41,
      "outputs": [
        {
          "output_type": "execute_result",
          "data": {
            "text/plain": [
              "(-0.6680289624272777, 5.488450745623389e-05)"
            ]
          },
          "metadata": {
            "tags": []
          },
          "execution_count": 41
        }
      ]
    },
    {
      "cell_type": "markdown",
      "metadata": {
        "id": "r8EZDDCY5A_k"
      },
      "source": [
        "On voit que le coefficient de Pearson est égal en valeur absolue à $0.65$ avec une p-value de $0.0001$. Ainsi, si on fixe un seuil de significativité à $1$%, on peut donc affirmer que le coefficient de corrélation est significatif. Le coefficient de Pearson en valeur absolue est relativement proche de 1, donc on peut dire qu'il existe une relation linéaire modérée entre le prix des billets de train et celui des billets d'avion. "
      ]
    },
    {
      "cell_type": "markdown",
      "metadata": {
        "id": "qnm2Go-b5A_k"
      },
      "source": [
        "On réalise une régression avec le module seaborn : "
      ]
    },
    {
      "cell_type": "code",
      "metadata": {
        "id": "wy2u4uk15A_l",
        "colab": {
          "base_uri": "https://localhost:8080/",
          "height": 400
        },
        "outputId": "e356d704-b7cb-4847-fa49-9ab9423a6a07"
      },
      "source": [
        "## Représentation graphique\n",
        "sn.lmplot(x = 'Prix', y = 'Prix moyen', data = bdd_corr_1)"
      ],
      "execution_count": 42,
      "outputs": [
        {
          "output_type": "execute_result",
          "data": {
            "text/plain": [
              "<seaborn.axisgrid.FacetGrid at 0x7fa2e7744e48>"
            ]
          },
          "metadata": {
            "tags": []
          },
          "execution_count": 42
        },
        {
          "output_type": "display_data",
          "data": {
            "image/png": "[encoded data removed]",
            "text/plain": [
              "<Figure size 360x360 with 1 Axes>"
            ]
          },
          "metadata": {
            "tags": [],
            "needs_background": "light"
          }
        }
      ]
    },
    {
      "cell_type": "markdown",
      "metadata": {
        "id": "zxKz-1335A_m"
      },
      "source": [
        "On remarque que de nombreux points sont espacés de la droite de régression linéaire simple; cette régression est donc de qualité médiocre."
      ]
    },
    {
      "cell_type": "markdown",
      "metadata": {
        "id": "5EO_AAUF5A_o"
      },
      "source": [
        "Pour plus de précision sur la régression, on utilise le module statsmodels :"
      ]
    },
    {
      "cell_type": "code",
      "metadata": {
        "id": "B7LbRoHV5A_o",
        "colab": {
          "base_uri": "https://localhost:8080/"
        },
        "outputId": "a6918711-96ad-4281-9745-1de663a3c089"
      },
      "source": [
        "X = sm.add_constant(bdd_corr_1['Prix'])\n",
        "model = sm.OLS(bdd_corr_1['Prix moyen'], X)\n",
        "results = model.fit()\n",
        "print(results.summary())"
      ],
      "execution_count": 43,
      "outputs": [
        {
          "output_type": "stream",
          "text": [
            "                            OLS Regression Results                            \n",
            "==============================================================================\n",
            "Dep. Variable:             Prix moyen   R-squared:                       0.446\n",
            "Model:                            OLS   Adj. R-squared:                  0.426\n",
            "Method:                 Least Squares   F-statistic:                     22.57\n",
            "Date:                Sun, 13 Dec 2020   Prob (F-statistic):           5.49e-05\n",
            "Time:                        10:40:31   Log-Likelihood:                -159.99\n",
            "No. Observations:                  30   AIC:                             324.0\n",
            "Df Residuals:                      28   BIC:                             326.8\n",
            "Df Model:                           1                                         \n",
            "Covariance Type:            nonrobust                                         \n",
            "==============================================================================\n",
            "                 coef    std err          t      P>|t|      [0.025      0.975]\n",
            "------------------------------------------------------------------------------\n",
            "const        383.6075     34.881     10.998      0.000     312.157     455.058\n",
            "Prix          -0.9409      0.198     -4.750      0.000      -1.347      -0.535\n",
            "==============================================================================\n",
            "Omnibus:                        1.022   Durbin-Watson:                   2.148\n",
            "Prob(Omnibus):                  0.600   Jarque-Bera (JB):                0.934\n",
            "Skew:                          -0.225   Prob(JB):                        0.627\n",
            "Kurtosis:                       2.263   Cond. No.                         649.\n",
            "==============================================================================\n",
            "\n",
            "Warnings:\n",
            "[1] Standard Errors assume that the covariance matrix of the errors is correctly specified.\n"
          ],
          "name": "stdout"
        }
      ]
    },
    {
      "cell_type": "markdown",
      "metadata": {
        "id": "1X9RG75y5A_p"
      },
      "source": [
        "D'après les résultats obtenus, on constate que $R²$ = $0.421$ donc la modélisation par la droite des moindres carrés explique 42 % de la variation totale, ce qui constitue un résultat moyen.  "
      ]
    },
    {
      "cell_type": "markdown",
      "metadata": {
        "id": "bseFSjgL5A_p"
      },
      "source": [
        "On peut regarder désormais s'il existe un lien non linéaire entre les deux variables étudiées, en regardant par exemple le coefficient de Spearman. "
      ]
    },
    {
      "cell_type": "code",
      "metadata": {
        "id": "0X54RX8A5A_p",
        "colab": {
          "base_uri": "https://localhost:8080/"
        },
        "outputId": "cce3b692-f66d-49c3-d2d5-e1fbec464c97"
      },
      "source": [
        "stats.spearmanr(bdd_corr_1['Prix'], bdd_corr_1['Prix moyen'])"
      ],
      "execution_count": 44,
      "outputs": [
        {
          "output_type": "execute_result",
          "data": {
            "text/plain": [
              "SpearmanrResult(correlation=-0.5630573904257444, pvalue=0.0011977643295646196)"
            ]
          },
          "metadata": {
            "tags": []
          },
          "execution_count": 44
        }
      ]
    },
    {
      "cell_type": "markdown",
      "metadata": {
        "id": "Fob3l3Li5A_p"
      },
      "source": [
        "Le coefficient de corrélation de Spearman est significatif au seuil de $5$% (p-value faible, égale à $0.0029$), il est égal en valeur absolue à $0.52$ donc la dépendance entre les deux variables est modérée. Par ailleurs, ce coefficient est négatif ce qui indique que **plus les billets de train sont chers, plus les prix des billets d'avion sont faibles.**"
      ]
    },
    {
      "cell_type": "markdown",
      "metadata": {
        "id": "BsmRi_nc5A_p"
      },
      "source": [
        "## 2. Corrélation avec la distance"
      ]
    },
    {
      "cell_type": "markdown",
      "metadata": {
        "id": "dL4xUxWo5A_q"
      },
      "source": [
        "**La base de données *bdd_corr_2* contient pour chaque trajet, le prix et la distance du trajet associée.**"
      ]
    },
    {
      "cell_type": "code",
      "metadata": {
        "id": "_PY5-Csg5A_q",
        "colab": {
          "base_uri": "https://localhost:8080/",
          "height": 195
        },
        "outputId": "ff3e1e5d-850c-47b0-bf22-8801224d18b2"
      },
      "source": [
        "bdd_corr_2 = bdd_corr.drop(['Prix moyen'], axis = 1)\n",
        "bdd_corr_2.head(5)"
      ],
      "execution_count": 45,
      "outputs": [
        {
          "output_type": "execute_result",
          "data": {
            "text/html": [
              "<div>\n",
              "<style scoped>\n",
              "    .dataframe tbody tr th:only-of-type {\n",
              "        vertical-align: middle;\n",
              "    }\n",
              "\n",
              "    .dataframe tbody tr th {\n",
              "        vertical-align: top;\n",
              "    }\n",
              "\n",
              "    .dataframe thead th {\n",
              "        text-align: right;\n",
              "    }\n",
              "</style>\n",
              "<table border=\"1\" class=\"dataframe\">\n",
              "  <thead>\n",
              "    <tr style=\"text-align: right;\">\n",
              "      <th></th>\n",
              "      <th>Départ</th>\n",
              "      <th>Arrivée</th>\n",
              "      <th>Prix</th>\n",
              "      <th>Plein tarif loisir seconde</th>\n",
              "      <th>Tarif premiere classe</th>\n",
              "      <th>Distance du trajet</th>\n",
              "    </tr>\n",
              "  </thead>\n",
              "  <tbody>\n",
              "    <tr>\n",
              "      <th>0</th>\n",
              "      <td>Paris</td>\n",
              "      <td>Rennes</td>\n",
              "      <td>154</td>\n",
              "      <td>80.0</td>\n",
              "      <td>113.0</td>\n",
              "      <td>329.462708</td>\n",
              "    </tr>\n",
              "    <tr>\n",
              "      <th>1</th>\n",
              "      <td>Nantes</td>\n",
              "      <td>Rennes</td>\n",
              "      <td>241</td>\n",
              "      <td>30.0</td>\n",
              "      <td>43.0</td>\n",
              "      <td>95.330640</td>\n",
              "    </tr>\n",
              "    <tr>\n",
              "      <th>2</th>\n",
              "      <td>Marseille</td>\n",
              "      <td>Rennes</td>\n",
              "      <td>163</td>\n",
              "      <td>142.0</td>\n",
              "      <td>180.0</td>\n",
              "      <td>773.008188</td>\n",
              "    </tr>\n",
              "    <tr>\n",
              "      <th>3</th>\n",
              "      <td>Lyon</td>\n",
              "      <td>Rennes</td>\n",
              "      <td>160</td>\n",
              "      <td>108.0</td>\n",
              "      <td>143.0</td>\n",
              "      <td>560.838254</td>\n",
              "    </tr>\n",
              "    <tr>\n",
              "      <th>4</th>\n",
              "      <td>Paris</td>\n",
              "      <td>Montpellier</td>\n",
              "      <td>180</td>\n",
              "      <td>114.0</td>\n",
              "      <td>160.0</td>\n",
              "      <td>503.523601</td>\n",
              "    </tr>\n",
              "  </tbody>\n",
              "</table>\n",
              "</div>"
            ],
            "text/plain": [
              "      Départ      Arrivée  ...  Tarif premiere classe  Distance du trajet\n",
              "0      Paris       Rennes  ...                  113.0          329.462708\n",
              "1     Nantes       Rennes  ...                   43.0           95.330640\n",
              "2  Marseille       Rennes  ...                  180.0          773.008188\n",
              "3       Lyon       Rennes  ...                  143.0          560.838254\n",
              "4      Paris  Montpellier  ...                  160.0          503.523601\n",
              "\n",
              "[5 rows x 6 columns]"
            ]
          },
          "metadata": {
            "tags": []
          },
          "execution_count": 45
        }
      ]
    },
    {
      "cell_type": "markdown",
      "metadata": {
        "id": "khc-9pxq5A_r"
      },
      "source": [
        "Puisqu'il s'agit de deux variables quantitatives, on peut regarder leur corrélation de la même façon que fait précédemment avec le prix des billets de train. "
      ]
    },
    {
      "cell_type": "code",
      "metadata": {
        "id": "RLtt1XLh5A_s",
        "colab": {
          "base_uri": "https://localhost:8080/"
        },
        "outputId": "7de56328-95b6-45a2-f70c-b6e8de0c09fd"
      },
      "source": [
        "## Test de Pearson\n",
        "stats.pearsonr(bdd_corr_2['Prix'], bdd_corr_2['Distance du trajet'])"
      ],
      "execution_count": 46,
      "outputs": [
        {
          "output_type": "execute_result",
          "data": {
            "text/plain": [
              "(-0.5827330075539721, 0.00072731158463382)"
            ]
          },
          "metadata": {
            "tags": []
          },
          "execution_count": 46
        }
      ]
    },
    {
      "cell_type": "markdown",
      "metadata": {
        "id": "bkGE9Plp5A_s"
      },
      "source": [
        "Le coefficient de Pearson étant significatif (p-value faible) et égal en valeur absolue à $0.56$, on peut affirmer qu'il existe une relation linéaire entre les 2 variables modérée. "
      ]
    },
    {
      "cell_type": "markdown",
      "metadata": {
        "id": "5czE58mG5A_s"
      },
      "source": [
        "#### Représentation graphique avec seaborn"
      ]
    },
    {
      "cell_type": "code",
      "metadata": {
        "id": "KlThM1AP5A_s",
        "colab": {
          "base_uri": "https://localhost:8080/",
          "height": 400
        },
        "outputId": "2c84163c-bbb6-428a-9520-3e784f0f6dd3"
      },
      "source": [
        "sn.lmplot(x = 'Distance du trajet', y = 'Prix', data = bdd_corr_2)"
      ],
      "execution_count": 47,
      "outputs": [
        {
          "output_type": "execute_result",
          "data": {
            "text/plain": [
              "<seaborn.axisgrid.FacetGrid at 0x7fa2e780ffd0>"
            ]
          },
          "metadata": {
            "tags": []
          },
          "execution_count": 47
        },
        {
          "output_type": "display_data",
          "data": {
            "image/png": "[encoded data removed]",
            "text/plain": [
              "<Figure size 360x360 with 1 Axes>"
            ]
          },
          "metadata": {
            "tags": [],
            "needs_background": "light"
          }
        }
      ]
    },
    {
      "cell_type": "markdown",
      "metadata": {
        "id": "gMQu6vha5A_t"
      },
      "source": [
        "Contrairement avec le prix des billets de train où cette variable semble fortement corrélée avec la distance : "
      ]
    },
    {
      "cell_type": "code",
      "metadata": {
        "id": "V6E-1UFy5A_u",
        "colab": {
          "base_uri": "https://localhost:8080/",
          "height": 400
        },
        "outputId": "5b3108d4-fb0c-4feb-e99c-b2cd13ee714c"
      },
      "source": [
        "sn.lmplot(x = 'Distance du trajet', y = 'Plein tarif loisir seconde', data = bdd_corr_2)"
      ],
      "execution_count": 48,
      "outputs": [
        {
          "output_type": "execute_result",
          "data": {
            "text/plain": [
              "<seaborn.axisgrid.FacetGrid at 0x7fa2e5e34cf8>"
            ]
          },
          "metadata": {
            "tags": []
          },
          "execution_count": 48
        },
        {
          "output_type": "display_data",
          "data": {
            "image/png": "[encoded data removed]",
            "text/plain": [
              "<Figure size 360x360 with 1 Axes>"
            ]
          },
          "metadata": {
            "tags": [],
            "needs_background": "light"
          }
        }
      ]
    },
    {
      "cell_type": "markdown",
      "metadata": {
        "id": "3eZUeTIo5A_u"
      },
      "source": [
        "#### Utilisation du module statsmodels"
      ]
    },
    {
      "cell_type": "code",
      "metadata": {
        "id": "7-_5o7M35A_u",
        "colab": {
          "base_uri": "https://localhost:8080/"
        },
        "outputId": "e77e65cc-16af-436e-8a37-7e8fca506032"
      },
      "source": [
        "X = sm.add_constant(bdd_corr_2['Distance du trajet'])\n",
        "model = sm.OLS(bdd_corr_1['Prix'], X)\n",
        "results = model.fit()\n",
        "print(results.summary())"
      ],
      "execution_count": 49,
      "outputs": [
        {
          "output_type": "stream",
          "text": [
            "                            OLS Regression Results                            \n",
            "==============================================================================\n",
            "Dep. Variable:                   Prix   R-squared:                       0.340\n",
            "Model:                            OLS   Adj. R-squared:                  0.316\n",
            "Method:                 Least Squares   F-statistic:                     14.40\n",
            "Date:                Sun, 13 Dec 2020   Prob (F-statistic):           0.000727\n",
            "Time:                        10:40:32   Log-Likelihood:                -152.36\n",
            "No. Observations:                  30   AIC:                             308.7\n",
            "Df Residuals:                      28   BIC:                             311.5\n",
            "Df Model:                           1                                         \n",
            "Covariance Type:            nonrobust                                         \n",
            "======================================================================================\n",
            "                         coef    std err          t      P>|t|      [0.025      0.975]\n",
            "--------------------------------------------------------------------------------------\n",
            "const                235.9472     18.989     12.425      0.000     197.050     274.844\n",
            "Distance du trajet    -0.1496      0.039     -3.794      0.001      -0.230      -0.069\n",
            "==============================================================================\n",
            "Omnibus:                        2.860   Durbin-Watson:                   2.328\n",
            "Prob(Omnibus):                  0.239   Jarque-Bera (JB):                1.972\n",
            "Skew:                           0.626   Prob(JB):                        0.373\n",
            "Kurtosis:                       3.098   Cond. No.                     1.25e+03\n",
            "==============================================================================\n",
            "\n",
            "Warnings:\n",
            "[1] Standard Errors assume that the covariance matrix of the errors is correctly specified.\n",
            "[2] The condition number is large, 1.25e+03. This might indicate that there are\n",
            "strong multicollinearity or other numerical problems.\n"
          ],
          "name": "stdout"
        }
      ]
    },
    {
      "cell_type": "markdown",
      "metadata": {
        "id": "tldB7ZXF5A_z"
      },
      "source": [
        "D'après les résultats obtenus, $R²$ est faible : la modélisation par la méthode des moindres carrés explique 31.7% de la variation totale, ce qui constitue une précision faible. "
      ]
    },
    {
      "cell_type": "markdown",
      "metadata": {
        "id": "10z27gYM5A_0"
      },
      "source": [
        "On regarde le coefficient de Spearman pour déterminer une possible corrélation non linéaire :"
      ]
    },
    {
      "cell_type": "code",
      "metadata": {
        "id": "NEpdw2pS5A_0",
        "colab": {
          "base_uri": "https://localhost:8080/"
        },
        "outputId": "b57070be-8612-4bae-f6b3-16f2682efdbf"
      },
      "source": [
        "stats.spearmanr(bdd_corr_2['Prix'], bdd_corr_2['Distance du trajet'])"
      ],
      "execution_count": 50,
      "outputs": [
        {
          "output_type": "execute_result",
          "data": {
            "text/plain": [
              "SpearmanrResult(correlation=-0.559635082835936, pvalue=0.0013022642950914183)"
            ]
          },
          "metadata": {
            "tags": []
          },
          "execution_count": 50
        }
      ]
    },
    {
      "cell_type": "markdown",
      "metadata": {
        "id": "43rqhfuY5A_2"
      },
      "source": [
        "Le coefficient de Spearman est significatif (p-valeur faible) et est égal en valeur absolue à $0.53$ donc il est difficile d'interpréter une corrélation non linéaire entre les deux variables. "
      ]
    },
    {
      "cell_type": "markdown",
      "metadata": {
        "id": "Fm0vVxWW5A_2"
      },
      "source": [
        "## 3. Corrélation avec le mois du vol "
      ]
    },
    {
      "cell_type": "markdown",
      "metadata": {
        "id": "9HT6eqDQ5A_8"
      },
      "source": [
        "Regardons dans un premier temps la répartition des prix des billets d'avion. "
      ]
    },
    {
      "cell_type": "code",
      "metadata": {
        "id": "UYdsoxHn5A_-",
        "colab": {
          "base_uri": "https://localhost:8080/",
          "height": 298
        },
        "outputId": "13275057-d181-490e-9bd2-0832e17c9cfc"
      },
      "source": [
        "plt.hist(bdd_2['Prix'], rwidth = 0.5, color = 'red')\n",
        "plt.title('Répartition des prix des billets d avion')"
      ],
      "execution_count": 51,
      "outputs": [
        {
          "output_type": "execute_result",
          "data": {
            "text/plain": [
              "Text(0.5, 1.0, 'Répartition des prix des billets d avion')"
            ]
          },
          "metadata": {
            "tags": []
          },
          "execution_count": 51
        },
        {
          "output_type": "display_data",
          "data": {
            "image/png": "[encoded data removed]",
            "text/plain": [
              "<Figure size 432x288 with 1 Axes>"
            ]
          },
          "metadata": {
            "tags": [],
            "needs_background": "light"
          }
        }
      ]
    },
    {
      "cell_type": "markdown",
      "metadata": {
        "id": "Am7Tanli5BAJ"
      },
      "source": [
        "Nous pouvons constater qu'il existe **plusieurs valeurs aberrantes de prix pour les billets d'avion** : par exemple des billets de plus de $1000 €$. Déterminons les trajets pour lesquels les valeurs de prix sont aberrantes  :"
      ]
    },
    {
      "cell_type": "code",
      "metadata": {
        "id": "b31Z66ll5BAJ",
        "colab": {
          "base_uri": "https://localhost:8080/",
          "height": 521
        },
        "outputId": "9cd53883-71c9-4adc-ee39-d5f7b9a398fe"
      },
      "source": [
        "bdd_2[bdd_2['Prix']>500]"
      ],
      "execution_count": 52,
      "outputs": [
        {
          "output_type": "execute_result",
          "data": {
            "text/html": [
              "<div>\n",
              "<style scoped>\n",
              "    .dataframe tbody tr th:only-of-type {\n",
              "        vertical-align: middle;\n",
              "    }\n",
              "\n",
              "    .dataframe tbody tr th {\n",
              "        vertical-align: top;\n",
              "    }\n",
              "\n",
              "    .dataframe thead th {\n",
              "        text-align: right;\n",
              "    }\n",
              "</style>\n",
              "<table border=\"1\" class=\"dataframe\">\n",
              "  <thead>\n",
              "    <tr style=\"text-align: right;\">\n",
              "      <th></th>\n",
              "      <th>Départ</th>\n",
              "      <th>Arrivée</th>\n",
              "      <th>Prix</th>\n",
              "      <th>Mois</th>\n",
              "    </tr>\n",
              "  </thead>\n",
              "  <tbody>\n",
              "    <tr>\n",
              "      <th>27</th>\n",
              "      <td>Marseille</td>\n",
              "      <td>Strasbourg</td>\n",
              "      <td>591</td>\n",
              "      <td>avr</td>\n",
              "    </tr>\n",
              "    <tr>\n",
              "      <th>513</th>\n",
              "      <td>Bruxelles</td>\n",
              "      <td>Ajaccio</td>\n",
              "      <td>602</td>\n",
              "      <td>déc</td>\n",
              "    </tr>\n",
              "    <tr>\n",
              "      <th>613</th>\n",
              "      <td>Bruxelles</td>\n",
              "      <td>Bastia</td>\n",
              "      <td>565</td>\n",
              "      <td>avr</td>\n",
              "    </tr>\n",
              "    <tr>\n",
              "      <th>621</th>\n",
              "      <td>Bruxelles</td>\n",
              "      <td>Bastia</td>\n",
              "      <td>628</td>\n",
              "      <td>déc</td>\n",
              "    </tr>\n",
              "    <tr>\n",
              "      <th>720</th>\n",
              "      <td>Bruxelles</td>\n",
              "      <td>Calvi</td>\n",
              "      <td>528</td>\n",
              "      <td>avr</td>\n",
              "    </tr>\n",
              "    <tr>\n",
              "      <th>907</th>\n",
              "      <td>Marseille</td>\n",
              "      <td>Montpellier</td>\n",
              "      <td>596</td>\n",
              "      <td>mai</td>\n",
              "    </tr>\n",
              "    <tr>\n",
              "      <th>918</th>\n",
              "      <td>Bordeaux</td>\n",
              "      <td>Montpellier</td>\n",
              "      <td>524</td>\n",
              "      <td>avr</td>\n",
              "    </tr>\n",
              "    <tr>\n",
              "      <th>966</th>\n",
              "      <td>Toulouse</td>\n",
              "      <td>Montpellier</td>\n",
              "      <td>908</td>\n",
              "      <td>juin</td>\n",
              "    </tr>\n",
              "    <tr>\n",
              "      <th>1000</th>\n",
              "      <td>Marseille</td>\n",
              "      <td>Limoges</td>\n",
              "      <td>509</td>\n",
              "      <td>août</td>\n",
              "    </tr>\n",
              "    <tr>\n",
              "      <th>1513</th>\n",
              "      <td>Paris</td>\n",
              "      <td>Poitiers</td>\n",
              "      <td>543</td>\n",
              "      <td>nov</td>\n",
              "    </tr>\n",
              "    <tr>\n",
              "      <th>1522</th>\n",
              "      <td>Marseille</td>\n",
              "      <td>Poitiers</td>\n",
              "      <td>590</td>\n",
              "      <td>août</td>\n",
              "    </tr>\n",
              "    <tr>\n",
              "      <th>1525</th>\n",
              "      <td>Marseille</td>\n",
              "      <td>Poitiers</td>\n",
              "      <td>506</td>\n",
              "      <td>nov</td>\n",
              "    </tr>\n",
              "    <tr>\n",
              "      <th>1526</th>\n",
              "      <td>Marseille</td>\n",
              "      <td>Poitiers</td>\n",
              "      <td>650</td>\n",
              "      <td>déc</td>\n",
              "    </tr>\n",
              "    <tr>\n",
              "      <th>1532</th>\n",
              "      <td>Bruxelles</td>\n",
              "      <td>Poitiers</td>\n",
              "      <td>641</td>\n",
              "      <td>août</td>\n",
              "    </tr>\n",
              "    <tr>\n",
              "      <th>1560</th>\n",
              "      <td>Nice</td>\n",
              "      <td>Poitiers</td>\n",
              "      <td>531</td>\n",
              "      <td>août</td>\n",
              "    </tr>\n",
              "    <tr>\n",
              "      <th>1563</th>\n",
              "      <td>Nice</td>\n",
              "      <td>Poitiers</td>\n",
              "      <td>578</td>\n",
              "      <td>nov</td>\n",
              "    </tr>\n",
              "  </tbody>\n",
              "</table>\n",
              "</div>"
            ],
            "text/plain": [
              "         Départ      Arrivée  Prix  Mois\n",
              "27    Marseille   Strasbourg   591   avr\n",
              "513   Bruxelles      Ajaccio   602   déc\n",
              "613   Bruxelles       Bastia   565   avr\n",
              "621   Bruxelles       Bastia   628   déc\n",
              "720   Bruxelles        Calvi   528   avr\n",
              "907   Marseille  Montpellier   596   mai\n",
              "918    Bordeaux  Montpellier   524   avr\n",
              "966    Toulouse  Montpellier   908  juin\n",
              "1000  Marseille      Limoges   509  août\n",
              "1513      Paris     Poitiers   543   nov\n",
              "1522  Marseille     Poitiers   590  août\n",
              "1525  Marseille     Poitiers   506   nov\n",
              "1526  Marseille     Poitiers   650   déc\n",
              "1532  Bruxelles     Poitiers   641  août\n",
              "1560       Nice     Poitiers   531  août\n",
              "1563       Nice     Poitiers   578   nov"
            ]
          },
          "metadata": {
            "tags": []
          },
          "execution_count": 52
        }
      ]
    },
    {
      "cell_type": "markdown",
      "metadata": {
        "id": "ICUwuOWT5BAL"
      },
      "source": [
        " On constate que certains tarifs sont extrêmement élevés car pour des trop courtes distances, il n'existe pas de vol direct et donc une voire plusieurs correspondances sont proposées en remplacement. On supprime donc ces quelques valeurs aberrantes de la base de données."
      ]
    },
    {
      "cell_type": "code",
      "metadata": {
        "id": "v2dBKbAG5BAL",
        "colab": {
          "base_uri": "https://localhost:8080/",
          "height": 402
        },
        "outputId": "655aa6ec-98d8-4ffc-c7b0-a83cdfadac6e"
      },
      "source": [
        "bdd_2.drop(bdd_2.loc[(bdd_2['Départ'] == 'Nice') & (bdd_2['Arrivée'] == 'Marseille')].index, inplace = True)\n",
        "bdd_2.drop(bdd_2.loc[(bdd_2['Départ'] == 'Bordeaux') & (bdd_2['Arrivée'] == 'Nantes')].index, inplace = True)\n",
        "bdd_2.drop(bdd_2.loc[(bdd_2['Départ'] == 'Toulouse') & (bdd_2['Arrivée'] == 'Montpellier')].index, inplace = True)\n",
        "bdd_2.drop(bdd_2.loc[(bdd_2['Départ'] == 'Marseille') & (bdd_2['Arrivée'] == 'Montpellier')].index, inplace = True)\n",
        "bdd_2.drop(bdd_2.loc[(bdd_2['Départ'] == 'Bordeaux') & (bdd_2['Arrivée'] == 'Montpellier')].index, inplace = True)\n",
        "bdd_2.drop(bdd_2.loc[(bdd_2['Départ'] == 'Nice') & (bdd_2['Arrivée'] == 'Ajaccio')].index, inplace = True)\n",
        "bdd_2.drop(bdd_2.loc[(bdd_2['Départ'] == 'Paris') & (bdd_2['Arrivée'] == 'Strasbourg')].index, inplace = True)\n",
        "bdd_2.drop(bdd_2.loc[(bdd_2['Départ'] == 'Toulouse') & (bdd_2['Arrivée'] == 'Bordeaux')].index, inplace = True)\n",
        "bdd_2"
      ],
      "execution_count": 53,
      "outputs": [
        {
          "output_type": "execute_result",
          "data": {
            "text/html": [
              "<div>\n",
              "<style scoped>\n",
              "    .dataframe tbody tr th:only-of-type {\n",
              "        vertical-align: middle;\n",
              "    }\n",
              "\n",
              "    .dataframe tbody tr th {\n",
              "        vertical-align: top;\n",
              "    }\n",
              "\n",
              "    .dataframe thead th {\n",
              "        text-align: right;\n",
              "    }\n",
              "</style>\n",
              "<table border=\"1\" class=\"dataframe\">\n",
              "  <thead>\n",
              "    <tr style=\"text-align: right;\">\n",
              "      <th></th>\n",
              "      <th>Départ</th>\n",
              "      <th>Arrivée</th>\n",
              "      <th>Prix</th>\n",
              "      <th>Mois</th>\n",
              "    </tr>\n",
              "  </thead>\n",
              "  <tbody>\n",
              "    <tr>\n",
              "      <th>12</th>\n",
              "      <td>Nantes</td>\n",
              "      <td>Strasbourg</td>\n",
              "      <td>210</td>\n",
              "      <td>jan</td>\n",
              "    </tr>\n",
              "    <tr>\n",
              "      <th>13</th>\n",
              "      <td>Nantes</td>\n",
              "      <td>Strasbourg</td>\n",
              "      <td>157</td>\n",
              "      <td>fév</td>\n",
              "    </tr>\n",
              "    <tr>\n",
              "      <th>14</th>\n",
              "      <td>Nantes</td>\n",
              "      <td>Strasbourg</td>\n",
              "      <td>165</td>\n",
              "      <td>mar</td>\n",
              "    </tr>\n",
              "    <tr>\n",
              "      <th>15</th>\n",
              "      <td>Nantes</td>\n",
              "      <td>Strasbourg</td>\n",
              "      <td>171</td>\n",
              "      <td>avr</td>\n",
              "    </tr>\n",
              "    <tr>\n",
              "      <th>16</th>\n",
              "      <td>Nantes</td>\n",
              "      <td>Strasbourg</td>\n",
              "      <td>162</td>\n",
              "      <td>mai</td>\n",
              "    </tr>\n",
              "    <tr>\n",
              "      <th>...</th>\n",
              "      <td>...</td>\n",
              "      <td>...</td>\n",
              "      <td>...</td>\n",
              "      <td>...</td>\n",
              "    </tr>\n",
              "    <tr>\n",
              "      <th>1944</th>\n",
              "      <td>Nice</td>\n",
              "      <td>Paris</td>\n",
              "      <td>150</td>\n",
              "      <td>août</td>\n",
              "    </tr>\n",
              "    <tr>\n",
              "      <th>1945</th>\n",
              "      <td>Nice</td>\n",
              "      <td>Paris</td>\n",
              "      <td>124</td>\n",
              "      <td>sep</td>\n",
              "    </tr>\n",
              "    <tr>\n",
              "      <th>1946</th>\n",
              "      <td>Nice</td>\n",
              "      <td>Paris</td>\n",
              "      <td>124</td>\n",
              "      <td>oct</td>\n",
              "    </tr>\n",
              "    <tr>\n",
              "      <th>1947</th>\n",
              "      <td>Nice</td>\n",
              "      <td>Paris</td>\n",
              "      <td>121</td>\n",
              "      <td>nov</td>\n",
              "    </tr>\n",
              "    <tr>\n",
              "      <th>1948</th>\n",
              "      <td>Nice</td>\n",
              "      <td>Paris</td>\n",
              "      <td>130</td>\n",
              "      <td>déc</td>\n",
              "    </tr>\n",
              "  </tbody>\n",
              "</table>\n",
              "<p>1854 rows × 4 columns</p>\n",
              "</div>"
            ],
            "text/plain": [
              "      Départ     Arrivée  Prix  Mois\n",
              "12    Nantes  Strasbourg   210   jan\n",
              "13    Nantes  Strasbourg   157   fév\n",
              "14    Nantes  Strasbourg   165   mar\n",
              "15    Nantes  Strasbourg   171   avr\n",
              "16    Nantes  Strasbourg   162   mai\n",
              "...      ...         ...   ...   ...\n",
              "1944    Nice       Paris   150  août\n",
              "1945    Nice       Paris   124   sep\n",
              "1946    Nice       Paris   124   oct\n",
              "1947    Nice       Paris   121   nov\n",
              "1948    Nice       Paris   130   déc\n",
              "\n",
              "[1854 rows x 4 columns]"
            ]
          },
          "metadata": {
            "tags": []
          },
          "execution_count": 53
        }
      ]
    },
    {
      "cell_type": "markdown",
      "metadata": {
        "id": "x3M-3b-w5BAM"
      },
      "source": [
        "**bdd_corr_3 contient pour chaque vol, le prix du billet aller retour selon le mois correspondant.**"
      ]
    },
    {
      "cell_type": "code",
      "metadata": {
        "id": "OpMoY3cZ5BAN",
        "colab": {
          "base_uri": "https://localhost:8080/",
          "height": 402
        },
        "outputId": "62c08dde-f4bc-4b8d-ae83-c572b78e47a2"
      },
      "source": [
        "bdd_corr_3 = bdd_2.copy()\n",
        "bdd_corr_3 = bdd_corr_3.pivot_table(index = ['Départ', 'Arrivée'], columns = 'Mois', values = 'Prix')\n",
        "bdd_corr_3 = bdd_corr_3.reset_index()\n",
        "bdd_corr_3 = bdd_corr_3.drop(['Départ', 'Arrivée'], axis = 1)\n",
        "bdd_corr_3"
      ],
      "execution_count": 54,
      "outputs": [
        {
          "output_type": "execute_result",
          "data": {
            "text/html": [
              "<div>\n",
              "<style scoped>\n",
              "    .dataframe tbody tr th:only-of-type {\n",
              "        vertical-align: middle;\n",
              "    }\n",
              "\n",
              "    .dataframe tbody tr th {\n",
              "        vertical-align: top;\n",
              "    }\n",
              "\n",
              "    .dataframe thead th {\n",
              "        text-align: right;\n",
              "    }\n",
              "</style>\n",
              "<table border=\"1\" class=\"dataframe\">\n",
              "  <thead>\n",
              "    <tr style=\"text-align: right;\">\n",
              "      <th>Mois</th>\n",
              "      <th>août</th>\n",
              "      <th>avr</th>\n",
              "      <th>déc</th>\n",
              "      <th>fév</th>\n",
              "      <th>jan</th>\n",
              "      <th>juil</th>\n",
              "      <th>juin</th>\n",
              "      <th>mai</th>\n",
              "      <th>mar</th>\n",
              "      <th>nov</th>\n",
              "      <th>oct</th>\n",
              "      <th>sep</th>\n",
              "    </tr>\n",
              "  </thead>\n",
              "  <tbody>\n",
              "    <tr>\n",
              "      <th>0</th>\n",
              "      <td>248.0</td>\n",
              "      <td>256.0</td>\n",
              "      <td>231.0</td>\n",
              "      <td>209.0</td>\n",
              "      <td>208.0</td>\n",
              "      <td>264.0</td>\n",
              "      <td>255.0</td>\n",
              "      <td>252.0</td>\n",
              "      <td>313.0</td>\n",
              "      <td>217.0</td>\n",
              "      <td>170.0</td>\n",
              "      <td>164.0</td>\n",
              "    </tr>\n",
              "    <tr>\n",
              "      <th>1</th>\n",
              "      <td>336.0</td>\n",
              "      <td>356.0</td>\n",
              "      <td>238.0</td>\n",
              "      <td>200.0</td>\n",
              "      <td>192.0</td>\n",
              "      <td>318.0</td>\n",
              "      <td>345.0</td>\n",
              "      <td>307.0</td>\n",
              "      <td>312.0</td>\n",
              "      <td>224.0</td>\n",
              "      <td>207.0</td>\n",
              "      <td>189.0</td>\n",
              "    </tr>\n",
              "    <tr>\n",
              "      <th>2</th>\n",
              "      <td>158.0</td>\n",
              "      <td>216.0</td>\n",
              "      <td>176.0</td>\n",
              "      <td>172.0</td>\n",
              "      <td>139.0</td>\n",
              "      <td>165.0</td>\n",
              "      <td>187.0</td>\n",
              "      <td>191.0</td>\n",
              "      <td>179.0</td>\n",
              "      <td>147.0</td>\n",
              "      <td>153.0</td>\n",
              "      <td>157.0</td>\n",
              "    </tr>\n",
              "    <tr>\n",
              "      <th>3</th>\n",
              "      <td>253.0</td>\n",
              "      <td>218.0</td>\n",
              "      <td>238.0</td>\n",
              "      <td>241.0</td>\n",
              "      <td>NaN</td>\n",
              "      <td>220.0</td>\n",
              "      <td>224.0</td>\n",
              "      <td>200.0</td>\n",
              "      <td>213.0</td>\n",
              "      <td>209.0</td>\n",
              "      <td>199.0</td>\n",
              "      <td>169.0</td>\n",
              "    </tr>\n",
              "    <tr>\n",
              "      <th>4</th>\n",
              "      <td>292.0</td>\n",
              "      <td>266.0</td>\n",
              "      <td>234.0</td>\n",
              "      <td>171.0</td>\n",
              "      <td>165.0</td>\n",
              "      <td>271.0</td>\n",
              "      <td>261.0</td>\n",
              "      <td>238.0</td>\n",
              "      <td>189.0</td>\n",
              "      <td>166.0</td>\n",
              "      <td>215.0</td>\n",
              "      <td>214.0</td>\n",
              "    </tr>\n",
              "    <tr>\n",
              "      <th>...</th>\n",
              "      <td>...</td>\n",
              "      <td>...</td>\n",
              "      <td>...</td>\n",
              "      <td>...</td>\n",
              "      <td>...</td>\n",
              "      <td>...</td>\n",
              "      <td>...</td>\n",
              "      <td>...</td>\n",
              "      <td>...</td>\n",
              "      <td>...</td>\n",
              "      <td>...</td>\n",
              "      <td>...</td>\n",
              "    </tr>\n",
              "    <tr>\n",
              "      <th>154</th>\n",
              "      <td>156.0</td>\n",
              "      <td>129.0</td>\n",
              "      <td>118.0</td>\n",
              "      <td>124.0</td>\n",
              "      <td>97.0</td>\n",
              "      <td>153.0</td>\n",
              "      <td>147.0</td>\n",
              "      <td>124.0</td>\n",
              "      <td>179.0</td>\n",
              "      <td>115.0</td>\n",
              "      <td>116.0</td>\n",
              "      <td>140.0</td>\n",
              "    </tr>\n",
              "    <tr>\n",
              "      <th>155</th>\n",
              "      <td>140.0</td>\n",
              "      <td>112.0</td>\n",
              "      <td>114.0</td>\n",
              "      <td>109.0</td>\n",
              "      <td>108.0</td>\n",
              "      <td>148.0</td>\n",
              "      <td>149.0</td>\n",
              "      <td>124.0</td>\n",
              "      <td>111.0</td>\n",
              "      <td>109.0</td>\n",
              "      <td>120.0</td>\n",
              "      <td>116.0</td>\n",
              "    </tr>\n",
              "    <tr>\n",
              "      <th>156</th>\n",
              "      <td>500.0</td>\n",
              "      <td>278.0</td>\n",
              "      <td>NaN</td>\n",
              "      <td>NaN</td>\n",
              "      <td>NaN</td>\n",
              "      <td>301.0</td>\n",
              "      <td>245.0</td>\n",
              "      <td>257.0</td>\n",
              "      <td>336.0</td>\n",
              "      <td>NaN</td>\n",
              "      <td>NaN</td>\n",
              "      <td>NaN</td>\n",
              "    </tr>\n",
              "    <tr>\n",
              "      <th>157</th>\n",
              "      <td>185.0</td>\n",
              "      <td>137.0</td>\n",
              "      <td>198.0</td>\n",
              "      <td>166.0</td>\n",
              "      <td>120.0</td>\n",
              "      <td>162.0</td>\n",
              "      <td>136.0</td>\n",
              "      <td>141.0</td>\n",
              "      <td>292.0</td>\n",
              "      <td>174.0</td>\n",
              "      <td>157.0</td>\n",
              "      <td>124.0</td>\n",
              "    </tr>\n",
              "    <tr>\n",
              "      <th>158</th>\n",
              "      <td>177.0</td>\n",
              "      <td>298.0</td>\n",
              "      <td>170.0</td>\n",
              "      <td>113.0</td>\n",
              "      <td>345.0</td>\n",
              "      <td>191.0</td>\n",
              "      <td>295.0</td>\n",
              "      <td>208.0</td>\n",
              "      <td>204.0</td>\n",
              "      <td>154.0</td>\n",
              "      <td>171.0</td>\n",
              "      <td>145.0</td>\n",
              "    </tr>\n",
              "  </tbody>\n",
              "</table>\n",
              "<p>159 rows × 12 columns</p>\n",
              "</div>"
            ],
            "text/plain": [
              "Mois   août    avr    déc    fév    jan  ...    mai    mar    nov    oct    sep\n",
              "0     248.0  256.0  231.0  209.0  208.0  ...  252.0  313.0  217.0  170.0  164.0\n",
              "1     336.0  356.0  238.0  200.0  192.0  ...  307.0  312.0  224.0  207.0  189.0\n",
              "2     158.0  216.0  176.0  172.0  139.0  ...  191.0  179.0  147.0  153.0  157.0\n",
              "3     253.0  218.0  238.0  241.0    NaN  ...  200.0  213.0  209.0  199.0  169.0\n",
              "4     292.0  266.0  234.0  171.0  165.0  ...  238.0  189.0  166.0  215.0  214.0\n",
              "..      ...    ...    ...    ...    ...  ...    ...    ...    ...    ...    ...\n",
              "154   156.0  129.0  118.0  124.0   97.0  ...  124.0  179.0  115.0  116.0  140.0\n",
              "155   140.0  112.0  114.0  109.0  108.0  ...  124.0  111.0  109.0  120.0  116.0\n",
              "156   500.0  278.0    NaN    NaN    NaN  ...  257.0  336.0    NaN    NaN    NaN\n",
              "157   185.0  137.0  198.0  166.0  120.0  ...  141.0  292.0  174.0  157.0  124.0\n",
              "158   177.0  298.0  170.0  113.0  345.0  ...  208.0  204.0  154.0  171.0  145.0\n",
              "\n",
              "[159 rows x 12 columns]"
            ]
          },
          "metadata": {
            "tags": []
          },
          "execution_count": 54
        }
      ]
    },
    {
      "cell_type": "markdown",
      "metadata": {
        "id": "HO84_hnG5BAN"
      },
      "source": [
        "On voit qu'il y a plusieurs valeurs manquantes. Nous pouvons dans un premier temps les remplacer par la médiane du prix du billet du trajet correspondant. "
      ]
    },
    {
      "cell_type": "code",
      "metadata": {
        "id": "qgIalhOZ5BAN",
        "colab": {
          "base_uri": "https://localhost:8080/",
          "height": 195
        },
        "outputId": "8003da39-4a24-4969-cccd-e396e50e275b"
      },
      "source": [
        "bdd_corr_3_new = bdd_corr_3.T\n",
        "for i in range(1,159) : \n",
        "    median = bdd_corr_3_new[i].median()\n",
        "    bdd_corr_3_new[i].fillna(median, inplace=True)  \n",
        "bdd_corr_3 = bdd_corr_3_new.T\n",
        "bdd_corr_3.head(5)"
      ],
      "execution_count": 55,
      "outputs": [
        {
          "output_type": "execute_result",
          "data": {
            "text/html": [
              "<div>\n",
              "<style scoped>\n",
              "    .dataframe tbody tr th:only-of-type {\n",
              "        vertical-align: middle;\n",
              "    }\n",
              "\n",
              "    .dataframe tbody tr th {\n",
              "        vertical-align: top;\n",
              "    }\n",
              "\n",
              "    .dataframe thead th {\n",
              "        text-align: right;\n",
              "    }\n",
              "</style>\n",
              "<table border=\"1\" class=\"dataframe\">\n",
              "  <thead>\n",
              "    <tr style=\"text-align: right;\">\n",
              "      <th>Mois</th>\n",
              "      <th>août</th>\n",
              "      <th>avr</th>\n",
              "      <th>déc</th>\n",
              "      <th>fév</th>\n",
              "      <th>jan</th>\n",
              "      <th>juil</th>\n",
              "      <th>juin</th>\n",
              "      <th>mai</th>\n",
              "      <th>mar</th>\n",
              "      <th>nov</th>\n",
              "      <th>oct</th>\n",
              "      <th>sep</th>\n",
              "    </tr>\n",
              "  </thead>\n",
              "  <tbody>\n",
              "    <tr>\n",
              "      <th>0</th>\n",
              "      <td>248.0</td>\n",
              "      <td>256.0</td>\n",
              "      <td>231.0</td>\n",
              "      <td>209.0</td>\n",
              "      <td>208.0</td>\n",
              "      <td>264.0</td>\n",
              "      <td>255.0</td>\n",
              "      <td>252.0</td>\n",
              "      <td>313.0</td>\n",
              "      <td>217.0</td>\n",
              "      <td>170.0</td>\n",
              "      <td>164.0</td>\n",
              "    </tr>\n",
              "    <tr>\n",
              "      <th>1</th>\n",
              "      <td>336.0</td>\n",
              "      <td>356.0</td>\n",
              "      <td>238.0</td>\n",
              "      <td>200.0</td>\n",
              "      <td>192.0</td>\n",
              "      <td>318.0</td>\n",
              "      <td>345.0</td>\n",
              "      <td>307.0</td>\n",
              "      <td>312.0</td>\n",
              "      <td>224.0</td>\n",
              "      <td>207.0</td>\n",
              "      <td>189.0</td>\n",
              "    </tr>\n",
              "    <tr>\n",
              "      <th>2</th>\n",
              "      <td>158.0</td>\n",
              "      <td>216.0</td>\n",
              "      <td>176.0</td>\n",
              "      <td>172.0</td>\n",
              "      <td>139.0</td>\n",
              "      <td>165.0</td>\n",
              "      <td>187.0</td>\n",
              "      <td>191.0</td>\n",
              "      <td>179.0</td>\n",
              "      <td>147.0</td>\n",
              "      <td>153.0</td>\n",
              "      <td>157.0</td>\n",
              "    </tr>\n",
              "    <tr>\n",
              "      <th>3</th>\n",
              "      <td>253.0</td>\n",
              "      <td>218.0</td>\n",
              "      <td>238.0</td>\n",
              "      <td>241.0</td>\n",
              "      <td>218.0</td>\n",
              "      <td>220.0</td>\n",
              "      <td>224.0</td>\n",
              "      <td>200.0</td>\n",
              "      <td>213.0</td>\n",
              "      <td>209.0</td>\n",
              "      <td>199.0</td>\n",
              "      <td>169.0</td>\n",
              "    </tr>\n",
              "    <tr>\n",
              "      <th>4</th>\n",
              "      <td>292.0</td>\n",
              "      <td>266.0</td>\n",
              "      <td>234.0</td>\n",
              "      <td>171.0</td>\n",
              "      <td>165.0</td>\n",
              "      <td>271.0</td>\n",
              "      <td>261.0</td>\n",
              "      <td>238.0</td>\n",
              "      <td>189.0</td>\n",
              "      <td>166.0</td>\n",
              "      <td>215.0</td>\n",
              "      <td>214.0</td>\n",
              "    </tr>\n",
              "  </tbody>\n",
              "</table>\n",
              "</div>"
            ],
            "text/plain": [
              "Mois   août    avr    déc    fév    jan  ...    mai    mar    nov    oct    sep\n",
              "0     248.0  256.0  231.0  209.0  208.0  ...  252.0  313.0  217.0  170.0  164.0\n",
              "1     336.0  356.0  238.0  200.0  192.0  ...  307.0  312.0  224.0  207.0  189.0\n",
              "2     158.0  216.0  176.0  172.0  139.0  ...  191.0  179.0  147.0  153.0  157.0\n",
              "3     253.0  218.0  238.0  241.0  218.0  ...  200.0  213.0  209.0  199.0  169.0\n",
              "4     292.0  266.0  234.0  171.0  165.0  ...  238.0  189.0  166.0  215.0  214.0\n",
              "\n",
              "[5 rows x 12 columns]"
            ]
          },
          "metadata": {
            "tags": []
          },
          "execution_count": 55
        }
      ]
    },
    {
      "cell_type": "markdown",
      "metadata": {
        "id": "HrKwyASo5BAO"
      },
      "source": [
        "On regarde tout d'abord l'allure de l'évolution des prix selon les mois pour plusieurs trajets aléatoires. "
      ]
    },
    {
      "cell_type": "code",
      "metadata": {
        "id": "IehTE3835BAO",
        "colab": {
          "base_uri": "https://localhost:8080/",
          "height": 265
        },
        "outputId": "b4d26142-bdc7-44c2-ccbf-66938175d98b"
      },
      "source": [
        "bdd_corr_3_test = bdd_corr_3.sample(10)\n",
        "bdd_corr_3_test = bdd_corr_3_test.reset_index()\n",
        "bdd_corr_3_test = bdd_corr_3_test.drop(['index'], axis = 1)\n",
        "x = bdd_corr_3_test.columns\n",
        "for i in range(5) :\n",
        "    plt.scatter(x,bdd_corr_3_test.loc[i])\n",
        "    plt.plot(x,bdd_corr_3_test.loc[i], linestyle= 'solid')\n"
      ],
      "execution_count": 56,
      "outputs": [
        {
          "output_type": "display_data",
          "data": {
            "image/png": "[encoded data removed]",
            "text/plain": [
              "<Figure size 432x288 with 1 Axes>"
            ]
          },
          "metadata": {
            "tags": [],
            "needs_background": "light"
          }
        }
      ]
    },
    {
      "cell_type": "markdown",
      "metadata": {
        "id": "Hk8AfUpK5BAO"
      },
      "source": [
        "En observant les courbes pour plusieurs échantillons de trajets, il semble difficile de déterminer une évolution similaire entre elles."
      ]
    },
    {
      "cell_type": "code",
      "metadata": {
        "id": "IBaDNVF75BAO",
        "colab": {
          "base_uri": "https://localhost:8080/",
          "height": 282
        },
        "outputId": "514900a3-4a4a-423c-a324-524e0a46b22d"
      },
      "source": [
        "boxplot = bdd_corr_3_test.boxplot(column = bdd_corr_3_test.columns.tolist(), fontsize = 10, rot = 45, vert = 0)\n",
        "boxplot"
      ],
      "execution_count": 57,
      "outputs": [
        {
          "output_type": "execute_result",
          "data": {
            "text/plain": [
              "<matplotlib.axes._subplots.AxesSubplot at 0x7fa2e5c23c88>"
            ]
          },
          "metadata": {
            "tags": []
          },
          "execution_count": 57
        },
        {
          "output_type": "display_data",
          "data": {
            "image/png": "[encoded data removed]",
            "text/plain": [
              "<Figure size 432x288 with 1 Axes>"
            ]
          },
          "metadata": {
            "tags": [],
            "needs_background": "light"
          }
        }
      ]
    },
    {
      "cell_type": "markdown",
      "metadata": {
        "id": "ZtNooAKU5BAP"
      },
      "source": [
        "D'après les boîtes de Tukey précédentes on constate que : \n",
        "- les écarts interquartiles sont sensiblement identiques pour les mois de janvier, mars, main, juin, novembre d'une part, et avril, juillet, août, septembre, octobre d'autre part, avec un écart interquartile nettement plus faible. Cela signifie que les prix sont bien plus hétérogènes pour le premier groupe que pour le second groupe. \n",
        "- l'étendue des boîtes pour les mois de mai et juin sont extrêmement importantes; les prix sont donc particulièrement hétérogènes pour ces deux mois; \n",
        "- il existe quelques valeurs aberrantes qui peuvent fausser les résultats obtenus. "
      ]
    },
    {
      "cell_type": "markdown",
      "metadata": {
        "id": "7RUJn_nP5BAP"
      },
      "source": [
        "## 4. Corrélation avec le délais de réservation"
      ]
    },
    {
      "cell_type": "code",
      "metadata": {
        "id": "_5w7xFVp5BAP",
        "colab": {
          "base_uri": "https://localhost:8080/",
          "height": 402
        },
        "outputId": "9d08476d-dfab-45fc-ec2e-bbbc4bbde876"
      },
      "source": [
        "bdd_3.drop(bdd_3.loc[(bdd_3['Départ'] == 'Nice') & (bdd_3['Arrivée'] == 'Marseille')].index, inplace = True)\n",
        "bdd_3.drop(bdd_3.loc[(bdd_3['Départ'] == 'Bordeaux') & (bdd_3['Arrivée'] == 'Nantes')].index, inplace = True)\n",
        "bdd_3.drop(bdd_3.loc[(bdd_3['Départ'] == 'Toulouse') & (bdd_3['Arrivée'] == 'Montpellier')].index, inplace = True)\n",
        "bdd_3.drop(bdd_3.loc[(bdd_3['Départ'] == 'Marseille') & (bdd_3['Arrivée'] == 'Montpellier')].index, inplace = True)\n",
        "bdd_3.drop(bdd_3.loc[(bdd_3['Départ'] == 'Bordeaux') & (bdd_3['Arrivée'] == 'Montpellier')].index, inplace = True)\n",
        "bdd_3.drop(bdd_3.loc[(bdd_3['Départ'] == 'Nice') & (bdd_3['Arrivée'] == 'Ajaccio')].index, inplace = True)\n",
        "bdd_3.drop(bdd_3.loc[(bdd_3['Départ'] == 'Paris') & (bdd_3['Arrivée'] == 'Strasbourg')].index, inplace = True)\n",
        "bdd_3.drop(bdd_3.loc[(bdd_3['Départ'] == 'Toulouse') & (bdd_3['Arrivée'] == 'Bordeaux')].index, inplace = True)\n",
        "bdd_3"
      ],
      "execution_count": 58,
      "outputs": [
        {
          "output_type": "execute_result",
          "data": {
            "text/html": [
              "<div>\n",
              "<style scoped>\n",
              "    .dataframe tbody tr th:only-of-type {\n",
              "        vertical-align: middle;\n",
              "    }\n",
              "\n",
              "    .dataframe tbody tr th {\n",
              "        vertical-align: top;\n",
              "    }\n",
              "\n",
              "    .dataframe thead th {\n",
              "        text-align: right;\n",
              "    }\n",
              "</style>\n",
              "<table border=\"1\" class=\"dataframe\">\n",
              "  <thead>\n",
              "    <tr style=\"text-align: right;\">\n",
              "      <th></th>\n",
              "      <th>Départ</th>\n",
              "      <th>Arrivée</th>\n",
              "      <th>Prix</th>\n",
              "      <th>Temps entre la réservation et le vol</th>\n",
              "    </tr>\n",
              "  </thead>\n",
              "  <tbody>\n",
              "    <tr>\n",
              "      <th>12</th>\n",
              "      <td>Nantes</td>\n",
              "      <td>Strasbourg</td>\n",
              "      <td>223</td>\n",
              "      <td>0 à 1 mois</td>\n",
              "    </tr>\n",
              "    <tr>\n",
              "      <th>13</th>\n",
              "      <td>Nantes</td>\n",
              "      <td>Strasbourg</td>\n",
              "      <td>171</td>\n",
              "      <td>1 à 2 mois</td>\n",
              "    </tr>\n",
              "    <tr>\n",
              "      <th>14</th>\n",
              "      <td>Nantes</td>\n",
              "      <td>Strasbourg</td>\n",
              "      <td>133</td>\n",
              "      <td>2 à 3 mois</td>\n",
              "    </tr>\n",
              "    <tr>\n",
              "      <th>15</th>\n",
              "      <td>Nantes</td>\n",
              "      <td>Strasbourg</td>\n",
              "      <td>159</td>\n",
              "      <td>3 à 4 mois</td>\n",
              "    </tr>\n",
              "    <tr>\n",
              "      <th>16</th>\n",
              "      <td>Nantes</td>\n",
              "      <td>Strasbourg</td>\n",
              "      <td>163</td>\n",
              "      <td>4 à 5 mois</td>\n",
              "    </tr>\n",
              "    <tr>\n",
              "      <th>...</th>\n",
              "      <td>...</td>\n",
              "      <td>...</td>\n",
              "      <td>...</td>\n",
              "      <td>...</td>\n",
              "    </tr>\n",
              "    <tr>\n",
              "      <th>1621</th>\n",
              "      <td>Nice</td>\n",
              "      <td>Paris</td>\n",
              "      <td>119</td>\n",
              "      <td>7 à 8 mois</td>\n",
              "    </tr>\n",
              "    <tr>\n",
              "      <th>1622</th>\n",
              "      <td>Nice</td>\n",
              "      <td>Paris</td>\n",
              "      <td>124</td>\n",
              "      <td>8 à 9 mois</td>\n",
              "    </tr>\n",
              "    <tr>\n",
              "      <th>1623</th>\n",
              "      <td>Nice</td>\n",
              "      <td>Paris</td>\n",
              "      <td>149</td>\n",
              "      <td>9 à 10 mois</td>\n",
              "    </tr>\n",
              "    <tr>\n",
              "      <th>1624</th>\n",
              "      <td>Nice</td>\n",
              "      <td>Paris</td>\n",
              "      <td>127</td>\n",
              "      <td>10 à 11 mois</td>\n",
              "    </tr>\n",
              "    <tr>\n",
              "      <th>1625</th>\n",
              "      <td>Nice</td>\n",
              "      <td>Paris</td>\n",
              "      <td>165</td>\n",
              "      <td>11 à 12 mois</td>\n",
              "    </tr>\n",
              "  </tbody>\n",
              "</table>\n",
              "<p>1552 rows × 4 columns</p>\n",
              "</div>"
            ],
            "text/plain": [
              "      Départ     Arrivée  Prix Temps entre la réservation et le vol\n",
              "12    Nantes  Strasbourg   223                           0 à 1 mois\n",
              "13    Nantes  Strasbourg   171                           1 à 2 mois\n",
              "14    Nantes  Strasbourg   133                           2 à 3 mois\n",
              "15    Nantes  Strasbourg   159                           3 à 4 mois\n",
              "16    Nantes  Strasbourg   163                           4 à 5 mois\n",
              "...      ...         ...   ...                                  ...\n",
              "1621    Nice       Paris   119                           7 à 8 mois\n",
              "1622    Nice       Paris   124                           8 à 9 mois\n",
              "1623    Nice       Paris   149                          9 à 10 mois\n",
              "1624    Nice       Paris   127                         10 à 11 mois\n",
              "1625    Nice       Paris   165                         11 à 12 mois\n",
              "\n",
              "[1552 rows x 4 columns]"
            ]
          },
          "metadata": {
            "tags": []
          },
          "execution_count": 58
        }
      ]
    },
    {
      "cell_type": "markdown",
      "metadata": {
        "id": "ccQHb_1b5BAQ"
      },
      "source": [
        "**bdd_corr_4 contient pour chaque vol, le prix aller retour pour chaque délais de réservation**. "
      ]
    },
    {
      "cell_type": "code",
      "metadata": {
        "id": "HSFl5V_t5BAQ",
        "colab": {
          "base_uri": "https://localhost:8080/",
          "height": 418
        },
        "outputId": "802a2ab8-7042-49d7-d3f0-09634f4f0a48"
      },
      "source": [
        "bdd_corr_4 = bdd_3.copy()\n",
        "bdd_corr_4 = bdd_corr_4.pivot_table(index = ['Départ', 'Arrivée'], columns = 'Temps entre la réservation et le vol', values = 'Prix')\n",
        "bdd_corr_4 = bdd_corr_4.reset_index()\n",
        "bdd_corr_4 = bdd_corr_4.drop(['Départ', 'Arrivée'], axis = 1)\n",
        "bdd_corr_4\n",
        "bdd_corr_4"
      ],
      "execution_count": 59,
      "outputs": [
        {
          "output_type": "execute_result",
          "data": {
            "text/html": [
              "<div>\n",
              "<style scoped>\n",
              "    .dataframe tbody tr th:only-of-type {\n",
              "        vertical-align: middle;\n",
              "    }\n",
              "\n",
              "    .dataframe tbody tr th {\n",
              "        vertical-align: top;\n",
              "    }\n",
              "\n",
              "    .dataframe thead th {\n",
              "        text-align: right;\n",
              "    }\n",
              "</style>\n",
              "<table border=\"1\" class=\"dataframe\">\n",
              "  <thead>\n",
              "    <tr style=\"text-align: right;\">\n",
              "      <th>Temps entre la réservation et le vol</th>\n",
              "      <th>0 à 1 mois</th>\n",
              "      <th>1 à 2 mois</th>\n",
              "      <th>10 à 11 mois</th>\n",
              "      <th>11 à 12 mois</th>\n",
              "      <th>2 à 3 mois</th>\n",
              "      <th>3 à 4 mois</th>\n",
              "      <th>4 à 5 mois</th>\n",
              "      <th>5 à 6 mois</th>\n",
              "      <th>6 à 7 mois</th>\n",
              "      <th>7 à 8 mois</th>\n",
              "      <th>8 à 9 mois</th>\n",
              "      <th>9 à 10 mois</th>\n",
              "    </tr>\n",
              "  </thead>\n",
              "  <tbody>\n",
              "    <tr>\n",
              "      <th>0</th>\n",
              "      <td>174.0</td>\n",
              "      <td>147.0</td>\n",
              "      <td>194.0</td>\n",
              "      <td>194.0</td>\n",
              "      <td>145.0</td>\n",
              "      <td>226.0</td>\n",
              "      <td>365.0</td>\n",
              "      <td>270.0</td>\n",
              "      <td>335.0</td>\n",
              "      <td>299.0</td>\n",
              "      <td>386.0</td>\n",
              "      <td>237.0</td>\n",
              "    </tr>\n",
              "    <tr>\n",
              "      <th>1</th>\n",
              "      <td>218.0</td>\n",
              "      <td>188.0</td>\n",
              "      <td>264.0</td>\n",
              "      <td>264.0</td>\n",
              "      <td>184.0</td>\n",
              "      <td>289.0</td>\n",
              "      <td>330.0</td>\n",
              "      <td>416.0</td>\n",
              "      <td>388.0</td>\n",
              "      <td>544.0</td>\n",
              "      <td>351.0</td>\n",
              "      <td>278.0</td>\n",
              "    </tr>\n",
              "    <tr>\n",
              "      <th>2</th>\n",
              "      <td>190.0</td>\n",
              "      <td>175.0</td>\n",
              "      <td>116.0</td>\n",
              "      <td>117.0</td>\n",
              "      <td>167.0</td>\n",
              "      <td>154.0</td>\n",
              "      <td>160.0</td>\n",
              "      <td>159.0</td>\n",
              "      <td>147.0</td>\n",
              "      <td>152.0</td>\n",
              "      <td>121.0</td>\n",
              "      <td>112.0</td>\n",
              "    </tr>\n",
              "    <tr>\n",
              "      <th>3</th>\n",
              "      <td>245.0</td>\n",
              "      <td>200.0</td>\n",
              "      <td>NaN</td>\n",
              "      <td>NaN</td>\n",
              "      <td>184.0</td>\n",
              "      <td>189.0</td>\n",
              "      <td>191.0</td>\n",
              "      <td>NaN</td>\n",
              "      <td>NaN</td>\n",
              "      <td>NaN</td>\n",
              "      <td>NaN</td>\n",
              "      <td>NaN</td>\n",
              "    </tr>\n",
              "    <tr>\n",
              "      <th>4</th>\n",
              "      <td>269.0</td>\n",
              "      <td>226.0</td>\n",
              "      <td>NaN</td>\n",
              "      <td>NaN</td>\n",
              "      <td>209.0</td>\n",
              "      <td>226.0</td>\n",
              "      <td>234.0</td>\n",
              "      <td>232.0</td>\n",
              "      <td>244.0</td>\n",
              "      <td>302.0</td>\n",
              "      <td>326.0</td>\n",
              "      <td>NaN</td>\n",
              "    </tr>\n",
              "    <tr>\n",
              "      <th>...</th>\n",
              "      <td>...</td>\n",
              "      <td>...</td>\n",
              "      <td>...</td>\n",
              "      <td>...</td>\n",
              "      <td>...</td>\n",
              "      <td>...</td>\n",
              "      <td>...</td>\n",
              "      <td>...</td>\n",
              "      <td>...</td>\n",
              "      <td>...</td>\n",
              "      <td>...</td>\n",
              "      <td>...</td>\n",
              "    </tr>\n",
              "    <tr>\n",
              "      <th>154</th>\n",
              "      <td>150.0</td>\n",
              "      <td>132.0</td>\n",
              "      <td>283.0</td>\n",
              "      <td>200.0</td>\n",
              "      <td>115.0</td>\n",
              "      <td>152.0</td>\n",
              "      <td>117.0</td>\n",
              "      <td>120.0</td>\n",
              "      <td>124.0</td>\n",
              "      <td>135.0</td>\n",
              "      <td>128.0</td>\n",
              "      <td>139.0</td>\n",
              "    </tr>\n",
              "    <tr>\n",
              "      <th>155</th>\n",
              "      <td>123.0</td>\n",
              "      <td>110.0</td>\n",
              "      <td>127.0</td>\n",
              "      <td>142.0</td>\n",
              "      <td>107.0</td>\n",
              "      <td>129.0</td>\n",
              "      <td>132.0</td>\n",
              "      <td>125.0</td>\n",
              "      <td>177.0</td>\n",
              "      <td>117.0</td>\n",
              "      <td>160.0</td>\n",
              "      <td>194.0</td>\n",
              "    </tr>\n",
              "    <tr>\n",
              "      <th>156</th>\n",
              "      <td>338.0</td>\n",
              "      <td>354.0</td>\n",
              "      <td>NaN</td>\n",
              "      <td>NaN</td>\n",
              "      <td>299.0</td>\n",
              "      <td>NaN</td>\n",
              "      <td>NaN</td>\n",
              "      <td>NaN</td>\n",
              "      <td>NaN</td>\n",
              "      <td>NaN</td>\n",
              "      <td>NaN</td>\n",
              "      <td>NaN</td>\n",
              "    </tr>\n",
              "    <tr>\n",
              "      <th>157</th>\n",
              "      <td>195.0</td>\n",
              "      <td>141.0</td>\n",
              "      <td>NaN</td>\n",
              "      <td>NaN</td>\n",
              "      <td>142.0</td>\n",
              "      <td>172.0</td>\n",
              "      <td>159.0</td>\n",
              "      <td>148.0</td>\n",
              "      <td>138.0</td>\n",
              "      <td>145.0</td>\n",
              "      <td>261.0</td>\n",
              "      <td>NaN</td>\n",
              "    </tr>\n",
              "    <tr>\n",
              "      <th>158</th>\n",
              "      <td>220.0</td>\n",
              "      <td>175.0</td>\n",
              "      <td>212.0</td>\n",
              "      <td>293.0</td>\n",
              "      <td>133.0</td>\n",
              "      <td>186.0</td>\n",
              "      <td>272.0</td>\n",
              "      <td>253.0</td>\n",
              "      <td>222.0</td>\n",
              "      <td>156.0</td>\n",
              "      <td>150.0</td>\n",
              "      <td>162.0</td>\n",
              "    </tr>\n",
              "  </tbody>\n",
              "</table>\n",
              "<p>159 rows × 12 columns</p>\n",
              "</div>"
            ],
            "text/plain": [
              "Temps entre la réservation et le vol  0 à 1 mois  ...  9 à 10 mois\n",
              "0                                          174.0  ...        237.0\n",
              "1                                          218.0  ...        278.0\n",
              "2                                          190.0  ...        112.0\n",
              "3                                          245.0  ...          NaN\n",
              "4                                          269.0  ...          NaN\n",
              "..                                           ...  ...          ...\n",
              "154                                        150.0  ...        139.0\n",
              "155                                        123.0  ...        194.0\n",
              "156                                        338.0  ...          NaN\n",
              "157                                        195.0  ...          NaN\n",
              "158                                        220.0  ...        162.0\n",
              "\n",
              "[159 rows x 12 columns]"
            ]
          },
          "metadata": {
            "tags": []
          },
          "execution_count": 59
        }
      ]
    },
    {
      "cell_type": "markdown",
      "metadata": {
        "id": "707Z_6tm5BAT"
      },
      "source": [
        "On voit qu'il y a plusieurs valeurs manquantes. Nous pouvons dans un premier temps les remplacer par la médiane du prix du billet du trajet correspondant. "
      ]
    },
    {
      "cell_type": "code",
      "metadata": {
        "id": "oJCOcgYL5BAT",
        "colab": {
          "base_uri": "https://localhost:8080/",
          "height": 212
        },
        "outputId": "82105f62-fd54-443e-e529-60a3a04d9fa7"
      },
      "source": [
        "bdd_corr_4_new = bdd_corr_4.T\n",
        "for i in range(1,159) : \n",
        "    median = bdd_corr_4_new[i].median()\n",
        "    bdd_corr_4_new[i].fillna(median, inplace=True)  \n",
        "bdd_corr_4 = bdd_corr_4_new.T\n",
        "bdd_corr_4.head(5)"
      ],
      "execution_count": 60,
      "outputs": [
        {
          "output_type": "execute_result",
          "data": {
            "text/html": [
              "<div>\n",
              "<style scoped>\n",
              "    .dataframe tbody tr th:only-of-type {\n",
              "        vertical-align: middle;\n",
              "    }\n",
              "\n",
              "    .dataframe tbody tr th {\n",
              "        vertical-align: top;\n",
              "    }\n",
              "\n",
              "    .dataframe thead th {\n",
              "        text-align: right;\n",
              "    }\n",
              "</style>\n",
              "<table border=\"1\" class=\"dataframe\">\n",
              "  <thead>\n",
              "    <tr style=\"text-align: right;\">\n",
              "      <th>Temps entre la réservation et le vol</th>\n",
              "      <th>0 à 1 mois</th>\n",
              "      <th>1 à 2 mois</th>\n",
              "      <th>10 à 11 mois</th>\n",
              "      <th>11 à 12 mois</th>\n",
              "      <th>2 à 3 mois</th>\n",
              "      <th>3 à 4 mois</th>\n",
              "      <th>4 à 5 mois</th>\n",
              "      <th>5 à 6 mois</th>\n",
              "      <th>6 à 7 mois</th>\n",
              "      <th>7 à 8 mois</th>\n",
              "      <th>8 à 9 mois</th>\n",
              "      <th>9 à 10 mois</th>\n",
              "    </tr>\n",
              "  </thead>\n",
              "  <tbody>\n",
              "    <tr>\n",
              "      <th>0</th>\n",
              "      <td>174.0</td>\n",
              "      <td>147.0</td>\n",
              "      <td>194.0</td>\n",
              "      <td>194.0</td>\n",
              "      <td>145.0</td>\n",
              "      <td>226.0</td>\n",
              "      <td>365.0</td>\n",
              "      <td>270.0</td>\n",
              "      <td>335.0</td>\n",
              "      <td>299.0</td>\n",
              "      <td>386.0</td>\n",
              "      <td>237.0</td>\n",
              "    </tr>\n",
              "    <tr>\n",
              "      <th>1</th>\n",
              "      <td>218.0</td>\n",
              "      <td>188.0</td>\n",
              "      <td>264.0</td>\n",
              "      <td>264.0</td>\n",
              "      <td>184.0</td>\n",
              "      <td>289.0</td>\n",
              "      <td>330.0</td>\n",
              "      <td>416.0</td>\n",
              "      <td>388.0</td>\n",
              "      <td>544.0</td>\n",
              "      <td>351.0</td>\n",
              "      <td>278.0</td>\n",
              "    </tr>\n",
              "    <tr>\n",
              "      <th>2</th>\n",
              "      <td>190.0</td>\n",
              "      <td>175.0</td>\n",
              "      <td>116.0</td>\n",
              "      <td>117.0</td>\n",
              "      <td>167.0</td>\n",
              "      <td>154.0</td>\n",
              "      <td>160.0</td>\n",
              "      <td>159.0</td>\n",
              "      <td>147.0</td>\n",
              "      <td>152.0</td>\n",
              "      <td>121.0</td>\n",
              "      <td>112.0</td>\n",
              "    </tr>\n",
              "    <tr>\n",
              "      <th>3</th>\n",
              "      <td>245.0</td>\n",
              "      <td>200.0</td>\n",
              "      <td>191.0</td>\n",
              "      <td>191.0</td>\n",
              "      <td>184.0</td>\n",
              "      <td>189.0</td>\n",
              "      <td>191.0</td>\n",
              "      <td>191.0</td>\n",
              "      <td>191.0</td>\n",
              "      <td>191.0</td>\n",
              "      <td>191.0</td>\n",
              "      <td>191.0</td>\n",
              "    </tr>\n",
              "    <tr>\n",
              "      <th>4</th>\n",
              "      <td>269.0</td>\n",
              "      <td>226.0</td>\n",
              "      <td>234.0</td>\n",
              "      <td>234.0</td>\n",
              "      <td>209.0</td>\n",
              "      <td>226.0</td>\n",
              "      <td>234.0</td>\n",
              "      <td>232.0</td>\n",
              "      <td>244.0</td>\n",
              "      <td>302.0</td>\n",
              "      <td>326.0</td>\n",
              "      <td>234.0</td>\n",
              "    </tr>\n",
              "  </tbody>\n",
              "</table>\n",
              "</div>"
            ],
            "text/plain": [
              "Temps entre la réservation et le vol  0 à 1 mois  ...  9 à 10 mois\n",
              "0                                          174.0  ...        237.0\n",
              "1                                          218.0  ...        278.0\n",
              "2                                          190.0  ...        112.0\n",
              "3                                          245.0  ...        191.0\n",
              "4                                          269.0  ...        234.0\n",
              "\n",
              "[5 rows x 12 columns]"
            ]
          },
          "metadata": {
            "tags": []
          },
          "execution_count": 60
        }
      ]
    },
    {
      "cell_type": "markdown",
      "metadata": {
        "id": "Nr5NeJkO5BAT"
      },
      "source": [
        "Déterminons tout d'abord l'allure de l'évolution des prix selon le délais de réservation. "
      ]
    },
    {
      "cell_type": "code",
      "metadata": {
        "id": "sSZhEkdZ5BAT"
      },
      "source": [
        "bdd_corr_4_test = bdd_corr_4.sample(10)\n",
        "bdd_corr_4_test = bdd_corr_4_test.reset_index()\n",
        "bdd_corr_4_test = bdd_corr_4_test.drop(['index'], axis = 1)\n",
        "\n",
        "x = bdd_corr_4_test.columns ## on réordonne x, ie on place les éléments 10 à 11 mois et 11 à 12 mois en fin de liste\n",
        "x = x.tolist()\n",
        "a = x[2]\n",
        "b = x[3]\n",
        "del x[2:4]\n",
        "x.append(a)\n",
        "x.append(b)\n"
      ],
      "execution_count": 61,
      "outputs": []
    },
    {
      "cell_type": "code",
      "metadata": {
        "id": "qoPuImw05BAU",
        "colab": {
          "base_uri": "https://localhost:8080/",
          "height": 367
        },
        "outputId": "b4b72c49-8676-4efa-cf77-492c33b2bd16"
      },
      "source": [
        "for i in range(5) :\n",
        "    plt.scatter(x,bdd_corr_4_test.loc[i])\n",
        "    plt.plot(x,bdd_corr_4_test.loc[i], linestyle= 'solid')\n",
        "    \n",
        "plt.xticks(rotation = 90)\n",
        "plt.xlabel('Délais entre le mois de réservation et celui du vol')\n",
        "plt.ylabel('Prix du billet')\n",
        "plt.title('Evolution du prix du billet selon le délais de réservation pour dix trajets')\n"
      ],
      "execution_count": 62,
      "outputs": [
        {
          "output_type": "execute_result",
          "data": {
            "text/plain": [
              "Text(0.5, 1.0, 'Evolution du prix du billet selon le délais de réservation pour dix trajets')"
            ]
          },
          "metadata": {
            "tags": []
          },
          "execution_count": 62
        },
        {
          "output_type": "display_data",
          "data": {
            "image/png": "[encoded data removed]",
            "text/plain": [
              "<Figure size 432x288 with 1 Axes>"
            ]
          },
          "metadata": {
            "tags": [],
            "needs_background": "light"
          }
        }
      ]
    },
    {
      "cell_type": "markdown",
      "metadata": {
        "id": "JACs_WSo5BAU"
      },
      "source": [
        "Etant donné que les courbes suivent une trajectoire plus ou moins similaire, il semblerait qu'il existe une corrélation entre les deux variables étudiées. "
      ]
    },
    {
      "cell_type": "code",
      "metadata": {
        "id": "vpIdn27A5BAU",
        "colab": {
          "base_uri": "https://localhost:8080/",
          "height": 296
        },
        "outputId": "e7c7783a-0d7b-4e1d-b64c-61f1d5b0fcec"
      },
      "source": [
        "boxplot = bdd_corr_4_test.boxplot(column = x, fontsize = 10, rot = 45, vert = 0)\n",
        "boxplot"
      ],
      "execution_count": 63,
      "outputs": [
        {
          "output_type": "execute_result",
          "data": {
            "text/plain": [
              "<matplotlib.axes._subplots.AxesSubplot at 0x7fa2e5a19e10>"
            ]
          },
          "metadata": {
            "tags": []
          },
          "execution_count": 63
        },
        {
          "output_type": "display_data",
          "data": {
            "image/png": "[encoded data removed]",
            "text/plain": [
              "<Figure size 432x288 with 1 Axes>"
            ]
          },
          "metadata": {
            "tags": [],
            "needs_background": "light"
          }
        }
      ]
    },
    {
      "cell_type": "markdown",
      "metadata": {
        "id": "WgnWhlI65BAa"
      },
      "source": [
        "Si on remplace désormais les valeurs manquantes par la moyenne des prix du billet du trajet correspondant, et que l'on opère de même : "
      ]
    },
    {
      "cell_type": "code",
      "metadata": {
        "id": "cBX1gDNi5BAa"
      },
      "source": [
        "bdd_corr_4_new = bdd_corr_4.T\n",
        "for i in range(1,159) : \n",
        "    mean = bdd_corr_4_new[i].mean()\n",
        "    bdd_corr_4_new[i].fillna(mean, inplace=True)  \n",
        "bdd_corr_4 = bdd_corr_4_new.T\n",
        "bdd_corr_4.head(5)\n",
        "\n",
        "bdd_corr_4_test_1 = bdd_corr_4.sample(10)\n",
        "bdd_corr_4_test_1 = bdd_corr_4_test_1.reset_index()\n",
        "bdd_corr_4_test_1 = bdd_corr_4_test_1.drop(['index'], axis = 1)\n",
        "\n",
        "x = bdd_corr_4_test_1.columns ## on réordonne x, ie on place les éléments 10 à 11 mois et 11 à 12 mois en fin de liste\n",
        "x = x.tolist()\n",
        "a = x[2]\n",
        "b = x[3]\n",
        "del x[2:4]\n",
        "x.append(a)\n",
        "x.append(b)"
      ],
      "execution_count": 64,
      "outputs": []
    },
    {
      "cell_type": "code",
      "metadata": {
        "id": "15715rZ45BAa",
        "colab": {
          "base_uri": "https://localhost:8080/",
          "height": 367
        },
        "outputId": "04c2a433-8813-49f8-f013-eed852d74714"
      },
      "source": [
        "for i in range(5) :\n",
        "    plt.scatter(x,bdd_corr_4_test_1.loc[i])\n",
        "    plt.plot(x,bdd_corr_4_test_1.loc[i], linestyle= 'solid')\n",
        "    \n",
        "plt.xticks(rotation = 90)\n",
        "plt.xlabel('Délais entre le mois de réservation et celui du vol')\n",
        "plt.ylabel('Prix du billet')\n",
        "plt.title('Evolution du prix du billet selon le délais de réservation pour dix trajets')\n"
      ],
      "execution_count": 65,
      "outputs": [
        {
          "output_type": "execute_result",
          "data": {
            "text/plain": [
              "Text(0.5, 1.0, 'Evolution du prix du billet selon le délais de réservation pour dix trajets')"
            ]
          },
          "metadata": {
            "tags": []
          },
          "execution_count": 65
        },
        {
          "output_type": "display_data",
          "data": {
            "image/png": "[encoded data removed]",
            "text/plain": [
              "<Figure size 432x288 with 1 Axes>"
            ]
          },
          "metadata": {
            "tags": [],
            "needs_background": "light"
          }
        }
      ]
    },
    {
      "cell_type": "code",
      "metadata": {
        "id": "M4l6s2Ti5BAb",
        "colab": {
          "base_uri": "https://localhost:8080/",
          "height": 296
        },
        "outputId": "1e5394ac-593a-47a8-99f4-dd4429e9bb4d"
      },
      "source": [
        "boxplot = bdd_corr_4_test_1.boxplot(column = bdd_corr_4_test_1.columns.tolist(), fontsize = 10, rot = 45, vert = 0)\n",
        "boxplot"
      ],
      "execution_count": 66,
      "outputs": [
        {
          "output_type": "execute_result",
          "data": {
            "text/plain": [
              "<matplotlib.axes._subplots.AxesSubplot at 0x7fa2e5c7bcf8>"
            ]
          },
          "metadata": {
            "tags": []
          },
          "execution_count": 66
        },
        {
          "output_type": "display_data",
          "data": {
            "image/png": "[encoded data removed]",
            "text/plain": [
              "<Figure size 432x288 with 1 Axes>"
            ]
          },
          "metadata": {
            "tags": [],
            "needs_background": "light"
          }
        }
      ]
    },
    {
      "cell_type": "markdown",
      "metadata": {
        "id": "ROrEeQIX5BAc"
      },
      "source": [
        "## Conclusion "
      ]
    },
    {
      "cell_type": "markdown",
      "metadata": {
        "id": "itgdZzzS5BAc"
      },
      "source": [
        "D'après les résultats précédents, on peut conclure que :\n",
        "- il existe une relation linéaire modérée entre les prix des billets d'avion et ceux de train. En particulier, **les deux variables sont négativement corrélées**,\n",
        "- il n'existe pas vraiment de relation entre les prix des billets d'avion et la distance du trajet,\n",
        "- relation avec les délais de réservation et les mois à définir? \n"
      ]
    },
    {
      "cell_type": "markdown",
      "metadata": {
        "id": "wU1F9at3aM3b"
      },
      "source": [
        "# **3. Modélisation**"
      ]
    }
  ]
}