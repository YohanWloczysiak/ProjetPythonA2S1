{
  "nbformat": 4,
  "nbformat_minor": 0,
  "metadata": {
    "colab": {
      "name": "Rapport.ipynb",
      "provenance": [],
      "collapsed_sections": [],
      "toc_visible": true
    },
    "kernelspec": {
      "name": "python3",
      "display_name": "Python 3"
    }
  },
  "cells": [
    {
      "cell_type": "markdown",
      "metadata": {
        "id": "d7Y8jUdeVfTG"
      },
      "source": [
        "# **Importation des modules**"
      ]
    },
    {
      "cell_type": "code",
      "metadata": {
        "id": "JWDYWyAq6vQj"
      },
      "source": [
        "import urllib\n",
        "import bs4\n",
        "import pandas\n",
        "import re\n",
        "import numpy"
      ],
      "execution_count": 51,
      "outputs": []
    },
    {
      "cell_type": "markdown",
      "metadata": {
        "id": "Z7RzwUtOZViK"
      },
      "source": [
        "# **1. Modélisation**"
      ]
    },
    {
      "cell_type": "markdown",
      "metadata": {
        "id": "MlEkVctY2hEG"
      },
      "source": [
        "Cette première partie permet de récupérer et de traiter les données que nous utiliserons dans le projet.\n"
      ]
    },
    {
      "cell_type": "markdown",
      "metadata": {
        "id": "wLXn4xt23B-v"
      },
      "source": [
        "### **Données sur le trafic aérien en France**\n"
      ]
    },
    {
      "cell_type": "markdown",
      "metadata": {
        "id": "FpJRK3gw64jv"
      },
      "source": [
        "Les données sur le trafic aérien en France sont issues du site https://www.ou-et-quand.net/vols/. Afin de les récupérer, nous allons de voir faire du webscraping."
      ]
    },
    {
      "cell_type": "markdown",
      "metadata": {
        "id": "5P1BUQwk7SzI"
      },
      "source": [
        "Nous commençons par récupérer l'adresse url de chaque page qui nous intéresse, c'est-à-dire chaque page concernant un aéroport français."
      ]
    },
    {
      "cell_type": "code",
      "metadata": {
        "id": "LZyPPvHU2PM7"
      },
      "source": [
        "# (A modifier : voir si on peut récupérer les noms de villes avec du webscraping)\n",
        "\n",
        "url_radical = \"https://www.ou-et-quand.net/vols/\"\n",
        "ordre_villes = ['Strasbourg', 'Bordeaux', 'Clermont-Ferrand', 'Rennes', 'Brest', 'Ajaccio', 'Bastia', 'Calvi', 'Figari', 'Montpellier', 'Limoges', 'Metz', 'Toulouse', 'Lille', 'Caen', 'Nantes', 'Poitiers', 'Marseille', 'Nice', 'Lyon', 'Paris']\n",
        "url_terminaison = [\"alsace/strasbourg/\", \"aquitaine/bordeaux/\", \"auvergne/clermont-ferrand/\", \"bretagne/rennes/\", \"bretagne/brest/\", \"corse/ajaccio/\", \"corse/bastia/\", \"corse/calvi/\", \"corse/figari/\", \"languedoc-roussillon/montpellier/\", \"limousin/limoges/\", \"lorraine/metz/\", \"midi-pyrenees/toulouse/\", \"nord-pas-de-calais/lille/\", \"normandie/caen/\", \"pays-de-la-loire/nantes/\", \"poitou-charentes/poitiers/\", \"provence-alpes-c-te-d-azur/marseille/\", \"provence-alpes-c-te-d-azur/nice/\", \"rh-ne-alpes/lyon/\", \"ile-de-france/paris/\"]"
      ],
      "execution_count": 52,
      "outputs": []
    },
    {
      "cell_type": "markdown",
      "metadata": {
        "id": "0P2axJDK7hyj"
      },
      "source": [
        "Pour chaque aéroport, nous devons récupérer plusieurs données : le prix moyen du billet aller-retour en fonction des aéroports de départ, le prix moyen du billet aller-retour en fonction du mois de départ et de l'aéroport de départ ainsi que le prix moyen du billet aller-retour en fonction du délai entre la réservation et le départ et de l'aéroport de départ."
      ]
    },
    {
      "cell_type": "markdown",
      "metadata": {
        "id": "ko88giYixwSw"
      },
      "source": [
        "##### **Construction des expressions régulières**"
      ]
    },
    {
      "cell_type": "markdown",
      "metadata": {
        "id": "6qF196PWxkIx"
      },
      "source": [
        "On commence par construire les expressions régulières qui vont nous permettre de sélectionner les parties de la page html qui nous intéressent.\n",
        "\n",
        "Pour récupérer les données, il faudra utiliser plusieurs expressions régulières à chaque fois.\n",
        "\n",
        "\n",
        "\n",
        "\n"
      ]
    },
    {
      "cell_type": "markdown",
      "metadata": {
        "id": "jeEcz79QzEkC"
      },
      "source": [
        "Les expressions commençant par \"expression_villes\" permettent de récupérer les noms des villes de départ."
      ]
    },
    {
      "cell_type": "code",
      "metadata": {
        "id": "aiKsclQRzi50"
      },
      "source": [
        "expression_villes = re.compile(\"categories:.+],\")\n",
        "expression_villes_bis = re.compile(\":.+],\")\n",
        "expression_villes_ter = re.compile(\"[\\w]+\")"
      ],
      "execution_count": 53,
      "outputs": []
    },
    {
      "cell_type": "markdown",
      "metadata": {
        "id": "dkBlGzs2zODV"
      },
      "source": [
        "Les expressions commençant par \"expression_prix\" permettent de récupérer les prix moyens en fonction de l'aéroport de départ."
      ]
    },
    {
      "cell_type": "code",
      "metadata": {
        "id": "-qX962KQzlVU"
      },
      "source": [
        "expression_prix = re.compile(\"\"\"'aéroport de départ',\n",
        "            data: .+,\"\"\")\n",
        "expression_prix_bis = re.compile(\":.+],\")\n",
        "expression_prix_ter = re.compile(\"[\\d]+\")"
      ],
      "execution_count": 54,
      "outputs": []
    },
    {
      "cell_type": "markdown",
      "metadata": {
        "id": "1d6YrZ3AzWqd"
      },
      "source": [
        "Les expressions commençant par \"expression_mois\" permettent de récupérer la liste des mois pour lesquels on a des données de prix."
      ]
    },
    {
      "cell_type": "code",
      "metadata": {
        "id": "DSvY6aDZzpsi"
      },
      "source": [
        "expression_mois = re.compile(\"\"\"xAxis: {\n",
        "            categories: .+,\n",
        "            title: {\n",
        "                text: null\"\"\")\n",
        "expression_mois_select = re.compile(\"'jan.'|'fév.'|'mar.'|'avr.'|'mai'|'juin'|'juil'|'août'|'sep.'|'oct.'|'nov.'|'déc.'\")\n",
        "expression_mois_bis = re.compile(\"[\\w]+\")"
      ],
      "execution_count": 55,
      "outputs": []
    },
    {
      "cell_type": "markdown",
      "metadata": {
        "id": "f-WC8IXSzVfn"
      },
      "source": [
        "Les expressions commençant par \"expression_prix_mois\" permettent de récupérer les prix moyens en fonction du mois de départ et de l'aéroport de départ."
      ]
    },
    {
      "cell_type": "code",
      "metadata": {
        "id": "uNkvdzD3znU_"
      },
      "source": [
        "expression_prix_mois = re.compile(\"\"\"en euros selon le mois de départ',\n",
        "            data: .+,\"\"\")\n",
        "expression_prix_mois_bis = re.compile(\":.+],\")\n",
        "expression_prix_mois_ter = re.compile(\"[\\d]+\")"
      ],
      "execution_count": 56,
      "outputs": []
    },
    {
      "cell_type": "markdown",
      "metadata": {
        "id": "uhTMM46szfDJ"
      },
      "source": [
        "Les expressions commençant par \"expression_avance\" permettent de récupérer les délais entre la réservation et le départ pour lesquels on a des données de prix."
      ]
    },
    {
      "cell_type": "code",
      "metadata": {
        "id": "iPNnnYJ4ztan"
      },
      "source": [
        "expression_avance = re.compile(\"\"\"xAxis: {\n",
        "            categories: .+,\n",
        "            title: {\n",
        "                text: null\"\"\")\n",
        "expression_avance_select = re.compile(\"'0 à 1 mois'|'1 à 2 mois'|'2 à 3 mois'|'3 à 4 mois'|'4 à 5 mois'|'5 à 6 mois'|'6 à 7 mois'|'7 à 8 mois'|'8 à 9 mois'|'9 à 10 mois'|'10 à 11 mois'|'11 à 12 mois'\")\n",
        "expression_avance_bis = re.compile(\"[\\w]+\")"
      ],
      "execution_count": 57,
      "outputs": []
    },
    {
      "cell_type": "markdown",
      "metadata": {
        "id": "2RSw7ZA0zV9J"
      },
      "source": [
        "Les expressions commençant par \"expression_prix_avance\" permettent de récupérer les prix moyens en fonction du délai entre le mois de départ et la réservation."
      ]
    },
    {
      "cell_type": "code",
      "metadata": {
        "id": "WrNMSQpJzr0B"
      },
      "source": [
        "expression_prix_avance = re.compile(\"\"\"selon le nombre de mois entre la réservation et le vol',\n",
        "            data: .+,\"\"\")\n",
        "expression_prix_avance_bis = re.compile(\":.+],\")\n",
        "expression_prix_avance_ter = re.compile(\"[\\d]+\")"
      ],
      "execution_count": 58,
      "outputs": []
    },
    {
      "cell_type": "markdown",
      "metadata": {
        "id": "1MzAVkSr1UZT"
      },
      "source": [
        "##### **Récupération des données par webscraping**"
      ]
    },
    {
      "cell_type": "markdown",
      "metadata": {
        "id": "VjD21MBs1gvF"
      },
      "source": [
        "Maintenant qu'on a nos expressions régulières, on peut rechercher l'ensemble des données qui nous intéressent sur les pages du site."
      ]
    },
    {
      "cell_type": "code",
      "metadata": {
        "id": "t6oVYDTV2gof"
      },
      "source": [
        "prix_moyen_destination = []\n",
        "villesbis = []\n",
        "villes = []\n",
        "prix = []\n",
        "liste_prix = []\n",
        "prix_mois = []\n",
        "liste_prix_mois = []\n",
        "prix_avance = []\n",
        "liste_prix_avance = []\n",
        "avance_mois = []\n",
        "mois = []\n",
        "liste_mois = []\n",
        "\n",
        "\n",
        "for i in range(len(ordre_villes)):\n",
        "    url_totale = url_radical+url_terminaison[i]\n",
        "    \n",
        "    from urllib.request import Request, urlopen\n",
        "    req = Request(url_totale, headers={'User-Agent': 'Mozilla/5.0'})\n",
        "    web_byte = urlopen(req).read()\n",
        "    page = bs4.BeautifulSoup(web_byte, 'lxml')\n",
        "    \n",
        "    prix_moyen_destination.append(page.findAll(\"script\")[22])\n",
        "    s = prix_moyen_destination[i].text.strip()\n",
        "    \n",
        "    # seconde étape : recherche\n",
        "    # Récupération des villes de départ\n",
        "    city = expression_villes.findall(s)[0]\n",
        "    city_bis = expression_villes_bis.findall(city)\n",
        "    liste_villes = expression_villes_ter.findall(city_bis[0])\n",
        "    villesbis.append(liste_villes)\n",
        "    \n",
        "    \n",
        "    \"\"\"Récupération des prix moyens en fonction de la ville de départ\"\"\"\n",
        "    price_moyen_bis = expression_prix.findall(s)\n",
        "    price_moyen = expression_prix_bis.findall(price_moyen_bis[0])\n",
        "    prix_moyen = expression_prix_ter.findall(price_moyen[0])\n",
        "    \n",
        "    liste_prixbis = []\n",
        "\n",
        "    for elem in prix_moyen:\n",
        "        elem_bis = int(elem)\n",
        "        liste_prixbis.append(elem_bis)\n",
        "        \n",
        "    liste_prix.append(liste_prixbis)\n",
        "    \n",
        "    \n",
        "    \"\"\"Récupération des prix moyens en fonction du mois de départ\"\"\"\n",
        "    price_mois_bis = expression_prix_mois.findall(s)\n",
        "    month = expression_mois.findall(s)\n",
        "    for elem in month:\n",
        "        if expression_mois_select.findall(elem) != []:\n",
        "            month_select = expression_mois_select.findall(elem)\n",
        "            \n",
        "            for elem_bis in month_select:\n",
        "                month_bis = expression_mois_bis.findall(elem_bis)\n",
        "                mois.append(month_bis[0])\n",
        "        \n",
        "        \n",
        "    for j in range(len(price_mois_bis)):\n",
        "        price_mois = expression_prix_mois_bis.findall(price_mois_bis[j])\n",
        "        prix_mois = expression_prix_mois_ter.findall(price_mois[0])\n",
        "        liste_prixbis_mois = []\n",
        "\n",
        "        for elem in prix_mois:\n",
        "            elem_bis = int(elem)\n",
        "            liste_prixbis_mois.append(elem_bis)\n",
        "\n",
        "        liste_prix_mois.append(liste_prixbis_mois) \n",
        "    \n",
        "\n",
        "    \n",
        "    \"\"\"Récupération des prix moyens en fonction du mois de réservation\"\"\"\n",
        "    price_avance_bis = expression_prix_avance.findall(s)\n",
        "    avance = expression_avance.findall(s)\n",
        "    for elem in avance:\n",
        "        if expression_avance_select.findall(elem) != []:\n",
        "            avance_select = expression_avance_select.findall(elem)\n",
        "            \n",
        "            for elem_bis in avance_select:\n",
        "                avance_bis = expression_avance_bis.findall(elem_bis)\n",
        "                avance_mois.append(avance_bis[0] + ' ' + avance_bis[1] + ' ' +  avance_bis[2] + ' ' +  avance_bis[3])\n",
        "        \n",
        "        \n",
        "    for j in range(len(price_avance_bis)):\n",
        "        price_avance = expression_prix_avance_bis.findall(price_avance_bis[j])\n",
        "        prix_avance = expression_prix_avance_ter.findall(price_avance[0])\n",
        "        liste_prixbis_avance = []\n",
        "\n",
        "        for elem in prix_avance:\n",
        "            elem_bis = int(elem)\n",
        "            liste_prixbis_avance.append(elem_bis)\n",
        "\n",
        "        liste_prix_avance.append(liste_prixbis_avance)"
      ],
      "execution_count": 59,
      "outputs": []
    },
    {
      "cell_type": "markdown",
      "metadata": {
        "id": "0S4yzt6f11f3"
      },
      "source": [
        "##### **Création des bases de données finales**"
      ]
    },
    {
      "cell_type": "markdown",
      "metadata": {
        "id": "9mjAG3iv2Vpn"
      },
      "source": [
        "La première base de données contiendra les prix moyens du billet aller-retour en fonction uniquement de l'aéroport de départ."
      ]
    },
    {
      "cell_type": "code",
      "metadata": {
        "id": "ZwS6ymnL161U"
      },
      "source": [
        "col_1_1 = []\n",
        "col_1_2 = []\n",
        "col_1_3 = []\n",
        "col_1_4 = []\n",
        "\n",
        "for l in range(len(villesbis)):\n",
        "    col_1_1 = col_1_1 + villesbis[l]\n",
        "    col_1_2 = col_1_2 + [ordre_villes[l]]*len(villesbis[l])\n",
        "    col_1_3 = col_1_3 + liste_prix[l]"
      ],
      "execution_count": 60,
      "outputs": []
    },
    {
      "cell_type": "code",
      "metadata": {
        "id": "8QTbfMGk2FqL",
        "colab": {
          "base_uri": "https://localhost:8080/",
          "height": 402
        },
        "outputId": "48329a0a-eb16-4f2b-8243-262f2fcdb7cf"
      },
      "source": [
        "table_prix_trajet = pandas.DataFrame({'Départ' : col_1_1 , 'Arrivée': col_1_2 , 'Prix': col_1_3})\n",
        "table_prix_trajet[:100]"
      ],
      "execution_count": 61,
      "outputs": [
        {
          "output_type": "execute_result",
          "data": {
            "text/html": [
              "<div>\n",
              "<style scoped>\n",
              "    .dataframe tbody tr th:only-of-type {\n",
              "        vertical-align: middle;\n",
              "    }\n",
              "\n",
              "    .dataframe tbody tr th {\n",
              "        vertical-align: top;\n",
              "    }\n",
              "\n",
              "    .dataframe thead th {\n",
              "        text-align: right;\n",
              "    }\n",
              "</style>\n",
              "<table border=\"1\" class=\"dataframe\">\n",
              "  <thead>\n",
              "    <tr style=\"text-align: right;\">\n",
              "      <th></th>\n",
              "      <th>Départ</th>\n",
              "      <th>Arrivée</th>\n",
              "      <th>Prix</th>\n",
              "    </tr>\n",
              "  </thead>\n",
              "  <tbody>\n",
              "    <tr>\n",
              "      <th>0</th>\n",
              "      <td>Paris</td>\n",
              "      <td>Strasbourg</td>\n",
              "      <td>247</td>\n",
              "    </tr>\n",
              "    <tr>\n",
              "      <th>1</th>\n",
              "      <td>Nantes</td>\n",
              "      <td>Strasbourg</td>\n",
              "      <td>170</td>\n",
              "    </tr>\n",
              "    <tr>\n",
              "      <th>2</th>\n",
              "      <td>Marseille</td>\n",
              "      <td>Strasbourg</td>\n",
              "      <td>208</td>\n",
              "    </tr>\n",
              "    <tr>\n",
              "      <th>3</th>\n",
              "      <td>Bordeaux</td>\n",
              "      <td>Strasbourg</td>\n",
              "      <td>225</td>\n",
              "    </tr>\n",
              "    <tr>\n",
              "      <th>4</th>\n",
              "      <td>Bruxelles</td>\n",
              "      <td>Strasbourg</td>\n",
              "      <td>205</td>\n",
              "    </tr>\n",
              "    <tr>\n",
              "      <th>...</th>\n",
              "      <td>...</td>\n",
              "      <td>...</td>\n",
              "      <td>...</td>\n",
              "    </tr>\n",
              "    <tr>\n",
              "      <th>95</th>\n",
              "      <td>Nice</td>\n",
              "      <td>Metz</td>\n",
              "      <td>246</td>\n",
              "    </tr>\n",
              "    <tr>\n",
              "      <th>96</th>\n",
              "      <td>Paris</td>\n",
              "      <td>Toulouse</td>\n",
              "      <td>132</td>\n",
              "    </tr>\n",
              "    <tr>\n",
              "      <th>97</th>\n",
              "      <td>Nantes</td>\n",
              "      <td>Toulouse</td>\n",
              "      <td>121</td>\n",
              "    </tr>\n",
              "    <tr>\n",
              "      <th>98</th>\n",
              "      <td>Marseille</td>\n",
              "      <td>Toulouse</td>\n",
              "      <td>145</td>\n",
              "    </tr>\n",
              "    <tr>\n",
              "      <th>99</th>\n",
              "      <td>Bordeaux</td>\n",
              "      <td>Toulouse</td>\n",
              "      <td>289</td>\n",
              "    </tr>\n",
              "  </tbody>\n",
              "</table>\n",
              "<p>100 rows × 3 columns</p>\n",
              "</div>"
            ],
            "text/plain": [
              "       Départ     Arrivée  Prix\n",
              "0       Paris  Strasbourg   247\n",
              "1      Nantes  Strasbourg   170\n",
              "2   Marseille  Strasbourg   208\n",
              "3    Bordeaux  Strasbourg   225\n",
              "4   Bruxelles  Strasbourg   205\n",
              "..        ...         ...   ...\n",
              "95       Nice        Metz   246\n",
              "96      Paris    Toulouse   132\n",
              "97     Nantes    Toulouse   121\n",
              "98  Marseille    Toulouse   145\n",
              "99   Bordeaux    Toulouse   289\n",
              "\n",
              "[100 rows x 3 columns]"
            ]
          },
          "metadata": {
            "tags": []
          },
          "execution_count": 61
        }
      ]
    },
    {
      "cell_type": "markdown",
      "metadata": {
        "id": "fmWzkIwn2iAI"
      },
      "source": [
        "La deuxième base de données contiendra les prix moyens du billet aller-retour en fonction du mois de départ et de l'aéroport de départ."
      ]
    },
    {
      "cell_type": "code",
      "metadata": {
        "id": "ul7QRhga2IE0"
      },
      "source": [
        "col_2_1 = []\n",
        "col_2_2 = []\n",
        "col_2_3 = []\n",
        "col_2_4 = mois\n",
        "num_list = 0\n",
        "\n",
        "for k in range(len(ordre_villes)):\n",
        "    for l in range(len(villesbis[k])):\n",
        "        col_2_1 = col_2_1 + [villesbis[k][l]]*len(liste_prix_mois[num_list])\n",
        "        col_2_2 = col_2_2 + [ordre_villes[k]]*len(liste_prix_mois[num_list])\n",
        "        col_2_3 = col_2_3 + liste_prix_mois[num_list]\n",
        "        num_list = num_list + 1"
      ],
      "execution_count": 62,
      "outputs": []
    },
    {
      "cell_type": "code",
      "metadata": {
        "id": "zceKP6kF2KRP",
        "colab": {
          "base_uri": "https://localhost:8080/",
          "height": 402
        },
        "outputId": "280b50f3-4cb7-4a44-ad0d-8515ace908ae"
      },
      "source": [
        "table_prix_mois = pandas.DataFrame({'Départ' : col_2_1 , 'Arrivée': col_2_2 , 'Prix': col_2_3, 'Mois': col_2_4})\n",
        "table_prix_mois[:100]"
      ],
      "execution_count": 63,
      "outputs": [
        {
          "output_type": "execute_result",
          "data": {
            "text/html": [
              "<div>\n",
              "<style scoped>\n",
              "    .dataframe tbody tr th:only-of-type {\n",
              "        vertical-align: middle;\n",
              "    }\n",
              "\n",
              "    .dataframe tbody tr th {\n",
              "        vertical-align: top;\n",
              "    }\n",
              "\n",
              "    .dataframe thead th {\n",
              "        text-align: right;\n",
              "    }\n",
              "</style>\n",
              "<table border=\"1\" class=\"dataframe\">\n",
              "  <thead>\n",
              "    <tr style=\"text-align: right;\">\n",
              "      <th></th>\n",
              "      <th>Départ</th>\n",
              "      <th>Arrivée</th>\n",
              "      <th>Prix</th>\n",
              "      <th>Mois</th>\n",
              "    </tr>\n",
              "  </thead>\n",
              "  <tbody>\n",
              "    <tr>\n",
              "      <th>0</th>\n",
              "      <td>Paris</td>\n",
              "      <td>Strasbourg</td>\n",
              "      <td>304</td>\n",
              "      <td>jan</td>\n",
              "    </tr>\n",
              "    <tr>\n",
              "      <th>1</th>\n",
              "      <td>Paris</td>\n",
              "      <td>Strasbourg</td>\n",
              "      <td>185</td>\n",
              "      <td>fév</td>\n",
              "    </tr>\n",
              "    <tr>\n",
              "      <th>2</th>\n",
              "      <td>Paris</td>\n",
              "      <td>Strasbourg</td>\n",
              "      <td>224</td>\n",
              "      <td>mar</td>\n",
              "    </tr>\n",
              "    <tr>\n",
              "      <th>3</th>\n",
              "      <td>Paris</td>\n",
              "      <td>Strasbourg</td>\n",
              "      <td>233</td>\n",
              "      <td>avr</td>\n",
              "    </tr>\n",
              "    <tr>\n",
              "      <th>4</th>\n",
              "      <td>Paris</td>\n",
              "      <td>Strasbourg</td>\n",
              "      <td>250</td>\n",
              "      <td>mai</td>\n",
              "    </tr>\n",
              "    <tr>\n",
              "      <th>...</th>\n",
              "      <td>...</td>\n",
              "      <td>...</td>\n",
              "      <td>...</td>\n",
              "      <td>...</td>\n",
              "    </tr>\n",
              "    <tr>\n",
              "      <th>95</th>\n",
              "      <td>Nice</td>\n",
              "      <td>Strasbourg</td>\n",
              "      <td>106</td>\n",
              "      <td>fév</td>\n",
              "    </tr>\n",
              "    <tr>\n",
              "      <th>96</th>\n",
              "      <td>Nice</td>\n",
              "      <td>Strasbourg</td>\n",
              "      <td>178</td>\n",
              "      <td>mar</td>\n",
              "    </tr>\n",
              "    <tr>\n",
              "      <th>97</th>\n",
              "      <td>Nice</td>\n",
              "      <td>Strasbourg</td>\n",
              "      <td>155</td>\n",
              "      <td>avr</td>\n",
              "    </tr>\n",
              "    <tr>\n",
              "      <th>98</th>\n",
              "      <td>Nice</td>\n",
              "      <td>Strasbourg</td>\n",
              "      <td>155</td>\n",
              "      <td>mai</td>\n",
              "    </tr>\n",
              "    <tr>\n",
              "      <th>99</th>\n",
              "      <td>Nice</td>\n",
              "      <td>Strasbourg</td>\n",
              "      <td>187</td>\n",
              "      <td>juin</td>\n",
              "    </tr>\n",
              "  </tbody>\n",
              "</table>\n",
              "<p>100 rows × 4 columns</p>\n",
              "</div>"
            ],
            "text/plain": [
              "   Départ     Arrivée  Prix  Mois\n",
              "0   Paris  Strasbourg   304   jan\n",
              "1   Paris  Strasbourg   185   fév\n",
              "2   Paris  Strasbourg   224   mar\n",
              "3   Paris  Strasbourg   233   avr\n",
              "4   Paris  Strasbourg   250   mai\n",
              "..    ...         ...   ...   ...\n",
              "95   Nice  Strasbourg   106   fév\n",
              "96   Nice  Strasbourg   178   mar\n",
              "97   Nice  Strasbourg   155   avr\n",
              "98   Nice  Strasbourg   155   mai\n",
              "99   Nice  Strasbourg   187  juin\n",
              "\n",
              "[100 rows x 4 columns]"
            ]
          },
          "metadata": {
            "tags": []
          },
          "execution_count": 63
        }
      ]
    },
    {
      "cell_type": "markdown",
      "metadata": {
        "id": "iBqEgBKD2ooZ"
      },
      "source": [
        "La troisième base de données contiendra les prix moyens du billet aller-retour en fonction du délai entre la réservation et le départ et de l'aéroport de départ."
      ]
    },
    {
      "cell_type": "code",
      "metadata": {
        "id": "dersByMO2Lwl"
      },
      "source": [
        "col_3_1 = []\n",
        "col_3_2 = []\n",
        "col_3_3 = []\n",
        "col_3_4 = avance_mois\n",
        "num_list = 0\n",
        "\n",
        "for k in range(len(ordre_villes)):\n",
        "    for l in range(len(villesbis[k])):\n",
        "        col_3_1 = col_3_1 + [villesbis[k][l]]*len(liste_prix_avance[num_list])\n",
        "        col_3_2 = col_3_2 + [ordre_villes[k]]*len(liste_prix_avance[num_list])\n",
        "        col_3_3 = col_3_3 + liste_prix_avance[num_list]\n",
        "        num_list = num_list + 1"
      ],
      "execution_count": 64,
      "outputs": []
    },
    {
      "cell_type": "code",
      "metadata": {
        "id": "YfBqcr0w2N_i",
        "colab": {
          "base_uri": "https://localhost:8080/",
          "height": 402
        },
        "outputId": "e9f08049-278e-49ba-ac47-2e3416d63da3"
      },
      "source": [
        "table_prix_avance = pandas.DataFrame({'Départ' : col_3_1 , 'Arrivée': col_3_2 , 'Prix': col_3_3, 'Temps entre la réservation et le vol': col_3_4})\n",
        "table_prix_avance[:100]"
      ],
      "execution_count": 65,
      "outputs": [
        {
          "output_type": "execute_result",
          "data": {
            "text/html": [
              "<div>\n",
              "<style scoped>\n",
              "    .dataframe tbody tr th:only-of-type {\n",
              "        vertical-align: middle;\n",
              "    }\n",
              "\n",
              "    .dataframe tbody tr th {\n",
              "        vertical-align: top;\n",
              "    }\n",
              "\n",
              "    .dataframe thead th {\n",
              "        text-align: right;\n",
              "    }\n",
              "</style>\n",
              "<table border=\"1\" class=\"dataframe\">\n",
              "  <thead>\n",
              "    <tr style=\"text-align: right;\">\n",
              "      <th></th>\n",
              "      <th>Départ</th>\n",
              "      <th>Arrivée</th>\n",
              "      <th>Prix</th>\n",
              "      <th>Temps entre la réservation et le vol</th>\n",
              "    </tr>\n",
              "  </thead>\n",
              "  <tbody>\n",
              "    <tr>\n",
              "      <th>0</th>\n",
              "      <td>Paris</td>\n",
              "      <td>Strasbourg</td>\n",
              "      <td>311</td>\n",
              "      <td>0 à 1 mois</td>\n",
              "    </tr>\n",
              "    <tr>\n",
              "      <th>1</th>\n",
              "      <td>Paris</td>\n",
              "      <td>Strasbourg</td>\n",
              "      <td>235</td>\n",
              "      <td>1 à 2 mois</td>\n",
              "    </tr>\n",
              "    <tr>\n",
              "      <th>2</th>\n",
              "      <td>Paris</td>\n",
              "      <td>Strasbourg</td>\n",
              "      <td>196</td>\n",
              "      <td>2 à 3 mois</td>\n",
              "    </tr>\n",
              "    <tr>\n",
              "      <th>3</th>\n",
              "      <td>Paris</td>\n",
              "      <td>Strasbourg</td>\n",
              "      <td>200</td>\n",
              "      <td>3 à 4 mois</td>\n",
              "    </tr>\n",
              "    <tr>\n",
              "      <th>4</th>\n",
              "      <td>Paris</td>\n",
              "      <td>Strasbourg</td>\n",
              "      <td>208</td>\n",
              "      <td>4 à 5 mois</td>\n",
              "    </tr>\n",
              "    <tr>\n",
              "      <th>...</th>\n",
              "      <td>...</td>\n",
              "      <td>...</td>\n",
              "      <td>...</td>\n",
              "      <td>...</td>\n",
              "    </tr>\n",
              "    <tr>\n",
              "      <th>95</th>\n",
              "      <td>Paris</td>\n",
              "      <td>Bordeaux</td>\n",
              "      <td>134</td>\n",
              "      <td>2 à 3 mois</td>\n",
              "    </tr>\n",
              "    <tr>\n",
              "      <th>96</th>\n",
              "      <td>Paris</td>\n",
              "      <td>Bordeaux</td>\n",
              "      <td>154</td>\n",
              "      <td>3 à 4 mois</td>\n",
              "    </tr>\n",
              "    <tr>\n",
              "      <th>97</th>\n",
              "      <td>Paris</td>\n",
              "      <td>Bordeaux</td>\n",
              "      <td>180</td>\n",
              "      <td>4 à 5 mois</td>\n",
              "    </tr>\n",
              "    <tr>\n",
              "      <th>98</th>\n",
              "      <td>Paris</td>\n",
              "      <td>Bordeaux</td>\n",
              "      <td>160</td>\n",
              "      <td>5 à 6 mois</td>\n",
              "    </tr>\n",
              "    <tr>\n",
              "      <th>99</th>\n",
              "      <td>Paris</td>\n",
              "      <td>Bordeaux</td>\n",
              "      <td>269</td>\n",
              "      <td>6 à 7 mois</td>\n",
              "    </tr>\n",
              "  </tbody>\n",
              "</table>\n",
              "<p>100 rows × 4 columns</p>\n",
              "</div>"
            ],
            "text/plain": [
              "   Départ     Arrivée  Prix Temps entre la réservation et le vol\n",
              "0   Paris  Strasbourg   311                           0 à 1 mois\n",
              "1   Paris  Strasbourg   235                           1 à 2 mois\n",
              "2   Paris  Strasbourg   196                           2 à 3 mois\n",
              "3   Paris  Strasbourg   200                           3 à 4 mois\n",
              "4   Paris  Strasbourg   208                           4 à 5 mois\n",
              "..    ...         ...   ...                                  ...\n",
              "95  Paris    Bordeaux   134                           2 à 3 mois\n",
              "96  Paris    Bordeaux   154                           3 à 4 mois\n",
              "97  Paris    Bordeaux   180                           4 à 5 mois\n",
              "98  Paris    Bordeaux   160                           5 à 6 mois\n",
              "99  Paris    Bordeaux   269                           6 à 7 mois\n",
              "\n",
              "[100 rows x 4 columns]"
            ]
          },
          "metadata": {
            "tags": []
          },
          "execution_count": 65
        }
      ]
    },
    {
      "cell_type": "markdown",
      "metadata": {
        "id": "u8jn_sHoRB55"
      },
      "source": [
        "On termine en créant des fichiers csv contenant les données récupérées."
      ]
    },
    {
      "cell_type": "code",
      "metadata": {
        "id": "HQMt3X3LQ_Gq"
      },
      "source": [
        "table_prix_trajet.to_csv('bdd1.csv')\n",
        "table_prix_mois.to_csv('bdd2.csv')\n",
        "table_prix_avance.to_csv('bdd3.csv')"
      ],
      "execution_count": 66,
      "outputs": []
    },
    {
      "cell_type": "markdown",
      "metadata": {
        "id": "CptfBMHu3J8N"
      },
      "source": [
        "### **Données sur le trafic ferroviaire en France**\n"
      ]
    },
    {
      "cell_type": "markdown",
      "metadata": {
        "id": "_iCZ0TcAjdWX"
      },
      "source": [
        "\n",
        "#### Import des modules \n"
      ]
    },
    {
      "cell_type": "code",
      "metadata": {
        "id": "xM3elBk9jdXw"
      },
      "source": [
        "import re\n",
        "import numpy as np"
      ],
      "execution_count": 67,
      "outputs": []
    },
    {
      "cell_type": "markdown",
      "metadata": {
        "id": "x7ddHJCajdYr"
      },
      "source": [
        "#### Ouverture de la base de données"
      ]
    },
    {
      "cell_type": "code",
      "metadata": {
        "id": "bU0ksGG_jdYx",
        "outputId": "30058ce8-7c45-493f-c0b4-19d854f04644",
        "colab": {
          "base_uri": "https://localhost:8080/",
          "height": 402
        }
      },
      "source": [
        "df = pandas.read_csv('tarifs-tgv-par-od.csv')\n",
        "df.columns =['Colonne']\n",
        "df\n",
        "#df.size"
      ],
      "execution_count": 68,
      "outputs": [
        {
          "output_type": "execute_result",
          "data": {
            "text/html": [
              "<div>\n",
              "<style scoped>\n",
              "    .dataframe tbody tr th:only-of-type {\n",
              "        vertical-align: middle;\n",
              "    }\n",
              "\n",
              "    .dataframe tbody tr th {\n",
              "        vertical-align: top;\n",
              "    }\n",
              "\n",
              "    .dataframe thead th {\n",
              "        text-align: right;\n",
              "    }\n",
              "</style>\n",
              "<table border=\"1\" class=\"dataframe\">\n",
              "  <thead>\n",
              "    <tr style=\"text-align: right;\">\n",
              "      <th></th>\n",
              "      <th>Colonne</th>\n",
              "    </tr>\n",
              "  </thead>\n",
              "  <tbody>\n",
              "    <tr>\n",
              "      <th>0</th>\n",
              "      <td>NIMES-LILLE EUROPE;30.0;144.0;184.0;</td>\n",
              "    </tr>\n",
              "    <tr>\n",
              "      <th>1</th>\n",
              "      <td>MOUTIERS SALINS BRIDES-QUIMPER;30.0;147.0;190.0;</td>\n",
              "    </tr>\n",
              "    <tr>\n",
              "      <th>2</th>\n",
              "      <td>LANDRY-QUIMPER;30.0;147.0;190.0;</td>\n",
              "    </tr>\n",
              "    <tr>\n",
              "      <th>3</th>\n",
              "      <td>TGV HAUTE PICARDIE-AGDE;30.0;150.0;188.0;</td>\n",
              "    </tr>\n",
              "    <tr>\n",
              "      <th>4</th>\n",
              "      <td>TGV HAUTE PICARDIE-SETE;30.0;150.0;188.0;</td>\n",
              "    </tr>\n",
              "    <tr>\n",
              "      <th>...</th>\n",
              "      <td>...</td>\n",
              "    </tr>\n",
              "    <tr>\n",
              "      <th>4157</th>\n",
              "      <td>PLOUARET TREGOR - PARIS MONTPARNASSE 1 ET 2;20...</td>\n",
              "    </tr>\n",
              "    <tr>\n",
              "      <th>4158</th>\n",
              "      <td>DOL DE BRETAGNE - PARIS MONTPARNASSE 1 ET 2;20...</td>\n",
              "    </tr>\n",
              "    <tr>\n",
              "      <th>4159</th>\n",
              "      <td>MARNE LA VALLEE CHESSY - MORLAIX;20.0;99.0;138...</td>\n",
              "    </tr>\n",
              "    <tr>\n",
              "      <th>4160</th>\n",
              "      <td>QUIMPERLE - MARNE LA VALLEE CHESSY;20.0;103.0;...</td>\n",
              "    </tr>\n",
              "    <tr>\n",
              "      <th>4161</th>\n",
              "      <td>MASSY TGV - QUIMPER;20.0;103.0;147.0;Tarifs ap...</td>\n",
              "    </tr>\n",
              "  </tbody>\n",
              "</table>\n",
              "<p>4162 rows × 1 columns</p>\n",
              "</div>"
            ],
            "text/plain": [
              "                                                Colonne\n",
              "0                  NIMES-LILLE EUROPE;30.0;144.0;184.0;\n",
              "1      MOUTIERS SALINS BRIDES-QUIMPER;30.0;147.0;190.0;\n",
              "2                      LANDRY-QUIMPER;30.0;147.0;190.0;\n",
              "3             TGV HAUTE PICARDIE-AGDE;30.0;150.0;188.0;\n",
              "4             TGV HAUTE PICARDIE-SETE;30.0;150.0;188.0;\n",
              "...                                                 ...\n",
              "4157  PLOUARET TREGOR - PARIS MONTPARNASSE 1 ET 2;20...\n",
              "4158  DOL DE BRETAGNE - PARIS MONTPARNASSE 1 ET 2;20...\n",
              "4159  MARNE LA VALLEE CHESSY - MORLAIX;20.0;99.0;138...\n",
              "4160  QUIMPERLE - MARNE LA VALLEE CHESSY;20.0;103.0;...\n",
              "4161  MASSY TGV - QUIMPER;20.0;103.0;147.0;Tarifs ap...\n",
              "\n",
              "[4162 rows x 1 columns]"
            ]
          },
          "metadata": {
            "tags": []
          },
          "execution_count": 68
        }
      ]
    },
    {
      "cell_type": "markdown",
      "metadata": {
        "id": "fFKH8fK8jdZV"
      },
      "source": [
        "On observe que la base de données récupérée possède une seule colonne et 4162 lignes. Chaque ligne correspond à un trajet (gare de départ-gare d'arrivée), tarif d'appel en seconde classe, plein tarif de loisir en seconde classe et tarif de première classe. Il faut donc créer un DataFrame contenant ces informations séparées en 5 colonnes."
      ]
    },
    {
      "cell_type": "markdown",
      "metadata": {
        "id": "3lNCa0SPjdZf"
      },
      "source": [
        "#### Création de deux colonnes : gare de départ, gare d'arrivée  "
      ]
    },
    {
      "cell_type": "code",
      "metadata": {
        "id": "gx6FCmJfjdZk",
        "outputId": "05f190a7-6f25-4f09-b6fd-1517a3fb199c",
        "colab": {
          "base_uri": "https://localhost:8080/"
        }
      },
      "source": [
        "liste_gare_0= []\n",
        "for k in range(len(df['Colonne'])):\n",
        "    liste_gare_0.append(re.split(';', df['Colonne'][k])[0])\n",
        "liste_gare_0"
      ],
      "execution_count": 69,
      "outputs": [
        {
          "output_type": "execute_result",
          "data": {
            "text/plain": [
              "['NIMES-LILLE EUROPE',\n",
              " 'MOUTIERS SALINS BRIDES-QUIMPER',\n",
              " 'LANDRY-QUIMPER',\n",
              " 'TGV HAUTE PICARDIE-AGDE',\n",
              " 'TGV HAUTE PICARDIE-SETE',\n",
              " 'PARIS GARE DE LYON-TOULON',\n",
              " 'PARIS GARE DE LYON-MONTBELIARD',\n",
              " 'LIMOGES BENEDICTINS-AEROPORT CDG 2 TGV ROISSY',\n",
              " 'CHATEAUROUX-AEROPORT CDG 2 TGV ROISSY',\n",
              " 'CHAMBERY CHALLES LES EAUX-MASSY TGV',\n",
              " 'MASSY TGV-AIX LES BAINS LE REVARD',\n",
              " 'AEROPORT CDG 2 TGV ROISSY-AIX LES BAINS LE REVARD',\n",
              " 'NICE VILLE-CHALON SUR SAONE',\n",
              " 'BELFORT-MONTBELIARD TGV-LONS LE SAUNIER',\n",
              " 'MARSEILLE ST CHARLES-LONS LE SAUNIER',\n",
              " 'BESANCON VIOTTE-LILLE EUROPE',\n",
              " 'ANGERS ST LAUD-NANCY VILLE',\n",
              " 'LE MANS-PARIS MONTPARNASSE 1 ET 2',\n",
              " 'LE MANS-MASSY TGV',\n",
              " 'AEROPORT CDG 2 TGV ROISSY-ALBERTVILLE',\n",
              " 'PARIS NORD-ALBERTVILLE',\n",
              " 'MARNE LA VALLEE CHESSY-BOURG ST MAURICE',\n",
              " 'ST JEAN DE MAURIENNE ARVAN-MARNE LA VALLEE CHESSY',\n",
              " 'MARNE LA VALLEE CHESSY-ST MICHEL VALLOIRE',\n",
              " 'MARNE LA VALLEE CHESSY-ANNECY',\n",
              " 'MASSY TGV-ANNEMASSE',\n",
              " 'MASSY PALAISEAU-VALENCE',\n",
              " 'LE TEIL-PARIS GARE DE LYON',\n",
              " 'PARIS EST-ST DIE',\n",
              " 'MEUSE-LUNEVILLE',\n",
              " 'LYON ST EXUPERY-POITIERS',\n",
              " 'MACON LOCHE TGV-ORANGE',\n",
              " 'MEUSE-REMIREMONT',\n",
              " 'AVIGNON TGV-VENTIMIGLIA STAZIONE',\n",
              " 'POITIERS-SAVERNE',\n",
              " 'ANGOULEME-SAVERNE',\n",
              " 'VENDOME VILLIERS SUR LOIR-LYON ST EXUPERY',\n",
              " 'LYON ST EXUPERY-BELFORT-MONTBELIARD TGV',\n",
              " 'BOURG ST MAURICE-BESANCON FRANCHE-COMTE TGV',\n",
              " 'AVIGNON-RENNES',\n",
              " 'AVIGNON-BELFORT-MONTBELIARD TGV',\n",
              " 'BESANCON VIOTTE-AVIGNON',\n",
              " 'AVIGNON-LONS LE SAUNIER',\n",
              " 'CAGNES SUR MER-NICE VILLE',\n",
              " 'QUIMPERLE-LORIENT',\n",
              " 'BOULOGNE VILLE-ETAPLES LE TOUQUET',\n",
              " 'BORDEAUX ST JEAN-LIBOURNE',\n",
              " 'STRASBOURG-SELESTAT',\n",
              " 'CLUSES  74-ANNEMASSE',\n",
              " 'LUNEVILLE-SARREBOURG',\n",
              " 'GROISY THORENS LA CAILLE-CLUSES  74',\n",
              " 'BORDEAUX ST JEAN-LA TESTE',\n",
              " 'TOURS-BLOIS',\n",
              " 'ST ETIENNE CHATEAUCREUX-LYON PART DIEU',\n",
              " 'LYON PERRACHE-MACON LOCHE TGV',\n",
              " 'NIMES-AGDE',\n",
              " 'CLUSES  74-AIX LES BAINS LE REVARD',\n",
              " 'LILLE FLANDRES-TGV HAUTE PICARDIE',\n",
              " 'MOUTIERS SALINS BRIDES-AIX LES BAINS LE REVARD',\n",
              " 'AVIGNON-MARSEILLE BLANCARDE',\n",
              " 'CHAMBERY CHALLES LES EAUX-AIME LA PLAGNE',\n",
              " 'BESANCON VIOTTE-BOURG EN BRESSE',\n",
              " 'LANDRY-BOURG EN BRESSE',\n",
              " 'LANDRY-AIX LES BAINS LE REVARD',\n",
              " 'FACTURE BIGANOS-BAYONNE',\n",
              " 'LYON ST EXUPERY-ANNEMASSE',\n",
              " 'CARCASSONNE-NIMES',\n",
              " 'SABLE-LA ROCHE SUR YON',\n",
              " 'BOURG EN BRESSE-SALLANCHES COMBLOUX MEGEVE',\n",
              " 'SURGERES-ST PIERRE DES CORPS',\n",
              " 'BREAUTE BEUZEVILLE-MASSY PALAISEAU',\n",
              " 'RANG DU FLIERS VERTON-LILLE EUROPE',\n",
              " 'COLMAR-MOUCHARD',\n",
              " 'AGEN-ANGOULEME',\n",
              " 'BORDEAUX ST JEAN-LOURDES',\n",
              " 'ST PERAY-AGDE',\n",
              " 'POITIERS-MARMANDE',\n",
              " 'BRIVE LA GAILLARDE-LES AUBRAIS ORLEANS',\n",
              " 'IRUN-POITIERS',\n",
              " 'HENDAYE-FUTUROSCOPE',\n",
              " 'ST PIERRE DES CORPS-TARBES',\n",
              " 'AIX EN PROVENCE TGV-VENTIMIGLIA STAZIONE',\n",
              " 'ST AVRE LA CHAMBRE-MACON LOCHE TGV',\n",
              " 'AVIGNON-AGDE',\n",
              " 'NIMES-MARNE LA VALLEE CHESSY',\n",
              " 'MASSY TGV-LYON ST EXUPERY',\n",
              " 'METZ VILLE-LYON ST EXUPERY',\n",
              " 'METZ VILLE-LYON PERRACHE',\n",
              " 'CULMONT CHALINDREY-cannes',\n",
              " 'NEUFCHATEAU-toulouse matabiau',\n",
              " 'CULMONT CHALINDREY-NIMES',\n",
              " 'paris austerlitz-Surgeres',\n",
              " 'PARIS MONTPARNASSE 1 ET 2-FUTUROSCOPE',\n",
              " 'LORIENT-DOUAI',\n",
              " 'AGEN-PARIS MONTPARNASSE 1 ET 2',\n",
              " 'MASSY TGV-LE POULIGUEN',\n",
              " 'MASSY TGV-SURGERES',\n",
              " 'FUTUROSCOPE-ST PIERRE DES CORPS',\n",
              " 'LAVAL-VANNES',\n",
              " 'LAVAL-AURAY',\n",
              " 'LE MANS-REDON',\n",
              " 'BORDEAUX ST JEAN-VENDOME VILLIERS SUR LOIR',\n",
              " 'LA TESTE-POITIERS',\n",
              " 'BREST-PARIS MONTPARNASSE 1 ET 2',\n",
              " 'AEROPORT CDG2 TGV ROISSY - LIBOURNE',\n",
              " 'LILLE EUROPE - LORIENT',\n",
              " 'VANNES - DOUAI',\n",
              " 'DOUAI - AURAY',\n",
              " 'ANGOULEME - MASSY TGV',\n",
              " 'ANGERS ST LAUD - PARIS MONTPARNASSE 1 ET 2',\n",
              " 'LA ROCHELLE VILLE - PARIS MONTPARNASSE 1 ET 2',\n",
              " 'PARIS MONTPARNASSE 1 ET 2 - TOULOUSE MATABIAU',\n",
              " 'ANGERS ST LAUD - MASSY TGV',\n",
              " 'MASSY TGV - LE CROISIC',\n",
              " 'JUVISY TGV-MARNE LA VALLEE CHESSY',\n",
              " 'AVIGNON TGV-MARSEILLE ST CHARLES',\n",
              " 'JUVISY TGV-AEROPORT CDG 2 TGV ROISSY',\n",
              " \"LE HAVRE-CONFLANS FIN D'OISE\",\n",
              " 'METZ VILLE-CHAMPAGNE ARDENNE',\n",
              " 'VALENCE TGV-LE CREUSOT MONTCEAU MONTCHANIN',\n",
              " 'AIX EN PROVENCE TGV-NARBONNE',\n",
              " 'TOURCOING-PARIS NORD',\n",
              " 'CHERBOURG-MANTES LA J. TGV',\n",
              " 'DIJON VILLE-VALENCE',\n",
              " 'AVIGNON-LE CREUSOT MONTCEAU MONTCHANIN',\n",
              " 'AVIGNON TGV-NICE VILLE',\n",
              " 'LYON ST EXUPERY-TOULON',\n",
              " 'LILLE FLANDRES-LES AUBRAIS ORLEANS',\n",
              " 'LYON ST EXUPERY-ST RAPHAEL VALESCURE',\n",
              " 'BESANCON VIOTTE-LISIEUX',\n",
              " 'LILLE FLANDRES-TOURS',\n",
              " 'ST MAIXENT DEUX SEVRES-TGV HAUTE PICARDIE',\n",
              " 'LILLE FLANDRES-FUTUROSCOPE',\n",
              " 'FONTAINEBLEAU AVON-AIX EN PROVENCE TGV',\n",
              " 'NIORT-ARRAS',\n",
              " 'LAMBALLE-ARRAS',\n",
              " 'ST BRIEUC-TGV HAUTE PICARDIE',\n",
              " 'CAEN-AIME LA PLAGNE',\n",
              " 'LISON-ALBERTVILLE',\n",
              " 'CARENTAN-BOURG ST MAURICE',\n",
              " 'EVREUX EMBRANCHEMENT-LANDRY',\n",
              " 'TOURS-AIX EN PROVENCE TGV',\n",
              " 'LILLE EUROPE-ST GERVAIS LES BAINS LE FAYET',\n",
              " 'AIME LA PLAGNE-DOUAI',\n",
              " 'DOUAI-ST MICHEL VALLOIRE',\n",
              " 'ARRAS-SALLANCHES COMBLOUX MEGEVE',\n",
              " 'DUNKERQUE-MODANE',\n",
              " 'DUNKERQUE-ANNECY',\n",
              " 'LILLE EUROPE-LA ROCHE SUR FORON',\n",
              " 'LA ROCHE SUR FORON-NANTES',\n",
              " 'LE HAVRE-MARSEILLE ST CHARLES',\n",
              " 'RENNES-VALENCE',\n",
              " 'BOURG ST MAURICE-RENNES',\n",
              " 'LANDRY-RENNES',\n",
              " 'AIME LA PLAGNE-VANNES',\n",
              " 'MOUTIERS SALINS BRIDES-AURAY',\n",
              " 'LA ROCHE SUR FORON-REDON',\n",
              " 'LORIENT-ANNECY',\n",
              " 'CHATELLERAULT - ST PIERRE DES CORPS',\n",
              " 'LE MANS - AURAY',\n",
              " 'LE MANS - QUIMPERLE',\n",
              " 'MARNE LA VALLEE CHESSY - LANDERNEAU',\n",
              " 'MARNE LA VALLEE CHESSY - ROSPORDEN',\n",
              " 'TOURS - CHATELLERAULT',\n",
              " 'ANGERS ST LAUD - LYON SAINT EXUPERY TGV',\n",
              " 'ARRAS-DOUAI',\n",
              " 'HENDAYE-BIARRITZ',\n",
              " 'BAYEUX-LISON',\n",
              " 'METZ VILLE-THIONVILLE',\n",
              " 'GUINGAMP-ST BRIEUC',\n",
              " 'NURIEUX-BELLEGARDE',\n",
              " 'PLOUARET TREGOR-ST BRIEUC',\n",
              " 'CASTELNAUDARY-TOULOUSE MATABIAU',\n",
              " 'DAX-BIARRITZ',\n",
              " 'ARLES-ORANGE',\n",
              " 'GROISY THORENS LA CAILLE-SALLANCHES COMBLOUX MEGEVE',\n",
              " 'NARBONNE-SETE',\n",
              " 'MANTES LA J. TGV-ROUEN RIVE DROITE',\n",
              " 'PAU-MORCENX',\n",
              " 'DAX-PAU',\n",
              " 'MARSEILLE ST CHARLES-HYERES',\n",
              " 'TOURCOING-ARRAS',\n",
              " 'BREST-PLOUARET TREGOR',\n",
              " 'VALENCE-ORANGE',\n",
              " \"LES SABLES D'OLONNE-NANTES\",\n",
              " 'BESANCON VIOTTE-BELFORT',\n",
              " 'ANCENIS-LA ROCHE SUR YON',\n",
              " 'DIJON VILLE-FRASNE',\n",
              " 'ST PERAY-VILLENEUVE LES AVIGNONS',\n",
              " 'NIMES-MONTELIMAR',\n",
              " 'SAUMUR-VENDOME VILLIERS SUR LOIR',\n",
              " 'NANTES-AURAY',\n",
              " 'AIX EN PROVENCE TGV-LES ARCS DRAGUIGNAN',\n",
              " 'CASTELNAUDARY-MONTPELLIER',\n",
              " 'VERSAILLES CHANTIERS-YVETOT',\n",
              " 'LIMOGES BENEDICTINS-VIERZON VILLE',\n",
              " 'ANGERS ST LAUD-VANNES',\n",
              " 'HENDAYE-LIBOURNE',\n",
              " 'ANGERS ST LAUD-LORIENT',\n",
              " 'LE MANS-LE CROISIC',\n",
              " 'LYON PART DIEU-BOURG ST MAURICE',\n",
              " 'QUIMPER-VITRE',\n",
              " 'HENDAYE-POITIERS',\n",
              " 'ST PIERRE DES CORPS-TOULOUSE MATABIAU',\n",
              " 'VENDOME-MASSY TGV',\n",
              " 'VENDOME-LIBOURNE',\n",
              " 'CULOZ-TOULON',\n",
              " 'MARNE LA VALLEE CHESSY-MONTPELLIER',\n",
              " 'MASSY TGV-MARSEILLE ST CHARLES',\n",
              " 'VERSAILLES CHANTIERS-MARSEILLE ST CHARLES',\n",
              " 'AVIGNON-MARNE LA VALLEE CHESSY',\n",
              " 'LYON PART DIEU-PARIS GARE DE LYON',\n",
              " 'BESANCON VIOTTE-MANTES LA JOLIE',\n",
              " 'MULHOUSE VILLE-PARIS GARE DE LYON',\n",
              " 'ROUEN RIVE DROITE-YVETOT',\n",
              " 'LE HAVRE-MEUSE',\n",
              " 'CHAMPAGNE ARDENNE-ROUEN RIVE DROITE',\n",
              " 'MULHOUSE VILLE-AVIGNON TGV',\n",
              " 'METZ VILLE-MONTPELLIER',\n",
              " 'STRASBOURG-LYON ST EXUPERY',\n",
              " 'Toul-carcassonne',\n",
              " 'NEUFCHATEAU-Agde',\n",
              " 'NEUFCHATEAU-carcassonne',\n",
              " 'ST AVRE - LA CHAMBRE-VERSAILLES CHANTIERS',\n",
              " 'ST JEAN DE MAURIENNE ARVAN-VERSAILLES CHANTIERS',\n",
              " 'SETE-MASSY TGV',\n",
              " 'paris austerlitz-brest',\n",
              " 'paris austerlitz-rosporden',\n",
              " 'POITIERS-TGV HAUTE PICARDIE',\n",
              " 'LILLE EUROPE-LORIENT',\n",
              " 'LE MANS-NIMES',\n",
              " 'QUIMPERLE-LILLE EUROPE',\n",
              " 'POITIERS-PARIS MONTPARNASSE 1 ET 2',\n",
              " 'ANGOULEME-MASSY TGV',\n",
              " 'MASSY TGV-NANTES',\n",
              " 'AEROPORT CDG 2 TGV ROISSY-RENNES',\n",
              " 'PARIS MONTPARNASSE 1 ET 2-TARBES',\n",
              " 'LYON PERRACHE-RENNES',\n",
              " 'ANGOULEME-FACTURE BIGANOS',\n",
              " 'BORDEAUX ST JEAN-FUTUROSCOPE',\n",
              " 'AEROPORT CDG 2 TGV ROISSY-ST MALO',\n",
              " 'BREST-MASSY TGV',\n",
              " 'CHAMPAGNE ARDENNE - FUTUROSCOPE',\n",
              " 'QUIMPERLE - TGV HAUTE PICARDIE',\n",
              " 'LILLE EUROPE - AURAY',\n",
              " 'MARSEILLE ST CHARLES - ST PIERRE DES CORPS',\n",
              " 'LE MANS - AIX EN PROVENCE TGV',\n",
              " 'PARIS MONTPARNASSE 1 ET 2 - BAYONNE',\n",
              " 'MARNE LA VALLEE CHESSY - ST NAZAIRE',\n",
              " 'SURGERES - PARIS MONTPARNASSE 1 ET 2',\n",
              " 'MASSY TGV - VANNES',\n",
              " 'AEROPORT CDG 2 TGV ROISSY-MASSY PALAISEAU',\n",
              " 'MACON LOCHE TGV-VALENCE',\n",
              " 'VALENCE-CHALON SUR SAONE',\n",
              " 'TOULON-VALENCE',\n",
              " 'MARNE LA VALLEE CHESSY-ST PIERRE DES CORPS',\n",
              " 'AIX EN PROVENCE TGV-LYON ST EXUPERY',\n",
              " 'LYON PERRACHE-AGDE',\n",
              " 'LYON PART DIEU-SENS',\n",
              " 'AIX EN PROVENCE TGV-BELLEGARDE',\n",
              " 'ANGOULEME-PARIS AUSTERLITZ',\n",
              " 'LYON PART DIEU-ST RAPHAEL VALESCURE',\n",
              " 'LYON PERRACHE-TOULOUSE MATABIAU',\n",
              " 'LAVAL-CHAMPAGNE ARDENNE',\n",
              " 'BEZIERS-BEAUNE',\n",
              " 'LILLE FLANDRES-LE MANS',\n",
              " 'LYON PERRACHE-TGV HAUTE PICARDIE',\n",
              " 'LYON PART DIEU-ST NAZAIRE',\n",
              " 'ROUEN RIVE DROITE-VALENCE',\n",
              " 'PORNICHET-LYON PART DIEU',\n",
              " 'ANGOULEME-LYON PART DIEU',\n",
              " 'LILLE FLANDRES-LIMOGES BENEDICTINS',\n",
              " 'TGV HAUTE PICARDIE-ST GERVAIS LES BAINS LE FAYET',\n",
              " 'ANNECY-TGV HAUTE PICARDIE',\n",
              " 'LILLE FLANDRES-ST BRIEUC',\n",
              " 'METZ VILLE-LES ARCS DRAGUIGNAN',\n",
              " 'CHERBOURG-CHAMBERY CHALLES LES EAUX',\n",
              " 'CHAMBERY CHALLES LES EAUX-DOUAI',\n",
              " 'DOUAI-ST GERVAIS LES BAINS LE FAYET',\n",
              " 'DUNKERQUE-SALLANCHES COMBLOUX MEGEVE',\n",
              " 'GRENOBLE-DOUAI',\n",
              " 'AIX EN PROVENCE TGV-ROUEN RIVE DROITE',\n",
              " 'ANGERS ST LAUD-NIMES',\n",
              " 'ANGERS ST LAUD-AVIGNON',\n",
              " 'ST JEAN DE MAURIENNE ARVAN-RENNES',\n",
              " 'MOUTIERS SALINS BRIDES-VANNES',\n",
              " 'ST JEAN DE MAURIENNE ARVAN-AURAY',\n",
              " 'CHAMBERY CHALLES LES EAUX-GUINGAMP',\n",
              " 'AVIGNON-LILLE EUROPE',\n",
              " 'IRUN-DOUAI',\n",
              " 'MODANE-BREST',\n",
              " 'ST JEAN DE MAURIENNE ARVAN-QUIMPER',\n",
              " 'BREST-LA ROCHE SUR FORON',\n",
              " 'ST AVRE LA CHAMBRE-QUIMPER',\n",
              " 'LILLE FLANDRES-TOULON',\n",
              " 'LILLE EUROPE-MARMANDE',\n",
              " 'CHATEAUROUX-MARNE LA VALLEE CHESSY',\n",
              " 'DIJON VILLE-MANTES LA J. TGV',\n",
              " 'MONTBARD-BELFORT-MONTBELIARD TGV',\n",
              " 'COLMAR-LONS LE SAUNIER',\n",
              " 'MULHOUSE VILLE-BOURG EN BRESSE',\n",
              " 'DIJON VILLE-CARCASSONNE',\n",
              " 'BEZIERS-CHALON SUR SAONE',\n",
              " 'DIJON VILLE-CANNES',\n",
              " 'DIJON VILLE-NICE VILLE',\n",
              " 'BESANCON VIOTTE-AVIGNON TGV',\n",
              " 'METZ VILLE-TOULON',\n",
              " 'NANCY VILLE-CANNES',\n",
              " 'NANCY VILLE-NANTES',\n",
              " 'LAMBALLE-AEROPORT CDG 2 TGV ROISSY',\n",
              " 'PARIS NORD-VALENCE TGV',\n",
              " 'PARIS MONTPARNASSE 1 ET 2-SETE',\n",
              " 'PARIS MONTPARNASSE 1 ET 2-NARBONNE',\n",
              " 'PARIS NORD-LES ARCS DRAGUIGNAN',\n",
              " 'AEROPORT CDG 2 TGV ROISSY-MOUTIERS SALINS BRIDES',\n",
              " 'AEROPORT CDG 2 TGV ROISSY-ANNECY',\n",
              " 'MASSY TGV-ST GERVAIS LES BAINS LE FAYET',\n",
              " 'MACON LOCHE TGV-MARNE LA VALLEE CHESSY',\n",
              " 'MARNE LA VALLEE CHESSY-BELFORT-MONTBELIARD TGV',\n",
              " 'ARLES-MACON LOCHE TGV',\n",
              " 'COLMAR-PARIS GARE DE LYON',\n",
              " 'AEROPORT CDG 2 TGV ROISSY-SAVERNE',\n",
              " 'MEUSE-SAVERNE',\n",
              " 'AIME LA PLAGNE-BESANCON FRANCHE-COMTE TGV',\n",
              " 'LE POULIGUEN-LE CROISIC',\n",
              " 'BIARRITZ-BAYONNE',\n",
              " 'LILLE FLANDRES-ROUBAIX',\n",
              " 'AIME LA PLAGNE-BOURG ST MAURICE',\n",
              " 'AIX EN PROVENCE TGV-MARSEILLE ST CHARLES',\n",
              " 'MASSY TGV - BAYONNE',\n",
              " 'LAVAL - QUIMPERLE',\n",
              " 'MONTAUBAN VILLE BOURBON - ST PIERRE DES CORPS',\n",
              " 'LA TESTE - POITIERS',\n",
              " 'MORLAIX - PARIS MONTPARNASSE 1 ET 2',\n",
              " 'DOUAI-ST JEAN DE LUZ CIBOURE',\n",
              " 'IRUN-ARRAS',\n",
              " 'LILLE EUROPE-SETE',\n",
              " 'LILLE FLANDRES-PERPIGNAN',\n",
              " 'CASTELNAUDARY-LILLE EUROPE',\n",
              " 'ETAPLES LE TOUQUET-PARIS NORD',\n",
              " 'AVIGNON TGV-LYON ST EXUPERY',\n",
              " 'BESANCON VIOTTE-COLMAR',\n",
              " 'CANNES-CHALON SUR SAONE',\n",
              " 'TOUL-ST RAPHAEL VALESCURE',\n",
              " 'NANCY VILLE-VALENCE TGV',\n",
              " 'PARIS AUSTERLITZ-MONTAUBAN VILLE BOURBON',\n",
              " 'MANTES LA J. TGV-VALENCE TGV',\n",
              " 'AEROPORT CDG 2 TGV ROISSY-NICE VILLE',\n",
              " 'PARIS NORD-MOUTIERS SALINS BRIDES',\n",
              " 'LANDRY-PARIS GARE DE LYON',\n",
              " 'AEROPORT CDG 2 TGV ROISSY-BOURG ST MAURICE',\n",
              " 'LANDRY-AEROPORT CDG 2 TGV ROISSY',\n",
              " 'PARIS GARE DE LYON-EVIAN LES BAINS',\n",
              " 'MARNE LA VALLEE CHESSY-ANNEMASSE',\n",
              " 'MARNE LA VALLEE CHESSY-ST GERVAIS LES BAINS LE FAYET',\n",
              " 'AEROPORT CDG 2 TGV ROISSY-ST GERVAIS LES BAINS LE FAYET',\n",
              " 'PARIS GARE DE LYON-MONTELIMAR',\n",
              " 'PARIS EST-BAR LE DUC',\n",
              " 'LYON PART DIEU-POITIERS',\n",
              " 'AIX EN PROVENCE TGV-VENDOME VILLIERS SUR LOIR',\n",
              " 'MULHOUSE VILLE-ALBERTVILLE',\n",
              " 'AVIGNON-ECOLE VALENTIN',\n",
              " 'LANDRY-ECOLE VALENTIN',\n",
              " 'CHAMBÉRY-CHAMBÉRY-LAVAL',\n",
              " 'TOURCOING-CROIX WASQUEHAL',\n",
              " 'CALAIS VILLE-CALAIS FRETHUN',\n",
              " 'CAGNES SUR MER-ANTIBES',\n",
              " 'MODANE-ST MICHEL VALLOIRE',\n",
              " 'BEZIERS-AGDE',\n",
              " 'CULOZ-AIX LES BAINS LE REVARD',\n",
              " 'GUINGAMP-PLOUARET TREGOR',\n",
              " 'LES ARCS DRAGUIGNAN-ST RAPHAEL VALESCURE',\n",
              " 'LILLE FLANDRES-DOUAI',\n",
              " 'CANNES-NICE VILLE',\n",
              " 'ANGERS ST LAUD-SAUMUR',\n",
              " 'CHAMBERY CHALLES LES EAUX-ANNECY',\n",
              " 'RUFFEC CHARENTE-POITIERS',\n",
              " 'DIJON VILLE-CHALON SUR SAONE',\n",
              " 'DUNKERQUE-BETHUNE',\n",
              " 'ANTIBES-LES ARCS DRAGUIGNAN',\n",
              " 'CROIX WASQUEHAL-ARRAS',\n",
              " 'LA BAULE ESCOUBLAC-NANTES',\n",
              " 'BEZIERS-CARCASSONNE',\n",
              " 'LANNION-LAMBALLE',\n",
              " 'ARCACHON-LIBOURNE',\n",
              " 'MIRAMAS-ORANGE',\n",
              " 'LIMOGES BENEDICTINS-BRIVE LA GAILLARDE',\n",
              " 'ANCENIS-SABLE',\n",
              " 'AIX LES BAINS LE REVARD-BOURG EN BRESSE',\n",
              " 'LYON PERRACHE-AIX LES BAINS LE REVARD',\n",
              " 'MARSEILLE ST CHARLES-LES ARCS DRAGUIGNAN',\n",
              " 'AGEN-BORDEAUX ST JEAN',\n",
              " 'DUNKERQUE-DOUAI',\n",
              " 'LYON PART DIEU-BELLEGARDE',\n",
              " 'SURGERES-CHATELLERAULT',\n",
              " 'GRENOBLE-LYON ST EXUPERY',\n",
              " 'LYON PART DIEU-BEAUNE',\n",
              " 'LA ROCHE SUR FORON-BOURG EN BRESSE',\n",
              " 'ANGERS ST LAUD-LE POULIGUEN',\n",
              " 'FACTURE BIGANOS-ST JEAN DE LUZ CIBOURE',\n",
              " 'GRENOBLE-MACON LOCHE TGV',\n",
              " 'MARSEILLE BLANCARDE-MONTELIMAR',\n",
              " 'ST JEAN DE MAURIENNE ARVAN-LYON ST EXUPERY',\n",
              " 'LE CROISIC-SABLE',\n",
              " 'MULHOUSE VILLE-MOUCHARD',\n",
              " 'NANTES-ST BRIEUC',\n",
              " 'CHERBOURG-EVREUX EMBRANCHEMENT',\n",
              " 'QUIMPERLE-VITRE',\n",
              " 'VALOGNES-MANTES LA JOLIE',\n",
              " 'ANGOULEME-MONTAUBAN VILLE BOURBON',\n",
              " 'IRUN-ANGOULEME',\n",
              " 'AGEN-ST PIERRE DES CORPS',\n",
              " 'AIX EN PROVENCE TGV-AIX LES BAINS LE REVARD',\n",
              " 'POITIERS-TARBES',\n",
              " 'AIX EN PROVENCE TGV-ANNECY',\n",
              " 'MENTON-VENTIMIGLIA STAZIONE',\n",
              " 'BASEL SBB-MULHOUSE VILLE',\n",
              " 'MACON VILLE-MOUTIERS SALINS BRIDES',\n",
              " 'VERSAILLES CHANTIERS-VALOGNES',\n",
              " 'VILLENEUVE LES AVIGNONS-ORANGE',\n",
              " 'VILLENEUVE LES AVIGNONS-MONTELIMAR',\n",
              " 'AVIGNON TGV-ANNECY',\n",
              " 'NIMES-LE CREUSOT MONTCEAU MONTCHANIN',\n",
              " 'VENDOME-BORDEAUX ST JEAN',\n",
              " 'CHAMBERY CHALLES LES EAUX-CANNES',\n",
              " 'NIMES-PARIS GARE DE LYON',\n",
              " 'STRASBOURG-CHALON SUR SAONE',\n",
              " 'METZ VILLE-AVIGNON TGV',\n",
              " 'STRASBOURG-LYON PERRACHE',\n",
              " 'THIONVILLE-AVIGNON TGV',\n",
              " 'CHAMPAGNE ARDENNE-colmar',\n",
              " 'MÂCON LOCHÉ TGV-MASSY PALAISEAU',\n",
              " 'GRENOBLE-MASSY PALAISEAU',\n",
              " 'paris austerlitz-Pornichet',\n",
              " 'paris austerlitz-la-teste',\n",
              " 'NANTES-TGV HAUTE PICARDIE',\n",
              " 'TGV HAUTE PICARDIE-REDON',\n",
              " 'LILLE FLANDRES-ST MALO',\n",
              " 'AEROPORT CDG 2 TGV ROISSY-NANTES',\n",
              " 'LA BAULE ESCOUBLAC-MARNE LA VALLEE CHESSY',\n",
              " 'AGEN-MASSY TGV',\n",
              " 'MASSY TGV-ORTHEZ',\n",
              " 'FACTURE BIGANOS-ST PIERRE DES CORPS',\n",
              " 'NANTES - TGV HAUTE PICARDIE',\n",
              " 'CHAMPAGNE ARDENNE - RENNES',\n",
              " 'TGV HAUTE PICARDIE - AURAY',\n",
              " 'TGV HAUTE PICARDIE - QUIMPER',\n",
              " 'ARRAS - ST MALO',\n",
              " 'MONTPELLIER - RENNES',\n",
              " 'LA TESTE - PARIS MONTPARNASSE 1 ET 2',\n",
              " 'CHAMPAGNE ARDENNE-CHALONS EN CHAMPAGNE',\n",
              " 'MANTES LA J. TGV-CONFLANS FDO TGV',\n",
              " 'MEUSE-NANCY VILLE',\n",
              " 'AVIGNON TGV-MONTPELLIER',\n",
              " 'EVREUX EMBRANCHEMENT-MARNE LA VALLEE CHESSY',\n",
              " 'AEROPORT CDG 2 TGV ROISSY-ROUEN RIVE DROITE',\n",
              " 'MACON VILLE-VALENCE',\n",
              " 'LILLE FLANDRES-PARIS NORD',\n",
              " 'CHAMPAGNE ARDENNE-TGV HAUTE PICARDIE',\n",
              " 'AVIGNON TGV-MENTON',\n",
              " 'CHAMPAGNE ARDENNE-LILLE EUROPE',\n",
              " 'DIJON VILLE-EVREUX EMBRANCHEMENT',\n",
              " 'CHAMPAGNE ARDENNE-ARRAS',\n",
              " 'FONTAINEBLEAU AVON-LYON PART DIEU',\n",
              " 'LYON ST EXUPERY-TGV HAUTE PICARDIE',\n",
              " 'LA BAULE ESCOUBLAC-LILLE EUROPE',\n",
              " 'LE CREUSOT MONTCEAU MONTCHANIN-DOUAI',\n",
              " 'AGEN-CHALON SUR SAONE',\n",
              " 'LE CROISIC-LYON PERRACHE',\n",
              " 'GUINGAMP-ARRAS',\n",
              " 'SURGERES-DOUAI',\n",
              " 'NEUFCHATEAU-ANTIBES',\n",
              " 'CHERBOURG-BOURG ST MAURICE',\n",
              " 'ALBERTVILLE-BERNAY',\n",
              " 'LILLE FLANDRES-VALENCE',\n",
              " 'LE POULIGUEN-GRENOBLE',\n",
              " 'LILLE EUROPE-MOUTIERS SALINS BRIDES',\n",
              " 'CHAMBERY CHALLES LES EAUX-ARRAS',\n",
              " 'ST JEAN DE MAURIENNE ARVAN-LILLE EUROPE',\n",
              " 'LILLE FLANDRES-ST JEAN DE MAURIENNE ARVAN',\n",
              " 'DUNKERQUE-MOUTIERS SALINS BRIDES',\n",
              " 'LANDRY-ARRAS',\n",
              " 'NANTES-BOURG ST MAURICE',\n",
              " 'MODANE-RENNES',\n",
              " 'GUINGAMP-ST GERVAIS LES BAINS LE FAYET',\n",
              " 'GUINGAMP-CLUSES  74',\n",
              " 'CHAMBERY CHALLES LES EAUX-AURAY',\n",
              " 'ANNECY-AURAY',\n",
              " 'LILLE FLANDRES-MONTAUBAN VILLE BOURBON',\n",
              " 'ORTHEZ - PARIS MONTPARNASSE 1 ET 2',\n",
              " 'MASSY TGV - LOURDES',\n",
              " 'ANGOULEME - FUTUROSCOPE',\n",
              " 'BORDEAUX ST JEAN - FUTUROSCOPE',\n",
              " 'LE MANS - LANNION',\n",
              " 'TOURS - BORDEAUX ST JEAN',\n",
              " 'LE MANS - LANDERNEAU',\n",
              " 'AEROPORT CDG2 TGV ROISSY - MORLAIX',\n",
              " 'MASSY TGV - ROSPORDEN',\n",
              " 'ANGERS ST LAUD-SABLE',\n",
              " 'VANNES-REDON',\n",
              " 'METZ VILLE-TOUL',\n",
              " 'GUINGAMP-MORLAIX',\n",
              " 'DOL-RENNES',\n",
              " 'MOUCHARD-MONTBELIARD',\n",
              " 'NANTES-LA ROCHE SUR YON',\n",
              " 'BELLEGARDE-EVIAN LES BAINS',\n",
              " 'BIARRITZ-MORCENX',\n",
              " 'LEPIN LE LAC LA BAUCHE-MOUTIERS SALINS BRIDES',\n",
              " 'ALBERTVILLE-BOURG EN BRESSE',\n",
              " 'RENNES-ST BRIEUC',\n",
              " 'CHAMBERY CHALLES LES EAUX-LYON ST EXUPERY',\n",
              " 'DUNKERQUE-ARRAS',\n",
              " 'CHAMBERY CHALLES LES EAUX-CLUSES  74',\n",
              " 'LYON PART DIEU-CHALON SUR SAONE',\n",
              " 'LA ROCHELLE VILLE-FUTUROSCOPE',\n",
              " 'ST JEAN DE MAURIENNE ARVAN-MACON LOCHE TGV',\n",
              " 'GUINGAMP-VITRE',\n",
              " 'EVREUX EMBRANCHEMENT-LISON',\n",
              " 'CHAMBERY CHALLES LES EAUX-VALENCE TGV',\n",
              " 'LE TEIL-MARSEILLE BLANCARDE',\n",
              " 'ST JEAN DE MAURIENNE ARVAN-LYON PART DIEU',\n",
              " 'AIX EN PROVENCE TGV-CANNES',\n",
              " 'BREAUTE BEUZEVILLE-VERSAILLES CHANTIERS',\n",
              " 'LE MANS-SAVENAY',\n",
              " 'BAYONNE-LIBOURNE',\n",
              " 'LAVAL-LANNION',\n",
              " 'CARENTAN-MANTES LA J. TGV',\n",
              " 'ST JEAN DE LUZ CIBOURE-LIBOURNE',\n",
              " 'CHATEAUROUX-JUVISY',\n",
              " 'LANDRY-LYON PART DIEU',\n",
              " 'LE POULIGUEN-ST PIERRE DES CORPS',\n",
              " 'VILLENEUVE LES AVIGNONS-ST RAPHAEL VALESCURE',\n",
              " 'GUINGAMP-NANTES',\n",
              " 'BREST-VITRE',\n",
              " 'LIBOURNE-TOULOUSE MATABIAU',\n",
              " 'ANGOULEME-BAYONNE',\n",
              " 'RUFFEC CHARENTE-BAYONNE',\n",
              " 'AVIGNON TGV-CHAMBERY CHALLES LES EAUX',\n",
              " 'BAYONNE-CHATELLERAULT',\n",
              " 'POITIERS-TOULOUSE MATABIAU',\n",
              " 'LOURDES-CHATELLERAULT',\n",
              " 'LEPIN LE LAC LA BAUCHE-ROUEN RIVE DROITE',\n",
              " 'CARCASSONNE-PERPIGNAN',\n",
              " 'MACON VILLE-LANDRY',\n",
              " 'AVIGNON TGV-MIRAMAS',\n",
              " 'LISON-MASSY PALAISEAU',\n",
              " 'CHERBOURG-MASSY PALAISEAU',\n",
              " 'GENEVE-VALENCE',\n",
              " 'NIMES-AEROPORT CDG 2 TGV ROISSY',\n",
              " 'AVIGNON TGV-MARNE LA VALLEE CHESSY',\n",
              " 'AVIGNON TGV-VERSAILLES CHANTIERS',\n",
              " 'MASSY TGV-LYON PART DIEU',\n",
              " 'LYON PART DIEU-MASSY PALAISEAU',\n",
              " 'LYON PERRACHE-MASSY PALAISEAU',\n",
              " 'LYON ST EXUPERY-MANTES LA J. TGV',\n",
              " 'CAEN-MANTES LA JOLIE',\n",
              " 'DOLE VILLE-BELFORT',\n",
              " 'STRASBOURG-MASSY TGV',\n",
              " 'STRASBOURG-LAVAL',\n",
              " 'PARIS EST-SELESTAT',\n",
              " 'CULMONT CHALINDREY-ST RAPHAEL VALESCURE',\n",
              " 'CULMONT CHALINDREY-carcassonne',\n",
              " 'Nancy ville-SETE',\n",
              " 'ST JEAN DE MAURIENNE ARVAN-MASSY PALAISEAU',\n",
              " 'paris austerlitz-rennes',\n",
              " \"paris austerlitz-Les Sables d'Olonne\",\n",
              " 'paris austerlitz-arcachon',\n",
              " 'paris austerlitz-futuroscope',\n",
              " 'TGV HAUTE PICARDIE-VANNES',\n",
              " 'TGV HAUTE PICARDIE-AURAY',\n",
              " 'LORRAINE TGV-FUTUROSCOPE',\n",
              " 'ANGOULEME-ARRAS',\n",
              " 'DOUAI-LIBOURNE',\n",
              " 'PAU-PARIS MONTPARNASSE 1 ET 2',\n",
              " 'MASSY TGV-ST BRIEUC',\n",
              " 'PARIS MONTPARNASSE 1 ET 2-ST JEAN DE LUZ CIBOURE',\n",
              " 'LYON PART DIEU-ST PIERRE DES CORPS',\n",
              " 'LAVAL-DOL',\n",
              " 'PAU-FUTUROSCOPE',\n",
              " 'LA TESTE-ST PIERRE DES CORPS',\n",
              " 'LANNION-PARIS MONTPARNASSE 1 ET 2',\n",
              " 'MASSY TGV-DOL',\n",
              " 'MASSY TGV-ST MALO',\n",
              " 'MARNE LA VALLEE CHESSY-ROSPORDEN',\n",
              " 'PARIS MONTPARNASSE 1 ET 2 - ST NAZAIRE',\n",
              " 'LAMBALLE - PARIS MONTPARNASSE 1 ET 2',\n",
              " 'PARIS MONTPARNASSE 1 ET 2 - VANNES',\n",
              " 'LE CROISIC - MARNE LA VALLEE CHESSY',\n",
              " 'AEROPORT CDG2 TGV ROISSY - VANNES',\n",
              " \"CONFLANS FIN D'OISE-MANTES LA JOLIE\",\n",
              " 'MARNE LA VALLEE CHESSY-MASSY PALAISEAU',\n",
              " 'LE HAVRE-CONFLANS FDO TGV',\n",
              " 'CHAMPAGNE ARDENNE-AEROPORT CDG 2 TGV ROISSY',\n",
              " 'LYON PART DIEU-ORANGE',\n",
              " 'VALENCE TGV-BELLEGARDE',\n",
              " 'CAEN-AEROPORT CDG 2 TGV ROISSY',\n",
              " 'VALENCE TGV-BEAUNE',\n",
              " 'AIX EN PROVENCE TGV-LYON PERRACHE',\n",
              " 'CARCASSONNE-VALENCE TGV',\n",
              " 'NIMES-BELLEGARDE',\n",
              " 'MACON LOCHE TGV-MARSEILLE ST CHARLES',\n",
              " 'CHAMPAGNE ARDENNE-DOUAI',\n",
              " 'VALENCE-ANTIBES',\n",
              " 'TOURS-CHAMPAGNE ARDENNE',\n",
              " 'MEUSE-ST PIERRE DES CORPS',\n",
              " 'NURIEUX-PARIS GARE DE LYON',\n",
              " 'SAUMUR-LE CREUSOT MONTCEAU MONTCHANIN',\n",
              " 'LE MANS-DOUAI',\n",
              " 'LAVAL-DOUAI',\n",
              " 'ANGERS ST LAUD-ARRAS',\n",
              " 'DOUAI-ST PIERRE DES CORPS',\n",
              " 'LAROCHE MIGENNES-MARSEILLE ST CHARLES',\n",
              " 'LA ROCHE SUR FORON-MARNE LA VALLEE CHESSY',\n",
              " 'LA ROCHE SUR FORON-AEROPORT CDG 2 TGV ROISSY',\n",
              " 'MELUN-MARSEILLE ST CHARLES',\n",
              " 'LILLE EUROPE-LE CREUSOT MONTCEAU MONTCHANIN',\n",
              " 'LE HAVRE-VALENCE',\n",
              " 'LE MANS-ANNECY',\n",
              " 'TOURS-CHAMBERY CHALLES LES EAUX',\n",
              " 'LYON ST EXUPERY-LILLE EUROPE',\n",
              " 'LAVAL-VALENCE',\n",
              " 'ROUEN RIVE DROITE-ALBERTVILLE',\n",
              " 'ANGERS ST LAUD-LANDRY',\n",
              " 'LE MANS-LA ROCHE SUR FORON',\n",
              " 'LAMBALLE-LILLE EUROPE',\n",
              " 'CAEN-LANDRY',\n",
              " 'CHERBOURG-LANDRY',\n",
              " 'CHERBOURG-ALBERTVILLE',\n",
              " 'ANNECY-DOUAI',\n",
              " 'QUIMPER-DOUAI',\n",
              " 'ARRAS-AIX LES BAINS LE REVARD',\n",
              " 'MODANE-NANTES',\n",
              " 'AVIGNON TGV-ROUEN RIVE DROITE',\n",
              " 'NANTES-VALENCE TGV',\n",
              " 'AIME LA PLAGNE-RENNES',\n",
              " 'LA ROCHE SUR FORON-RENNES',\n",
              " 'MODANE-REDON',\n",
              " 'ST JEAN DE MAURIENNE ARVAN-REDON',\n",
              " 'LANDRY-REDON',\n",
              " 'LA ROCHE SUR FORON-AURAY',\n",
              " 'AIME LA PLAGNE-REDON',\n",
              " 'AVIGNON-DOUAI',\n",
              " 'LILLE FLANDRES-BIARRITZ',\n",
              " 'AIX EN PROVENCE TGV-LILLE EUROPE',\n",
              " 'BREST-MOUTIERS SALINS BRIDES',\n",
              " 'BREST-CHAMBERY CHALLES LES EAUX',\n",
              " 'QUIMPER-ST GERVAIS LES BAINS LE FAYET',\n",
              " 'CARCASSONNE-LILLE EUROPE',\n",
              " 'LILLE FLANDRES-BEZIERS',\n",
              " 'LILLE FLANDRES-LES ARCS DRAGUIGNAN',\n",
              " 'AVIGNON-CARCASSONNE',\n",
              " 'LILLE FLANDRES-MARNE LA VALLEE CHESSY',\n",
              " 'CALAIS VILLE-PARIS NORD',\n",
              " 'AVIGNON-LYON PART DIEU',\n",
              " 'LYON PERRACHE-VALENCE TGV',\n",
              " 'DIJON VILLE-BESANCON VIOTTE',\n",
              " 'PARIS GARE DE LYON-PONTARLIER',\n",
              " 'MACON VILLE-BESANCON FRANCHE-COMTE TGV',\n",
              " 'NIMES-MACON VILLE',\n",
              " 'NANCY VILLE-ST RAPHAEL VALESCURE',\n",
              " 'METZ VILLE-CANNES',\n",
              " 'DIJON VILLE-LILLE FLANDRES',\n",
              " 'LILLE FLANDRES-MULHOUSE VILLE',\n",
              " 'MACON VILLE-PERPIGNAN',\n",
              " 'LILLE FLANDRES-NANCY VILLE',\n",
              " 'LYON PART DIEU-MONTAUBAN VILLE BOURBON',\n",
              " 'VENDOME VILLIERS SUR LOIR-PARIS MONTPARNASSE 1 ET 2',\n",
              " 'MARNE LA VALLEE CHESSY-MARMANDE',\n",
              " 'AEROPORT CDG 2 TGV ROISSY-BAYONNE',\n",
              " 'MARNE LA VALLEE CHESSY-BAYONNE',\n",
              " 'VERSAILLES CHANTIERS-VALENCE TGV',\n",
              " 'MASSY TGV-BOURG ST MAURICE',\n",
              " 'MARNE LA VALLEE CHESSY-AIME LA PLAGNE',\n",
              " 'PARIS NORD-ANNEMASSE',\n",
              " 'MASSY TGV-CLUSES  74',\n",
              " 'CLUSES  74-PARIS NORD',\n",
              " 'PARIS NORD-ARRAS',\n",
              " 'AVIGNON-NIMES',\n",
              " 'AVIGNON-CANNES',\n",
              " 'LAVAL-NANCY VILLE',\n",
              " 'BELFORT-MONTBELIARD TGV-ECOLE VALENTIN',\n",
              " 'STRASBOURG-ECOLE VALENTIN',\n",
              " 'CHALON SUR SAONE-ECOLE VALENTIN',\n",
              " 'VENDOME VILLIERS SUR LOIR-TGV HAUTE PICARDIE',\n",
              " 'BELFORT-MONTBELIARD TGV-ALBERTVILLE',\n",
              " 'BONNEVILLE-LA ROCHE SUR FORON',\n",
              " 'ROSPORDEN-QUIMPER',\n",
              " 'BIARRITZ - MASSY TGV',\n",
              " 'HENDAYE - RUFFEC CHARENTE',\n",
              " 'MARNE LA VALLEE CHESSY-MANTES LA JOLIE',\n",
              " 'MANTES LA J. TGV-LISIEUX',\n",
              " 'CAEN-MANTES LA J. TGV',\n",
              " 'NIMES-VALENCE TGV',\n",
              " 'AIX EN PROVENCE TGV-BEZIERS',\n",
              " 'MARNE LA VALLEE CHESSY-LISIEUX',\n",
              " 'MARSEILLE ST CHARLES-VALENCE TGV',\n",
              " 'NIMES-LYON PART DIEU',\n",
              " 'LILLE FLANDRES-JUVISY TGV',\n",
              " 'CHERBOURG-AEROPORT CDG 2 TGV ROISSY',\n",
              " 'LYON PART DIEU-SETE',\n",
              " 'LORRAINE TGV-MARNE LA VALLEE CHESSY',\n",
              " 'VALENCE-ST RAPHAEL VALESCURE',\n",
              " 'VALENCE TGV-SENS',\n",
              " 'TGV HAUTE PICARDIE-ST PIERRE DES CORPS',\n",
              " 'CANNES-LYON PART DIEU',\n",
              " 'LE HAVRE-LYON PERRACHE',\n",
              " 'CULOZ-PARIS NORD',\n",
              " 'AGDE-BEAUNE',\n",
              " 'TOULON-BEAUNE',\n",
              " 'LORRAINE TGV-DOUAI',\n",
              " 'FONTAINEBLEAU AVON-VALENCE TGV',\n",
              " 'ANGERS ST LAUD-LILLE EUROPE',\n",
              " 'MARSEILLE ST CHARLES-NEUFCHATEAU',\n",
              " 'LYON PART DIEU-TGV HAUTE PICARDIE',\n",
              " 'LORRAINE TGV-ST PIERRE DES CORPS',\n",
              " 'LILLE EUROPE-ST NAZAIRE',\n",
              " 'LILLE FLANDRES-LYON PART DIEU',\n",
              " 'SAUMUR-VALENCE TGV',\n",
              " 'AVIGNON-LE MANS',\n",
              " 'GRENOBLE-TGV HAUTE PICARDIE',\n",
              " 'TGV HAUTE PICARDIE-ALBERTVILLE',\n",
              " 'LE MANS-BOURG ST MAURICE',\n",
              " 'LE MANS-ST AVRE LA CHAMBRE',\n",
              " 'ANGERS ST LAUD-ST AVRE LA CHAMBRE',\n",
              " 'LE MANS-ANNEMASSE',\n",
              " 'BAYEUX-CHAMBERY CHALLES LES EAUX',\n",
              " 'CARENTAN-AIME LA PLAGNE',\n",
              " 'ANNECY-RENNES',\n",
              " 'ARRAS-ALBERTVILLE',\n",
              " 'MOUTIERS SALINS BRIDES-DOUAI',\n",
              " 'BREST-LYON PART DIEU',\n",
              " 'LYON PERRACHE-MORLAIX',\n",
              " 'AIX EN PROVENCE TGV-TGV HAUTE PICARDIE',\n",
              " 'LANDRY-VANNES',\n",
              " 'LORIENT-ALBERTVILLE',\n",
              " 'ALBERTVILLE-AURAY',\n",
              " 'LORIENT-AIX LES BAINS LE REVARD',\n",
              " 'NIMES-NANTES',\n",
              " 'DAX-LILLE EUROPE',\n",
              " 'AIX EN PROVENCE TGV-ARRAS',\n",
              " 'MORLAIX-SALLANCHES COMBLOUX MEGEVE',\n",
              " 'BEZIERS-LILLE EUROPE',\n",
              " 'TGV HAUTE PICARDIE-TOULOUSE MATABIAU',\n",
              " 'BEZIERS-ARRAS',\n",
              " 'FONTAINEBLEAU AVON-LYON ST EXUPERY',\n",
              " 'LYON PART DIEU-VALENCE TGV',\n",
              " 'JUVISY-LILLE EUROPE',\n",
              " 'MULHOUSE VILLE-BESANCON FRANCHE-COMTE TGV',\n",
              " 'BELFORT-MONTBELIARD TGV-BESANCON FRANCHE-COMTE TGV',\n",
              " 'MULHOUSE VILLE-MACON VILLE',\n",
              " 'COLMAR-LYON PART DIEU',\n",
              " 'DIJON VILLE-MONTPELLIER',\n",
              " 'CHALON SUR SAONE-SETE',\n",
              " 'DIJON VILLE-AVIGNON TGV',\n",
              " 'CHALON SUR SAONE-ST RAPHAEL VALESCURE',\n",
              " 'AVIGNON TGV-MACON VILLE',\n",
              " 'BESANCON VIOTTE-MARSEILLE ST CHARLES',\n",
              " 'AIX EN PROVENCE TGV-NANCY VILLE',\n",
              " 'TOULON-TOUL',\n",
              " 'LILLE FLANDRES-BESANCON FRANCHE-COMTE TGV',\n",
              " 'CHAMPAGNE ARDENNE-NANCY VILLE',\n",
              " 'MARNE LA VALLEE CHESSY-ST BRIEUC',\n",
              " 'AGEN-PARIS AUSTERLITZ',\n",
              " 'AEROPORT CDG 2 TGV ROISSY-ST JEAN DE LUZ CIBOURE',\n",
              " 'HENDAYE-AEROPORT CDG 2 TGV ROISSY',\n",
              " 'MARNE LA VALLEE CHESSY-LES ARCS DRAGUIGNAN',\n",
              " 'NICE VILLE-PARIS NORD',\n",
              " 'CLUSES  74-AEROPORT CDG 2 TGV ROISSY',\n",
              " 'MACON LOCHE TGV-AEROPORT CDG 2 TGV ROISSY',\n",
              " 'MONTBARD-MANTES LA JOLIE',\n",
              " 'MONTBARD-PARIS BERCY',\n",
              " 'MANTES LA J. TGV-VALENCE',\n",
              " 'PARIS NORD-ST OMER',\n",
              " 'LYON ST EXUPERY-RENNES',\n",
              " 'LYON ST EXUPERY-FUTUROSCOPE',\n",
              " 'BASEL SBB-LYON PART DIEU',\n",
              " 'MARNE LA VALLEE CHESSY-SAVERNE',\n",
              " 'BASEL SBB-ECOLE VALENTIN',\n",
              " 'CHAMBERY CHALLES LES EAUX-MASSY PALAISEAU',\n",
              " 'BESANCON VIOTTE-CHAMBERY CHALLES LES EAUX',\n",
              " 'MOUTIERS SALINS BRIDES L BAINS-LAVAL-MOUTIERS SALINS BRIDES L BAINS',\n",
              " 'MEUSE TGV-LILLE EUROPE-147322',\n",
              " 'ST GERVAIS LES BAINS LE FAYET-SALLANCHES COMBLOUX MEGEVE',\n",
              " 'RANG DU FLIERS VERTON-ETAPLES LE TOUQUET',\n",
              " 'FACTURE BIGANOS-ARCACHON',\n",
              " 'AIX EN PROVENCE TGV-MARSEILLE BLANCARDE',\n",
              " 'VITRY-LE-FRANÇOIS-CHALONS EN CHAMPAGNE',\n",
              " 'NURIEUX-BOURG EN BRESSE',\n",
              " 'ANTIBES-MONACO MONTE CARLO',\n",
              " 'BESANCON VIOTTE-DOLE VILLE',\n",
              " 'LILLE EUROPE-BETHUNE',\n",
              " 'SAUMUR-ST PIERRE DES CORPS',\n",
              " 'CAGNES SUR MER-ST RAPHAEL VALESCURE',\n",
              " 'MELUN-SENS',\n",
              " 'RETHEL-SEDAN',\n",
              " 'VITRY-LE-FRANÇOIS-REIMS',\n",
              " 'RUFFEC CHARENTE-FUTUROSCOPE',\n",
              " 'CHATEAUROUX-LA SOUTERRAINE',\n",
              " 'ORTHEZ-MORCENX',\n",
              " 'RIVES-LYON ST EXUPERY',\n",
              " 'ANGERS ST LAUD-LE MANS',\n",
              " 'LES ARCS DRAGUIGNAN-VENTIMIGLIA STAZIONE  (IT)',\n",
              " 'BOURG EN BRESSE-LE CREUSOT MONTCEAU MONTCHANIN',\n",
              " 'AIX LES BAINS LE REVARD-ST GERVAIS LES BAINS LE FAYET',\n",
              " 'VERSAILLES CHANTIERS-ROUEN RIVE DROITE',\n",
              " 'CHAMBERY CHALLES LES EAUX-LYON PERRACHE',\n",
              " 'DOLE VILLE-MONTBELIARD',\n",
              " 'CHAMBERY CHALLES LES EAUX-ST GERVAIS LES BAINS LE FAYET',\n",
              " 'CARCASSONNE-MONTPELLIER',\n",
              " 'ANGERS ST LAUD-LA ROCHE SUR YON',\n",
              " 'BRIVE LA GAILLARDE-LA SOUTERRAINE',\n",
              " 'CULMONT CHALINDREY-NANCY VILLE',\n",
              " \"ANGERS ST LAUD-LES SABLES D'OLONNE\",\n",
              " 'AGEN-LIBOURNE',\n",
              " 'QUIMPERLE-RENNES',\n",
              " 'CHALONS EN CHAMPAGNE-THIONVILLE',\n",
              " 'POITIERS-LIBOURNE',\n",
              " 'LE HAVRE-VERSAILLES CHANTIERS',\n",
              " 'BREAUTE BEUZEVILLE-MASSY TGV',\n",
              " 'LA ROCHELLE VILLE-ST PIERRE DES CORPS',\n",
              " \"LES SABLES D'OLONNE-SABLE\",\n",
              " 'METZ VILLE-IS SUR TILLE',\n",
              " 'STRASBOURG-MOUCHARD',\n",
              " 'RUFFEC CHARENTE-ST JEAN DE LUZ CIBOURE',\n",
              " 'MACON VILLE-BOURG ST MAURICE',\n",
              " 'VERSAILLES CHANTIERS-LISON',\n",
              " 'EVREUX EMBRANCHEMENT-MASSY PALAISEAU',\n",
              " 'VALENCE TGV-MONTELIMAR',\n",
              " 'VENDOME-PARIS MONTPARNASSE 1 ET 2',\n",
              " 'CHAMBERY CHALLES LES EAUX-NICE VILLE',\n",
              " 'BORDEAUX ST JEAN-BEAUNE',\n",
              " 'LYON PART DIEU-MANTES LA JOLIE',\n",
              " 'MASSY TGV-LYON PERRACHE',\n",
              " 'VERSAILLES CHANTIERS-LYON PERRACHE',\n",
              " 'VENDOME VILLIERS SUR LOIR-la rochelle',\n",
              " 'CHERBOURG-MANTES LA JOLIE',\n",
              " 'CAEN-MONTBARD',\n",
              " 'COLMAR-MONTBELIARD',\n",
              " 'MONTELIMAR-NARBONNE',\n",
              " 'BEZIERS-LE CREUSOT MONTCEAU MONTCHANIN',\n",
              " 'STRASBOURG-DOUAI',\n",
              " 'STRASBOURG-LE MANS',\n",
              " 'THIONVILLE-BELFORT-MONTBELIARD TGV',\n",
              " 'CULMONT CHALINDREY-toulon',\n",
              " 'CULMONT CHALINDREY-Les Arcs Draguignan',\n",
              " 'BOURG EN BRESSE-MASSY PALAISEAU',\n",
              " 'MULHOUSE-PARIS EST',\n",
              " 'MARNE LA VALLEE CHESSY-FUTUROSCOPE',\n",
              " 'ANGOULEME-TGV HAUTE PICARDIE',\n",
              " 'AVIGNON TGV-ST PIERRE DES CORPS',\n",
              " 'MASSY TGV-POITIERS',\n",
              " 'LYON PERRACHE-ST PIERRE DES CORPS',\n",
              " 'MARNE LA VALLEE CHESSY-ST MALO',\n",
              " 'MARNE LA VALLEE CHESSY-MORLAIX',\n",
              " 'AEROPORT CDG 2 TGV ROISSY-QUIMPER',\n",
              " 'MASSY TGV - MARNE LA VALLEE CHESSY',\n",
              " 'PARIS MONTPARNASSE 1 ET 2 - FUTUROSCOPE',\n",
              " 'BORDEAUX ST JEAN - MARNE LA VALLEE CHESSY',\n",
              " 'DOUAI - REDON',\n",
              " 'LORRAINE TGV - RENNES',\n",
              " 'MONTPELLIER - ST PIERRE DES CORPS',\n",
              " 'DAX - PARIS MONTPARNASSE 1 ET 2',\n",
              " 'LAVAL - MASSY TGV',\n",
              " 'MASSY TGV - GUINGAMP',\n",
              " 'LAVAL - REDON',\n",
              " 'FACTURE BIGANOS - ST PIERRE DES CORPS',\n",
              " 'CHATELLERAULT - TOULOUSE MATABIAU',\n",
              " 'LA TESTE - FUTUROSCOPE',\n",
              " 'STRASBOURG - POITIERS',\n",
              " 'MARNE LA VALLEE CHESSY - QUIMPER',\n",
              " 'LILLE FLANDRES - VANNES',\n",
              " 'LILLE FLANDRES - ROSPORDEN',\n",
              " 'IRUN-LILLE FLANDRES',\n",
              " 'HENDAYE-DOUAI',\n",
              " 'IRUN-LILLE EUROPE',\n",
              " 'AVIGNON-PERPIGNAN',\n",
              " 'CHAMBERY CHALLES LES EAUX-PARIS GARE DE LYON',\n",
              " 'LES AUBRAIS ORLEANS-MARNE LA VALLEE CHESSY',\n",
              " 'PARIS NORD-AIX LES BAINS LE REVARD',\n",
              " 'DIJON VILLE-LILLE EUROPE',\n",
              " 'LILLE EUROPE-BELFORT-MONTBELIARD TGV',\n",
              " 'DIJON VILLE-AIX EN PROVENCE TGV',\n",
              " 'BELFORT-MONTBELIARD TGV-VALENCE TGV',\n",
              " 'BESANCON VIOTTE-VALENCE TGV',\n",
              " 'BESANCON VIOTTE-LYON PART DIEU',\n",
              " 'ANGOULEME-NANCY VILLE',\n",
              " 'LE MANS-AEROPORT CDG 2 TGV ROISSY',\n",
              " 'AEROPORT CDG 2 TGV ROISSY-ST BRIEUC',\n",
              " 'AGEN-MARNE LA VALLEE CHESSY',\n",
              " 'AGEN-AEROPORT CDG 2 TGV ROISSY',\n",
              " 'BIARRITZ-PARIS AUSTERLITZ',\n",
              " 'PARIS AUSTERLITZ-BAYONNE',\n",
              " 'MASSY TGV-VALENCE TGV',\n",
              " 'AEROPORT CDG 2 TGV ROISSY-AGDE',\n",
              " 'PARIS NORD-ANTIBES',\n",
              " 'ST AVRE LA CHAMBRE-MARNE LA VALLEE CHESSY',\n",
              " 'MODANE-PARIS GARE DE LYON',\n",
              " 'AEROPORT CDG 2 TGV ROISSY-BELLEGARDE',\n",
              " 'AEROPORT CDG 2 TGV ROISSY-SALLANCHES COMBLOUX MEGEVE',\n",
              " 'AEROPORT CDG 2 TGV ROISSY-BELFORT-MONTBELIARD TGV',\n",
              " 'MASSY TGV-MEUSE',\n",
              " 'LYON ST EXUPERY-ST PIERRE DES CORPS',\n",
              " 'AVIGNON-MARSEILLE ST CHARLES',\n",
              " 'AVIGNON-ST RAPHAEL VALESCURE',\n",
              " 'VENDOME VILLIERS SUR LOIR-MARSEILLE ST CHARLES',\n",
              " 'MULHOUSE VILLE-AIME LA PLAGNE',\n",
              " 'METZ VILLE-AVIGNON',\n",
              " 'MODANE-ST JEAN DE MAURIENNE ARVAN',\n",
              " 'DOUAI-VALENCIENNES',\n",
              " 'MODANE-ST AVRE LA CHAMBRE',\n",
              " 'STRASBOURG-SAVERNE',\n",
              " 'ST PERAY-LE TEIL',\n",
              " 'CAEN-LISIEUX',\n",
              " 'LE MANS-SABLE',\n",
              " 'GROISY THORENS LA CAILLE-AIX LES BAINS LE REVARD',\n",
              " 'HAZEBROUCK-LILLE EUROPE',\n",
              " 'ANNEMASSE-SALLANCHES COMBLOUX MEGEVE',\n",
              " 'BESANCON VIOTTE-LONS LE SAUNIER',\n",
              " 'MORCENX-BAYONNE',\n",
              " 'ARLES-MARSEILLE ST CHARLES',\n",
              " 'LYON ST EXUPERY-MACON LOCHE TGV',\n",
              " 'LE HAVRE-ROUEN RIVE DROITE',\n",
              " 'ST MAIXENT DEUX SEVRES-LA ROCHELLE VILLE',\n",
              " 'GUINGAMP-LANDERNEAU',\n",
              " 'LAMBALLE-MORLAIX',\n",
              " 'ARLES-LE TEIL',\n",
              " 'ARLES-MONTELIMAR',\n",
              " 'JUVISY TGV-LES AUBRAIS ORLEANS',\n",
              " 'LOURDES-MORCENX',\n",
              " 'RENNES-VANNES',\n",
              " 'LYON ST EXUPERY-AIX LES BAINS LE REVARD',\n",
              " 'NANTES-VANNES',\n",
              " 'DIJON VILLE-PONTARLIER',\n",
              " 'CHATEAUROUX-LES AUBRAIS ORLEANS',\n",
              " 'MASSY PALAISEAU-ROUEN RIVE DROITE',\n",
              " 'CULMONT CHALINDREY-CHALON SUR SAONE',\n",
              " 'MACON LOCHE TGV-ANNECY',\n",
              " 'PORNICHET-SABLE',\n",
              " 'TOULON-ORANGE',\n",
              " 'ETAPLES LE TOUQUET-LILLE EUROPE',\n",
              " 'METZ VILLE-CULMONT CHALINDREY',\n",
              " 'BRIVE LA GAILLARDE-CHATEAUROUX',\n",
              " 'LE MANS-LA ROCHE SUR YON',\n",
              " 'VALOGNES-BERNAY',\n",
              " 'LE MANS-PORNICHET',\n",
              " 'MORLAIX-NANTES',\n",
              " 'BORDEAUX ST JEAN-NARBONNE',\n",
              " 'BORDEAUX ST JEAN-MONTPELLIER',\n",
              " 'AVIGNON TGV-MONTELIMAR',\n",
              " 'GRENOBLE-AIX LES BAINS LE REVARD',\n",
              " 'MONTPELLIER-LE CREUSOT MONTCEAU MONTCHANIN',\n",
              " 'AIX EN PROVENCE TGV-VERSAILLES CHANTIERS',\n",
              " 'AVIGNON TGV-AEROPORT CDG 2 TGV ROISSY',\n",
              " 'DIJON VILLE-AEROPORT CDG 2 TGV ROISSY',\n",
              " 'LE HAVRE-CHAMPAGNE ARDENNE',\n",
              " 'DIJON VILLE-MULHOUSE VILLE',\n",
              " 'DIJON VILLE-STRASBOURG',\n",
              " 'METZ VILLE-MARSEILLE ST CHARLES',\n",
              " 'TOUL-VALENCE TGV',\n",
              " 'Toul-toulouse matabiau',\n",
              " 'Modane-LE CREUSOT MONTCEAU MONTCHANIN',\n",
              " 'CHAMBERY CHALLES LES EAUX-LE CREUSOT MONTCEAU MONTCHANIN',\n",
              " 'AGEN-SETE',\n",
              " 'paris austerlitz-Dol de Bretagne',\n",
              " 'paris austerlitz-libourne',\n",
              " 'ANGOULEME-DOUAI',\n",
              " 'LILLE EUROPE-LIBOURNE',\n",
              " 'BORDEAUX ST JEAN-PARIS MONTPARNASSE 1 ET 2',\n",
              " 'NIORT-PARIS MONTPARNASSE 1 ET 2',\n",
              " 'MASSY TGV-REDON',\n",
              " 'MASSY TGV-FACTURE BIGANOS',\n",
              " 'BIARRITZ-MASSY TGV',\n",
              " 'ANGERS ST LAUD-LYON PART DIEU',\n",
              " 'LAVAL-ST BRIEUC',\n",
              " 'LAVAL-GUINGAMP',\n",
              " 'ANGOULEME-ST PIERRE DES CORPS',\n",
              " 'LE MANS-LAMBALLE',\n",
              " 'BORDEAUX ST JEAN-POITIERS',\n",
              " 'POITIERS-ARCACHON',\n",
              " 'LE MANS-QUIMPER',\n",
              " 'CHATELLERAULT-MONTAUBAN VILLE BOURBON',\n",
              " 'FACTURE BIGANOS-FUTUROSCOPE',\n",
              " 'LA TESTE-FUTUROSCOPE',\n",
              " 'STRASBOURG-BORDEAUX ST JEAN',\n",
              " 'LORIENT-PARIS MONTPARNASSE 1 ET 2',\n",
              " 'AEROPORT CDG 2 TGV ROISSY-AURAY',\n",
              " 'QUIMPERLE-AEROPORT CDG 2 TGV ROISSY',\n",
              " 'LILLE EUROPE - RENNES',\n",
              " 'BORDEAUX ST JEAN - LILLE EUROPE',\n",
              " 'BORDEAUX ST JEAN - MASSY TGV',\n",
              " 'LE POULIGUEN - PARIS MONTPARNASSE 1 ET 2',\n",
              " 'LE POULIGUEN - MARNE LA VALLEE CHESSY',\n",
              " 'MASSY TGV - FACTURE BIGANOS',\n",
              " 'MEUSE-LORRAINE TGV',\n",
              " 'MEUSE-THIONVILLE',\n",
              " 'MANTES LA J. TGV-AEROPORT CDG 2 TGV ROISSY',\n",
              " 'MARSEILLE ST CHARLES-SETE',\n",
              " 'CHAMPAGNE ARDENNE-LORRAINE TGV',\n",
              " 'VALENCE-LE CREUSOT MONTCEAU MONTCHANIN',\n",
              " 'LE CREUSOT MONTCEAU MONTCHANIN-SENS',\n",
              " ...]"
            ]
          },
          "metadata": {
            "tags": []
          },
          "execution_count": 69
        }
      ]
    },
    {
      "cell_type": "markdown",
      "metadata": {
        "id": "fT6inCmNjdaU"
      },
      "source": [
        "liste_gare_0 contient tous les noms de trajets, que nous allons séparer en deux listes disjointes : celle contenant les fares de départ, et celle contenant les gares d'arrivée. "
      ]
    },
    {
      "cell_type": "code",
      "metadata": {
        "id": "tb8dKiMRjdab"
      },
      "source": [
        "liste_gare_départ=[]\n",
        "liste_gare_arrivée=[]\n",
        "\n",
        "for k in range(len(liste_gare_0)):\n",
        "    liste_gare_départ.append(re.split('-', liste_gare_0[k])[0])\n",
        "    liste_gare_arrivée.append(re.split('-', liste_gare_0[k])[1])\n"
      ],
      "execution_count": 70,
      "outputs": []
    },
    {
      "cell_type": "markdown",
      "metadata": {
        "id": "qmK8xGoRjda4"
      },
      "source": [
        "#### Création des colonnes tarifs "
      ]
    },
    {
      "cell_type": "code",
      "metadata": {
        "id": "1CTRF-xHjda_"
      },
      "source": [
        "tarifs = []\n",
        "for k in range(len(df['Colonne'])) :\n",
        "    tarifs += re.split(';', df['Colonne'][k])\n",
        "tarifs\n",
        "\n",
        "prix_dappel_2nde = tarifs[1::5]\n",
        "plein_tarif_loisir_2nde = tarifs[2::5]\n",
        "premiere_classe = tarifs[3::5]\n",
        "\n",
        "#print(len(prix_dappel_2nde), len(plein_tarif_loisir_2nde), len(premiere_classe))"
      ],
      "execution_count": 71,
      "outputs": []
    },
    {
      "cell_type": "code",
      "metadata": {
        "id": "B_ApuQeejdbe",
        "outputId": "4f1523c1-fbf6-49ad-988f-974ed6127251",
        "colab": {
          "base_uri": "https://localhost:8080/",
          "height": 402
        }
      },
      "source": [
        "bdd_sncf = pandas.DataFrame({'Gare de départ' :liste_gare_départ, 'Gare d arrivée': liste_gare_arrivée, 'Prix d appel seconde':prix_dappel_2nde, 'Plein tarif loisir seconde':plein_tarif_loisir_2nde,'Tarif premiere classe' :premiere_classe})\n",
        "bdd_sncf"
      ],
      "execution_count": 72,
      "outputs": [
        {
          "output_type": "execute_result",
          "data": {
            "text/html": [
              "<div>\n",
              "<style scoped>\n",
              "    .dataframe tbody tr th:only-of-type {\n",
              "        vertical-align: middle;\n",
              "    }\n",
              "\n",
              "    .dataframe tbody tr th {\n",
              "        vertical-align: top;\n",
              "    }\n",
              "\n",
              "    .dataframe thead th {\n",
              "        text-align: right;\n",
              "    }\n",
              "</style>\n",
              "<table border=\"1\" class=\"dataframe\">\n",
              "  <thead>\n",
              "    <tr style=\"text-align: right;\">\n",
              "      <th></th>\n",
              "      <th>Gare de départ</th>\n",
              "      <th>Gare d arrivée</th>\n",
              "      <th>Prix d appel seconde</th>\n",
              "      <th>Plein tarif loisir seconde</th>\n",
              "      <th>Tarif premiere classe</th>\n",
              "    </tr>\n",
              "  </thead>\n",
              "  <tbody>\n",
              "    <tr>\n",
              "      <th>0</th>\n",
              "      <td>NIMES</td>\n",
              "      <td>LILLE EUROPE</td>\n",
              "      <td>30.0</td>\n",
              "      <td>144.0</td>\n",
              "      <td>184.0</td>\n",
              "    </tr>\n",
              "    <tr>\n",
              "      <th>1</th>\n",
              "      <td>MOUTIERS SALINS BRIDES</td>\n",
              "      <td>QUIMPER</td>\n",
              "      <td>30.0</td>\n",
              "      <td>147.0</td>\n",
              "      <td>190.0</td>\n",
              "    </tr>\n",
              "    <tr>\n",
              "      <th>2</th>\n",
              "      <td>LANDRY</td>\n",
              "      <td>QUIMPER</td>\n",
              "      <td>30.0</td>\n",
              "      <td>147.0</td>\n",
              "      <td>190.0</td>\n",
              "    </tr>\n",
              "    <tr>\n",
              "      <th>3</th>\n",
              "      <td>TGV HAUTE PICARDIE</td>\n",
              "      <td>AGDE</td>\n",
              "      <td>30.0</td>\n",
              "      <td>150.0</td>\n",
              "      <td>188.0</td>\n",
              "    </tr>\n",
              "    <tr>\n",
              "      <th>4</th>\n",
              "      <td>TGV HAUTE PICARDIE</td>\n",
              "      <td>SETE</td>\n",
              "      <td>30.0</td>\n",
              "      <td>150.0</td>\n",
              "      <td>188.0</td>\n",
              "    </tr>\n",
              "    <tr>\n",
              "      <th>...</th>\n",
              "      <td>...</td>\n",
              "      <td>...</td>\n",
              "      <td>...</td>\n",
              "      <td>...</td>\n",
              "      <td>...</td>\n",
              "    </tr>\n",
              "    <tr>\n",
              "      <th>4157</th>\n",
              "      <td>PLOUARET TREGOR</td>\n",
              "      <td>PARIS MONTPARNASSE 1 ET 2</td>\n",
              "      <td>20.0</td>\n",
              "      <td>99.0</td>\n",
              "      <td>138.0</td>\n",
              "    </tr>\n",
              "    <tr>\n",
              "      <th>4158</th>\n",
              "      <td>DOL DE BRETAGNE</td>\n",
              "      <td>PARIS MONTPARNASSE 1 ET 2</td>\n",
              "      <td>20.0</td>\n",
              "      <td>95.0</td>\n",
              "      <td>138.0</td>\n",
              "    </tr>\n",
              "    <tr>\n",
              "      <th>4159</th>\n",
              "      <td>MARNE LA VALLEE CHESSY</td>\n",
              "      <td>MORLAIX</td>\n",
              "      <td>20.0</td>\n",
              "      <td>99.0</td>\n",
              "      <td>138.0</td>\n",
              "    </tr>\n",
              "    <tr>\n",
              "      <th>4160</th>\n",
              "      <td>QUIMPERLE</td>\n",
              "      <td>MARNE LA VALLEE CHESSY</td>\n",
              "      <td>20.0</td>\n",
              "      <td>103.0</td>\n",
              "      <td>147.0</td>\n",
              "    </tr>\n",
              "    <tr>\n",
              "      <th>4161</th>\n",
              "      <td>MASSY TGV</td>\n",
              "      <td>QUIMPER</td>\n",
              "      <td>20.0</td>\n",
              "      <td>103.0</td>\n",
              "      <td>147.0</td>\n",
              "    </tr>\n",
              "  </tbody>\n",
              "</table>\n",
              "<p>4162 rows × 5 columns</p>\n",
              "</div>"
            ],
            "text/plain": [
              "               Gare de départ  ... Tarif premiere classe\n",
              "0                       NIMES  ...                 184.0\n",
              "1      MOUTIERS SALINS BRIDES  ...                 190.0\n",
              "2                      LANDRY  ...                 190.0\n",
              "3          TGV HAUTE PICARDIE  ...                 188.0\n",
              "4          TGV HAUTE PICARDIE  ...                 188.0\n",
              "...                       ...  ...                   ...\n",
              "4157         PLOUARET TREGOR   ...                 138.0\n",
              "4158         DOL DE BRETAGNE   ...                 138.0\n",
              "4159  MARNE LA VALLEE CHESSY   ...                 138.0\n",
              "4160               QUIMPERLE   ...                 147.0\n",
              "4161               MASSY TGV   ...                 147.0\n",
              "\n",
              "[4162 rows x 5 columns]"
            ]
          },
          "metadata": {
            "tags": []
          },
          "execution_count": 72
        }
      ]
    },
    {
      "cell_type": "markdown",
      "metadata": {
        "id": "pLj6jecijdeO"
      },
      "source": [
        "#### Ajout des distances entre deux gares "
      ]
    },
    {
      "cell_type": "markdown",
      "metadata": {
        "id": "ag6e3rOjjdeT"
      },
      "source": [
        "On récupère une nouvelle base de données contenant pour chaque gare ses coordonnées GPS (latitude et longitude). A partir de ces données, on va déterminer la distance pour l'ensemble des trajets contenus dans bdd_sncf. "
      ]
    },
    {
      "cell_type": "code",
      "metadata": {
        "id": "h5yBpKLGjdeb",
        "outputId": "4f7c62f6-cbc5-4aa9-e8a9-d0a15b0aa1fa",
        "colab": {
          "base_uri": "https://localhost:8080/",
          "height": 354
        }
      },
      "source": [
        "coordonnees = pandas.read_csv('gares-tgv.csv', encoding = 'latin-1')\n",
        "coordonnees = coordonnees.drop(['Unnamed: 0', 'INSEE_REG', 'NOM_REG','INSEE_DEP',\n",
        "       'NOM_DEP'], axis=1)\n",
        "coordonnees"
      ],
      "execution_count": 73,
      "outputs": [
        {
          "output_type": "error",
          "ename": "FileNotFoundError",
          "evalue": "ignored",
          "traceback": [
            "\u001b[0;31m---------------------------------------------------------------------------\u001b[0m",
            "\u001b[0;31mFileNotFoundError\u001b[0m                         Traceback (most recent call last)",
            "\u001b[0;32m<ipython-input-73-ad7be53357b6>\u001b[0m in \u001b[0;36m<module>\u001b[0;34m()\u001b[0m\n\u001b[0;32m----> 1\u001b[0;31m \u001b[0mcoordonnees\u001b[0m \u001b[0;34m=\u001b[0m \u001b[0mpandas\u001b[0m\u001b[0;34m.\u001b[0m\u001b[0mread_csv\u001b[0m\u001b[0;34m(\u001b[0m\u001b[0;34m'gares-tgv.csv'\u001b[0m\u001b[0;34m,\u001b[0m \u001b[0mencoding\u001b[0m \u001b[0;34m=\u001b[0m \u001b[0;34m'latin-1'\u001b[0m\u001b[0;34m)\u001b[0m\u001b[0;34m\u001b[0m\u001b[0;34m\u001b[0m\u001b[0m\n\u001b[0m\u001b[1;32m      2\u001b[0m coordonnees = coordonnees.drop(['Unnamed: 0', 'INSEE_REG', 'NOM_REG','INSEE_DEP',\n\u001b[1;32m      3\u001b[0m        'NOM_DEP'], axis=1)\n\u001b[1;32m      4\u001b[0m \u001b[0mcoordonnees\u001b[0m\u001b[0;34m\u001b[0m\u001b[0;34m\u001b[0m\u001b[0m\n",
            "\u001b[0;32m/usr/local/lib/python3.6/dist-packages/pandas/io/parsers.py\u001b[0m in \u001b[0;36mread_csv\u001b[0;34m(filepath_or_buffer, sep, delimiter, header, names, index_col, usecols, squeeze, prefix, mangle_dupe_cols, dtype, engine, converters, true_values, false_values, skipinitialspace, skiprows, skipfooter, nrows, na_values, keep_default_na, na_filter, verbose, skip_blank_lines, parse_dates, infer_datetime_format, keep_date_col, date_parser, dayfirst, cache_dates, iterator, chunksize, compression, thousands, decimal, lineterminator, quotechar, quoting, doublequote, escapechar, comment, encoding, dialect, error_bad_lines, warn_bad_lines, delim_whitespace, low_memory, memory_map, float_precision)\u001b[0m\n\u001b[1;32m    686\u001b[0m     )\n\u001b[1;32m    687\u001b[0m \u001b[0;34m\u001b[0m\u001b[0m\n\u001b[0;32m--> 688\u001b[0;31m     \u001b[0;32mreturn\u001b[0m \u001b[0m_read\u001b[0m\u001b[0;34m(\u001b[0m\u001b[0mfilepath_or_buffer\u001b[0m\u001b[0;34m,\u001b[0m \u001b[0mkwds\u001b[0m\u001b[0;34m)\u001b[0m\u001b[0;34m\u001b[0m\u001b[0;34m\u001b[0m\u001b[0m\n\u001b[0m\u001b[1;32m    689\u001b[0m \u001b[0;34m\u001b[0m\u001b[0m\n\u001b[1;32m    690\u001b[0m \u001b[0;34m\u001b[0m\u001b[0m\n",
            "\u001b[0;32m/usr/local/lib/python3.6/dist-packages/pandas/io/parsers.py\u001b[0m in \u001b[0;36m_read\u001b[0;34m(filepath_or_buffer, kwds)\u001b[0m\n\u001b[1;32m    452\u001b[0m \u001b[0;34m\u001b[0m\u001b[0m\n\u001b[1;32m    453\u001b[0m     \u001b[0;31m# Create the parser.\u001b[0m\u001b[0;34m\u001b[0m\u001b[0;34m\u001b[0m\u001b[0;34m\u001b[0m\u001b[0m\n\u001b[0;32m--> 454\u001b[0;31m     \u001b[0mparser\u001b[0m \u001b[0;34m=\u001b[0m \u001b[0mTextFileReader\u001b[0m\u001b[0;34m(\u001b[0m\u001b[0mfp_or_buf\u001b[0m\u001b[0;34m,\u001b[0m \u001b[0;34m**\u001b[0m\u001b[0mkwds\u001b[0m\u001b[0;34m)\u001b[0m\u001b[0;34m\u001b[0m\u001b[0;34m\u001b[0m\u001b[0m\n\u001b[0m\u001b[1;32m    455\u001b[0m \u001b[0;34m\u001b[0m\u001b[0m\n\u001b[1;32m    456\u001b[0m     \u001b[0;32mif\u001b[0m \u001b[0mchunksize\u001b[0m \u001b[0;32mor\u001b[0m \u001b[0miterator\u001b[0m\u001b[0;34m:\u001b[0m\u001b[0;34m\u001b[0m\u001b[0;34m\u001b[0m\u001b[0m\n",
            "\u001b[0;32m/usr/local/lib/python3.6/dist-packages/pandas/io/parsers.py\u001b[0m in \u001b[0;36m__init__\u001b[0;34m(self, f, engine, **kwds)\u001b[0m\n\u001b[1;32m    946\u001b[0m             \u001b[0mself\u001b[0m\u001b[0;34m.\u001b[0m\u001b[0moptions\u001b[0m\u001b[0;34m[\u001b[0m\u001b[0;34m\"has_index_names\"\u001b[0m\u001b[0;34m]\u001b[0m \u001b[0;34m=\u001b[0m \u001b[0mkwds\u001b[0m\u001b[0;34m[\u001b[0m\u001b[0;34m\"has_index_names\"\u001b[0m\u001b[0;34m]\u001b[0m\u001b[0;34m\u001b[0m\u001b[0;34m\u001b[0m\u001b[0m\n\u001b[1;32m    947\u001b[0m \u001b[0;34m\u001b[0m\u001b[0m\n\u001b[0;32m--> 948\u001b[0;31m         \u001b[0mself\u001b[0m\u001b[0;34m.\u001b[0m\u001b[0m_make_engine\u001b[0m\u001b[0;34m(\u001b[0m\u001b[0mself\u001b[0m\u001b[0;34m.\u001b[0m\u001b[0mengine\u001b[0m\u001b[0;34m)\u001b[0m\u001b[0;34m\u001b[0m\u001b[0;34m\u001b[0m\u001b[0m\n\u001b[0m\u001b[1;32m    949\u001b[0m \u001b[0;34m\u001b[0m\u001b[0m\n\u001b[1;32m    950\u001b[0m     \u001b[0;32mdef\u001b[0m \u001b[0mclose\u001b[0m\u001b[0;34m(\u001b[0m\u001b[0mself\u001b[0m\u001b[0;34m)\u001b[0m\u001b[0;34m:\u001b[0m\u001b[0;34m\u001b[0m\u001b[0;34m\u001b[0m\u001b[0m\n",
            "\u001b[0;32m/usr/local/lib/python3.6/dist-packages/pandas/io/parsers.py\u001b[0m in \u001b[0;36m_make_engine\u001b[0;34m(self, engine)\u001b[0m\n\u001b[1;32m   1178\u001b[0m     \u001b[0;32mdef\u001b[0m \u001b[0m_make_engine\u001b[0m\u001b[0;34m(\u001b[0m\u001b[0mself\u001b[0m\u001b[0;34m,\u001b[0m \u001b[0mengine\u001b[0m\u001b[0;34m=\u001b[0m\u001b[0;34m\"c\"\u001b[0m\u001b[0;34m)\u001b[0m\u001b[0;34m:\u001b[0m\u001b[0;34m\u001b[0m\u001b[0;34m\u001b[0m\u001b[0m\n\u001b[1;32m   1179\u001b[0m         \u001b[0;32mif\u001b[0m \u001b[0mengine\u001b[0m \u001b[0;34m==\u001b[0m \u001b[0;34m\"c\"\u001b[0m\u001b[0;34m:\u001b[0m\u001b[0;34m\u001b[0m\u001b[0;34m\u001b[0m\u001b[0m\n\u001b[0;32m-> 1180\u001b[0;31m             \u001b[0mself\u001b[0m\u001b[0;34m.\u001b[0m\u001b[0m_engine\u001b[0m \u001b[0;34m=\u001b[0m \u001b[0mCParserWrapper\u001b[0m\u001b[0;34m(\u001b[0m\u001b[0mself\u001b[0m\u001b[0;34m.\u001b[0m\u001b[0mf\u001b[0m\u001b[0;34m,\u001b[0m \u001b[0;34m**\u001b[0m\u001b[0mself\u001b[0m\u001b[0;34m.\u001b[0m\u001b[0moptions\u001b[0m\u001b[0;34m)\u001b[0m\u001b[0;34m\u001b[0m\u001b[0;34m\u001b[0m\u001b[0m\n\u001b[0m\u001b[1;32m   1181\u001b[0m         \u001b[0;32melse\u001b[0m\u001b[0;34m:\u001b[0m\u001b[0;34m\u001b[0m\u001b[0;34m\u001b[0m\u001b[0m\n\u001b[1;32m   1182\u001b[0m             \u001b[0;32mif\u001b[0m \u001b[0mengine\u001b[0m \u001b[0;34m==\u001b[0m \u001b[0;34m\"python\"\u001b[0m\u001b[0;34m:\u001b[0m\u001b[0;34m\u001b[0m\u001b[0;34m\u001b[0m\u001b[0m\n",
            "\u001b[0;32m/usr/local/lib/python3.6/dist-packages/pandas/io/parsers.py\u001b[0m in \u001b[0;36m__init__\u001b[0;34m(self, src, **kwds)\u001b[0m\n\u001b[1;32m   1991\u001b[0m         \u001b[0;32mif\u001b[0m \u001b[0mkwds\u001b[0m\u001b[0;34m.\u001b[0m\u001b[0mget\u001b[0m\u001b[0;34m(\u001b[0m\u001b[0;34m\"compression\"\u001b[0m\u001b[0;34m)\u001b[0m \u001b[0;32mis\u001b[0m \u001b[0;32mNone\u001b[0m \u001b[0;32mand\u001b[0m \u001b[0mencoding\u001b[0m\u001b[0;34m:\u001b[0m\u001b[0;34m\u001b[0m\u001b[0;34m\u001b[0m\u001b[0m\n\u001b[1;32m   1992\u001b[0m             \u001b[0;32mif\u001b[0m \u001b[0misinstance\u001b[0m\u001b[0;34m(\u001b[0m\u001b[0msrc\u001b[0m\u001b[0;34m,\u001b[0m \u001b[0mstr\u001b[0m\u001b[0;34m)\u001b[0m\u001b[0;34m:\u001b[0m\u001b[0;34m\u001b[0m\u001b[0;34m\u001b[0m\u001b[0m\n\u001b[0;32m-> 1993\u001b[0;31m                 \u001b[0msrc\u001b[0m \u001b[0;34m=\u001b[0m \u001b[0mopen\u001b[0m\u001b[0;34m(\u001b[0m\u001b[0msrc\u001b[0m\u001b[0;34m,\u001b[0m \u001b[0;34m\"rb\"\u001b[0m\u001b[0;34m)\u001b[0m\u001b[0;34m\u001b[0m\u001b[0;34m\u001b[0m\u001b[0m\n\u001b[0m\u001b[1;32m   1994\u001b[0m                 \u001b[0mself\u001b[0m\u001b[0;34m.\u001b[0m\u001b[0mhandles\u001b[0m\u001b[0;34m.\u001b[0m\u001b[0mappend\u001b[0m\u001b[0;34m(\u001b[0m\u001b[0msrc\u001b[0m\u001b[0;34m)\u001b[0m\u001b[0;34m\u001b[0m\u001b[0;34m\u001b[0m\u001b[0m\n\u001b[1;32m   1995\u001b[0m \u001b[0;34m\u001b[0m\u001b[0m\n",
            "\u001b[0;31mFileNotFoundError\u001b[0m: [Errno 2] No such file or directory: 'gares-tgv.csv'"
          ]
        }
      ]
    },
    {
      "cell_type": "markdown",
      "metadata": {
        "id": "kMmOhyBYjde9"
      },
      "source": [
        "On représente l'ensemble des gares sur une carte de la France. "
      ]
    },
    {
      "cell_type": "code",
      "metadata": {
        "id": "6oKr4tK_jdfE"
      },
      "source": [
        "import geopandas\n",
        "from shapely.geometry import Point\n",
        "import matplotlib.pyplot as plt\n",
        "\n",
        "points = [Point(lon, lat) for ind, lat, lon in coordonnees[['Latitude', 'Longitude']].itertuples()]\n",
        "enedis = geopandas.GeoDataFrame(data=dict(geometry=points))\n",
        "enedis['Nom'] = coordonnees['Nom_Gare']\n",
        "enedis.head()\n",
        "\n",
        "world = geopandas.read_file(geopandas.datasets.get_path('naturalearth_lowres'))\n",
        "world.head()\n",
        "\n",
        "from shapely.geometry import Polygon\n",
        "europe = world[world.continent == \"Europe\"].copy()\n",
        "europe['geometry'] = europe.geometry.intersection(Polygon([(-10,35), (50,35), (50,70), (-10, 70)]))\n",
        "europe.head()\n",
        "\n",
        "fig, ax = plt.subplots(1, 1, figsize=(5, 4))\n",
        "minx, miny, maxx, maxy = enedis.total_bounds\n",
        "\n",
        "europe.plot(ax=ax, color='white', edgecolor='black')\n",
        "enedis.plot(ax=ax, marker='o', color='red', markersize=2)\n",
        "ax.set_xlim(minx, maxx)\n",
        "ax.set_ylim(miny, maxy)\n",
        "ax.set_title(\"Localisation des gares d'après la base de données récupérée\");"
      ],
      "execution_count": null,
      "outputs": []
    },
    {
      "cell_type": "markdown",
      "metadata": {
        "id": "tKojA5Lajdfj"
      },
      "source": [
        "On utilise le module Geod de pyproj pour déterminer les distances en kms. "
      ]
    },
    {
      "cell_type": "code",
      "metadata": {
        "id": "_wTyaC7-jdfs"
      },
      "source": [
        "from pyproj import Geod"
      ],
      "execution_count": null,
      "outputs": []
    },
    {
      "cell_type": "code",
      "metadata": {
        "id": "hBEWVw3zjdgL"
      },
      "source": [
        "wgs84_geod = Geod(ellps ='WGS84')\n",
        "\n",
        "\n",
        "def Distance(lat1,lon1,lat2,lon2):\n",
        "     az12,az21,dist = wgs84_geod.inv(lon1,lat1,lon2,lat2) \n",
        "     return dist"
      ],
      "execution_count": null,
      "outputs": []
    },
    {
      "cell_type": "code",
      "metadata": {
        "id": "HqhZqUc8jdgv"
      },
      "source": [
        "nom_gare = coordonnees['Nom_Gare'].tolist()\n",
        "latitude = coordonnees['Latitude'].tolist()\n",
        "longitude = coordonnees['Longitude'].tolist()\n",
        "\n",
        "liste = [[] for i in range(len(nom_gare))]\n",
        "\n",
        "for i in range(len(liste)) : \n",
        "    liste[i] = nom_gare[i], latitude[i], longitude[i]\n",
        "    \n",
        "#liste"
      ],
      "execution_count": null,
      "outputs": []
    },
    {
      "cell_type": "markdown",
      "metadata": {
        "id": "ngiFZ6EvjdhN"
      },
      "source": [
        "liste contient les triplets (nom de gare, latitude, longitude) pour chaque gare. Pour chaque couple de gares contenues dans cette liste, on calcule la distance entre ces deux gares que l'on stocke dans le dictionnaire distance. "
      ]
    },
    {
      "cell_type": "code",
      "metadata": {
        "id": "fvKwacP5jdhQ"
      },
      "source": [
        "distance = {}\n",
        "for k in range(len(liste)) : \n",
        "    for j in range(len(liste)) : \n",
        "        distance[liste[j][0], liste[k][0]] = Distance(liste[j][1],liste[j][2], liste[k][1], liste[k][2])\n",
        "        \n",
        "        \n",
        "gares = list(distance.keys())\n",
        "gare_depart = [gares[k][0] for k in range(len(gares))]\n",
        "gare_arrivee = [gares[k][1] for k in range(len(gares))]"
      ],
      "execution_count": null,
      "outputs": []
    },
    {
      "cell_type": "markdown",
      "metadata": {
        "id": "8j9J1ZYKjdht"
      },
      "source": [
        "On crée le DataFrame distance_villes qui pour une gare de départ et une gare d'arrivée donne la distance en kms entre ces deux gares. "
      ]
    },
    {
      "cell_type": "code",
      "metadata": {
        "id": "-bjSQ_rsjdhy"
      },
      "source": [
        "distance_villes = pandas.DataFrame({'Gare de départ' : gare_depart, 'Gare d arrivée' : gare_arrivee, 'Distance entre les villes' : list(distance.values())})\n",
        "distance_villes['Distance entre les villes'] = distance_villes['Distance entre les villes']/1000"
      ],
      "execution_count": null,
      "outputs": []
    },
    {
      "cell_type": "markdown",
      "metadata": {
        "id": "h_zcfyAnjdiU"
      },
      "source": [
        "  On veut désormais combiner les deux DataFrame : bdd_sncf et distance_villes, afin d'obtenir un DataFrame final contenant : \n",
        "- le nom de la gare de départ, \n",
        "- le nom de la gare d'arrivée, \n",
        "- les tarifs correspondants,\n",
        "- la distance correspondante à ce trajet. \n",
        "\n",
        "    Cependant, ces deux bases de données étant issues de jeux de données différents, **la syntaxe des noms de gares est différente**. Par exemple, les noms de gares dans bdd_sncf sont affichés en majuscule et sans caractères spéciaux (en particulier les tirets). On doit donc modifier la syntaxe des noms de gares contenues dans distance_villes. "
      ]
    },
    {
      "cell_type": "code",
      "metadata": {
        "id": "zWvuWKJnjdiW"
      },
      "source": [
        "distance_villes['Gare de départ'] = distance_villes['Gare de départ'].str.upper()\n",
        "distance_villes['Gare d arrivée'] = distance_villes['Gare d arrivée'].str.upper()\n",
        "distance_villes = distance_villes.replace('\\-', ' ', regex = True)\n",
        "distance_villes.iloc[2502]"
      ],
      "execution_count": null,
      "outputs": []
    },
    {
      "cell_type": "markdown",
      "metadata": {
        "id": "9M5Un9mWjdim"
      },
      "source": [
        "Il reste néanmoins des différences entre les noms qui pointent vers des gares identiques. Pour résoudre ce problème on utilise le module Levenshtein qui permet de définir un **ratio de ressemblance entre deux chaînes de caractères**. \n",
        "On crée la fonction *ratio* qui pour une gare de départ $x$ et une gare d'arrivée $y$ de bdd_sncf, retourne l'indice de la ligne de distance_villes du trajet de $x$ à $y$ correspondant. "
      ]
    },
    {
      "cell_type": "code",
      "metadata": {
        "id": "4GNyGMA3jdip"
      },
      "source": [
        "import Levenshtein as lev\n",
        "\n",
        "garedepartmaj = distance_villes['Gare de départ'].tolist() \n",
        "garearrmaj = distance_villes['Gare d arrivée'].tolist()\n",
        "\n",
        "def ratio(x,y):\n",
        "    garedep = []\n",
        "    ratiosd = []\n",
        "    ratiosa =[]\n",
        "    for gare in garedepartmaj :\n",
        "        Ratio_dep = lev.ratio(gare, x) # on calcule pour chaque gare de départ de distance_villes le ratio de similitude avec x\n",
        "        ratiosd.append(Ratio_dep) # la liste ratiosd stocke l'ensemble des ratios\n",
        "    ratiomaxd = max(ratiosd) #on prend le max de ces ratios\n",
        "    \n",
        "    for i in range (len(ratiosd)):\n",
        "        if ratiosd[i] == ratiomaxd:\n",
        "            garedep.append(i) # on stocke dans garedep les indices des gares de départ pour lesquelles le ratio est maximal\n",
        "    \n",
        "    for index in garedep : \n",
        "        Ratio_arr = lev.ratio(garearrmaj[index], y) #on regarde les ratios de similitude avec la gare d'arrivée pour les gares dans garedep \n",
        "        ratiosa.append(Ratio_arr)\n",
        "    \n",
        "    ratiomaxa=max(ratiosa)\n",
        "    for i in range (len(ratiosa)):\n",
        "        if ratiosa[i] == ratiomaxa:\n",
        "            return(garedep[i]) #on retourne l'indice de la ligne de distances_villes pour laquelle la gare de départ et la gare \n",
        "        #d'arrivée ont le plus grand ratio de similitude avec les gares x et y. \n"
      ],
      "execution_count": null,
      "outputs": []
    },
    {
      "cell_type": "code",
      "metadata": {
        "id": "KkI5SUm1jdi7"
      },
      "source": [
        "distancegares=[]\n",
        "for i in range(len(liste_gare_départ)):\n",
        "    départ =liste_gare_départ[i]\n",
        "    arrivée = liste_gare_arrivée[i]\n",
        "    distancegares.append(distance_villes['Distance entre les villes'][ratio(départ,arrivée)])\n",
        "\n",
        "#print(distancegares) \n",
        "# distancegares contient l'ensemble des distances pour les trajets de bdd_sncf. \n"
      ],
      "execution_count": null,
      "outputs": []
    },
    {
      "cell_type": "markdown",
      "metadata": {
        "id": "9uNWS3IhjdjR"
      },
      "source": [
        "On ajoute finalement la colonne distance à la DataFrame bdd_sncf. "
      ]
    },
    {
      "cell_type": "code",
      "metadata": {
        "id": "parJChZXjdjU"
      },
      "source": [
        "bdd_sncf['Distance du trajet'] = distancegares\n",
        "bdd_sncf\n",
        "#len(distancegareskm)"
      ],
      "execution_count": null,
      "outputs": []
    },
    {
      "cell_type": "code",
      "metadata": {
        "id": "aECFBgZsrJh5"
      },
      "source": [
        "bdd_sncf.to_csv('bdd_sncf.csv', header = True, index = False)"
      ],
      "execution_count": null,
      "outputs": []
    },
    {
      "cell_type": "markdown",
      "metadata": {
        "id": "z0ewvIctZ5Ev"
      },
      "source": [
        "# **2. Visualisation**"
      ]
    },
    {
      "cell_type": "code",
      "metadata": {
        "id": "vySevK2f5A-8"
      },
      "source": [
        "from scipy import stats\n",
        "import seaborn as sn\n",
        "import scipy\n",
        "import numpy as np\n",
        "import statsmodels.api as sm\n",
        "import matplotlib.pyplot as plt"
      ],
      "execution_count": null,
      "outputs": []
    },
    {
      "cell_type": "code",
      "metadata": {
        "id": "23kCJKMG5A_J"
      },
      "source": [
        "bdd_1 = pandas.read_csv('bdd_avion_1.csv', encoding = 'latin-1')\n",
        "bdd_2 = pandas.read_csv('bdd_avion_2.csv', encoding = 'latin-1')\n",
        "bdd_3 = pandas.read_csv('bdd_avion_3.csv', encoding = 'latin-1')\n",
        "bdd_sncf = pandas.read_csv('bdd_sncf.csv', encoding = 'latin-1')"
      ],
      "execution_count": null,
      "outputs": []
    },
    {
      "cell_type": "markdown",
      "metadata": {
        "id": "r9iE2GQ15A_K"
      },
      "source": [
        "- *bdd_1* donne pour chaque vol, son prix moyen aller-retour;\n",
        "- *bdd_2* donne pour chaque vol, son prix et le mois du vol;\n",
        "- *bdd_3* donne pour chaque vol, son prix et le délais entre la réservation et le vol;\n",
        "- *bdd_sncf* donne pour chaque trajet de train, le prix en première et seconde classes ainsi que la distance du trajet en kms.\n",
        "\n",
        "Nous voulons regarder s'il existe une **corrélation entre le prix des billets d'avion et les variables suivantes** : \n",
        "- le prix des billets de train,\n",
        "- la distance du trajet. \n",
        "- le mois du vol,\n",
        "- le délais entre la réservation et le vol."
      ]
    },
    {
      "cell_type": "markdown",
      "metadata": {
        "id": "-n7IbKAO5A_L"
      },
      "source": [
        "## 1. Corrélation avec le prix des billets de train"
      ]
    },
    {
      "cell_type": "markdown",
      "metadata": {
        "id": "5iXNdD075A_L"
      },
      "source": [
        "On cherche d'une part à fusionner les bases de données *bdd_sncf* et *bdd_1* afin d'obtenir pour chaque trajet, le prix moyen du billet d'avion et le prix moyen du billet de train. \n",
        "\n",
        "\n",
        "Cependant, on remarque que les noms de villes qui qualifient les départs et les arrivées sont différents selon la base de données (par exemple, *bdd_sncf* indique généralement le nom de la gare, et non le nom de la ville). "
      ]
    },
    {
      "cell_type": "code",
      "metadata": {
        "id": "RkWwKeYI5A_M"
      },
      "source": [
        "bdd_sncf.head(5)"
      ],
      "execution_count": null,
      "outputs": []
    },
    {
      "cell_type": "code",
      "metadata": {
        "id": "RXS6OgjV5A_X"
      },
      "source": [
        "bdd_1.head(5)"
      ],
      "execution_count": null,
      "outputs": []
    },
    {
      "cell_type": "code",
      "metadata": {
        "id": "0QkCVMf75A_X"
      },
      "source": [
        "bdd_1['Départ'].unique()\n",
        "bdd_1['Arrivée'].unique()"
      ],
      "execution_count": null,
      "outputs": []
    },
    {
      "cell_type": "markdown",
      "metadata": {
        "id": "Pp-k16-P5A_Z"
      },
      "source": [
        "On voit que dans la base de données *bdd_1*, il y a un faible nombre de destinations et de départs. On peut donc changer à la main la syntaxe des départs et des arrivées dans la base de données *bdd_sncf* de façon à ce qu'elle soit identique à celle de *bdd_1*. Pour certaines grandes villes telles que Lyon et Paris comportant plusieurs gares, il ne faudra pas oublier de modifier le nom des toute les gares. \n",
        "\n",
        "Puis, on conserve seulement les lignes dont la ville de départ et d'arrivée coïncident avec celles de *bdd_1*. "
      ]
    },
    {
      "cell_type": "code",
      "metadata": {
        "id": "CLikVqj35A_Z"
      },
      "source": [
        "bdd_sncf['Gare de dÃ©part'].loc[(bdd_sncf['Gare de dÃ©part'] == 'PARIS MONTPARNASSE 1 ET 2') | (bdd_sncf['Gare de dÃ©part'] == 'PARIS AUSTERLITZ') | (bdd_sncf['Gare de dÃ©part'] == 'MASSY TGV') | (bdd_sncf['Gare de dÃ©part'] == 'MARNE LA VALLEE CHESSY') | (bdd_sncf['Gare de dÃ©part'] == 'PARIS NORD') | (bdd_sncf['Gare de dÃ©part'] == 'PARIS GARE DE LYON') |(bdd_sncf['Gare de dÃ©part'] == 'AEROPORT CDG 2 TGV ROISSY') | (bdd_sncf['Gare de dÃ©part'] =='MANTES LA J. TGV')] = 'Paris'\n",
        "bdd_sncf['Gare d arrivÃ©e'].loc[(bdd_sncf['Gare d arrivÃ©e'] == 'PARIS MONTPARNASSE 1 ET 2') | (bdd_sncf['Gare d arrivÃ©e'] == 'PARIS AUSTERLITZ') | (bdd_sncf['Gare d arrivÃ©e'] == 'MASSY TGV') | (bdd_sncf['Gare d arrivÃ©e'] == 'MARNE LA VALLEE CHESSY') | (bdd_sncf['Gare d arrivÃ©e'] == 'PARIS NORD') | (bdd_sncf['Gare d arrivÃ©e'] == 'PARIS GARE DE LYON') |(bdd_sncf['Gare d arrivÃ©e'] == 'AEROPORT CDG 2 TGV ROISSY') | (bdd_sncf['Gare d arrivÃ©e'] =='MANTES LA J. TGV') ] = 'Paris'\n",
        "\n",
        "bdd_sncf['Gare de dÃ©part'].loc[bdd_sncf['Gare de dÃ©part'] == 'NANTES'] = 'Nantes'\n",
        "bdd_sncf['Gare d arrivÃ©e'].loc[bdd_sncf['Gare d arrivÃ©e'] == 'NANTES'] = 'Nantes'\n",
        "\n",
        "\n",
        "bdd_sncf['Gare de dÃ©part'].loc[bdd_sncf['Gare de dÃ©part'] == 'MARSEILLE ST CHARLES'] = 'Marseille'\n",
        "bdd_sncf['Gare d arrivÃ©e'].loc[bdd_sncf['Gare d arrivÃ©e'] == 'MARSEILLE ST CHARLES'] = 'Marseille'\n",
        "\n",
        "bdd_sncf['Gare de dÃ©part'].loc[bdd_sncf['Gare de dÃ©part'] == 'BORDEAUX ST JEAN'] = 'Bordeaux'\n",
        "bdd_sncf['Gare d arrivÃ©e'].loc[bdd_sncf['Gare d arrivÃ©e'] == 'BORDEAUX ST JEAN'] = 'Bordeaux'\n",
        "\n",
        "\n",
        "bdd_sncf['Gare de dÃ©part'].loc[(bdd_sncf['Gare de dÃ©part'] == 'LYON PART DIEU') | (bdd_sncf['Gare de dÃ©part'] == 'LYON ST EXUPERY') | (bdd_sncf['Gare de dÃ©part'] == 'LYON PERRACHE')] = 'Lyon'\n",
        "bdd_sncf['Gare d arrivÃ©e'].loc[(bdd_sncf['Gare d arrivÃ©e'] == 'LYON PART DIEU') | (bdd_sncf['Gare d arrivÃ©e'] == 'LYON ST EXUPERY') | (bdd_sncf['Gare d arrivÃ©e'] == 'LYON PERRACHE')] = 'Lyon'\n",
        "\n",
        "bdd_sncf['Gare de dÃ©part'].loc[bdd_sncf['Gare de dÃ©part'] == 'TOULOUSE MATABIAU'] = 'Toulouse'\n",
        "bdd_sncf['Gare d arrivÃ©e'].loc[bdd_sncf['Gare d arrivÃ©e'] == 'TOULOUSE MATABIAU'] = 'Toulouse'\n",
        "\n",
        "bdd_sncf['Gare de dÃ©part'].loc[bdd_sncf['Gare de dÃ©part'] == 'NICE VILLE' ] = 'Nice'\n",
        "bdd_sncf['Gare d arrivÃ©e'].loc[bdd_sncf['Gare d arrivÃ©e'] == 'NICE VILLE' ] = 'Nice'\n",
        "\n",
        "bdd_sncf['Gare de dÃ©part'].loc[bdd_sncf['Gare de dÃ©part'] == 'STRASBOURG'] = 'Strasbourg'\n",
        "bdd_sncf['Gare d arrivÃ©e'].loc[bdd_sncf['Gare d arrivÃ©e'] == 'STRASBOURG'] = 'Strasbourg'\n",
        "\n",
        "bdd_sncf['Gare de dÃ©part'].loc[bdd_sncf['Gare de dÃ©part'] == 'BREST' ] = 'Brest'\n",
        "bdd_sncf['Gare d arrivÃ©e'].loc[bdd_sncf['Gare d arrivÃ©e'] == 'BREST' ] = 'Brest'\n",
        "\n",
        "bdd_sncf['Gare de dÃ©part'].loc[bdd_sncf['Gare de dÃ©part'] == 'MONTPELLIER' ] = 'Montpellier'\n",
        "bdd_sncf['Gare d arrivÃ©e'].loc[bdd_sncf['Gare d arrivÃ©e'] == 'MONTPELLIER' ] = 'Montpellier'\n",
        "\n",
        "bdd_sncf['Gare de dÃ©part'].loc[bdd_sncf['Gare de dÃ©part'] == 'LIMOGES BENEDICTINS'] = 'Limoges'\n",
        "bdd_sncf['Gare d arrivÃ©e'].loc[bdd_sncf['Gare d arrivÃ©e'] == 'LIMOGES BENEDICTINS'] = 'Limoges'\n",
        "\n",
        "bdd_sncf['Gare de dÃ©part'].loc[bdd_sncf['Gare de dÃ©part'] == 'METZ VILLE'] = 'Metz'\n",
        "bdd_sncf['Gare d arrivÃ©e'].loc[bdd_sncf['Gare d arrivÃ©e'] == 'METZ VILLE'] = 'Metz'\n",
        "\n",
        "bdd_sncf['Gare de dÃ©part'].loc[(bdd_sncf['Gare de dÃ©part'] == 'LILLE FLANDRES') | (bdd_sncf['Gare de dÃ©part'] == 'LILLE EUROPE') ] = 'Lille'\n",
        "bdd_sncf['Gare d arrivÃ©e'].loc[(bdd_sncf['Gare d arrivÃ©e'] == 'LILLE FLANDRES') | (bdd_sncf['Gare d arrivÃ©e'] == 'LILLE EUROPE') ] = 'Lille'\n",
        "\n",
        "bdd_sncf['Gare de dÃ©part'].loc[bdd_sncf['Gare de dÃ©part'] == 'CAEN' ] = 'Caen'\n",
        "bdd_sncf['Gare d arrivÃ©e'].loc[bdd_sncf['Gare d arrivÃ©e'] == 'CAEN' ] = 'Caen'\n",
        "\n",
        "bdd_sncf['Gare de dÃ©part'].loc[bdd_sncf['Gare de dÃ©part'] ==  ' POITIERS'] = 'Poitiers'\n",
        "bdd_sncf['Gare d arrivÃ©e'].loc[bdd_sncf['Gare d arrivÃ©e'] ==  ' POITIERS'] = 'Poitiers'\n",
        "\n",
        "bdd_sncf['Gare de dÃ©part'].loc[bdd_sncf['Gare de dÃ©part'] ==  'RENNES'] = 'Rennes'\n",
        "bdd_sncf['Gare d arrivÃ©e'].loc[bdd_sncf['Gare d arrivÃ©e'] ==  'RENNES'] = 'Rennes'\n",
        "\n",
        "liste_villes = ['Strasbourg', 'Bordeaux', 'Clermont-Ferrand', 'Rennes', 'Brest',\n",
        "       'Ajaccio', 'Bastia', 'Calvi', 'Figari', 'Montpellier', 'Limoges',\n",
        "       'Metz', 'Toulouse', 'Lille', 'Caen', 'Nantes', 'Poitiers',\n",
        "       'Marseille', 'Nice', 'Lyon', 'Paris','Bordeaux'] ##contient tous les destinations et villes de départ de bdd_1\n",
        "\n",
        "indexlist=[]\n",
        "for villedep in liste_villes:\n",
        "    for villearr in liste_villes:\n",
        "        inter = bdd_sncf[(bdd_sncf['Gare de dÃ©part'] == villedep)]\n",
        "        listelement = inter[inter['Gare d arrivÃ©e']==villearr].index.values.astype(int)\n",
        "        if listelement.size!=0:\n",
        "            indexlist.append(listelement[0])  ## listelement stocke tous les indices des lignes de bdd_sncf dont les départs \n",
        "            #et arrivées sont dans bdd_1. \n",
        "\n",
        "bdd_sncf = bdd_sncf[bdd_sncf.index.isin(indexlist)]\n",
        "bdd_sncf"
      ],
      "execution_count": null,
      "outputs": []
    },
    {
      "cell_type": "markdown",
      "metadata": {
        "id": "VZjqDffF5A_c"
      },
      "source": [
        "On effectue la fusion de la nouvelle base obtenue *bdd_sncf* et *bdd_1* de façon à pouvoir comparer les prix des billets de train et ceux d'avion pour un même trajet. \n",
        "\n",
        "\n",
        "***bdd_corr_1* contient alors pour chaque trajet aller-retour, le prix du billet de train (dans la colonne \"Prix moyen\", qui correspond à la moyenne des tarifs de première et de seconde classe) et celui du billet d'avion (dans la colonne \"Prix\", et qui correspond également à un prix moyen).**"
      ]
    },
    {
      "cell_type": "code",
      "metadata": {
        "id": "F8D2hCup5A_c"
      },
      "source": [
        "bdd_corr = pandas.merge(bdd_1, bdd_sncf, left_on = [bdd_1['Départ'],bdd_1['Arrivée']], right_on = [bdd_sncf['Gare de dÃ©part'], bdd_sncf['Gare d arrivÃ©e']], how = 'inner')\n",
        "bdd_corr = bdd_corr.drop(['Gare de dÃ©part', 'Gare d arrivÃ©e', 'Prix d appel seconde', 'Column1', 'key_0', 'key_1'], axis=1)\n",
        "bdd_corr['Prix moyen'] =bdd_corr['Plein tarif loisir seconde'] + bdd_corr['Tarif premiere classe']\n",
        "bdd_corr_1 =  bdd_corr.drop(['Distance du trajet', 'Plein tarif loisir seconde', 'Tarif premiere classe', 'Départ', 'Arrivée'], axis = 1)\n",
        "bdd_corr_1.head(5)"
      ],
      "execution_count": null,
      "outputs": []
    },
    {
      "cell_type": "markdown",
      "metadata": {
        "id": "9hevYf3L5A_e"
      },
      "source": [
        "On peut regarder la répartition des prix pour le train et l'avion à l'aide d'un histogramme afin de voir s'il n'y a pas de valeurs aberrantes. "
      ]
    },
    {
      "cell_type": "code",
      "metadata": {
        "id": "7BEPLHk45A_e"
      },
      "source": [
        "plt.hist([bdd_corr_1['Prix'], bdd_corr_1['Prix moyen']], rwidth = 0.5, color = ['red', 'green'], label = ['avion', 'train'])\n",
        "plt.title('Répartition des prix des billets d avion et de train')\n",
        "plt.legend()"
      ],
      "execution_count": null,
      "outputs": []
    },
    {
      "cell_type": "markdown",
      "metadata": {
        "id": "yICyg0-35A_j"
      },
      "source": [
        "Nous souhaitons regarder s'il existe une corrélation entre ces deux variables, qui sont des variables quantitatives. "
      ]
    },
    {
      "cell_type": "markdown",
      "metadata": {
        "id": "6-vrWKfm5A_j"
      },
      "source": [
        "Regardons d'une part s'il existe **une corrélation linéaire entre les deux variables obtenues dans *bdd_corr_1* avec le test de Pearson :** "
      ]
    },
    {
      "cell_type": "code",
      "metadata": {
        "id": "2H7DDvPC5A_j"
      },
      "source": [
        "stats.pearsonr(bdd_corr_1['Prix'], bdd_corr_1['Prix moyen'])"
      ],
      "execution_count": null,
      "outputs": []
    },
    {
      "cell_type": "markdown",
      "metadata": {
        "id": "r8EZDDCY5A_k"
      },
      "source": [
        "On voit que le coefficient de Pearson est égal en valeur absolue à $0.65$ avec une p-value de $0.0001$. Ainsi, si on fixe un seuil de significativité à $1$%, on peut donc affirmer que le coefficient de corrélation est significatif. Le coefficient de Pearson en valeur absolue est relativement proche de 1, donc on peut dire qu'il existe une relation linéaire modérée entre le prix des billets de train et celui des billets d'avion. "
      ]
    },
    {
      "cell_type": "markdown",
      "metadata": {
        "id": "qnm2Go-b5A_k"
      },
      "source": [
        "On réalise une régression avec le module seaborn : "
      ]
    },
    {
      "cell_type": "code",
      "metadata": {
        "id": "wy2u4uk15A_l"
      },
      "source": [
        "## Représentation graphique\n",
        "sn.lmplot(x = 'Prix', y = 'Prix moyen', data = bdd_corr_1)"
      ],
      "execution_count": null,
      "outputs": []
    },
    {
      "cell_type": "markdown",
      "metadata": {
        "id": "zxKz-1335A_m"
      },
      "source": [
        "On remarque que de nombreux points sont espacés de la droite de régression linéaire simple; cette régression est donc de qualité médiocre."
      ]
    },
    {
      "cell_type": "markdown",
      "metadata": {
        "id": "5EO_AAUF5A_o"
      },
      "source": [
        "Pour plus de précision sur la régression, on utilise le module statsmodels :"
      ]
    },
    {
      "cell_type": "code",
      "metadata": {
        "id": "B7LbRoHV5A_o"
      },
      "source": [
        "X = sm.add_constant(bdd_corr_1['Prix'])\n",
        "model = sm.OLS(bdd_corr_1['Prix moyen'], X)\n",
        "results = model.fit()\n",
        "print(results.summary())"
      ],
      "execution_count": null,
      "outputs": []
    },
    {
      "cell_type": "markdown",
      "metadata": {
        "id": "1X9RG75y5A_p"
      },
      "source": [
        "D'après les résultats obtenus, on constate que $R²$ = $0.421$ donc la modélisation par la droite des moindres carrés explique 42 % de la variation totale, ce qui constitue un résultat moyen.  "
      ]
    },
    {
      "cell_type": "markdown",
      "metadata": {
        "id": "bseFSjgL5A_p"
      },
      "source": [
        "On peut regarder désormais s'il existe un lien non linéaire entre les deux variables étudiées, en regardant par exemple le coefficient de Spearman. "
      ]
    },
    {
      "cell_type": "code",
      "metadata": {
        "id": "0X54RX8A5A_p"
      },
      "source": [
        "stats.spearmanr(bdd_corr_1['Prix'], bdd_corr_1['Prix moyen'])"
      ],
      "execution_count": null,
      "outputs": []
    },
    {
      "cell_type": "markdown",
      "metadata": {
        "id": "Fob3l3Li5A_p"
      },
      "source": [
        "Le coefficient de corrélation de Spearman est significatif au seuil de $5$% (p-value faible, égale à $0.0029$), il est égal en valeur absolue à $0.52$ donc la dépendance entre les deux variables est modérée. Par ailleurs, ce coefficient est négatif ce qui indique que **plus les billets de train sont chers, plus les prix des billets d'avion sont faibles.**"
      ]
    },
    {
      "cell_type": "markdown",
      "metadata": {
        "id": "BsmRi_nc5A_p"
      },
      "source": [
        "## 2. Corrélation avec la distance"
      ]
    },
    {
      "cell_type": "markdown",
      "metadata": {
        "id": "dL4xUxWo5A_q"
      },
      "source": [
        "**La base de données *bdd_corr_2* contient pour chaque trajet, le prix et la distance du trajet associée.**"
      ]
    },
    {
      "cell_type": "code",
      "metadata": {
        "id": "_PY5-Csg5A_q"
      },
      "source": [
        "bdd_corr_2 = bdd_corr.drop(['Prix moyen'], axis = 1)\n",
        "bdd_corr_2.head(5)"
      ],
      "execution_count": null,
      "outputs": []
    },
    {
      "cell_type": "markdown",
      "metadata": {
        "id": "khc-9pxq5A_r"
      },
      "source": [
        "Puisqu'il s'agit de deux variables quantitatives, on peut regarder leur corrélation de la même façon que fait précédemment avec le prix des billets de train. "
      ]
    },
    {
      "cell_type": "code",
      "metadata": {
        "id": "RLtt1XLh5A_s"
      },
      "source": [
        "## Test de Pearson\n",
        "stats.pearsonr(bdd_corr_2['Prix'], bdd_corr_2['Distance du trajet'])"
      ],
      "execution_count": null,
      "outputs": []
    },
    {
      "cell_type": "markdown",
      "metadata": {
        "id": "bkGE9Plp5A_s"
      },
      "source": [
        "Le coefficient de Pearson étant significatif (p-value faible) et égal en valeur absolue à $0.56$, on peut affirmer qu'il existe une relation linéaire entre les 2 variables modérée. "
      ]
    },
    {
      "cell_type": "markdown",
      "metadata": {
        "id": "5czE58mG5A_s"
      },
      "source": [
        "#### Représentation graphique avec seaborn"
      ]
    },
    {
      "cell_type": "code",
      "metadata": {
        "id": "KlThM1AP5A_s"
      },
      "source": [
        "sn.lmplot(x = 'Distance du trajet', y = 'Prix', data = bdd_corr_2)"
      ],
      "execution_count": null,
      "outputs": []
    },
    {
      "cell_type": "markdown",
      "metadata": {
        "id": "gMQu6vha5A_t"
      },
      "source": [
        "Contrairement avec le prix des billets de train où cette variable semble fortement corrélée avec la distance : "
      ]
    },
    {
      "cell_type": "code",
      "metadata": {
        "id": "V6E-1UFy5A_u"
      },
      "source": [
        "sn.lmplot(x = 'Distance du trajet', y = 'Plein tarif loisir seconde', data = bdd_corr_2)"
      ],
      "execution_count": null,
      "outputs": []
    },
    {
      "cell_type": "markdown",
      "metadata": {
        "id": "3eZUeTIo5A_u"
      },
      "source": [
        "#### Utilisation du module statsmodels"
      ]
    },
    {
      "cell_type": "code",
      "metadata": {
        "id": "7-_5o7M35A_u"
      },
      "source": [
        "X = sm.add_constant(bdd_corr_2['Distance du trajet'])\n",
        "model = sm.OLS(bdd_corr_1['Prix'], X)\n",
        "results = model.fit()\n",
        "print(results.summary())"
      ],
      "execution_count": null,
      "outputs": []
    },
    {
      "cell_type": "markdown",
      "metadata": {
        "id": "tldB7ZXF5A_z"
      },
      "source": [
        "D'après les résultats obtenus, $R²$ est faible : la modélisation par la méthode des moindres carrés explique 31.7% de la variation totale, ce qui constitue une précision faible. "
      ]
    },
    {
      "cell_type": "markdown",
      "metadata": {
        "id": "10z27gYM5A_0"
      },
      "source": [
        "On regarde le coefficient de Spearman pour déterminer une possible corrélation non linéaire :"
      ]
    },
    {
      "cell_type": "code",
      "metadata": {
        "id": "NEpdw2pS5A_0"
      },
      "source": [
        "stats.spearmanr(bdd_corr_2['Prix'], bdd_corr_2['Distance du trajet'])"
      ],
      "execution_count": null,
      "outputs": []
    },
    {
      "cell_type": "markdown",
      "metadata": {
        "id": "43rqhfuY5A_2"
      },
      "source": [
        "Le coefficient de Spearman est significatif (p-valeur faible) et est égal en valeur absolue à $0.53$ donc il est difficile d'interpréter une corrélation non linéaire entre les deux variables. "
      ]
    },
    {
      "cell_type": "markdown",
      "metadata": {
        "id": "Fm0vVxWW5A_2"
      },
      "source": [
        "## 3. Corrélation avec le mois du vol "
      ]
    },
    {
      "cell_type": "markdown",
      "metadata": {
        "id": "9HT6eqDQ5A_8"
      },
      "source": [
        "Regardons dans un premier temps la répartition des prix des billets d'avion. "
      ]
    },
    {
      "cell_type": "code",
      "metadata": {
        "id": "UYdsoxHn5A_-"
      },
      "source": [
        "plt.hist(bdd_2['Prix'], rwidth = 0.5, color = 'red')\n",
        "plt.title('Répartition des prix des billets d avion')"
      ],
      "execution_count": null,
      "outputs": []
    },
    {
      "cell_type": "markdown",
      "metadata": {
        "id": "Am7Tanli5BAJ"
      },
      "source": [
        "Nous pouvons constater qu'il existe **plusieurs valeurs aberrantes de prix pour les billets d'avion** : par exemple des billets de plus de $1000 €$. Déterminons les trajets pour lesquels les valeurs de prix sont aberrantes  :"
      ]
    },
    {
      "cell_type": "code",
      "metadata": {
        "id": "b31Z66ll5BAJ"
      },
      "source": [
        "bdd_2[bdd_2['Prix']>500]"
      ],
      "execution_count": null,
      "outputs": []
    },
    {
      "cell_type": "markdown",
      "metadata": {
        "id": "ICUwuOWT5BAL"
      },
      "source": [
        " On constate que certains tarifs sont extrêmement élevés car pour des trop courtes distances, il n'existe pas de vol direct et donc une voire plusieurs correspondances sont proposées en remplacement. On supprime donc ces quelques valeurs aberrantes de la base de données."
      ]
    },
    {
      "cell_type": "code",
      "metadata": {
        "id": "v2dBKbAG5BAL"
      },
      "source": [
        "bdd_2.drop(bdd_2.loc[(bdd_2['Départ'] == 'Nice') & (bdd_2['Arrivée'] == 'Marseille')].index, inplace = True)\n",
        "bdd_2.drop(bdd_2.loc[(bdd_2['Départ'] == 'Bordeaux') & (bdd_2['Arrivée'] == 'Nantes')].index, inplace = True)\n",
        "bdd_2.drop(bdd_2.loc[(bdd_2['Départ'] == 'Toulouse') & (bdd_2['Arrivée'] == 'Montpellier')].index, inplace = True)\n",
        "bdd_2.drop(bdd_2.loc[(bdd_2['Départ'] == 'Marseille') & (bdd_2['Arrivée'] == 'Montpellier')].index, inplace = True)\n",
        "bdd_2.drop(bdd_2.loc[(bdd_2['Départ'] == 'Bordeaux') & (bdd_2['Arrivée'] == 'Montpellier')].index, inplace = True)\n",
        "bdd_2.drop(bdd_2.loc[(bdd_2['Départ'] == 'Nice') & (bdd_2['Arrivée'] == 'Ajaccio')].index, inplace = True)\n",
        "bdd_2.drop(bdd_2.loc[(bdd_2['Départ'] == 'Paris') & (bdd_2['Arrivée'] == 'Strasbourg')].index, inplace = True)\n",
        "bdd_2.drop(bdd_2.loc[(bdd_2['Départ'] == 'Toulouse') & (bdd_2['Arrivée'] == 'Bordeaux')].index, inplace = True)\n",
        "bdd_2"
      ],
      "execution_count": null,
      "outputs": []
    },
    {
      "cell_type": "markdown",
      "metadata": {
        "id": "x3M-3b-w5BAM"
      },
      "source": [
        "**bdd_corr_3 contient pour chaque vol, le prix du billet aller retour selon le mois correspondant.**"
      ]
    },
    {
      "cell_type": "code",
      "metadata": {
        "id": "OpMoY3cZ5BAN"
      },
      "source": [
        "bdd_corr_3 = bdd_2.drop(['Column1'], axis = 1)\n",
        "bdd_corr_3 = bdd_corr_3.pivot_table(index = ['Départ', 'Arrivée'], columns = 'Mois', values = 'Prix')\n",
        "bdd_corr_3 = bdd_corr_3.reset_index()\n",
        "bdd_corr_3 = bdd_corr_3.drop(['Départ', 'Arrivée'], axis = 1)\n",
        "bdd_corr_3"
      ],
      "execution_count": null,
      "outputs": []
    },
    {
      "cell_type": "markdown",
      "metadata": {
        "id": "HO84_hnG5BAN"
      },
      "source": [
        "On voit qu'il y a plusieurs valeurs manquantes. Nous pouvons dans un premier temps les remplacer par la médiane du prix du billet du trajet correspondant. "
      ]
    },
    {
      "cell_type": "code",
      "metadata": {
        "id": "qgIalhOZ5BAN"
      },
      "source": [
        "bdd_corr_3_new = bdd_corr_3.T\n",
        "for i in range(1,159) : \n",
        "    median = bdd_corr_3_new[i].median()\n",
        "    bdd_corr_3_new[i].fillna(median, inplace=True)  \n",
        "bdd_corr_3 = bdd_corr_3_new.T\n",
        "bdd_corr_3.head(5)"
      ],
      "execution_count": null,
      "outputs": []
    },
    {
      "cell_type": "markdown",
      "metadata": {
        "id": "HrKwyASo5BAO"
      },
      "source": [
        "On regarde tout d'abord l'allure de l'évolution des prix selon les mois pour plusieurs trajets aléatoires. "
      ]
    },
    {
      "cell_type": "code",
      "metadata": {
        "id": "IehTE3835BAO"
      },
      "source": [
        "bdd_corr_3_test = bdd_corr_3.sample(10)\n",
        "bdd_corr_3_test = bdd_corr_3_test.reset_index()\n",
        "bdd_corr_3_test = bdd_corr_3_test.drop(['index'], axis = 1)\n",
        "x = bdd_corr_3_test.columns\n",
        "for i in range(5) :\n",
        "    plt.scatter(x,bdd_corr_3_test.loc[i])\n",
        "    plt.plot(x,bdd_corr_3_test.loc[i], linestyle= 'solid')\n"
      ],
      "execution_count": null,
      "outputs": []
    },
    {
      "cell_type": "markdown",
      "metadata": {
        "id": "Hk8AfUpK5BAO"
      },
      "source": [
        "En observant les courbes pour plusieurs échantillons de trajets, il semble difficile de déterminer une évolution similaire entre elles."
      ]
    },
    {
      "cell_type": "code",
      "metadata": {
        "id": "IBaDNVF75BAO"
      },
      "source": [
        "boxplot = bdd_corr_3_test.boxplot(column = bdd_corr_3_test.columns.tolist(), fontsize = 10, rot = 45, vert = 0)\n",
        "boxplot"
      ],
      "execution_count": null,
      "outputs": []
    },
    {
      "cell_type": "markdown",
      "metadata": {
        "id": "ZtNooAKU5BAP"
      },
      "source": [
        "D'après les boîtes de Tukey précédentes on constate que : \n",
        "- les écarts interquartiles sont sensiblement identiques pour les mois de janvier, mars, main, juin, novembre d'une part, et avril, juillet, août, septembre, octobre d'autre part, avec un écart interquartile nettement plus faible. Cela signifie que les prix sont bien plus hétérogènes pour le premier groupe que pour le second groupe. \n",
        "- l'étendue des boîtes pour les mois de mai et juin sont extrêmement importantes; les prix sont donc particulièrement hétérogènes pour ces deux mois; \n",
        "- il existe quelques valeurs aberrantes qui peuvent fausser les résultats obtenus. "
      ]
    },
    {
      "cell_type": "markdown",
      "metadata": {
        "id": "7RUJn_nP5BAP"
      },
      "source": [
        "## 4. Corrélation avec le délais de réservation"
      ]
    },
    {
      "cell_type": "code",
      "metadata": {
        "id": "_5w7xFVp5BAP"
      },
      "source": [
        "bdd_3.drop(bdd_3.loc[(bdd_3['Départ'] == 'Nice') & (bdd_3['Arrivée'] == 'Marseille')].index, inplace = True)\n",
        "bdd_3.drop(bdd_3.loc[(bdd_3['Départ'] == 'Bordeaux') & (bdd_3['Arrivée'] == 'Nantes')].index, inplace = True)\n",
        "bdd_3.drop(bdd_3.loc[(bdd_3['Départ'] == 'Toulouse') & (bdd_3['Arrivée'] == 'Montpellier')].index, inplace = True)\n",
        "bdd_3.drop(bdd_3.loc[(bdd_3['Départ'] == 'Marseille') & (bdd_3['Arrivée'] == 'Montpellier')].index, inplace = True)\n",
        "bdd_3.drop(bdd_3.loc[(bdd_3['Départ'] == 'Bordeaux') & (bdd_3['Arrivée'] == 'Montpellier')].index, inplace = True)\n",
        "bdd_3.drop(bdd_3.loc[(bdd_3['Départ'] == 'Nice') & (bdd_3['Arrivée'] == 'Ajaccio')].index, inplace = True)\n",
        "bdd_3.drop(bdd_3.loc[(bdd_3['Départ'] == 'Paris') & (bdd_3['Arrivée'] == 'Strasbourg')].index, inplace = True)\n",
        "bdd_3.drop(bdd_3.loc[(bdd_3['Départ'] == 'Toulouse') & (bdd_3['Arrivée'] == 'Bordeaux')].index, inplace = True)\n",
        "bdd_3"
      ],
      "execution_count": null,
      "outputs": []
    },
    {
      "cell_type": "markdown",
      "metadata": {
        "id": "ccQHb_1b5BAQ"
      },
      "source": [
        "**bdd_corr_4 contient pour chaque vol, le prix aller retour pour chaque délais de réservation**. "
      ]
    },
    {
      "cell_type": "code",
      "metadata": {
        "id": "HSFl5V_t5BAQ"
      },
      "source": [
        "bdd_corr_4 = bdd_3.drop(['Column1'], axis =1)\n",
        "bdd_corr_4 = bdd_corr_4.pivot_table(index = ['Départ', 'Arrivée'], columns = 'Temps entre la réservation et le vol', values = 'Prix')\n",
        "bdd_corr_4 = bdd_corr_4.reset_index()\n",
        "bdd_corr_4 = bdd_corr_4.drop(['Départ', 'Arrivée'], axis = 1)\n",
        "bdd_corr_4\n",
        "bdd_corr_4"
      ],
      "execution_count": null,
      "outputs": []
    },
    {
      "cell_type": "markdown",
      "metadata": {
        "id": "707Z_6tm5BAT"
      },
      "source": [
        "On voit qu'il y a plusieurs valeurs manquantes. Nous pouvons dans un premier temps les remplacer par la médiane du prix du billet du trajet correspondant. "
      ]
    },
    {
      "cell_type": "code",
      "metadata": {
        "id": "oJCOcgYL5BAT"
      },
      "source": [
        "bdd_corr_4_new = bdd_corr_4.T\n",
        "for i in range(1,159) : \n",
        "    median = bdd_corr_4_new[i].median()\n",
        "    bdd_corr_4_new[i].fillna(median, inplace=True)  \n",
        "bdd_corr_4 = bdd_corr_4_new.T\n",
        "bdd_corr_4.head(5)"
      ],
      "execution_count": null,
      "outputs": []
    },
    {
      "cell_type": "markdown",
      "metadata": {
        "id": "Nr5NeJkO5BAT"
      },
      "source": [
        "Déterminons tout d'abord l'allure de l'évolution des prix selon le délais de réservation. "
      ]
    },
    {
      "cell_type": "code",
      "metadata": {
        "id": "sSZhEkdZ5BAT"
      },
      "source": [
        "bdd_corr_4_test = bdd_corr_4.sample(10)\n",
        "bdd_corr_4_test = bdd_corr_4_test.reset_index()\n",
        "bdd_corr_4_test = bdd_corr_4_test.drop(['index'], axis = 1)\n",
        "\n",
        "x = bdd_corr_4_test.columns ## on réordonne x, ie on place les éléments 10 à 11 mois et 11 à 12 mois en fin de liste\n",
        "x = x.tolist()\n",
        "a = x[2]\n",
        "b = x[3]\n",
        "del x[2:4]\n",
        "x.append(a)\n",
        "x.append(b)\n"
      ],
      "execution_count": null,
      "outputs": []
    },
    {
      "cell_type": "code",
      "metadata": {
        "id": "qoPuImw05BAU"
      },
      "source": [
        "for i in range(5) :\n",
        "    plt.scatter(x,bdd_corr_4_test.loc[i])\n",
        "    plt.plot(x,bdd_corr_4_test.loc[i], linestyle= 'solid')\n",
        "    \n",
        "plt.xticks(rotation = 90)\n",
        "plt.xlabel('Délais entre le mois de réservation et celui du vol')\n",
        "plt.ylabel('Prix du billet')\n",
        "plt.title('Evolution du prix du billet selon le délais de réservation pour dix trajets')\n"
      ],
      "execution_count": null,
      "outputs": []
    },
    {
      "cell_type": "markdown",
      "metadata": {
        "id": "JACs_WSo5BAU"
      },
      "source": [
        "Etant donné que les courbes suivent une trajectoire plus ou moins similaire, il semblerait qu'il existe une corrélation entre les deux variables étudiées. "
      ]
    },
    {
      "cell_type": "code",
      "metadata": {
        "id": "vpIdn27A5BAU"
      },
      "source": [
        "boxplot = bdd_corr_4_test.boxplot(column = x, fontsize = 10, rot = 45, vert = 0)\n",
        "boxplot"
      ],
      "execution_count": null,
      "outputs": []
    },
    {
      "cell_type": "markdown",
      "metadata": {
        "id": "WgnWhlI65BAa"
      },
      "source": [
        "Si on remplace désormais les valeurs manquantes par la moyenne des prix du billet du trajet correspondant, et que l'on opère de même : "
      ]
    },
    {
      "cell_type": "code",
      "metadata": {
        "id": "cBX1gDNi5BAa"
      },
      "source": [
        "bdd_corr_4_new = bdd_corr_4.T\n",
        "for i in range(1,159) : \n",
        "    mean = bdd_corr_4_new[i].mean()\n",
        "    bdd_corr_4_new[i].fillna(mean, inplace=True)  \n",
        "bdd_corr_4 = bdd_corr_4_new.T\n",
        "bdd_corr_4.head(5)\n",
        "\n",
        "bdd_corr_4_test_1 = bdd_corr_4.sample(10)\n",
        "bdd_corr_4_test_1 = bdd_corr_4_test_1.reset_index()\n",
        "bdd_corr_4_test_1 = bdd_corr_4_test_1.drop(['index'], axis = 1)\n",
        "\n",
        "x = bdd_corr_4_test_1.columns ## on réordonne x, ie on place les éléments 10 à 11 mois et 11 à 12 mois en fin de liste\n",
        "x = x.tolist()\n",
        "a = x[2]\n",
        "b = x[3]\n",
        "del x[2:4]\n",
        "x.append(a)\n",
        "x.append(b)"
      ],
      "execution_count": null,
      "outputs": []
    },
    {
      "cell_type": "code",
      "metadata": {
        "id": "15715rZ45BAa"
      },
      "source": [
        "for i in range(5) :\n",
        "    plt.scatter(x,bdd_corr_4_test_1.loc[i])\n",
        "    plt.plot(x,bdd_corr_4_test_1.loc[i], linestyle= 'solid')\n",
        "    \n",
        "plt.xticks(rotation = 90)\n",
        "plt.xlabel('Délais entre le mois de réservation et celui du vol')\n",
        "plt.ylabel('Prix du billet')\n",
        "plt.title('Evolution du prix du billet selon le délais de réservation pour dix trajets')\n"
      ],
      "execution_count": null,
      "outputs": []
    },
    {
      "cell_type": "code",
      "metadata": {
        "id": "M4l6s2Ti5BAb"
      },
      "source": [
        "boxplot = bdd_corr_4_test_1.boxplot(column = bdd_corr_4_test_1.columns.tolist(), fontsize = 10, rot = 45, vert = 0)\n",
        "boxplot"
      ],
      "execution_count": null,
      "outputs": []
    },
    {
      "cell_type": "markdown",
      "metadata": {
        "id": "ROrEeQIX5BAc"
      },
      "source": [
        "## Conclusion "
      ]
    },
    {
      "cell_type": "markdown",
      "metadata": {
        "id": "itgdZzzS5BAc"
      },
      "source": [
        "D'après les résultats précédents, on peut conclure que :\n",
        "- il existe une relation linéaire modérée entre les prix des billets d'avion et ceux de train. En particulier, **les deux variables sont négativement corrélées**,\n",
        "- il n'existe pas vraiment de relation entre les prix des billets d'avion et la distance du trajet,\n",
        "- relation avec les délais de réservation et les mois à définir? \n"
      ]
    },
    {
      "cell_type": "markdown",
      "metadata": {
        "id": "wU1F9at3aM3b"
      },
      "source": [
        "# **3. Modélisation**"
      ]
    },
    {
      "cell_type": "code",
      "metadata": {
        "id": "c5SEwjLdSjRR"
      },
      "source": [
        "import seaborn"
      ],
      "execution_count": null,
      "outputs": []
    },
    {
      "cell_type": "code",
      "metadata": {
        "id": "P8pvRaFmSsu0"
      },
      "source": [
        "bdd_corr.corr()"
      ],
      "execution_count": null,
      "outputs": []
    },
    {
      "cell_type": "markdown",
      "metadata": {
        "id": "YCiqoz3NWrUv"
      },
      "source": [
        "### **Preprocessing**"
      ]
    },
    {
      "cell_type": "markdown",
      "metadata": {
        "id": "fdB7RZPrWDP2"
      },
      "source": [
        "##### **Standardisation et normalisation des données**"
      ]
    },
    {
      "cell_type": "code",
      "metadata": {
        "id": "1eU0uliv80o5"
      },
      "source": [
        ""
      ],
      "execution_count": null,
      "outputs": []
    },
    {
      "cell_type": "markdown",
      "metadata": {
        "id": "a7JiwHIIWRM-"
      },
      "source": [
        "##### **Encodage des valeurs catégorielles**"
      ]
    },
    {
      "cell_type": "code",
      "metadata": {
        "id": "BldU_l-aWQ0H"
      },
      "source": [
        ""
      ],
      "execution_count": null,
      "outputs": []
    },
    {
      "cell_type": "markdown",
      "metadata": {
        "id": "QiT6tM2rXu4Q"
      },
      "source": [
        "### **Modéles**"
      ]
    },
    {
      "cell_type": "markdown",
      "metadata": {
        "id": "mQ2E9cABYRtk"
      },
      "source": [
        "##### **Modèle de SVM**"
      ]
    },
    {
      "cell_type": "code",
      "metadata": {
        "id": "s94qY3JRWr8J"
      },
      "source": [
        ""
      ],
      "execution_count": null,
      "outputs": []
    },
    {
      "cell_type": "markdown",
      "metadata": {
        "id": "iuygrxiPX_8f"
      },
      "source": [
        "##### **Modèle de régression**"
      ]
    },
    {
      "cell_type": "code",
      "metadata": {
        "id": "iO7ZZwLxYdtq"
      },
      "source": [
        ""
      ],
      "execution_count": null,
      "outputs": []
    },
    {
      "cell_type": "markdown",
      "metadata": {
        "id": "gKZnL0_2YeCa"
      },
      "source": [
        "##### **Modèle de clustering**"
      ]
    },
    {
      "cell_type": "code",
      "metadata": {
        "id": "-GsrTSb-YR75"
      },
      "source": [
        ""
      ],
      "execution_count": null,
      "outputs": []
    },
    {
      "cell_type": "markdown",
      "metadata": {
        "id": "DfPVEao6WmxJ"
      },
      "source": [
        "### **Evaluation des modèles**"
      ]
    },
    {
      "cell_type": "code",
      "metadata": {
        "id": "M03mG3TQWmgi"
      },
      "source": [
        ""
      ],
      "execution_count": null,
      "outputs": []
    }
  ]
}